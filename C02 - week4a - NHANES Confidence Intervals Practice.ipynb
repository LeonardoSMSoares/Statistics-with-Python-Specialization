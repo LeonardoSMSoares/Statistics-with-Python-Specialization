{
 "cells": [
  {
   "cell_type": "markdown",
   "metadata": {},
   "source": [
    "# NHANES Confidence Intervals Practice"
   ]
  },
  {
   "cell_type": "markdown",
   "metadata": {},
   "source": [
    "<img src=\"images/population.jpg\"/>"
   ]
  },
  {
   "cell_type": "markdown",
   "metadata": {},
   "source": [
    "### Import Labraries"
   ]
  },
  {
   "cell_type": "code",
   "execution_count": 1,
   "metadata": {},
   "outputs": [],
   "source": [
    "%matplotlib inline\n",
    "import matplotlib.pyplot as plt\n",
    "import pandas as pd\n",
    "import numpy as np\n",
    "import seaborn as sns\n",
    "import statsmodels.api as sm\n",
    "from statsmodels.stats.proportion import proportion_confint"
   ]
  },
  {
   "cell_type": "code",
   "execution_count": 2,
   "metadata": {},
   "outputs": [
    {
     "data": {
      "text/html": [
       "<div>\n",
       "<style scoped>\n",
       "    .dataframe tbody tr th:only-of-type {\n",
       "        vertical-align: middle;\n",
       "    }\n",
       "\n",
       "    .dataframe tbody tr th {\n",
       "        vertical-align: top;\n",
       "    }\n",
       "\n",
       "    .dataframe thead th {\n",
       "        text-align: right;\n",
       "    }\n",
       "</style>\n",
       "<table border=\"1\" class=\"dataframe\">\n",
       "  <thead>\n",
       "    <tr style=\"text-align: right;\">\n",
       "      <th></th>\n",
       "      <th>SEQN</th>\n",
       "      <th>ALQ101</th>\n",
       "      <th>ALQ110</th>\n",
       "      <th>ALQ130</th>\n",
       "      <th>SMQ020</th>\n",
       "      <th>RIAGENDR</th>\n",
       "      <th>RIDAGEYR</th>\n",
       "      <th>RIDRETH1</th>\n",
       "      <th>DMDCITZN</th>\n",
       "      <th>DMDEDUC2</th>\n",
       "      <th>...</th>\n",
       "      <th>BPXSY2</th>\n",
       "      <th>BPXDI2</th>\n",
       "      <th>BMXWT</th>\n",
       "      <th>BMXHT</th>\n",
       "      <th>BMXBMI</th>\n",
       "      <th>BMXLEG</th>\n",
       "      <th>BMXARML</th>\n",
       "      <th>BMXARMC</th>\n",
       "      <th>BMXWAIST</th>\n",
       "      <th>HIQ210</th>\n",
       "    </tr>\n",
       "  </thead>\n",
       "  <tbody>\n",
       "    <tr>\n",
       "      <th>0</th>\n",
       "      <td>83732</td>\n",
       "      <td>1.0</td>\n",
       "      <td>NaN</td>\n",
       "      <td>1.0</td>\n",
       "      <td>1</td>\n",
       "      <td>1</td>\n",
       "      <td>62</td>\n",
       "      <td>3</td>\n",
       "      <td>1.0</td>\n",
       "      <td>5.0</td>\n",
       "      <td>...</td>\n",
       "      <td>124.0</td>\n",
       "      <td>64.0</td>\n",
       "      <td>94.8</td>\n",
       "      <td>184.5</td>\n",
       "      <td>27.8</td>\n",
       "      <td>43.3</td>\n",
       "      <td>43.6</td>\n",
       "      <td>35.9</td>\n",
       "      <td>101.1</td>\n",
       "      <td>2.0</td>\n",
       "    </tr>\n",
       "    <tr>\n",
       "      <th>1</th>\n",
       "      <td>83733</td>\n",
       "      <td>1.0</td>\n",
       "      <td>NaN</td>\n",
       "      <td>6.0</td>\n",
       "      <td>1</td>\n",
       "      <td>1</td>\n",
       "      <td>53</td>\n",
       "      <td>3</td>\n",
       "      <td>2.0</td>\n",
       "      <td>3.0</td>\n",
       "      <td>...</td>\n",
       "      <td>140.0</td>\n",
       "      <td>88.0</td>\n",
       "      <td>90.4</td>\n",
       "      <td>171.4</td>\n",
       "      <td>30.8</td>\n",
       "      <td>38.0</td>\n",
       "      <td>40.0</td>\n",
       "      <td>33.2</td>\n",
       "      <td>107.9</td>\n",
       "      <td>NaN</td>\n",
       "    </tr>\n",
       "    <tr>\n",
       "      <th>2</th>\n",
       "      <td>83734</td>\n",
       "      <td>1.0</td>\n",
       "      <td>NaN</td>\n",
       "      <td>NaN</td>\n",
       "      <td>1</td>\n",
       "      <td>1</td>\n",
       "      <td>78</td>\n",
       "      <td>3</td>\n",
       "      <td>1.0</td>\n",
       "      <td>3.0</td>\n",
       "      <td>...</td>\n",
       "      <td>132.0</td>\n",
       "      <td>44.0</td>\n",
       "      <td>83.4</td>\n",
       "      <td>170.1</td>\n",
       "      <td>28.8</td>\n",
       "      <td>35.6</td>\n",
       "      <td>37.0</td>\n",
       "      <td>31.0</td>\n",
       "      <td>116.5</td>\n",
       "      <td>2.0</td>\n",
       "    </tr>\n",
       "    <tr>\n",
       "      <th>3</th>\n",
       "      <td>83735</td>\n",
       "      <td>2.0</td>\n",
       "      <td>1.0</td>\n",
       "      <td>1.0</td>\n",
       "      <td>2</td>\n",
       "      <td>2</td>\n",
       "      <td>56</td>\n",
       "      <td>3</td>\n",
       "      <td>1.0</td>\n",
       "      <td>5.0</td>\n",
       "      <td>...</td>\n",
       "      <td>134.0</td>\n",
       "      <td>68.0</td>\n",
       "      <td>109.8</td>\n",
       "      <td>160.9</td>\n",
       "      <td>42.4</td>\n",
       "      <td>38.5</td>\n",
       "      <td>37.7</td>\n",
       "      <td>38.3</td>\n",
       "      <td>110.1</td>\n",
       "      <td>2.0</td>\n",
       "    </tr>\n",
       "    <tr>\n",
       "      <th>4</th>\n",
       "      <td>83736</td>\n",
       "      <td>2.0</td>\n",
       "      <td>1.0</td>\n",
       "      <td>1.0</td>\n",
       "      <td>2</td>\n",
       "      <td>2</td>\n",
       "      <td>42</td>\n",
       "      <td>4</td>\n",
       "      <td>1.0</td>\n",
       "      <td>4.0</td>\n",
       "      <td>...</td>\n",
       "      <td>114.0</td>\n",
       "      <td>54.0</td>\n",
       "      <td>55.2</td>\n",
       "      <td>164.9</td>\n",
       "      <td>20.3</td>\n",
       "      <td>37.4</td>\n",
       "      <td>36.0</td>\n",
       "      <td>27.2</td>\n",
       "      <td>80.4</td>\n",
       "      <td>2.0</td>\n",
       "    </tr>\n",
       "  </tbody>\n",
       "</table>\n",
       "<p>5 rows × 28 columns</p>\n",
       "</div>"
      ],
      "text/plain": [
       "    SEQN  ALQ101  ALQ110  ALQ130  SMQ020  RIAGENDR  RIDAGEYR  RIDRETH1  \\\n",
       "0  83732     1.0     NaN     1.0       1         1        62         3   \n",
       "1  83733     1.0     NaN     6.0       1         1        53         3   \n",
       "2  83734     1.0     NaN     NaN       1         1        78         3   \n",
       "3  83735     2.0     1.0     1.0       2         2        56         3   \n",
       "4  83736     2.0     1.0     1.0       2         2        42         4   \n",
       "\n",
       "   DMDCITZN  DMDEDUC2  ...  BPXSY2  BPXDI2  BMXWT  BMXHT  BMXBMI  BMXLEG  \\\n",
       "0       1.0       5.0  ...   124.0    64.0   94.8  184.5    27.8    43.3   \n",
       "1       2.0       3.0  ...   140.0    88.0   90.4  171.4    30.8    38.0   \n",
       "2       1.0       3.0  ...   132.0    44.0   83.4  170.1    28.8    35.6   \n",
       "3       1.0       5.0  ...   134.0    68.0  109.8  160.9    42.4    38.5   \n",
       "4       1.0       4.0  ...   114.0    54.0   55.2  164.9    20.3    37.4   \n",
       "\n",
       "   BMXARML  BMXARMC  BMXWAIST  HIQ210  \n",
       "0     43.6     35.9     101.1     2.0  \n",
       "1     40.0     33.2     107.9     NaN  \n",
       "2     37.0     31.0     116.5     2.0  \n",
       "3     37.7     38.3     110.1     2.0  \n",
       "4     36.0     27.2      80.4     2.0  \n",
       "\n",
       "[5 rows x 28 columns]"
      ]
     },
     "execution_count": 2,
     "metadata": {},
     "output_type": "execute_result"
    }
   ],
   "source": [
    "da = pd.read_csv(\"data/nhanes_2015_2016.csv\")\n",
    "\n",
    "da.head()"
   ]
  },
  {
   "cell_type": "markdown",
   "metadata": {},
   "source": [
    "## Question 1\n",
    "\n",
    "Restrict the sample to women between 35 and 50, then use the marital status variable [DMDMARTL](https://wwwn.cdc.gov/Nchs/Nhanes/2015-2016/DEMO_I.htm#DMDMARTL) to partition this sample into two groups - women who are currently married, and women who are not currently married.  Within each of these groups, calculate the proportion of women who have completed college.  Calculate 95% confidence intervals for each of these proportions."
   ]
  },
  {
   "cell_type": "code",
   "execution_count": 3,
   "metadata": {},
   "outputs": [
    {
     "data": {
      "text/html": [
       "<div>\n",
       "<style scoped>\n",
       "    .dataframe tbody tr th:only-of-type {\n",
       "        vertical-align: middle;\n",
       "    }\n",
       "\n",
       "    .dataframe tbody tr th {\n",
       "        vertical-align: top;\n",
       "    }\n",
       "\n",
       "    .dataframe thead th {\n",
       "        text-align: right;\n",
       "    }\n",
       "</style>\n",
       "<table border=\"1\" class=\"dataframe\">\n",
       "  <thead>\n",
       "    <tr style=\"text-align: right;\">\n",
       "      <th></th>\n",
       "      <th>SEQN</th>\n",
       "      <th>ALQ101</th>\n",
       "      <th>ALQ110</th>\n",
       "      <th>ALQ130</th>\n",
       "      <th>SMQ020</th>\n",
       "      <th>RIAGENDR</th>\n",
       "      <th>RIDAGEYR</th>\n",
       "      <th>RIDRETH1</th>\n",
       "      <th>DMDCITZN</th>\n",
       "      <th>DMDEDUC2</th>\n",
       "      <th>...</th>\n",
       "      <th>BPXSY2</th>\n",
       "      <th>BPXDI2</th>\n",
       "      <th>BMXWT</th>\n",
       "      <th>BMXHT</th>\n",
       "      <th>BMXBMI</th>\n",
       "      <th>BMXLEG</th>\n",
       "      <th>BMXARML</th>\n",
       "      <th>BMXARMC</th>\n",
       "      <th>BMXWAIST</th>\n",
       "      <th>HIQ210</th>\n",
       "    </tr>\n",
       "  </thead>\n",
       "  <tbody>\n",
       "    <tr>\n",
       "      <th>0</th>\n",
       "      <td>83736</td>\n",
       "      <td>2.0</td>\n",
       "      <td>1.0</td>\n",
       "      <td>1.0</td>\n",
       "      <td>2</td>\n",
       "      <td>2</td>\n",
       "      <td>42</td>\n",
       "      <td>4</td>\n",
       "      <td>1.0</td>\n",
       "      <td>4.0</td>\n",
       "      <td>...</td>\n",
       "      <td>114.0</td>\n",
       "      <td>54.0</td>\n",
       "      <td>55.2</td>\n",
       "      <td>164.9</td>\n",
       "      <td>20.3</td>\n",
       "      <td>37.4</td>\n",
       "      <td>36.0</td>\n",
       "      <td>27.2</td>\n",
       "      <td>80.4</td>\n",
       "      <td>2.0</td>\n",
       "    </tr>\n",
       "    <tr>\n",
       "      <th>1</th>\n",
       "      <td>83799</td>\n",
       "      <td>NaN</td>\n",
       "      <td>NaN</td>\n",
       "      <td>NaN</td>\n",
       "      <td>2</td>\n",
       "      <td>2</td>\n",
       "      <td>37</td>\n",
       "      <td>2</td>\n",
       "      <td>1.0</td>\n",
       "      <td>4.0</td>\n",
       "      <td>...</td>\n",
       "      <td>110.0</td>\n",
       "      <td>72.0</td>\n",
       "      <td>66.6</td>\n",
       "      <td>161.6</td>\n",
       "      <td>25.5</td>\n",
       "      <td>NaN</td>\n",
       "      <td>NaN</td>\n",
       "      <td>NaN</td>\n",
       "      <td>NaN</td>\n",
       "      <td>2.0</td>\n",
       "    </tr>\n",
       "    <tr>\n",
       "      <th>2</th>\n",
       "      <td>83828</td>\n",
       "      <td>1.0</td>\n",
       "      <td>NaN</td>\n",
       "      <td>2.0</td>\n",
       "      <td>2</td>\n",
       "      <td>2</td>\n",
       "      <td>39</td>\n",
       "      <td>1</td>\n",
       "      <td>2.0</td>\n",
       "      <td>3.0</td>\n",
       "      <td>...</td>\n",
       "      <td>100.0</td>\n",
       "      <td>62.0</td>\n",
       "      <td>71.3</td>\n",
       "      <td>162.0</td>\n",
       "      <td>27.2</td>\n",
       "      <td>36.8</td>\n",
       "      <td>34.6</td>\n",
       "      <td>29.1</td>\n",
       "      <td>94.6</td>\n",
       "      <td>NaN</td>\n",
       "    </tr>\n",
       "    <tr>\n",
       "      <th>3</th>\n",
       "      <td>83832</td>\n",
       "      <td>2.0</td>\n",
       "      <td>1.0</td>\n",
       "      <td>4.0</td>\n",
       "      <td>2</td>\n",
       "      <td>2</td>\n",
       "      <td>50</td>\n",
       "      <td>1</td>\n",
       "      <td>2.0</td>\n",
       "      <td>1.0</td>\n",
       "      <td>...</td>\n",
       "      <td>NaN</td>\n",
       "      <td>NaN</td>\n",
       "      <td>105.9</td>\n",
       "      <td>157.7</td>\n",
       "      <td>42.6</td>\n",
       "      <td>29.2</td>\n",
       "      <td>35.0</td>\n",
       "      <td>40.7</td>\n",
       "      <td>129.1</td>\n",
       "      <td>NaN</td>\n",
       "    </tr>\n",
       "    <tr>\n",
       "      <th>4</th>\n",
       "      <td>83837</td>\n",
       "      <td>2.0</td>\n",
       "      <td>2.0</td>\n",
       "      <td>NaN</td>\n",
       "      <td>2</td>\n",
       "      <td>2</td>\n",
       "      <td>45</td>\n",
       "      <td>1</td>\n",
       "      <td>1.0</td>\n",
       "      <td>2.0</td>\n",
       "      <td>...</td>\n",
       "      <td>114.0</td>\n",
       "      <td>68.0</td>\n",
       "      <td>77.5</td>\n",
       "      <td>148.3</td>\n",
       "      <td>35.2</td>\n",
       "      <td>30.5</td>\n",
       "      <td>34.0</td>\n",
       "      <td>34.4</td>\n",
       "      <td>107.6</td>\n",
       "      <td>2.0</td>\n",
       "    </tr>\n",
       "  </tbody>\n",
       "</table>\n",
       "<p>5 rows × 28 columns</p>\n",
       "</div>"
      ],
      "text/plain": [
       "    SEQN  ALQ101  ALQ110  ALQ130  SMQ020  RIAGENDR  RIDAGEYR  RIDRETH1  \\\n",
       "0  83736     2.0     1.0     1.0       2         2        42         4   \n",
       "1  83799     NaN     NaN     NaN       2         2        37         2   \n",
       "2  83828     1.0     NaN     2.0       2         2        39         1   \n",
       "3  83832     2.0     1.0     4.0       2         2        50         1   \n",
       "4  83837     2.0     2.0     NaN       2         2        45         1   \n",
       "\n",
       "   DMDCITZN  DMDEDUC2  ...  BPXSY2  BPXDI2  BMXWT  BMXHT  BMXBMI  BMXLEG  \\\n",
       "0       1.0       4.0  ...   114.0    54.0   55.2  164.9    20.3    37.4   \n",
       "1       1.0       4.0  ...   110.0    72.0   66.6  161.6    25.5     NaN   \n",
       "2       2.0       3.0  ...   100.0    62.0   71.3  162.0    27.2    36.8   \n",
       "3       2.0       1.0  ...     NaN     NaN  105.9  157.7    42.6    29.2   \n",
       "4       1.0       2.0  ...   114.0    68.0   77.5  148.3    35.2    30.5   \n",
       "\n",
       "   BMXARML  BMXARMC  BMXWAIST  HIQ210  \n",
       "0     36.0     27.2      80.4     2.0  \n",
       "1      NaN      NaN       NaN     2.0  \n",
       "2     34.6     29.1      94.6     NaN  \n",
       "3     35.0     40.7     129.1     NaN  \n",
       "4     34.0     34.4     107.6     2.0  \n",
       "\n",
       "[5 rows x 28 columns]"
      ]
     },
     "execution_count": 3,
     "metadata": {},
     "output_type": "execute_result"
    }
   ],
   "source": [
    "# Females between 35 and 5o years old\n",
    "\n",
    "da_female_35_50 = da[(da['RIAGENDR']==2) & (da['RIDAGEYR']>=35) & (da['RIDAGEYR']<=50)]\n",
    "\n",
    "da_female_35_50.reset_index(inplace=True, drop=True)\n",
    "\n",
    "da_female_35_50.head()"
   ]
  },
  {
   "cell_type": "code",
   "execution_count": 4,
   "metadata": {},
   "outputs": [],
   "source": [
    "# 2 groups: Females between 35-50 married and not married\n",
    "\n",
    "da_female_35_50_married = da_female_35_50[da_female_35_50['DMDMARTL']==1]\n",
    "\n",
    "da_female_35_50_not_married = da_female_35_50[da_female_35_50['DMDMARTL'].isin([2,3,4,5,6])]\n",
    "\n",
    "da_female_35_50_married.reset_index(inplace=True, drop=True)\n",
    "\n",
    "da_female_35_50_not_married.reset_index(inplace=True, drop=True)"
   ]
  },
  {
   "cell_type": "markdown",
   "metadata": {},
   "source": [
    "### Married"
   ]
  },
  {
   "cell_type": "code",
   "execution_count": 5,
   "metadata": {},
   "outputs": [
    {
     "data": {
      "text/plain": [
       "0.36080178173719374"
      ]
     },
     "execution_count": 5,
     "metadata": {},
     "output_type": "execute_result"
    }
   ],
   "source": [
    "# Proportion females married that finished college\n",
    "\n",
    "prop_married_wc = sum(da_female_35_50_married['DMDEDUC2']== 5) / len(da_female_35_50_married)\n",
    "prop_married_wc"
   ]
  },
  {
   "cell_type": "code",
   "execution_count": 6,
   "metadata": {},
   "outputs": [
    {
     "data": {
      "text/plain": [
       "0.23062385603246013"
      ]
     },
     "execution_count": 6,
     "metadata": {},
     "output_type": "execute_result"
    }
   ],
   "source": [
    "# Standard Error for married\n",
    "\n",
    "se_married = prop_married_wc * (1-prop_married_wc)\n",
    "se_married"
   ]
  },
  {
   "cell_type": "code",
   "execution_count": 7,
   "metadata": {},
   "outputs": [
    {
     "data": {
      "text/plain": [
       "449"
      ]
     },
     "execution_count": 7,
     "metadata": {},
     "output_type": "execute_result"
    }
   ],
   "source": [
    "# Number of females married\n",
    "\n",
    "n_married = len(da_female_35_50_married['DMDEDUC2'])\n",
    "n_married"
   ]
  },
  {
   "cell_type": "code",
   "execution_count": 8,
   "metadata": {},
   "outputs": [
    {
     "name": "stdout",
     "output_type": "stream",
     "text": [
      "Lower Boundary: 0.3163811208674688\n",
      "Upper Boundary: 0.4052224426069187\n"
     ]
    }
   ],
   "source": [
    "# Confidence Interval for females 35-50 married with college \n",
    "\n",
    "print('Lower Boundary:', prop_married_wc - 1.96 * np.sqrt((se_married/n_married)))\n",
    "print('Upper Boundary:', prop_married_wc + 1.96 * np.sqrt((se_married/n_married)))"
   ]
  },
  {
   "cell_type": "code",
   "execution_count": 9,
   "metadata": {},
   "outputs": [
    {
     "data": {
      "text/plain": [
       "(0.31638193710753626, 0.4052216263668512)"
      ]
     },
     "execution_count": 9,
     "metadata": {},
     "output_type": "execute_result"
    }
   ],
   "source": [
    "# Check\n",
    "\n",
    "ci_low, ci_upp = proportion_confint(162, 449, alpha=0.05, method='normal')\n",
    "ci_low, ci_upp"
   ]
  },
  {
   "cell_type": "markdown",
   "metadata": {},
   "source": [
    "### Not Married"
   ]
  },
  {
   "cell_type": "code",
   "execution_count": 10,
   "metadata": {},
   "outputs": [
    {
     "data": {
      "text/plain": [
       "0.21301775147928995"
      ]
     },
     "execution_count": 10,
     "metadata": {},
     "output_type": "execute_result"
    }
   ],
   "source": [
    "# Proportion females not married that finished college\n",
    "\n",
    "prop_not_married_wc = sum(da_female_35_50_not_married['DMDEDUC2']==5) / len(da_female_35_50_not_married)\n",
    "prop_not_married_wc"
   ]
  },
  {
   "cell_type": "code",
   "execution_count": 11,
   "metadata": {},
   "outputs": [
    {
     "data": {
      "text/plain": [
       "0.1676411890339974"
      ]
     },
     "execution_count": 11,
     "metadata": {},
     "output_type": "execute_result"
    }
   ],
   "source": [
    "# Standard Error for not married\n",
    "\n",
    "se_not_married = prop_not_married_wc*(1-prop_not_married_wc)\n",
    "se_not_married"
   ]
  },
  {
   "cell_type": "code",
   "execution_count": 12,
   "metadata": {},
   "outputs": [
    {
     "data": {
      "text/plain": [
       "338"
      ]
     },
     "execution_count": 12,
     "metadata": {},
     "output_type": "execute_result"
    }
   ],
   "source": [
    "# Number of females not married\n",
    "\n",
    "n_not_married = len(da_female_35_50_not_married['DMDEDUC2'])\n",
    "n_not_married"
   ]
  },
  {
   "cell_type": "code",
   "execution_count": 13,
   "metadata": {},
   "outputs": [
    {
     "name": "stdout",
     "output_type": "stream",
     "text": [
      "Lower Boundary: 0.1693673655848136\n",
      "Upper Boundary: 0.25666813737376626\n"
     ]
    }
   ],
   "source": [
    "# Confidence Interval for females 35-50 not married with college \n",
    "\n",
    "print('Lower Boundary:', prop_not_married_wc - 1.96 * np.sqrt((se_not_married/n_not_married)))\n",
    "print('Upper Boundary:', prop_not_married_wc + 1.96 * np.sqrt((se_not_married/n_not_married)))"
   ]
  },
  {
   "cell_type": "code",
   "execution_count": 14,
   "metadata": {},
   "outputs": [
    {
     "data": {
      "text/plain": [
       "(0.16936816767089768, 0.2566673352876822)"
      ]
     },
     "execution_count": 14,
     "metadata": {},
     "output_type": "execute_result"
    }
   ],
   "source": [
    "# Check\n",
    "\n",
    "ci_low, ci_upp = proportion_confint(72, 338, alpha=0.05, method='normal')\n",
    "ci_low, ci_upp"
   ]
  },
  {
   "cell_type": "markdown",
   "metadata": {},
   "source": [
    "__Q1a.__ Identify which of the two confidence intervals is wider, and explain why this is the case. "
   ]
  },
  {
   "cell_type": "markdown",
   "metadata": {},
   "source": [
    "**Answer.** Despite that the first sample has a higher n value, the second sample has lower standard deviation which compensates for the difference which makes the two samples have a very close confidence interval range. Sample 1 has a wider confidence interval due to the size of the sample but the difference is barely noticeable."
   ]
  },
  {
   "cell_type": "markdown",
   "metadata": {},
   "source": [
    "__Q1b.__ Write 1-2 sentences summarizing these findings for an audience that does not know what a confidence interval is (the goal here is to report the substance of what you learned about how marital status and educational attainment are related, not to teach a person what a confidence interval is)."
   ]
  },
  {
   "cell_type": "markdown",
   "metadata": {},
   "source": [
    "**Answer.** A higher proportion of women who are currently married have completed their college in comparison to women who are not currently married. 32% to 40% of women who are currently married have completed their college while only 17% to 26% for women who are not married. This is a significant difference between our 2 groups and we are 95% sure in the results."
   ]
  },
  {
   "cell_type": "markdown",
   "metadata": {},
   "source": [
    "## Question 2\n",
    "\n",
    "Construct a 95% confidence interval for the proportion of smokers who are female. Construct a 95% confidence interval for the proportion of smokers who are male. Construct a 95% confidence interval for the **difference** between those two gender proportions."
   ]
  },
  {
   "cell_type": "code",
   "execution_count": 15,
   "metadata": {},
   "outputs": [],
   "source": [
    "# Identify Smokers\n",
    "\n",
    "da_smokers=da[da['SMQ020']==1]\n",
    "da_smokers.reset_index(inplace=True, drop=True)"
   ]
  },
  {
   "cell_type": "code",
   "execution_count": 16,
   "metadata": {},
   "outputs": [
    {
     "data": {
      "text/plain": [
       "0    1\n",
       "1    1\n",
       "2    1\n",
       "3    1\n",
       "4    1\n",
       "Name: RIAGENDR, dtype: int64"
      ]
     },
     "execution_count": 16,
     "metadata": {},
     "output_type": "execute_result"
    }
   ],
   "source": [
    "# Preparing for subset by gender\n",
    "\n",
    "smokers_gender = da_smokers['RIAGENDR']\n",
    "\n",
    "smokers_gender = smokers_gender[~smokers_gender.isna()]\n",
    "\n",
    "smokers_gender.reset_index(inplace=True, drop=True)\n",
    "\n",
    "smokers_gender.head()"
   ]
  },
  {
   "cell_type": "code",
   "execution_count": 17,
   "metadata": {},
   "outputs": [
    {
     "data": {
      "text/plain": [
       "2319"
      ]
     },
     "execution_count": 17,
     "metadata": {},
     "output_type": "execute_result"
    }
   ],
   "source": [
    "# Number of Smokers\n",
    "n_smokers=len(smokers_gender)\n",
    "n_smokers"
   ]
  },
  {
   "cell_type": "code",
   "execution_count": 18,
   "metadata": {},
   "outputs": [
    {
     "data": {
      "text/plain": [
       "1413"
      ]
     },
     "execution_count": 18,
     "metadata": {},
     "output_type": "execute_result"
    }
   ],
   "source": [
    "# Number of smokers males \n",
    "n_smokers_male=sum(smokers_gender==1)\n",
    "n_smokers_male"
   ]
  },
  {
   "cell_type": "code",
   "execution_count": 19,
   "metadata": {},
   "outputs": [
    {
     "data": {
      "text/plain": [
       "906"
      ]
     },
     "execution_count": 19,
     "metadata": {},
     "output_type": "execute_result"
    }
   ],
   "source": [
    "# Number of smokers females\n",
    "n_smokers_female=sum(smokers_gender==2)\n",
    "n_smokers_female"
   ]
  },
  {
   "cell_type": "code",
   "execution_count": 20,
   "metadata": {},
   "outputs": [
    {
     "data": {
      "text/plain": [
       "0.6093143596377749"
      ]
     },
     "execution_count": 20,
     "metadata": {},
     "output_type": "execute_result"
    }
   ],
   "source": [
    "# Proportion of males in the smoke group\n",
    "prop_smokers_male=(n_smokers_male/n_smokers)\n",
    "prop_smokers_male"
   ]
  },
  {
   "cell_type": "code",
   "execution_count": 21,
   "metadata": {},
   "outputs": [
    {
     "data": {
      "text/plain": [
       "0.3906856403622251"
      ]
     },
     "execution_count": 21,
     "metadata": {},
     "output_type": "execute_result"
    }
   ],
   "source": [
    "# Proportion of females in the smoke group\n",
    "prop_smokers_female=(n_smokers_female/n_smokers)\n",
    "prop_smokers_female"
   ]
  },
  {
   "cell_type": "code",
   "execution_count": 22,
   "metadata": {},
   "outputs": [
    {
     "name": "stdout",
     "output_type": "stream",
     "text": [
      "se_smokers_male: 0.012979661011895138\n",
      "\n",
      "se_smokers_female: 0.016209526631489866\n"
     ]
    }
   ],
   "source": [
    "# Errors\n",
    "\n",
    "se_smokers_male = np.sqrt((prop_smokers_male * (1 - prop_smokers_male))/n_smokers_male)\n",
    "\n",
    "print('se_smokers_male:', se_smokers_male)\n",
    "\n",
    "print()\n",
    "\n",
    "se_smokers_female = np.sqrt((prop_smokers_female * (1 - prop_smokers_female))/n_smokers_female)\n",
    "\n",
    "print('se_smokers_female:', se_smokers_female)"
   ]
  },
  {
   "cell_type": "code",
   "execution_count": 23,
   "metadata": {},
   "outputs": [
    {
     "name": "stdout",
     "output_type": "stream",
     "text": [
      "Lower Boundary Male: 0.5838742240544604\n",
      "Upper Boundary Male: 0.6347544952210894\n"
     ]
    }
   ],
   "source": [
    "# Confidence Interval for the proportion of smokers who are male\n",
    "\n",
    "print('Lower Boundary Male:', prop_smokers_male - 1.96 * se_smokers_male)\n",
    "print('Upper Boundary Male:', prop_smokers_male + 1.96 * se_smokers_male)"
   ]
  },
  {
   "cell_type": "code",
   "execution_count": 24,
   "metadata": {},
   "outputs": [
    {
     "data": {
      "text/plain": [
       "(0.5894565132052486, 0.6291722060703012)"
      ]
     },
     "execution_count": 24,
     "metadata": {},
     "output_type": "execute_result"
    }
   ],
   "source": [
    "# Check\n",
    "\n",
    "ci_low, ci_upp = proportion_confint(n_smokers_male, n_smokers, alpha=0.05, method='normal')\n",
    "ci_low, ci_upp"
   ]
  },
  {
   "cell_type": "code",
   "execution_count": 25,
   "metadata": {},
   "outputs": [
    {
     "name": "stdout",
     "output_type": "stream",
     "text": [
      "Lower Boundary Female: 0.35891496816450497\n",
      "Upper Boundary Female: 0.4224563125599452\n"
     ]
    }
   ],
   "source": [
    "# Confidence Interval for the proportion of smokers who are female\n",
    "\n",
    "print('Lower Boundary Female:', prop_smokers_female - 1.96 * se_smokers_female)\n",
    "print('Upper Boundary Female:', prop_smokers_female + 1.96 * se_smokers_female)"
   ]
  },
  {
   "cell_type": "code",
   "execution_count": 26,
   "metadata": {},
   "outputs": [
    {
     "data": {
      "text/plain": [
       "(0.37082779392969883, 0.41054348679475133)"
      ]
     },
     "execution_count": 26,
     "metadata": {},
     "output_type": "execute_result"
    }
   ],
   "source": [
    "# Check\n",
    "\n",
    "ci_low, ci_upp = proportion_confint(n_smokers_female, n_smokers, alpha=0.05, method='normal')\n",
    "ci_low, ci_upp"
   ]
  },
  {
   "cell_type": "code",
   "execution_count": 27,
   "metadata": {},
   "outputs": [
    {
     "data": {
      "text/plain": [
       "0.21862871927554983"
      ]
     },
     "execution_count": 27,
     "metadata": {},
     "output_type": "execute_result"
    }
   ],
   "source": [
    "# Difference between those two gender proportions\n",
    "\n",
    "prop_smokers_diff = prop_smokers_male - prop_smokers_female\n",
    "prop_smokers_diff"
   ]
  },
  {
   "cell_type": "code",
   "execution_count": 28,
   "metadata": {},
   "outputs": [
    {
     "data": {
      "text/plain": [
       "0.020765845843612775"
      ]
     },
     "execution_count": 28,
     "metadata": {},
     "output_type": "execute_result"
    }
   ],
   "source": [
    "# Error for difference between those two gender proportions\n",
    "\n",
    "se_prop_smokers_diff = np.sqrt((se_smokers_male**2) + (se_smokers_female**2))\n",
    "se_prop_smokers_diff"
   ]
  },
  {
   "cell_type": "code",
   "execution_count": 29,
   "metadata": {},
   "outputs": [
    {
     "name": "stdout",
     "output_type": "stream",
     "text": [
      "Lower Boundary Gender Difference: 0.17792766142206878\n",
      "Upper Boundary Gender Difference: 0.2593297771290309\n"
     ]
    }
   ],
   "source": [
    "# Confidence Interval for the difference between those two gender proportions\n",
    "\n",
    "print('Lower Boundary Gender Difference:', prop_smokers_diff - 1.96 * se_prop_smokers_diff)\n",
    "print('Upper Boundary Gender Difference:', prop_smokers_diff + 1.96 * se_prop_smokers_diff)"
   ]
  },
  {
   "cell_type": "markdown",
   "metadata": {},
   "source": [
    "__Q2a.__ Why might it be relevant to report the separate gender proportions **and** the difference between the gender proportions?"
   ]
  },
  {
   "cell_type": "markdown",
   "metadata": {},
   "source": [
    "**Answer.** It is important to find the proportion of smokers who are female vs proportion of smokers who are male in order to compare the two genders. The proportion of smokers who are male is higher than the proportion of smokers who are female. 58% to 63% of smokers are male while 36% to 42% of smokers are female."
   ]
  },
  {
   "cell_type": "markdown",
   "metadata": {},
   "source": [
    "__Q2b.__ How does the **width** of the confidence interval for the difference between the gender proportions compare to the widths of the confidence intervals for the separate gender proportions?"
   ]
  },
  {
   "cell_type": "code",
   "execution_count": 30,
   "metadata": {},
   "outputs": [
    {
     "name": "stdout",
     "output_type": "stream",
     "text": [
      "Range for male group: 0.03971569286505261\n",
      "Range for female group: 0.0397156928650525\n",
      "Range for diff between groups: 0.0814021157069621\n"
     ]
    }
   ],
   "source": [
    "print('Range for male group:', 0.6291722060703012 - 0.5894565132052486)\n",
    "print('Range for female group:', 0.41054348679475133 - 0.37082779392969883)\n",
    "print('Range for diff between groups:', 0.2593297771290309 - 0.17792766142206878)"
   ]
  },
  {
   "cell_type": "markdown",
   "metadata": {},
   "source": [
    "**Answer.** The confidence interval for the difference of the two proportions is wider than the confidence intervals for each proportion separately."
   ]
  },
  {
   "cell_type": "markdown",
   "metadata": {},
   "source": [
    "## Question 3\n",
    "\n",
    "Construct a 95% interval for height ([BMXHT](https://wwwn.cdc.gov/Nchs/Nhanes/2015-2016/BMX_I.htm#BMXHT)) in centimeters.  Then convert height from centimeters to inches by dividing by 2.54, and construct a 95% confidence interval for height in inches.  Finally, convert the endpoints (the lower and upper confidence limits) of the confidence interval from inches to back to centimeters  "
   ]
  },
  {
   "cell_type": "code",
   "execution_count": 31,
   "metadata": {},
   "outputs": [
    {
     "data": {
      "text/plain": [
       "0    184.5\n",
       "1    171.4\n",
       "2    170.1\n",
       "3    160.9\n",
       "4    164.9\n",
       "Name: BMXHT, dtype: float64"
      ]
     },
     "execution_count": 31,
     "metadata": {},
     "output_type": "execute_result"
    }
   ],
   "source": [
    "# Extract 'height' from DataFrame\n",
    "\n",
    "height_cm = da['BMXHT']\n",
    "\n",
    "height_cm = height_cm[~height_cm.isna()]\n",
    "\n",
    "height_cm.reset_index(inplace=True, drop=True)\n",
    "\n",
    "height_cm.head()"
   ]
  },
  {
   "cell_type": "code",
   "execution_count": 32,
   "metadata": {},
   "outputs": [
    {
     "data": {
      "text/plain": [
       "5673"
      ]
     },
     "execution_count": 32,
     "metadata": {},
     "output_type": "execute_result"
    }
   ],
   "source": [
    "# Size of sample\n",
    "\n",
    "n_height_cm = len(height_cm)\n",
    "n_height_cm"
   ]
  },
  {
   "cell_type": "code",
   "execution_count": 33,
   "metadata": {},
   "outputs": [
    {
     "data": {
      "text/plain": [
       "166.14283447911131"
      ]
     },
     "execution_count": 33,
     "metadata": {},
     "output_type": "execute_result"
    }
   ],
   "source": [
    "# Mean in cm\n",
    "\n",
    "height_mean_cm = np.mean(height_cm)\n",
    "height_mean_cm"
   ]
  },
  {
   "cell_type": "code",
   "execution_count": 34,
   "metadata": {},
   "outputs": [
    {
     "data": {
      "text/plain": [
       "10.078375319383905"
      ]
     },
     "execution_count": 34,
     "metadata": {},
     "output_type": "execute_result"
    }
   ],
   "source": [
    "# Standard Deviation in cm\n",
    "\n",
    "height_std_cm = np.std(height_cm)\n",
    "height_std_cm"
   ]
  },
  {
   "cell_type": "markdown",
   "metadata": {},
   "source": [
    "### 95% C.I. for Heigh in cm"
   ]
  },
  {
   "cell_type": "code",
   "execution_count": 35,
   "metadata": {},
   "outputs": [
    {
     "name": "stdout",
     "output_type": "stream",
     "text": [
      "( 165.8805695573686 , 166.40509940085403 )\n"
     ]
    }
   ],
   "source": [
    "# 95% C.I. for heigh in cm\n",
    "\n",
    "'''\n",
    "se = sd / sqrt(n)\n",
    "\n",
    "lcb = mean - zstar * se\n",
    "ucb = mean + zstar * se\n",
    "\n",
    "(lcb, ucb)\n",
    "'''\n",
    "\n",
    "lcb_cm = height_mean_cm - 1.96 * (height_std_cm / np.sqrt(n_height_cm))\n",
    "ucb_cm = height_mean_cm + 1.96 * (height_std_cm / np.sqrt(n_height_cm))\n",
    "\n",
    "print(\"(\",lcb_cm,\",\",ucb_cm,\")\")"
   ]
  },
  {
   "cell_type": "code",
   "execution_count": 36,
   "metadata": {},
   "outputs": [
    {
     "data": {
      "text/plain": [
       "0    72.637795\n",
       "1    67.480315\n",
       "2    66.968504\n",
       "3    63.346457\n",
       "4    64.921260\n",
       "Name: BMXHT, dtype: float64"
      ]
     },
     "execution_count": 36,
     "metadata": {},
     "output_type": "execute_result"
    }
   ],
   "source": [
    "# Height values in inches\n",
    "\n",
    "height_inches = height_cm / 2.54\n",
    "\n",
    "height_inches=height_inches[~height_inches.isna()]\n",
    "\n",
    "height_inches.reset_index(inplace=True, drop=True)\n",
    "\n",
    "height_inches.head()"
   ]
  },
  {
   "cell_type": "code",
   "execution_count": 37,
   "metadata": {},
   "outputs": [
    {
     "data": {
      "text/plain": [
       "5673"
      ]
     },
     "execution_count": 37,
     "metadata": {},
     "output_type": "execute_result"
    }
   ],
   "source": [
    "# Size of sample\n",
    "\n",
    "n_height_inches = len(height_inches)\n",
    "n_height_inches"
   ]
  },
  {
   "cell_type": "code",
   "execution_count": 38,
   "metadata": {},
   "outputs": [
    {
     "data": {
      "text/plain": [
       "65.41056475555557"
      ]
     },
     "execution_count": 38,
     "metadata": {},
     "output_type": "execute_result"
    }
   ],
   "source": [
    "# Mean in inches\n",
    "\n",
    "height_mean_inches = np.mean(height_inches)\n",
    "height_mean_inches"
   ]
  },
  {
   "cell_type": "code",
   "execution_count": 39,
   "metadata": {},
   "outputs": [
    {
     "data": {
      "text/plain": [
       "3.9678642989700457"
      ]
     },
     "execution_count": 39,
     "metadata": {},
     "output_type": "execute_result"
    }
   ],
   "source": [
    "# Standard Deviation in inches\n",
    "\n",
    "height_std_inches = np.std(height_inches)\n",
    "height_std_inches"
   ]
  },
  {
   "cell_type": "markdown",
   "metadata": {},
   "source": [
    "### 95% C.I. for Heigh in inches"
   ]
  },
  {
   "cell_type": "code",
   "execution_count": 40,
   "metadata": {},
   "outputs": [
    {
     "name": "stdout",
     "output_type": "stream",
     "text": [
      "( 65.30731084935765 , 65.51381866175349 )\n"
     ]
    }
   ],
   "source": [
    "# 95% C.I. for heigh in inches\n",
    "\n",
    "'''\n",
    "se = sd / sqrt(n)\n",
    "\n",
    "lcb = mean - zstar * se\n",
    "ucb = mean + zstar * se\n",
    "\n",
    "(lcb, ucb)\n",
    "'''\n",
    "\n",
    "lcb_inches = height_mean_inches - 1.96 * (height_std_inches / np.sqrt(n_height_inches))\n",
    "ucb_inches = height_mean_inches + 1.96 * (height_std_inches / np.sqrt(n_height_inches))\n",
    "\n",
    "print(\"(\",lcb_inches,\",\",ucb_inches,\")\")"
   ]
  },
  {
   "cell_type": "markdown",
   "metadata": {},
   "source": [
    "### Convertion Back"
   ]
  },
  {
   "cell_type": "code",
   "execution_count": 41,
   "metadata": {},
   "outputs": [
    {
     "name": "stdout",
     "output_type": "stream",
     "text": [
      "      Inches converted to cm: 165.88056955736843 , 166.40509940085386\n",
      "Original calculation with cm: 165.8805695573686 , 166.40509940085403\n"
     ]
    }
   ],
   "source": [
    "lcb_conv_inches_cm = lcb_inches * 2.54\n",
    "\n",
    "ucb_conv_inches_cm = ucb_inches *2.54\n",
    "\n",
    "print('      Inches converted to cm:',lcb_conv_inches_cm,\",\",ucb_conv_inches_cm)\n",
    "print('Original calculation with cm:',lcb_cm,\",\",ucb_cm)"
   ]
  },
  {
   "cell_type": "markdown",
   "metadata": {},
   "source": [
    "__Q3a.__ Describe how the confidence interval constructed in centimeters relates to the confidence interval constructed in inches."
   ]
  },
  {
   "cell_type": "markdown",
   "metadata": {},
   "source": [
    "**Answer.** There is not difference once it is a linear transformation by 2.54."
   ]
  },
  {
   "cell_type": "markdown",
   "metadata": {},
   "source": [
    "## Question 4\n",
    "\n",
    "Partition the sample based on 10-year age bands, i.e. the resulting groups will consist of people with ages from 18-28, 29-38, etc. Construct 95% confidence intervals for the difference between the mean BMI for females and for males within each age band."
   ]
  },
  {
   "cell_type": "code",
   "execution_count": 42,
   "metadata": {},
   "outputs": [
    {
     "name": "stdout",
     "output_type": "stream",
     "text": [
      "Std Males:  6.772851485163331\n",
      "Std Females:  7.953905067202026\n",
      "Variance Ratio:  0.7250739437466439\n",
      "_________________________________________________________\n",
      "Std Males:  6.71939052054458\n",
      "Std Females:  7.950938058946232\n",
      "Variance Ratio:  0.7142052271687324\n",
      "_________________________________________________________\n",
      "Std Males:  6.097237131077365\n",
      "Std Females:  8.03673575688881\n",
      "Variance Ratio:  0.5755814554627985\n",
      "_________________________________________________________\n",
      "Std Males:  6.144153177450542\n",
      "Std Females:  7.639107277699183\n",
      "Variance Ratio:  0.6469025317696495\n",
      "_________________________________________________________\n",
      "Std Males:  5.952529408367409\n",
      "Std Females:  7.771060178439661\n",
      "Variance Ratio:  0.5867357560253484\n",
      "_________________________________________________________\n",
      "Std Males:  5.327630164547575\n",
      "Std Females:  6.768248515453767\n",
      "Variance Ratio:  0.6196059006913651\n",
      "_________________________________________________________\n",
      "Std Males:  4.682137173170973\n",
      "Std Females:  5.469915424161031\n",
      "Variance Ratio:  0.7327014375317853\n",
      "_________________________________________________________\n"
     ]
    }
   ],
   "source": [
    "for val in [[18, 28], [29, 38], [39, 48], [49, 58], [59, 68], [69, 78], [79, 88]]:\n",
    "    \n",
    "    da_year_band=da[(da['RIDAGEYR']>=val[0])&(da['RIDAGEYR']<=val[1])]\n",
    "    da_year_band.reset_index(inplace=True, drop=True)\n",
    "    \n",
    "    bmi_males=da_year_band[da_year_band['RIAGENDR']==1]['BMXBMI']\n",
    "    bmi_females=da_year_band[da_year_band['RIAGENDR']==2]['BMXBMI']\n",
    "    \n",
    "    bmi_males=bmi_males[~bmi_males.isna()]\n",
    "    bmi_males.reset_index(inplace=True, drop=True)\n",
    "    bmi_females=bmi_females[~bmi_females.isna()]\n",
    "    bmi_females.reset_index(inplace=True, drop=True)\n",
    "    \n",
    "    print(\"Std Males: \", np.std(bmi_males))\n",
    "    print(\"Std Females: \", np.std(bmi_females))\n",
    "    print(\"Variance Ratio: \", (np.std(bmi_males)**2)/(np.std(bmi_females)**2))\n",
    "    print(\"_________________________________________________________\")"
   ]
  },
  {
   "cell_type": "markdown",
   "metadata": {},
   "source": [
    "Since the variance ratio between the 2 BMIs is less than 2 (double), we can use the pooled sd safely."
   ]
  },
  {
   "cell_type": "code",
   "execution_count": 43,
   "metadata": {},
   "outputs": [
    {
     "name": "stdout",
     "output_type": "stream",
     "text": [
      "[18, 28]\n",
      "pooled:  -1.741339639227418 , 0.03481716401751678\n",
      "pooled diff:  -1.7065224752099013\n",
      "---------------------------------------------------------------------------------------\n",
      "[29, 38]\n",
      "pooled:  -1.1877114002496456 , 0.6951862411158972\n",
      "pooled diff:  -0.4925251591337484\n",
      "---------------------------------------------------------------------------------------\n",
      "[39, 48]\n",
      "pooled:  -2.443853349014053 , -0.534319340553526\n",
      "pooled diff:  -1.909534008460527\n",
      "---------------------------------------------------------------------------------------\n",
      "[49, 58]\n",
      "pooled:  -2.3314902075137223 , -0.4729688416549196\n",
      "pooled diff:  -1.8585213658588027\n",
      "---------------------------------------------------------------------------------------\n",
      "[59, 68]\n",
      "pooled:  -2.7191581021391893 , -0.9252456993910633\n",
      "pooled diff:  -1.7939124027481261\n",
      "---------------------------------------------------------------------------------------\n",
      "[69, 78]\n",
      "pooled:  -2.8169097637576943 , -0.8181860593381369\n",
      "pooled diff:  -1.9987237044195574\n",
      "---------------------------------------------------------------------------------------\n",
      "[79, 88]\n",
      "pooled:  -1.4339280761211821 , 0.6626637083050877\n",
      "pooled diff:  -0.7712643678160944\n",
      "---------------------------------------------------------------------------------------\n"
     ]
    }
   ],
   "source": [
    "for val in [[18, 28], [29, 38], [39, 48], [49, 58], [59, 68], [69, 78], [79, 88]]:\n",
    "    \n",
    "    da_year_band=da[(da['RIDAGEYR']>=val[0])&(da['RIDAGEYR']<=val[1])]\n",
    "    da_year_band.reset_index(inplace=True, drop=True)\n",
    "    \n",
    "    bmi_males=da_year_band[da_year_band['RIAGENDR']==1]['BMXBMI']\n",
    "    bmi_females=da_year_band[da_year_band['RIAGENDR']==2]['BMXBMI']\n",
    "    \n",
    "    bmi_males=bmi_males[~bmi_males.isna()]\n",
    "    bmi_males.reset_index(inplace=True, drop=True)\n",
    "    bmi_females=bmi_females[~bmi_females.isna()]\n",
    "    bmi_females.reset_index(inplace=True, drop=True)\n",
    "    \n",
    "    bmi_males_temp=sm.stats.DescrStatsW(bmi_males)\n",
    "    bmi_females_temp=sm.stats.DescrStatsW(bmi_females)\n",
    "    \n",
    "    cm = sm.stats.CompareMeans(bmi_males_temp, bmi_females_temp)\n",
    "    lower, upper=cm.tconfint_diff(usevar='pooled')\n",
    "    print(val)\n",
    "    print(\"pooled: \", lower, \",\", upper)\n",
    "    print(\"pooled diff: \", abs(upper)-abs(lower))\n",
    "    print('---------------------------------------------------------------------------------------')"
   ]
  },
  {
   "cell_type": "markdown",
   "metadata": {},
   "source": [
    "__Q4a.__ How do the widths of these confidence intervals differ?  Provide an explanation for any substantial diferences in the confidence interval widths that you see."
   ]
  },
  {
   "cell_type": "markdown",
   "metadata": {},
   "source": [
    "**Anwer.** The confidence interval width for the age groups is fairly equal except for the [29, 38] and [79, 88] where the width is much smaller between males and females."
   ]
  },
  {
   "cell_type": "markdown",
   "metadata": {},
   "source": [
    "## Question 5\n",
    "\n",
    "Construct a 95% confidence interval for the first and second systolic blood pressure measures, and for the difference between the first and second systolic blood pressure measurements within a subject."
   ]
  },
  {
   "cell_type": "code",
   "execution_count": 44,
   "metadata": {},
   "outputs": [],
   "source": [
    "# Construct the three series\n",
    "\n",
    "first_sbp = da['BPXSY1']\n",
    "second_sbp = da['BPXSY2']\n",
    "sbp_diff = first_sbp-second_sbp\n",
    "\n",
    "first_sbp = first_sbp[~first_sbp.isna()]\n",
    "first_sbp.reset_index(inplace=True, drop=True)\n",
    "\n",
    "second_sbp = second_sbp[~second_sbp.isna()]\n",
    "second_sbp.reset_index(inplace=True, drop=True)\n",
    "\n",
    "sbp_diff = sbp_diff[~sbp_diff.isna()]\n",
    "sbp_diff.reset_index(inplace=True, drop=True)"
   ]
  },
  {
   "cell_type": "code",
   "execution_count": 45,
   "metadata": {},
   "outputs": [
    {
     "name": "stdout",
     "output_type": "stream",
     "text": [
      "C.I. for first systolic blood pressure: 124.59163222328895 , 125.57759569746646\n",
      "\n",
      "Range for first systolic blood pressure: 0.9859634741775096\n"
     ]
    }
   ],
   "source": [
    "lower, upper = sm.stats.DescrStatsW(first_sbp).tconfint_mean()\n",
    "\n",
    "print('C.I. for first systolic blood pressure:',lower, \",\", upper)\n",
    "print()\n",
    "print('Range for first systolic blood pressure:', abs(upper) - abs(lower))"
   ]
  },
  {
   "cell_type": "code",
   "execution_count": 46,
   "metadata": {},
   "outputs": [
    {
     "name": "stdout",
     "output_type": "stream",
     "text": [
      "C.I. for second systolic blood pressure: 124.29482629577244 , 125.27120803123749\n",
      "\n",
      "Range for second systolic blood pressure: 0.9763817354650541\n"
     ]
    }
   ],
   "source": [
    "lower, upper = sm.stats.DescrStatsW(second_sbp).tconfint_mean()\n",
    "\n",
    "print('C.I. for second systolic blood pressure:',lower, \",\", upper)\n",
    "print()\n",
    "print('Range for second systolic blood pressure:', abs(upper) - abs(lower))"
   ]
  },
  {
   "cell_type": "code",
   "execution_count": 47,
   "metadata": {},
   "outputs": [
    {
     "name": "stdout",
     "output_type": "stream",
     "text": [
      "C.I. for difference between the first and second: 0.5399696008802797 , 0.8100024609561889\n",
      "\n",
      "Range for difference between the first and second: 0.2700328600759092\n"
     ]
    }
   ],
   "source": [
    "lower, upper = sm.stats.DescrStatsW(sbp_diff).tconfint_mean()\n",
    "\n",
    "print('C.I. for difference between the first and second:',lower, \",\", upper)\n",
    "print()\n",
    "print('Range for difference between the first and second:', abs(upper) - abs(lower))"
   ]
  },
  {
   "cell_type": "markdown",
   "metadata": {},
   "source": [
    "__Q5a.__ Based on these confidence intervals, would you say that a difference of zero between the population mean values of the first and second systolic blood pressure measures is consistent with the data?"
   ]
  },
  {
   "cell_type": "markdown",
   "metadata": {},
   "source": [
    "**Answer.** Yes as zero is included in the confidence interval of the first and second systolic blood pressure measures difference."
   ]
  },
  {
   "cell_type": "markdown",
   "metadata": {},
   "source": [
    "__Q5b.__ Discuss how the width of the confidence interval for the within-subject difference compares to the widths of the confidence intervals for the first and second measures."
   ]
  },
  {
   "cell_type": "markdown",
   "metadata": {},
   "source": [
    "**Answer.** The width of the within-subject difference is lower (narrower) in comparison to the widths of the confidence intervals for the first and second measures."
   ]
  },
  {
   "cell_type": "markdown",
   "metadata": {},
   "source": [
    "## Question 6\n",
    "\n",
    "Construct a 95% confidence interval for the mean difference between the average age of a smoker, and the average age of a non-smoker."
   ]
  },
  {
   "cell_type": "code",
   "execution_count": 48,
   "metadata": {},
   "outputs": [],
   "source": [
    "# Create 2 groups age: 'smokers' and 'not-smokers'\n",
    "\n",
    "smokers_age = da[da['SMQ020']==1]['RIDAGEYR']\n",
    "smokers_age = smokers_age[~smokers_age.isna()]\n",
    "smokers_age.reset_index(inplace=True, drop=True)\n",
    "\n",
    "non_smokers_age = da[da['SMQ020']!=1]['RIDAGEYR']\n",
    "non_smokers_age = non_smokers_age[~non_smokers_age.isna()]\n",
    "non_smokers_age.reset_index(inplace=True, drop=True)"
   ]
  },
  {
   "cell_type": "code",
   "execution_count": 49,
   "metadata": {},
   "outputs": [
    {
     "name": "stdout",
     "output_type": "stream",
     "text": [
      "pooled:  5.833562476381499 , 7.746041103858306\n"
     ]
    }
   ],
   "source": [
    "smokers_age_temp = sm.stats.DescrStatsW(smokers_age)\n",
    "\n",
    "non_smokers_age_temp = sm.stats.DescrStatsW(non_smokers_age)\n",
    "\n",
    "cm = sm.stats.CompareMeans(smokers_age_temp, non_smokers_age_temp)\n",
    "\n",
    "lower, upper = cm.tconfint_diff(usevar='pooled')\n",
    "\n",
    "print(\"pooled: \", lower, \",\", upper)"
   ]
  },
  {
   "cell_type": "markdown",
   "metadata": {},
   "source": [
    "__Q6a.__ Use graphical and numerical techniques to compare the variation in the ages of smokers to the variation in the ages of non-smokers."
   ]
  },
  {
   "cell_type": "code",
   "execution_count": 50,
   "metadata": {},
   "outputs": [
    {
     "data": {
      "text/html": [
       "<div>\n",
       "<style scoped>\n",
       "    .dataframe tbody tr th:only-of-type {\n",
       "        vertical-align: middle;\n",
       "    }\n",
       "\n",
       "    .dataframe tbody tr th {\n",
       "        vertical-align: top;\n",
       "    }\n",
       "\n",
       "    .dataframe thead th {\n",
       "        text-align: right;\n",
       "    }\n",
       "</style>\n",
       "<table border=\"1\" class=\"dataframe\">\n",
       "  <thead>\n",
       "    <tr style=\"text-align: right;\">\n",
       "      <th></th>\n",
       "      <th>Smokers</th>\n",
       "      <th>Not-Smokers</th>\n",
       "    </tr>\n",
       "  </thead>\n",
       "  <tbody>\n",
       "    <tr>\n",
       "      <th>0</th>\n",
       "      <td>62.0</td>\n",
       "      <td>56</td>\n",
       "    </tr>\n",
       "    <tr>\n",
       "      <th>1</th>\n",
       "      <td>53.0</td>\n",
       "      <td>42</td>\n",
       "    </tr>\n",
       "    <tr>\n",
       "      <th>2</th>\n",
       "      <td>78.0</td>\n",
       "      <td>72</td>\n",
       "    </tr>\n",
       "    <tr>\n",
       "      <th>3</th>\n",
       "      <td>22.0</td>\n",
       "      <td>32</td>\n",
       "    </tr>\n",
       "    <tr>\n",
       "      <th>4</th>\n",
       "      <td>46.0</td>\n",
       "      <td>18</td>\n",
       "    </tr>\n",
       "  </tbody>\n",
       "</table>\n",
       "</div>"
      ],
      "text/plain": [
       "   Smokers  Not-Smokers\n",
       "0     62.0           56\n",
       "1     53.0           42\n",
       "2     78.0           72\n",
       "3     22.0           32\n",
       "4     46.0           18"
      ]
     },
     "execution_count": 50,
     "metadata": {},
     "output_type": "execute_result"
    }
   ],
   "source": [
    "# Create a temporary DataFrame for the boxplot\n",
    "\n",
    "data = {'Smokers':smokers_age, \n",
    "        'Not-Smokers':non_smokers_age} \n",
    "\n",
    "daf = pd.DataFrame(data)\n",
    "\n",
    "daf.head()"
   ]
  },
  {
   "cell_type": "code",
   "execution_count": 51,
   "metadata": {},
   "outputs": [
    {
     "data": {
      "text/plain": [
       "count    2319.000000\n",
       "mean       52.096593\n",
       "std        17.461141\n",
       "min        18.000000\n",
       "25%        37.000000\n",
       "50%        54.000000\n",
       "75%        66.000000\n",
       "max        80.000000\n",
       "Name: RIDAGEYR, dtype: float64"
      ]
     },
     "execution_count": 51,
     "metadata": {},
     "output_type": "execute_result"
    }
   ],
   "source": [
    "smokers_age.describe()"
   ]
  },
  {
   "cell_type": "code",
   "execution_count": 52,
   "metadata": {},
   "outputs": [
    {
     "data": {
      "text/plain": [
       "count    3416.000000\n",
       "mean       45.306792\n",
       "std        18.568337\n",
       "min        18.000000\n",
       "25%        29.000000\n",
       "50%        44.000000\n",
       "75%        60.000000\n",
       "max        80.000000\n",
       "Name: RIDAGEYR, dtype: float64"
      ]
     },
     "execution_count": 52,
     "metadata": {},
     "output_type": "execute_result"
    }
   ],
   "source": [
    "non_smokers_age.describe()"
   ]
  },
  {
   "cell_type": "code",
   "execution_count": 53,
   "metadata": {},
   "outputs": [
    {
     "data": {
      "image/png": "[encoded data removed]",
      "text/plain": [
       "<Figure size 432x288 with 1 Axes>"
      ]
     },
     "metadata": {
      "needs_background": "light"
     },
     "output_type": "display_data"
    }
   ],
   "source": [
    "#plt.figure(figsize=(16, 6))\n",
    "\n",
    "bp = sns.boxplot(data = daf.loc[:, ['Smokers', 'Not-Smokers']])\n",
    "\n",
    "_ = bp.set_ylabel(\"Age\")"
   ]
  },
  {
   "cell_type": "markdown",
   "metadata": {},
   "source": [
    "__Q6b.__ Does it appear that uncertainty about the mean age of smokers, or uncertainty about the mean age of non-smokers contributed more to the uncertainty for the mean difference that we are focusing on here?"
   ]
  },
  {
   "cell_type": "markdown",
   "metadata": {},
   "source": [
    "**Answer.** Looks like that campaign anti-smoking works with the news generations."
   ]
  }
 ],
 "metadata": {
  "kernelspec": {
   "display_name": "Python 3",
   "language": "python",
   "name": "python3"
  },
  "language_info": {
   "codemirror_mode": {
    "name": "ipython",
    "version": 3
   },
   "file_extension": ".py",
   "mimetype": "text/x-python",
   "name": "python",
   "nbconvert_exporter": "python",
   "pygments_lexer": "ipython3",
   "version": "3.8.5"
  }
 },
 "nbformat": 4,
 "nbformat_minor": 4
}
