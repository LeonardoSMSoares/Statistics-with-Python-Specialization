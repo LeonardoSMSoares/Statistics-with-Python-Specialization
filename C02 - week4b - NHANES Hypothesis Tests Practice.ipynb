{
 "cells": [
  {
   "cell_type": "markdown",
   "metadata": {},
   "source": [
    "# NHANES Hypothesis Tests Practice"
   ]
  },
  {
   "cell_type": "markdown",
   "metadata": {},
   "source": [
    "<img src=\"images/hiptest.png\"/>"
   ]
  },
  {
   "cell_type": "markdown",
   "metadata": {},
   "source": [
    "### Import Labraries"
   ]
  },
  {
   "cell_type": "code",
   "execution_count": 1,
   "metadata": {},
   "outputs": [],
   "source": [
    "%matplotlib inline\n",
    "import matplotlib.pyplot as plt\n",
    "import seaborn as sns\n",
    "import pandas as pd\n",
    "import statsmodels.api as sm\n",
    "import numpy as np\n",
    "import scipy.stats.distributions as dist\n",
    "from statsmodels.stats.proportion import proportion_confint"
   ]
  },
  {
   "cell_type": "code",
   "execution_count": 2,
   "metadata": {},
   "outputs": [
    {
     "data": {
      "text/html": [
       "<div>\n",
       "<style scoped>\n",
       "    .dataframe tbody tr th:only-of-type {\n",
       "        vertical-align: middle;\n",
       "    }\n",
       "\n",
       "    .dataframe tbody tr th {\n",
       "        vertical-align: top;\n",
       "    }\n",
       "\n",
       "    .dataframe thead th {\n",
       "        text-align: right;\n",
       "    }\n",
       "</style>\n",
       "<table border=\"1\" class=\"dataframe\">\n",
       "  <thead>\n",
       "    <tr style=\"text-align: right;\">\n",
       "      <th></th>\n",
       "      <th>SEQN</th>\n",
       "      <th>ALQ101</th>\n",
       "      <th>ALQ110</th>\n",
       "      <th>ALQ130</th>\n",
       "      <th>SMQ020</th>\n",
       "      <th>RIAGENDR</th>\n",
       "      <th>RIDAGEYR</th>\n",
       "      <th>RIDRETH1</th>\n",
       "      <th>DMDCITZN</th>\n",
       "      <th>DMDEDUC2</th>\n",
       "      <th>...</th>\n",
       "      <th>BPXSY2</th>\n",
       "      <th>BPXDI2</th>\n",
       "      <th>BMXWT</th>\n",
       "      <th>BMXHT</th>\n",
       "      <th>BMXBMI</th>\n",
       "      <th>BMXLEG</th>\n",
       "      <th>BMXARML</th>\n",
       "      <th>BMXARMC</th>\n",
       "      <th>BMXWAIST</th>\n",
       "      <th>HIQ210</th>\n",
       "    </tr>\n",
       "  </thead>\n",
       "  <tbody>\n",
       "    <tr>\n",
       "      <th>0</th>\n",
       "      <td>83732</td>\n",
       "      <td>1.0</td>\n",
       "      <td>NaN</td>\n",
       "      <td>1.0</td>\n",
       "      <td>1</td>\n",
       "      <td>1</td>\n",
       "      <td>62</td>\n",
       "      <td>3</td>\n",
       "      <td>1.0</td>\n",
       "      <td>5.0</td>\n",
       "      <td>...</td>\n",
       "      <td>124.0</td>\n",
       "      <td>64.0</td>\n",
       "      <td>94.8</td>\n",
       "      <td>184.5</td>\n",
       "      <td>27.8</td>\n",
       "      <td>43.3</td>\n",
       "      <td>43.6</td>\n",
       "      <td>35.9</td>\n",
       "      <td>101.1</td>\n",
       "      <td>2.0</td>\n",
       "    </tr>\n",
       "    <tr>\n",
       "      <th>1</th>\n",
       "      <td>83733</td>\n",
       "      <td>1.0</td>\n",
       "      <td>NaN</td>\n",
       "      <td>6.0</td>\n",
       "      <td>1</td>\n",
       "      <td>1</td>\n",
       "      <td>53</td>\n",
       "      <td>3</td>\n",
       "      <td>2.0</td>\n",
       "      <td>3.0</td>\n",
       "      <td>...</td>\n",
       "      <td>140.0</td>\n",
       "      <td>88.0</td>\n",
       "      <td>90.4</td>\n",
       "      <td>171.4</td>\n",
       "      <td>30.8</td>\n",
       "      <td>38.0</td>\n",
       "      <td>40.0</td>\n",
       "      <td>33.2</td>\n",
       "      <td>107.9</td>\n",
       "      <td>NaN</td>\n",
       "    </tr>\n",
       "    <tr>\n",
       "      <th>2</th>\n",
       "      <td>83734</td>\n",
       "      <td>1.0</td>\n",
       "      <td>NaN</td>\n",
       "      <td>NaN</td>\n",
       "      <td>1</td>\n",
       "      <td>1</td>\n",
       "      <td>78</td>\n",
       "      <td>3</td>\n",
       "      <td>1.0</td>\n",
       "      <td>3.0</td>\n",
       "      <td>...</td>\n",
       "      <td>132.0</td>\n",
       "      <td>44.0</td>\n",
       "      <td>83.4</td>\n",
       "      <td>170.1</td>\n",
       "      <td>28.8</td>\n",
       "      <td>35.6</td>\n",
       "      <td>37.0</td>\n",
       "      <td>31.0</td>\n",
       "      <td>116.5</td>\n",
       "      <td>2.0</td>\n",
       "    </tr>\n",
       "    <tr>\n",
       "      <th>3</th>\n",
       "      <td>83735</td>\n",
       "      <td>2.0</td>\n",
       "      <td>1.0</td>\n",
       "      <td>1.0</td>\n",
       "      <td>2</td>\n",
       "      <td>2</td>\n",
       "      <td>56</td>\n",
       "      <td>3</td>\n",
       "      <td>1.0</td>\n",
       "      <td>5.0</td>\n",
       "      <td>...</td>\n",
       "      <td>134.0</td>\n",
       "      <td>68.0</td>\n",
       "      <td>109.8</td>\n",
       "      <td>160.9</td>\n",
       "      <td>42.4</td>\n",
       "      <td>38.5</td>\n",
       "      <td>37.7</td>\n",
       "      <td>38.3</td>\n",
       "      <td>110.1</td>\n",
       "      <td>2.0</td>\n",
       "    </tr>\n",
       "    <tr>\n",
       "      <th>4</th>\n",
       "      <td>83736</td>\n",
       "      <td>2.0</td>\n",
       "      <td>1.0</td>\n",
       "      <td>1.0</td>\n",
       "      <td>2</td>\n",
       "      <td>2</td>\n",
       "      <td>42</td>\n",
       "      <td>4</td>\n",
       "      <td>1.0</td>\n",
       "      <td>4.0</td>\n",
       "      <td>...</td>\n",
       "      <td>114.0</td>\n",
       "      <td>54.0</td>\n",
       "      <td>55.2</td>\n",
       "      <td>164.9</td>\n",
       "      <td>20.3</td>\n",
       "      <td>37.4</td>\n",
       "      <td>36.0</td>\n",
       "      <td>27.2</td>\n",
       "      <td>80.4</td>\n",
       "      <td>2.0</td>\n",
       "    </tr>\n",
       "  </tbody>\n",
       "</table>\n",
       "<p>5 rows × 28 columns</p>\n",
       "</div>"
      ],
      "text/plain": [
       "    SEQN  ALQ101  ALQ110  ALQ130  SMQ020  RIAGENDR  RIDAGEYR  RIDRETH1  \\\n",
       "0  83732     1.0     NaN     1.0       1         1        62         3   \n",
       "1  83733     1.0     NaN     6.0       1         1        53         3   \n",
       "2  83734     1.0     NaN     NaN       1         1        78         3   \n",
       "3  83735     2.0     1.0     1.0       2         2        56         3   \n",
       "4  83736     2.0     1.0     1.0       2         2        42         4   \n",
       "\n",
       "   DMDCITZN  DMDEDUC2  ...  BPXSY2  BPXDI2  BMXWT  BMXHT  BMXBMI  BMXLEG  \\\n",
       "0       1.0       5.0  ...   124.0    64.0   94.8  184.5    27.8    43.3   \n",
       "1       2.0       3.0  ...   140.0    88.0   90.4  171.4    30.8    38.0   \n",
       "2       1.0       3.0  ...   132.0    44.0   83.4  170.1    28.8    35.6   \n",
       "3       1.0       5.0  ...   134.0    68.0  109.8  160.9    42.4    38.5   \n",
       "4       1.0       4.0  ...   114.0    54.0   55.2  164.9    20.3    37.4   \n",
       "\n",
       "   BMXARML  BMXARMC  BMXWAIST  HIQ210  \n",
       "0     43.6     35.9     101.1     2.0  \n",
       "1     40.0     33.2     107.9     NaN  \n",
       "2     37.0     31.0     116.5     2.0  \n",
       "3     37.7     38.3     110.1     2.0  \n",
       "4     36.0     27.2      80.4     2.0  \n",
       "\n",
       "[5 rows x 28 columns]"
      ]
     },
     "execution_count": 2,
     "metadata": {},
     "output_type": "execute_result"
    }
   ],
   "source": [
    "da = pd.read_csv(\"data/nhanes_2015_2016.csv\")\n",
    "\n",
    "da.head()"
   ]
  },
  {
   "cell_type": "markdown",
   "metadata": {},
   "source": [
    "## Question 1\n",
    "\n",
    "Conduct a hypothesis test (at the 0.05 level) for the null hypothesis that the proportion of women who smoke is equal to the proportion of men who smoke."
   ]
  },
  {
   "cell_type": "code",
   "execution_count": 3,
   "metadata": {},
   "outputs": [],
   "source": [
    "# Create 2 groups: 'males' and 'females'\n",
    "\n",
    "da_male_smoke = da[da['RIAGENDR']==1]['SMQ020']\n",
    "da_male_smoke = da_male_smoke[~da_male_smoke.isna()]\n",
    "da_male_smoke.reset_index(inplace=True, drop=True)\n",
    "\n",
    "da_female_smoke = da[da['RIAGENDR']==2]['SMQ020']\n",
    "da_female_smoke = da_female_smoke[~da_female_smoke.isna()]\n",
    "da_female_smoke.reset_index(inplace=True, drop=True)"
   ]
  },
  {
   "cell_type": "code",
   "execution_count": 4,
   "metadata": {},
   "outputs": [
    {
     "name": "stdout",
     "output_type": "stream",
     "text": [
      "1413 1346 2759\n",
      "906 1853 2759\n"
     ]
    }
   ],
   "source": [
    "# Sample sizes\n",
    "\n",
    "n_male_smoke = sum(da_male_smoke==1)\n",
    "\n",
    "n_male_not_smoke = sum(da_male_smoke!=1)\n",
    "\n",
    "n_total_male = len(da_male_smoke)\n",
    "\n",
    "\n",
    "n_female_smoke = sum(da_female_smoke==1)\n",
    "\n",
    "n_female_not_smoke = len(da_male_smoke) - sum(da_female_smoke==1)  # some gaps in data\n",
    "\n",
    "n_total_female = len(da_male_smoke)\n",
    "\n",
    "\n",
    "print(n_male_smoke,n_male_not_smoke,n_total_male)\n",
    "print(n_female_smoke,n_female_not_smoke,n_total_female)"
   ]
  },
  {
   "cell_type": "code",
   "execution_count": 5,
   "metadata": {},
   "outputs": [
    {
     "name": "stdout",
     "output_type": "stream",
     "text": [
      "Proportion smokers between males: 0.51\n",
      "Proportion smokers between females: 0.33\n"
     ]
    }
   ],
   "source": [
    "# Proportions\n",
    "\n",
    "prop_male_smoke = n_male_smoke / n_total_male\n",
    "\n",
    "prop_female_smoke = n_female_smoke / n_total_female\n",
    "\n",
    "print('Proportion smokers between males:', round(prop_male_smoke,2))\n",
    "\n",
    "print('Proportion smokers between females:', round(prop_female_smoke,2))"
   ]
  },
  {
   "cell_type": "code",
   "execution_count": 6,
   "metadata": {},
   "outputs": [
    {
     "name": "stdout",
     "output_type": "stream",
     "text": [
      "Test Statistic\n",
      "13.83\n",
      "\n",
      "P-Value\n",
      "1.7414332306604475e-43\n"
     ]
    }
   ],
   "source": [
    "# Hypothesis Test for the \"Difference in Two Proportions\"\n",
    "\n",
    "# Sample sizes\n",
    "n1 = n_total_male\n",
    "n2 = n_total_female\n",
    "\n",
    "# Number of smokers in each gender\n",
    "y1 = n_male_smoke\n",
    "y2 = n_female_smoke\n",
    "\n",
    "# Estimates of the population proportions\n",
    "p1 = prop_male_smoke\n",
    "p2 = prop_female_smoke\n",
    "\n",
    "# Estimate of the combined population proportion (a kind of mean)\n",
    "phat = (y1 + y2) / (n1 + n2)\n",
    "\n",
    "# Estimate of the variance of the combined population proportion\n",
    "va = phat * (1 - phat)\n",
    "\n",
    "# Estimate of the standard error of the combined population proportion\n",
    "se = np.sqrt(va * (1 / n1 + 1 / n2))\n",
    "\n",
    "# Test statistic and its p-value\n",
    "test_stat = (p1 - p2) / se\n",
    "pvalue = 2*dist.norm.cdf(-np.abs(test_stat))\n",
    "\n",
    "# Print the test statistic its p-value\n",
    "print(\"Test Statistic\")\n",
    "print(round(test_stat, 2))\n",
    "\n",
    "print(\"\\nP-Value\")\n",
    "print(pvalue)"
   ]
  },
  {
   "cell_type": "markdown",
   "metadata": {},
   "source": [
    "**Answer.** \n",
    "\n",
    "    Because our p-value < alpha value (0.05), we \"Reject the null hypothesis\".\n",
    "\n",
    "The proportion of women who smoke **is not** the same the proportion of men who smoke."
   ]
  },
  {
   "cell_type": "markdown",
   "metadata": {},
   "source": [
    "__Q1a.__ Write 1-2 sentences explaining the substance of your findings to someone who does not know anything about statistical hypothesis tests."
   ]
  },
  {
   "cell_type": "markdown",
   "metadata": {},
   "source": [
    "**Answer.** The proportion of women who smoke is significally different from the proportion of men who smoke."
   ]
  },
  {
   "cell_type": "markdown",
   "metadata": {},
   "source": [
    "__Q1b.__ Construct three 95% confidence intervals: one for the proportion of women who smoke, one for the proportion of men who smoke, and one for the difference in the rates of smoking between women and men."
   ]
  },
  {
   "cell_type": "code",
   "execution_count": 7,
   "metadata": {},
   "outputs": [
    {
     "data": {
      "text/plain": [
       "0.013057420421539416"
      ]
     },
     "execution_count": 7,
     "metadata": {},
     "output_type": "execute_result"
    }
   ],
   "source": [
    "# Standard Error for difference of 2 population proportions\n",
    "\n",
    "# Standard Error for males\n",
    "se_male = np.sqrt(prop_male_smoke * (1 - prop_male_smoke)/ n_total_male)\n",
    "\n",
    "# Standard Error for females\n",
    "se_female = np.sqrt(prop_female_smoke * (1 - prop_female_smoke)/ n_total_female)\n",
    "\n",
    "# Standard Error for the difference\n",
    "se_diff = np.sqrt(se_female**2 + se_male**2)\n",
    "se_diff"
   ]
  },
  {
   "cell_type": "code",
   "execution_count": 8,
   "metadata": {},
   "outputs": [
    {
     "name": "stdout",
     "output_type": "stream",
     "text": [
      "95% C.I. for proportion female smokers: (0.31085596540720084, 0.34590373013466214)\n"
     ]
    }
   ],
   "source": [
    "# 95% C.I. for proportion female smokers\n",
    "\n",
    "'''\n",
    "se = np.sqrt((p * (1 - p))/n)\n",
    "\n",
    "lcb = p - zstar * se\n",
    "ucb = p + zstar * se\n",
    "\n",
    "(lcb, ucb)\n",
    "'''\n",
    "\n",
    "# Boundaries\n",
    "lcb_female = prop_female_smoke - 1.96 * se_female\n",
    "ucb_female = prop_female_smoke + 1.96 * se_female\n",
    "\n",
    "print('95% C.I. for proportion female smokers:',(lcb_female,ucb_female))"
   ]
  },
  {
   "cell_type": "code",
   "execution_count": 9,
   "metadata": {},
   "outputs": [
    {
     "name": "stdout",
     "output_type": "stream",
     "text": [
      "95% C.I. for proportion female smokers: (0.4934902211293819, 0.5307939397984904)\n"
     ]
    }
   ],
   "source": [
    "# 95% C.I. for proportion male smokers\n",
    "\n",
    "'''\n",
    "se = np.sqrt((p * (1 - p))/n)\n",
    "\n",
    "lcb = p - zstar * se\n",
    "ucb = p + zstar * se\n",
    "\n",
    "(lcb, ucb)\n",
    "'''\n",
    "\n",
    "# Boundaries\n",
    "lcb_male = prop_male_smoke - 1.96 * se_male\n",
    "ucb_male = prop_male_smoke + 1.96 * se_male\n",
    "\n",
    "print('95% C.I. for proportion female smokers:',(lcb_male,ucb_male))"
   ]
  },
  {
   "cell_type": "code",
   "execution_count": 10,
   "metadata": {},
   "outputs": [
    {
     "name": "stdout",
     "output_type": "stream",
     "text": [
      "95% C.I. for proportion female smokers: (0.15816968866678743, 0.20935477671922192)\n"
     ]
    }
   ],
   "source": [
    "# 95% C.I. for diference between proportions\n",
    "\n",
    "'''\n",
    "se_diff = np.sqrt(se_female**2 + se_male**2)\n",
    "\n",
    "d = p1 - p2\n",
    "\n",
    "lcb = d - zstar * se\n",
    "ucb = d + zstar * se\n",
    "\n",
    "(lcb, ucb)\n",
    "'''\n",
    "\n",
    "# Diference between proportions\n",
    "d = prop_male_smoke - prop_female_smoke   \n",
    "\n",
    "# Boundaries\n",
    "lcb_diff = d - 1.96 * se_diff\n",
    "ucb_diff = d + 1.96 * se_diff\n",
    "\n",
    "print('95% C.I. for proportion female smokers:',(lcb_diff, ucb_diff))"
   ]
  },
  {
   "cell_type": "markdown",
   "metadata": {},
   "source": [
    "__Q1c.__ Comment on any ways in which the confidence intervals that you found in part b reinforce, contradict, or add support to the hypothesis test conducted in part a."
   ]
  },
  {
   "cell_type": "markdown",
   "metadata": {},
   "source": [
    "**Answer.** The confidence intervals support our conclusion that the the proportion of males who smoke is significant from the proportion of females who smoke. The confidence interval for the proportion of males who smoke does not overlap with the proportion of females who smoke. The confidence interval for the difference between the two proportions does not include zero."
   ]
  },
  {
   "cell_type": "markdown",
   "metadata": {},
   "source": [
    "## Question 2\n",
    "\n",
    "Partition the population into two groups based on whether a person has graduated college or not, using the educational attainment variable [DMDEDUC2](https://wwwn.cdc.gov/Nchs/Nhanes/2015-2016/DEMO_I.htm#DMDEDUC2).  Then conduct a test of the null hypothesis that the average heights (in centimeters) of the two groups are equal.  Next, convert the heights from centimeters to inches, and conduct a test of the null hypothesis that the average heights (in inches) of the two groups are equal."
   ]
  },
  {
   "cell_type": "code",
   "execution_count": 14,
   "metadata": {},
   "outputs": [],
   "source": [
    "# Partition the population into two groups based on whether a person has graduated college or not.\n",
    "\n",
    "graduated_height_cm = da[da['DMDEDUC2']==5]['BMXHT']\n",
    "graduated_height_cm = graduated_height_cm[~graduated_height_cm.isna()]\n",
    "graduated_height_cm.reset_index(inplace=True, drop=True)\n",
    "\n",
    "not_graduated_height_cm = da[da['DMDEDUC2']!=5]['BMXHT']\n",
    "not_graduated_height_cm = not_graduated_height_cm[~not_graduated_height_cm.isna()]\n",
    "not_graduated_height_cm.reset_index(inplace=True, drop=True)"
   ]
  },
  {
   "cell_type": "code",
   "execution_count": 19,
   "metadata": {},
   "outputs": [],
   "source": [
    "# Sample Sizes\n",
    "\n",
    "n_graduated_height_cm = len(graduated_height_cm)\n",
    "\n",
    "n_not_graduated_height_cm = len(not_graduated_height_cm)\n",
    "\n",
    "\n",
    "# Means\n",
    "\n",
    "graduated_mean_height_cm = graduated_height_cm.mean()\n",
    "\n",
    "not_graduated_mean_height_cm = not_graduated_height_cm.mean()\n",
    "\n",
    "\n",
    "# Standard Deviations\n",
    "\n",
    "graduated_std_height_cm = graduated_height_cm.std()\n",
    "\n",
    "not_graduated_std_height_cm = not_graduated_height_cm.std()\n",
    "\n",
    "\n",
    "# Errors\n",
    "\n",
    "se_graduated_height_cm = graduated_std_height_cm / n_graduated_height_cm\n",
    "\n",
    "se_not_graduated_height_cm = not_graduated_std_height_cm / n_not_graduated_height_cm\n",
    "\n",
    "sem_diff = np.sqrt(se_graduated_height_cm**2 + se_not_graduated_height_cm**2)     # SE for difference of 2 population means"
   ]
  },
  {
   "cell_type": "code",
   "execution_count": 21,
   "metadata": {},
   "outputs": [
    {
     "name": "stdout",
     "output_type": "stream",
     "text": [
      "95% C.I. for diference between means: (2.224315675065462, 2.275500763117897)\n"
     ]
    }
   ],
   "source": [
    "# 95% C.I. for diference between means in cm\n",
    "\n",
    "'''\n",
    "se_diff = np.sqrt(se_A**2 + se_B**2)\n",
    "\n",
    "mu = mu1 -mu2\n",
    "\n",
    "lcb = mu - zstar * se\n",
    "ucb = mu + zstar * se\n",
    "\n",
    "(lcb, ucb)\n",
    "'''\n",
    "\n",
    "# Diference between means\n",
    "d = abs(graduated_mean_height_cm - not_graduated_mean_height_cm)   \n",
    "\n",
    "# Boundaries\n",
    "lcb_diff = d - 1.96 * se_diff\n",
    "ucb_diff = d + 1.96 * se_diff\n",
    "\n",
    "print('95% C.I. for diference between means in cm:',(lcb_diff, ucb_diff))"
   ]
  },
  {
   "cell_type": "code",
   "execution_count": 17,
   "metadata": {},
   "outputs": [],
   "source": [
    "# The population into two groups in inches\n",
    "\n",
    "graduated_height_inches = graduated_height_cm / 2.54\n",
    "graduated_height_inches = graduated_height_inches[~graduated_height_inches.isna()]\n",
    "graduated_height_inches.reset_index(inplace=True, drop=True)\n",
    "\n",
    "not_graduated_height_inches = not_graduated_height_cm / 2.54\n",
    "not_graduated_height_inches = not_graduated_height_inches[~not_graduated_height_inches.isna()]\n",
    "not_graduated_height_inches.reset_index(inplace=True, drop=True)"
   ]
  },
  {
   "cell_type": "code",
   "execution_count": 22,
   "metadata": {},
   "outputs": [],
   "source": [
    "# Sample Sizes\n",
    "n_graduated_height_inches = len(graduated_height_inches)\n",
    "n_not_graduated_height_inches = len(not_graduated_height_inches)\n",
    "\n",
    "\n",
    "# Means\n",
    "graduated_mean_height_inches = graduated_height_inches.mean()\n",
    "not_graduated_mean_height_inches = not_graduated_height_inches.mean()\n",
    "\n",
    "\n",
    "# Standard Deviations\n",
    "graduated_std_height_inches = graduated_height_inches.std()\n",
    "not_graduated_std_height_inches = not_graduated_height_inches.std()\n",
    "\n",
    "\n",
    "# Errors\n",
    "se_graduated_height_inches = graduated_std_height_inches / n_graduated_height_inches\n",
    "se_not_graduated_height_inches = not_graduated_std_height_inches / n_not_graduated_height_inches\n",
    "sem_diff = np.sqrt(se_graduated_height_inches**2 + se_not_graduated_height_inches**2)     # SE for difference"
   ]
  },
  {
   "cell_type": "code",
   "execution_count": 23,
   "metadata": {},
   "outputs": [
    {
     "name": "stdout",
     "output_type": "stream",
     "text": [
      "95% C.I. for diference between means in inches: (0.8601980934112066, 0.9113831814636411)\n"
     ]
    }
   ],
   "source": [
    "# 95% C.I. for diference between means in inches\n",
    "\n",
    "'''\n",
    "se_diff = np.sqrt(se_A**2 + se_B**2)\n",
    "\n",
    "mu = mu1 -mu2\n",
    "\n",
    "lcb = mu - zstar * se\n",
    "ucb = mu + zstar * se\n",
    "\n",
    "(lcb, ucb)\n",
    "'''\n",
    "\n",
    "# Diference between means\n",
    "d = abs(graduated_mean_height_inches - not_graduated_mean_height_inches)   \n",
    "\n",
    "# Boundaries\n",
    "lcb_diff = d - 1.96 * se_diff\n",
    "ucb_diff = d + 1.96 * se_diff\n",
    "\n",
    "print('95% C.I. for diference between means in inches:',(lcb_diff, ucb_diff))"
   ]
  },
  {
   "cell_type": "code",
   "execution_count": null,
   "metadata": {},
   "outputs": [],
   "source": []
  },
  {
   "cell_type": "markdown",
   "metadata": {},
   "source": [
    "__Q2a.__ Based on the analysis performed here, are you confident that people who graduated from college have a different average height compared to people who did not graduate from college?"
   ]
  },
  {
   "cell_type": "code",
   "execution_count": null,
   "metadata": {},
   "outputs": [],
   "source": []
  },
  {
   "cell_type": "markdown",
   "metadata": {},
   "source": [
    "__Q2b:__ How do the results obtained using the heights expressed in inches compare to the results obtained using the heights expressed in centimeters?"
   ]
  },
  {
   "cell_type": "code",
   "execution_count": null,
   "metadata": {},
   "outputs": [],
   "source": []
  },
  {
   "cell_type": "markdown",
   "metadata": {},
   "source": [
    "## Question 3\n",
    "\n",
    "Conduct a hypothesis test of the null hypothesis that the average BMI for men between 30 and 40 is equal to the average BMI for men between 50 and 60.  Then carry out this test again after log transforming the BMI values."
   ]
  },
  {
   "cell_type": "code",
   "execution_count": null,
   "metadata": {},
   "outputs": [],
   "source": []
  },
  {
   "cell_type": "markdown",
   "metadata": {},
   "source": [
    "__Q3a.__ How would you characterize the evidence that mean BMI differs between these age bands, and how would you characterize the evidence that mean log BMI differs between these age bands?"
   ]
  },
  {
   "cell_type": "code",
   "execution_count": null,
   "metadata": {},
   "outputs": [],
   "source": []
  },
  {
   "cell_type": "markdown",
   "metadata": {},
   "source": [
    "## Question 4\n",
    "\n",
    "Suppose we wish to compare the mean BMI between college graduates and people who have not graduated from college, focusing on women between the ages of 30 and 40.  First, consider the variance of BMI within each of these subpopulations using graphical techniques, and through the estimated subpopulation variances.  Then, calculate pooled and unpooled estimates of the standard error for the difference between the mean BMI in the two populations being compared.  Finally, test the null hypothesis that the two population means are equal, using each of the two different standard errors."
   ]
  },
  {
   "cell_type": "code",
   "execution_count": null,
   "metadata": {},
   "outputs": [],
   "source": []
  },
  {
   "cell_type": "markdown",
   "metadata": {},
   "source": [
    "__Q4a.__ Comment on the strength of evidence against the null hypothesis that these two populations have equal mean BMI."
   ]
  },
  {
   "cell_type": "code",
   "execution_count": null,
   "metadata": {},
   "outputs": [],
   "source": []
  },
  {
   "cell_type": "markdown",
   "metadata": {},
   "source": [
    "__Q4b.__ Comment on the degree to which the two populations have different variances, and on the extent to which the results using different approaches to estimating the standard error of the mean difference give divergent results."
   ]
  },
  {
   "cell_type": "code",
   "execution_count": null,
   "metadata": {},
   "outputs": [],
   "source": []
  },
  {
   "cell_type": "markdown",
   "metadata": {},
   "source": [
    "## Question 5\n",
    "\n",
    "Conduct a test of the null hypothesis that the first and second diastolic blood pressure measurements within a subject have the same mean values."
   ]
  },
  {
   "cell_type": "code",
   "execution_count": null,
   "metadata": {},
   "outputs": [],
   "source": []
  },
  {
   "cell_type": "markdown",
   "metadata": {},
   "source": [
    "__Q5a.__ Briefly describe your findings for an audience that is not familiar with statistical hypothesis testing."
   ]
  },
  {
   "cell_type": "code",
   "execution_count": null,
   "metadata": {},
   "outputs": [],
   "source": []
  },
  {
   "cell_type": "markdown",
   "metadata": {},
   "source": [
    "__Q5b.__ Pretend that the first and second diastolic blood pressure measurements were taken on different people.  Modfify the analysis above as appropriate for this setting."
   ]
  },
  {
   "cell_type": "code",
   "execution_count": null,
   "metadata": {},
   "outputs": [],
   "source": []
  },
  {
   "cell_type": "markdown",
   "metadata": {},
   "source": [
    "__Q5c.__ Briefly describe how the approaches used and the results obtained in the preceeding two parts of the question differ."
   ]
  },
  {
   "cell_type": "code",
   "execution_count": null,
   "metadata": {},
   "outputs": [],
   "source": []
  }
 ],
 "metadata": {
  "kernelspec": {
   "display_name": "Python 3",
   "language": "python",
   "name": "python3"
  },
  "language_info": {
   "codemirror_mode": {
    "name": "ipython",
    "version": 3
   },
   "file_extension": ".py",
   "mimetype": "text/x-python",
   "name": "python",
   "nbconvert_exporter": "python",
   "pygments_lexer": "ipython3",
   "version": "3.8.5"
  }
 },
 "nbformat": 4,
 "nbformat_minor": 4
}
