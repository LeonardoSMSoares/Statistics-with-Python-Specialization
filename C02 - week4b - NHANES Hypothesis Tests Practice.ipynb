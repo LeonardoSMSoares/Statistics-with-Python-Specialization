{
 "cells": [
  {
   "cell_type": "markdown",
   "metadata": {},
   "source": [
    "# NHANES Hypothesis Tests Practice"
   ]
  },
  {
   "cell_type": "markdown",
   "metadata": {},
   "source": [
    "<img src=\"images/hiptest.png\"/>"
   ]
  },
  {
   "cell_type": "markdown",
   "metadata": {},
   "source": [
    "### Import Labraries"
   ]
  },
  {
   "cell_type": "code",
   "execution_count": 1,
   "metadata": {},
   "outputs": [],
   "source": [
    "%matplotlib inline\n",
    "import matplotlib.pyplot as plt\n",
    "import seaborn as sns\n",
    "import pandas as pd\n",
    "import statsmodels.api as sm\n",
    "import numpy as np\n",
    "import scipy.stats.distributions as dist\n",
    "from scipy.stats import norm\n",
    "from statsmodels.stats.proportion import proportion_confint"
   ]
  },
  {
   "cell_type": "code",
   "execution_count": 2,
   "metadata": {},
   "outputs": [
    {
     "data": {
      "text/html": [
       "<div>\n",
       "<style scoped>\n",
       "    .dataframe tbody tr th:only-of-type {\n",
       "        vertical-align: middle;\n",
       "    }\n",
       "\n",
       "    .dataframe tbody tr th {\n",
       "        vertical-align: top;\n",
       "    }\n",
       "\n",
       "    .dataframe thead th {\n",
       "        text-align: right;\n",
       "    }\n",
       "</style>\n",
       "<table border=\"1\" class=\"dataframe\">\n",
       "  <thead>\n",
       "    <tr style=\"text-align: right;\">\n",
       "      <th></th>\n",
       "      <th>SEQN</th>\n",
       "      <th>ALQ101</th>\n",
       "      <th>ALQ110</th>\n",
       "      <th>ALQ130</th>\n",
       "      <th>SMQ020</th>\n",
       "      <th>RIAGENDR</th>\n",
       "      <th>RIDAGEYR</th>\n",
       "      <th>RIDRETH1</th>\n",
       "      <th>DMDCITZN</th>\n",
       "      <th>DMDEDUC2</th>\n",
       "      <th>...</th>\n",
       "      <th>BPXSY2</th>\n",
       "      <th>BPXDI2</th>\n",
       "      <th>BMXWT</th>\n",
       "      <th>BMXHT</th>\n",
       "      <th>BMXBMI</th>\n",
       "      <th>BMXLEG</th>\n",
       "      <th>BMXARML</th>\n",
       "      <th>BMXARMC</th>\n",
       "      <th>BMXWAIST</th>\n",
       "      <th>HIQ210</th>\n",
       "    </tr>\n",
       "  </thead>\n",
       "  <tbody>\n",
       "    <tr>\n",
       "      <th>0</th>\n",
       "      <td>83732</td>\n",
       "      <td>1.0</td>\n",
       "      <td>NaN</td>\n",
       "      <td>1.0</td>\n",
       "      <td>1</td>\n",
       "      <td>1</td>\n",
       "      <td>62</td>\n",
       "      <td>3</td>\n",
       "      <td>1.0</td>\n",
       "      <td>5.0</td>\n",
       "      <td>...</td>\n",
       "      <td>124.0</td>\n",
       "      <td>64.0</td>\n",
       "      <td>94.8</td>\n",
       "      <td>184.5</td>\n",
       "      <td>27.8</td>\n",
       "      <td>43.3</td>\n",
       "      <td>43.6</td>\n",
       "      <td>35.9</td>\n",
       "      <td>101.1</td>\n",
       "      <td>2.0</td>\n",
       "    </tr>\n",
       "    <tr>\n",
       "      <th>1</th>\n",
       "      <td>83733</td>\n",
       "      <td>1.0</td>\n",
       "      <td>NaN</td>\n",
       "      <td>6.0</td>\n",
       "      <td>1</td>\n",
       "      <td>1</td>\n",
       "      <td>53</td>\n",
       "      <td>3</td>\n",
       "      <td>2.0</td>\n",
       "      <td>3.0</td>\n",
       "      <td>...</td>\n",
       "      <td>140.0</td>\n",
       "      <td>88.0</td>\n",
       "      <td>90.4</td>\n",
       "      <td>171.4</td>\n",
       "      <td>30.8</td>\n",
       "      <td>38.0</td>\n",
       "      <td>40.0</td>\n",
       "      <td>33.2</td>\n",
       "      <td>107.9</td>\n",
       "      <td>NaN</td>\n",
       "    </tr>\n",
       "    <tr>\n",
       "      <th>2</th>\n",
       "      <td>83734</td>\n",
       "      <td>1.0</td>\n",
       "      <td>NaN</td>\n",
       "      <td>NaN</td>\n",
       "      <td>1</td>\n",
       "      <td>1</td>\n",
       "      <td>78</td>\n",
       "      <td>3</td>\n",
       "      <td>1.0</td>\n",
       "      <td>3.0</td>\n",
       "      <td>...</td>\n",
       "      <td>132.0</td>\n",
       "      <td>44.0</td>\n",
       "      <td>83.4</td>\n",
       "      <td>170.1</td>\n",
       "      <td>28.8</td>\n",
       "      <td>35.6</td>\n",
       "      <td>37.0</td>\n",
       "      <td>31.0</td>\n",
       "      <td>116.5</td>\n",
       "      <td>2.0</td>\n",
       "    </tr>\n",
       "    <tr>\n",
       "      <th>3</th>\n",
       "      <td>83735</td>\n",
       "      <td>2.0</td>\n",
       "      <td>1.0</td>\n",
       "      <td>1.0</td>\n",
       "      <td>2</td>\n",
       "      <td>2</td>\n",
       "      <td>56</td>\n",
       "      <td>3</td>\n",
       "      <td>1.0</td>\n",
       "      <td>5.0</td>\n",
       "      <td>...</td>\n",
       "      <td>134.0</td>\n",
       "      <td>68.0</td>\n",
       "      <td>109.8</td>\n",
       "      <td>160.9</td>\n",
       "      <td>42.4</td>\n",
       "      <td>38.5</td>\n",
       "      <td>37.7</td>\n",
       "      <td>38.3</td>\n",
       "      <td>110.1</td>\n",
       "      <td>2.0</td>\n",
       "    </tr>\n",
       "    <tr>\n",
       "      <th>4</th>\n",
       "      <td>83736</td>\n",
       "      <td>2.0</td>\n",
       "      <td>1.0</td>\n",
       "      <td>1.0</td>\n",
       "      <td>2</td>\n",
       "      <td>2</td>\n",
       "      <td>42</td>\n",
       "      <td>4</td>\n",
       "      <td>1.0</td>\n",
       "      <td>4.0</td>\n",
       "      <td>...</td>\n",
       "      <td>114.0</td>\n",
       "      <td>54.0</td>\n",
       "      <td>55.2</td>\n",
       "      <td>164.9</td>\n",
       "      <td>20.3</td>\n",
       "      <td>37.4</td>\n",
       "      <td>36.0</td>\n",
       "      <td>27.2</td>\n",
       "      <td>80.4</td>\n",
       "      <td>2.0</td>\n",
       "    </tr>\n",
       "  </tbody>\n",
       "</table>\n",
       "<p>5 rows × 28 columns</p>\n",
       "</div>"
      ],
      "text/plain": [
       "    SEQN  ALQ101  ALQ110  ALQ130  SMQ020  RIAGENDR  RIDAGEYR  RIDRETH1  \\\n",
       "0  83732     1.0     NaN     1.0       1         1        62         3   \n",
       "1  83733     1.0     NaN     6.0       1         1        53         3   \n",
       "2  83734     1.0     NaN     NaN       1         1        78         3   \n",
       "3  83735     2.0     1.0     1.0       2         2        56         3   \n",
       "4  83736     2.0     1.0     1.0       2         2        42         4   \n",
       "\n",
       "   DMDCITZN  DMDEDUC2  ...  BPXSY2  BPXDI2  BMXWT  BMXHT  BMXBMI  BMXLEG  \\\n",
       "0       1.0       5.0  ...   124.0    64.0   94.8  184.5    27.8    43.3   \n",
       "1       2.0       3.0  ...   140.0    88.0   90.4  171.4    30.8    38.0   \n",
       "2       1.0       3.0  ...   132.0    44.0   83.4  170.1    28.8    35.6   \n",
       "3       1.0       5.0  ...   134.0    68.0  109.8  160.9    42.4    38.5   \n",
       "4       1.0       4.0  ...   114.0    54.0   55.2  164.9    20.3    37.4   \n",
       "\n",
       "   BMXARML  BMXARMC  BMXWAIST  HIQ210  \n",
       "0     43.6     35.9     101.1     2.0  \n",
       "1     40.0     33.2     107.9     NaN  \n",
       "2     37.0     31.0     116.5     2.0  \n",
       "3     37.7     38.3     110.1     2.0  \n",
       "4     36.0     27.2      80.4     2.0  \n",
       "\n",
       "[5 rows x 28 columns]"
      ]
     },
     "execution_count": 2,
     "metadata": {},
     "output_type": "execute_result"
    }
   ],
   "source": [
    "da = pd.read_csv(\"data/nhanes_2015_2016.csv\")\n",
    "\n",
    "da.head()"
   ]
  },
  {
   "cell_type": "markdown",
   "metadata": {},
   "source": [
    "## Question 1\n",
    "\n",
    "Conduct a hypothesis test (at the 0.05 level) for the null hypothesis that the proportion of women who smoke is equal to the proportion of men who smoke."
   ]
  },
  {
   "cell_type": "code",
   "execution_count": 3,
   "metadata": {},
   "outputs": [],
   "source": [
    "# Create 2 groups: 'males' and 'females'\n",
    "\n",
    "da_male_smoke = da[da['RIAGENDR']==1]['SMQ020']\n",
    "da_male_smoke = da_male_smoke[~da_male_smoke.isna()]\n",
    "da_male_smoke.reset_index(inplace=True, drop=True)\n",
    "\n",
    "da_female_smoke = da[da['RIAGENDR']==2]['SMQ020']\n",
    "da_female_smoke = da_female_smoke[~da_female_smoke.isna()]\n",
    "da_female_smoke.reset_index(inplace=True, drop=True)"
   ]
  },
  {
   "cell_type": "code",
   "execution_count": 4,
   "metadata": {},
   "outputs": [
    {
     "name": "stdout",
     "output_type": "stream",
     "text": [
      "1413 1346 2759\n",
      "906 1853 2759\n"
     ]
    }
   ],
   "source": [
    "# Sample sizes\n",
    "\n",
    "n_male_smoke = sum(da_male_smoke==1)\n",
    "\n",
    "n_male_not_smoke = sum(da_male_smoke!=1)\n",
    "\n",
    "n_total_male = len(da_male_smoke)\n",
    "\n",
    "\n",
    "n_female_smoke = sum(da_female_smoke==1)\n",
    "\n",
    "n_female_not_smoke = len(da_male_smoke) - sum(da_female_smoke==1)  # some gaps in data\n",
    "\n",
    "n_total_female = len(da_male_smoke)\n",
    "\n",
    "\n",
    "print(n_male_smoke,n_male_not_smoke,n_total_male)\n",
    "print(n_female_smoke,n_female_not_smoke,n_total_female)"
   ]
  },
  {
   "cell_type": "code",
   "execution_count": 5,
   "metadata": {},
   "outputs": [
    {
     "name": "stdout",
     "output_type": "stream",
     "text": [
      "Proportion smokers between males: 0.51\n",
      "Proportion smokers between females: 0.33\n"
     ]
    }
   ],
   "source": [
    "# Proportions\n",
    "\n",
    "prop_male_smoke = n_male_smoke / n_total_male\n",
    "\n",
    "prop_female_smoke = n_female_smoke / n_total_female\n",
    "\n",
    "print('Proportion smokers between males:', round(prop_male_smoke,2))\n",
    "\n",
    "print('Proportion smokers between females:', round(prop_female_smoke,2))"
   ]
  },
  {
   "cell_type": "code",
   "execution_count": 6,
   "metadata": {},
   "outputs": [
    {
     "name": "stdout",
     "output_type": "stream",
     "text": [
      "Test Statistic\n",
      "13.83\n",
      "\n",
      "P-Value\n",
      "1.7414332306604475e-43\n"
     ]
    }
   ],
   "source": [
    "# Hypothesis Test for the \"Difference in Two Proportions\"\n",
    "\n",
    "# Sample sizes\n",
    "n1 = n_total_male\n",
    "n2 = n_total_female\n",
    "\n",
    "# Number of smokers in each gender\n",
    "y1 = n_male_smoke\n",
    "y2 = n_female_smoke\n",
    "\n",
    "# Estimates of the population proportions\n",
    "p1 = prop_male_smoke\n",
    "p2 = prop_female_smoke\n",
    "\n",
    "# Estimate of the combined population proportion (a kind of mean)\n",
    "phat = (y1 + y2) / (n1 + n2)\n",
    "\n",
    "# Estimate of the variance of the combined population proportion\n",
    "va = phat * (1 - phat)\n",
    "\n",
    "# Estimate of the standard error of the combined population proportion\n",
    "se = np.sqrt(va * (1 / n1 + 1 / n2))\n",
    "\n",
    "# Test statistic and its p-value\n",
    "test_stat = (p1 - p2) / se\n",
    "pvalue = 2*dist.norm.cdf(-np.abs(test_stat))\n",
    "\n",
    "# Print the test statistic its p-value\n",
    "print(\"Test Statistic\")\n",
    "print(round(test_stat, 2))\n",
    "\n",
    "print(\"\\nP-Value\")\n",
    "print(pvalue)"
   ]
  },
  {
   "cell_type": "markdown",
   "metadata": {},
   "source": [
    "**Answer.** \n",
    "\n",
    "    Because our p-value < alpha value (0.05), we \"Reject the null hypothesis\".\n",
    "\n",
    "The proportion of women who smoke **is not** the same the proportion of men who smoke."
   ]
  },
  {
   "cell_type": "markdown",
   "metadata": {},
   "source": [
    "__Q1a.__ Write 1-2 sentences explaining the substance of your findings to someone who does not know anything about statistical hypothesis tests."
   ]
  },
  {
   "cell_type": "markdown",
   "metadata": {},
   "source": [
    "**Answer.** The proportion of women who smoke is significally different from the proportion of men who smoke."
   ]
  },
  {
   "cell_type": "markdown",
   "metadata": {},
   "source": [
    "__Q1b.__ Construct three 95% confidence intervals: one for the proportion of women who smoke, one for the proportion of men who smoke, and one for the difference in the rates of smoking between women and men."
   ]
  },
  {
   "cell_type": "code",
   "execution_count": 7,
   "metadata": {},
   "outputs": [
    {
     "data": {
      "text/plain": [
       "0.013057420421539416"
      ]
     },
     "execution_count": 7,
     "metadata": {},
     "output_type": "execute_result"
    }
   ],
   "source": [
    "# Standard Error for difference of 2 population proportions\n",
    "\n",
    "# Standard Error for males\n",
    "se_male = np.sqrt(prop_male_smoke * (1 - prop_male_smoke)/ n_total_male)\n",
    "\n",
    "# Standard Error for females\n",
    "se_female = np.sqrt(prop_female_smoke * (1 - prop_female_smoke)/ n_total_female)\n",
    "\n",
    "# Standard Error for the difference\n",
    "se_diff = np.sqrt(se_female**2 + se_male**2)\n",
    "se_diff"
   ]
  },
  {
   "cell_type": "code",
   "execution_count": 8,
   "metadata": {},
   "outputs": [
    {
     "name": "stdout",
     "output_type": "stream",
     "text": [
      "95% C.I. for proportion female smokers: (0.31085596540720084, 0.34590373013466214)\n"
     ]
    }
   ],
   "source": [
    "# 95% C.I. for proportion female smokers\n",
    "\n",
    "'''\n",
    "se = np.sqrt((p * (1 - p))/n)\n",
    "\n",
    "lcb = p - zstar * se\n",
    "ucb = p + zstar * se\n",
    "\n",
    "(lcb, ucb)\n",
    "'''\n",
    "\n",
    "# Boundaries\n",
    "lcb_female = prop_female_smoke - 1.96 * se_female\n",
    "ucb_female = prop_female_smoke + 1.96 * se_female\n",
    "\n",
    "print('95% C.I. for proportion female smokers:',(lcb_female,ucb_female))"
   ]
  },
  {
   "cell_type": "code",
   "execution_count": 9,
   "metadata": {},
   "outputs": [
    {
     "name": "stdout",
     "output_type": "stream",
     "text": [
      "95% C.I. for proportion female smokers: (0.4934902211293819, 0.5307939397984904)\n"
     ]
    }
   ],
   "source": [
    "# 95% C.I. for proportion male smokers\n",
    "\n",
    "'''\n",
    "se = np.sqrt((p * (1 - p))/n)\n",
    "\n",
    "lcb = p - zstar * se\n",
    "ucb = p + zstar * se\n",
    "\n",
    "(lcb, ucb)\n",
    "'''\n",
    "\n",
    "# Boundaries\n",
    "lcb_male = prop_male_smoke - 1.96 * se_male\n",
    "ucb_male = prop_male_smoke + 1.96 * se_male\n",
    "\n",
    "print('95% C.I. for proportion female smokers:',(lcb_male,ucb_male))"
   ]
  },
  {
   "cell_type": "code",
   "execution_count": 10,
   "metadata": {},
   "outputs": [
    {
     "name": "stdout",
     "output_type": "stream",
     "text": [
      "95% C.I. for proportion female smokers: (0.15816968866678743, 0.20935477671922192)\n"
     ]
    }
   ],
   "source": [
    "# 95% C.I. for diference between proportions\n",
    "\n",
    "'''\n",
    "se_diff = np.sqrt(se_female**2 + se_male**2)\n",
    "\n",
    "d = p1 - p2\n",
    "\n",
    "lcb = d - zstar * se\n",
    "ucb = d + zstar * se\n",
    "\n",
    "(lcb, ucb)\n",
    "'''\n",
    "\n",
    "# Diference between proportions\n",
    "d = prop_male_smoke - prop_female_smoke   \n",
    "\n",
    "# Boundaries\n",
    "lcb_diff = d - 1.96 * se_diff\n",
    "ucb_diff = d + 1.96 * se_diff\n",
    "\n",
    "print('95% C.I. for proportion female smokers:',(lcb_diff, ucb_diff))"
   ]
  },
  {
   "cell_type": "markdown",
   "metadata": {},
   "source": [
    "__Q1c.__ Comment on any ways in which the confidence intervals that you found in part b reinforce, contradict, or add support to the hypothesis test conducted in part a."
   ]
  },
  {
   "cell_type": "markdown",
   "metadata": {},
   "source": [
    "**Answer.** The confidence intervals support our conclusion that the the proportion of males who smoke is significant from the proportion of females who smoke. The confidence interval for the proportion of males who smoke does not overlap with the proportion of females who smoke. The confidence interval for the difference between the two proportions does not include zero."
   ]
  },
  {
   "cell_type": "markdown",
   "metadata": {},
   "source": [
    "## Question 2\n",
    "\n",
    "Partition the population into two groups based on whether a person has graduated college or not, using the educational attainment variable [DMDEDUC2](https://wwwn.cdc.gov/Nchs/Nhanes/2015-2016/DEMO_I.htm#DMDEDUC2).  Then conduct a test of the null hypothesis that the average heights (in centimeters) of the two groups are equal.  Next, convert the heights from centimeters to inches, and conduct a test of the null hypothesis that the average heights (in inches) of the two groups are equal."
   ]
  },
  {
   "cell_type": "code",
   "execution_count": 11,
   "metadata": {},
   "outputs": [],
   "source": [
    "# Partition the population into two groups based on whether a person has graduated college or not.\n",
    "\n",
    "graduated_height_cm = da[da['DMDEDUC2']==5]['BMXHT']\n",
    "graduated_height_cm = graduated_height_cm[~graduated_height_cm.isna()]\n",
    "graduated_height_cm.reset_index(inplace=True, drop=True)\n",
    "\n",
    "not_graduated_height_cm = da[da['DMDEDUC2']!=5]['BMXHT']\n",
    "not_graduated_height_cm = not_graduated_height_cm[~not_graduated_height_cm.isna()]\n",
    "not_graduated_height_cm.reset_index(inplace=True, drop=True)"
   ]
  },
  {
   "cell_type": "code",
   "execution_count": 12,
   "metadata": {},
   "outputs": [
    {
     "name": "stdout",
     "output_type": "stream",
     "text": [
      "----- Sample Sizes -----\n",
      "n_graduated_height_cm: 1355\n",
      "n_not_graduated_height_cm: 4318\n",
      "\n",
      "----- Means -----\n",
      "graduated_mean_height_cm: 167.86\n",
      "not_graduated_mean_height_cm: 165.61\n",
      "\n",
      "----- Standard Deviations -----\n",
      "graduated_std_height_cm: 9.71\n",
      "not_graduated_std_height_cm: 10.14\n"
     ]
    }
   ],
   "source": [
    "# Sample Sizes\n",
    "\n",
    "n_graduated_height_cm = len(graduated_height_cm)\n",
    "n_not_graduated_height_cm = len(not_graduated_height_cm)\n",
    "\n",
    "# Means\n",
    "\n",
    "graduated_mean_height_cm = graduated_height_cm.mean()\n",
    "not_graduated_mean_height_cm = not_graduated_height_cm.mean()\n",
    "\n",
    "# Standard Deviations\n",
    "\n",
    "graduated_std_height_cm = graduated_height_cm.std()\n",
    "not_graduated_std_height_cm = not_graduated_height_cm.std()\n",
    "\n",
    "\n",
    "print('----- Sample Sizes -----')\n",
    "print(f'n_graduated_height_cm: {n_graduated_height_cm}')\n",
    "print(f'n_not_graduated_height_cm: {n_not_graduated_height_cm}')\n",
    "print()\n",
    "print('----- Means -----')\n",
    "print(f'graduated_mean_height_cm: {round(graduated_mean_height_cm,2)}')\n",
    "print(f'not_graduated_mean_height_cm: {round(not_graduated_mean_height_cm,2)}')\n",
    "print()\n",
    "print('----- Standard Deviations -----')\n",
    "print(f'graduated_std_height_cm: {round(graduated_std_height_cm,2)}')\n",
    "print(f'not_graduated_std_height_cm: {round(not_graduated_std_height_cm,2)}')"
   ]
  },
  {
   "cell_type": "code",
   "execution_count": 13,
   "metadata": {},
   "outputs": [
    {
     "name": "stdout",
     "output_type": "stream",
     "text": [
      "Z-statistic: 7.36\n",
      "P-value: 1.805613437347091e-13\n",
      "Alpha: 0.05\n",
      "\n",
      "(p-value < alpha): Reject Ho!\n"
     ]
    }
   ],
   "source": [
    "alpha = 0.05\n",
    "\n",
    "# Graduated\n",
    "n1 = 1355\n",
    "xbar1 = 167.86\n",
    "s1 = 9.71\n",
    "\n",
    "# Not Graduated\n",
    "n2 = 4318\n",
    "xbar2 = 165.61\n",
    "s2 = 10.14\n",
    "\n",
    "delta_mu = 0   # Ho\n",
    "\n",
    "z = ( (xbar1 - xbar2) - (delta_mu) )/ (np.sqrt( (s1**2/n1) + (s2**2/n2) ))\n",
    "\n",
    "p_value = 2 * norm.cdf(-z, 0, 1)     # We want the right side in normal distribution\n",
    "                                     # (2*) because is a 2 tail test\n",
    "\n",
    "print(\"Z-statistic:\", round(z,2))   \n",
    "print(\"P-value:\", p_value)\n",
    "print(\"Alpha:\", round(alpha,4))\n",
    "print()\n",
    "\n",
    "\n",
    "if p_value < alpha:    ### For All Analysis ###\n",
    "    print('(p-value < alpha): Reject Ho!')\n",
    "else:\n",
    "    print('(p-value > alpha): Fail to reject Ho.')"
   ]
  },
  {
   "cell_type": "code",
   "execution_count": 14,
   "metadata": {},
   "outputs": [
    {
     "name": "stdout",
     "output_type": "stream",
     "text": [
      "T-statistic: 7.2008\n",
      "\n",
      "P_value: 5.987537169067422e-13\n"
     ]
    }
   ],
   "source": [
    "# Check with module 'statsmodels.api'\n",
    "\n",
    "t_stat , p_value = sm.stats.ztest(x1 = graduated_height_cm, x2 = not_graduated_height_cm, alternative='two-sided')\n",
    "\n",
    "# If was a t-distribution,  t_stat, p_val= ss.ttest_ind(graduated_height_cm,not_graduated_height_cm) \n",
    "#                                   module: import scipy.stats as ss \n",
    "\n",
    "print(f'T-statistic: {round(t_stat,4)}')\n",
    "print()\n",
    "print(f'P_value: {p_value}')"
   ]
  },
  {
   "cell_type": "markdown",
   "metadata": {},
   "source": [
    "<img src=\"images/anotherway.jpg\"/>"
   ]
  },
  {
   "cell_type": "code",
   "execution_count": 15,
   "metadata": {},
   "outputs": [],
   "source": [
    "# The population into two groups in inches\n",
    "\n",
    "graduated_height_inches = graduated_height_cm / 2.54\n",
    "graduated_height_inches = graduated_height_inches[~graduated_height_inches.isna()]\n",
    "graduated_height_inches.reset_index(inplace=True, drop=True)\n",
    "\n",
    "not_graduated_height_inches = not_graduated_height_cm / 2.54\n",
    "not_graduated_height_inches = not_graduated_height_inches[~not_graduated_height_inches.isna()]\n",
    "not_graduated_height_inches.reset_index(inplace=True, drop=True)"
   ]
  },
  {
   "cell_type": "code",
   "execution_count": 16,
   "metadata": {},
   "outputs": [
    {
     "name": "stdout",
     "output_type": "stream",
     "text": [
      "----- Sample Sizes -----\n",
      "n_graduated_height_inches: 1355\n",
      "n_not_graduated_height_inches: 4318\n",
      "\n",
      "----- Means -----\n",
      "graduated_mean_height_inches: 66.08\n",
      "not_graduated_mean_height_inches: 65.2\n",
      "\n",
      "----- Standard Deviations -----\n",
      "graduated_std_height_inches: 3.82\n",
      "not_graduated_std_height_inches: 3.99\n"
     ]
    }
   ],
   "source": [
    "# Sample Sizes\n",
    "n_graduated_height_inches = len(graduated_height_inches)\n",
    "n_not_graduated_height_inches = len(not_graduated_height_inches)\n",
    "\n",
    "# Means\n",
    "graduated_mean_height_inches = graduated_height_inches.mean()\n",
    "not_graduated_mean_height_inches = not_graduated_height_inches.mean()\n",
    "\n",
    "# Standard Deviations\n",
    "graduated_std_height_inches = graduated_height_inches.std()\n",
    "not_graduated_std_height_inches = not_graduated_height_inches.std()\n",
    "\n",
    "\n",
    "print('----- Sample Sizes -----')\n",
    "print(f'n_graduated_height_inches: {n_graduated_height_inches}')\n",
    "print(f'n_not_graduated_height_inches: {n_not_graduated_height_inches}')\n",
    "print()\n",
    "print('----- Means -----')\n",
    "print(f'graduated_mean_height_inches: {round(graduated_mean_height_inches,2)}')\n",
    "print(f'not_graduated_mean_height_inches: {round(not_graduated_mean_height_inches,2)}')\n",
    "print()\n",
    "print('----- Standard Deviations -----')\n",
    "print(f'graduated_std_height_inches: {round(graduated_std_height_inches,2)}')\n",
    "print(f'not_graduated_std_height_inches: {round(not_graduated_std_height_inches,2)}')"
   ]
  },
  {
   "cell_type": "code",
   "execution_count": 17,
   "metadata": {},
   "outputs": [
    {
     "name": "stdout",
     "output_type": "stream",
     "text": [
      "Z-statistic: 7.32\n",
      "P-value: 2.497114762190614e-13\n",
      "Alpha: 0.05\n",
      "\n",
      "(p-value < alpha): Reject Ho!\n"
     ]
    }
   ],
   "source": [
    "alpha = 0.05\n",
    "\n",
    "# Graduated\n",
    "n1 = 1355\n",
    "xbar1 = 66.08\n",
    "s1 = 3.82\n",
    "\n",
    "# Not Graduated\n",
    "n2 = 4318\n",
    "xbar2 = 65.2\n",
    "s2 = 3.99\n",
    "\n",
    "delta_mu = 0   # Ho\n",
    "\n",
    "z = ( (xbar1 - xbar2) - (delta_mu) )/ (np.sqrt( (s1**2/n1) + (s2**2/n2) ))\n",
    "\n",
    "p_value = 2 * norm.cdf(-z, 0, 1)     # We want the right side in normal distribution\n",
    "                                     # (2*) because is a 2 tail test\n",
    "\n",
    "print(\"Z-statistic:\", round(z,2))   \n",
    "print(\"P-value:\", p_value)\n",
    "print(\"Alpha:\", round(alpha,4))\n",
    "print()\n",
    "\n",
    "\n",
    "if p_value < alpha:    ### For All Analysis ###\n",
    "    print('(p-value < alpha): Reject Ho!')\n",
    "else:\n",
    "    print('(p-value > alpha): Fail to reject Ho.')"
   ]
  },
  {
   "cell_type": "code",
   "execution_count": 18,
   "metadata": {},
   "outputs": [
    {
     "name": "stdout",
     "output_type": "stream",
     "text": [
      "T-statistic: 7.2008\n",
      "\n",
      "P_value: 5.987537169067249e-13\n"
     ]
    }
   ],
   "source": [
    "# Check with module 'statsmodels.api'\n",
    "\n",
    "t_stat , p_value = sm.stats.ztest(x1 = graduated_height_inches, x2 = not_graduated_height_inches, alternative='two-sided')\n",
    "\n",
    "# If was a t-distribution,  t_stat, p_val= ss.ttest_ind(graduated_height_cm,not_graduated_height_cm) \n",
    "#                                   module: import scipy.stats as ss \n",
    "\n",
    "print(f'T-statistic: {round(t_stat,4)}')\n",
    "print()\n",
    "print(f'P_value: {p_value}')"
   ]
  },
  {
   "cell_type": "markdown",
   "metadata": {},
   "source": [
    "__Q2a.__ Based on the analysis performed here, are you confident that people who graduated from college have a different average height compared to people who did not graduate from college?"
   ]
  },
  {
   "cell_type": "markdown",
   "metadata": {},
   "source": [
    "**Answer:** Yes, there is a different average height in these two groups.\n",
    "\n",
    "    Ho: avg height group1 == avg height group2\n",
    "    Ha: avg height group1 != avg height group2\n",
    "\n",
    "The p-value (5.987537169067249e-13) < Alpha (0.05, i.e. 95% Confidence), so we should *Reject the null hypothesis* in favor of the alternative one, there is a different average height in these two groups."
   ]
  },
  {
   "cell_type": "markdown",
   "metadata": {},
   "source": [
    "__Q2b:__ How do the results obtained using the heights expressed in inches compare to the results obtained using the heights expressed in centimeters?"
   ]
  },
  {
   "cell_type": "markdown",
   "metadata": {},
   "source": [
    "**Asnwer:** There is no difference, the only numerical difference was in the rounding."
   ]
  },
  {
   "cell_type": "markdown",
   "metadata": {},
   "source": [
    "## Question 3\n",
    "\n",
    "Conduct a hypothesis test of the null hypothesis that the average BMI for men between 30 and 40 is equal to the average BMI for men between 50 and 60.  Then carry out this test again after log transforming the BMI values."
   ]
  },
  {
   "cell_type": "code",
   "execution_count": 19,
   "metadata": {},
   "outputs": [],
   "source": [
    "# Ho: avg BMI 30_40 == avg BMI 50_60\n",
    "# Ha: avg BMI 30_40 != avg BMI 50_60"
   ]
  },
  {
   "cell_type": "code",
   "execution_count": 20,
   "metadata": {},
   "outputs": [],
   "source": [
    "# Population Men 30-40\n",
    "\n",
    "bmi_30_40 = da[(da['RIDAGEYR'] >= 30) & (da['RIDAGEYR'] <= 40)]\n",
    "bmi_30_40.reset_index(inplace=True, drop=True)\n",
    "\n",
    "bmi_men_30_40 = bmi_30_40[bmi_30_40['RIAGENDR']==1]['BMXBMI']\n",
    "bmi_men_30_40 = bmi_men_30_40[~bmi_men_30_40.isna()]\n",
    "bmi_men_30_40.reset_index(inplace=True, drop=True)\n",
    "\n",
    "\n",
    "# Population Men 50-60\n",
    "\n",
    "bmi_50_60 = da[(da['RIDAGEYR'] >= 50) & (da['RIDAGEYR'] <= 60)]\n",
    "bmi_50_60.reset_index(inplace=True, drop=True)\n",
    "\n",
    "bmi_men_50_60 = bmi_50_60[bmi_50_60['RIAGENDR']==1]['BMXBMI']\n",
    "bmi_men_50_60 = bmi_men_50_60[~bmi_men_50_60.isna()]\n",
    "bmi_men_50_60.reset_index(inplace=True, drop=True)"
   ]
  },
  {
   "cell_type": "code",
   "execution_count": 21,
   "metadata": {},
   "outputs": [
    {
     "name": "stdout",
     "output_type": "stream",
     "text": [
      "----- Sample Sizes -----\n",
      "n_bmi_men_30_40: 488\n",
      "n_bmi_men_50_60: 492\n",
      "\n",
      "----- Means -----\n",
      "mean_bmi_men_30_40: 29.61\n",
      "mean_bmi_men_50_60: 29.25\n",
      "\n",
      "----- Standard Deviations -----\n",
      "std_bmi_men_30_40: 6.66\n",
      "std_bmi_men_50_60: 6.0\n"
     ]
    }
   ],
   "source": [
    "# Sample Sizes\n",
    "n_bmi_men_30_40 = len(bmi_men_30_40)\n",
    "n_bmi_men_50_60 = len(bmi_men_50_60)\n",
    "\n",
    "# Means\n",
    "mean_bmi_men_30_40 = bmi_men_30_40.mean()\n",
    "mean_bmi_men_50_60 = bmi_men_50_60.mean()\n",
    "\n",
    "# Standard Deviations\n",
    "std_bmi_men_30_40 = bmi_men_30_40.std()\n",
    "std_bmi_men_50_60 = bmi_men_50_60.std()\n",
    "\n",
    "\n",
    "print('----- Sample Sizes -----')\n",
    "print(f'n_bmi_men_30_40: {n_bmi_men_30_40}')\n",
    "print(f'n_bmi_men_50_60: {n_bmi_men_50_60}')\n",
    "print()\n",
    "print('----- Means -----')\n",
    "print(f'mean_bmi_men_30_40: {round(mean_bmi_men_30_40,2)}')\n",
    "print(f'mean_bmi_men_50_60: {round(mean_bmi_men_50_60,2)}')\n",
    "print()\n",
    "print('----- Standard Deviations -----')\n",
    "print(f'std_bmi_men_30_40: {round(std_bmi_men_30_40,2)}')\n",
    "print(f'std_bmi_men_50_60: {round(std_bmi_men_50_60,2)}')"
   ]
  },
  {
   "cell_type": "code",
   "execution_count": 22,
   "metadata": {},
   "outputs": [
    {
     "name": "stdout",
     "output_type": "stream",
     "text": [
      "Z-statistic: 1.34\n",
      "P-value: 0.1790717967613804\n",
      "Alpha: 0.05\n",
      "\n",
      "(p-value > alpha): Fail to reject Ho.\n"
     ]
    }
   ],
   "source": [
    "alpha = 0.05\n",
    "\n",
    "# Men 30-40\n",
    "n1 = 446\n",
    "xbar1 = 29.77\n",
    "s1 = 6.83\n",
    "\n",
    "# Men 50-60\n",
    "n2 = 436\n",
    "xbar2 = 29.19\n",
    "s2 = 5.97\n",
    "\n",
    "delta_mu = 0   # Ho\n",
    "\n",
    "z = ( (xbar1 - xbar2) - (delta_mu) )/ (np.sqrt( (s1**2/n1) + (s2**2/n2) ))\n",
    "\n",
    "p_value = 2 * norm.cdf(-z, 0, 1)     # We want the right side in normal distribution\n",
    "                                     # (2*) because is a 2 tail test\n",
    "\n",
    "print(\"Z-statistic:\", round(z,2))   \n",
    "print(\"P-value:\", p_value)\n",
    "print(\"Alpha:\", round(alpha,4))\n",
    "print()\n",
    "\n",
    "\n",
    "if p_value < alpha:    ### For All Analysis ###\n",
    "    print('(p-value < alpha): Reject Ho!')\n",
    "else:\n",
    "    print('(p-value > alpha): Fail to reject Ho.')"
   ]
  },
  {
   "cell_type": "markdown",
   "metadata": {},
   "source": [
    "**Conclusion:** Id est, There is not difference in avg BMI in these two groups (men between 30-40 years and men between 50-60 years)."
   ]
  },
  {
   "cell_type": "code",
   "execution_count": 23,
   "metadata": {},
   "outputs": [
    {
     "name": "stdout",
     "output_type": "stream",
     "text": [
      "T-statistic: 0.9\n",
      "\n",
      "P_value: 0.36897190924214873\n"
     ]
    }
   ],
   "source": [
    "# Check with module 'statsmodels.api'\n",
    "\n",
    "t_stat , p_value = sm.stats.ztest(x1 = bmi_men_30_40, x2 = bmi_men_50_60, alternative='two-sided')\n",
    "\n",
    "# If was a t-distribution,  t_stat, p_val= ss.ttest_ind(graduated_height_cm,not_graduated_height_cm) \n",
    "#                                   module: import scipy.stats as ss \n",
    "\n",
    "print(f'T-statistic: {round(t_stat,2)}')\n",
    "print()\n",
    "print(f'P_value: {p_value}')"
   ]
  },
  {
   "cell_type": "code",
   "execution_count": 24,
   "metadata": {},
   "outputs": [
    {
     "name": "stdout",
     "output_type": "stream",
     "text": [
      "T-statistic: 0.71\n",
      "\n",
      "P_value: 0.4803222133688403\n"
     ]
    }
   ],
   "source": [
    "# test with log transforming the BMI values \n",
    "\n",
    "log_bmi_men_30_40 = np.log(bmi_men_30_40)\n",
    "log_bmi_men_50_60 = np.log(bmi_men_50_60)\n",
    "\n",
    "t_stat , p_value = sm.stats.ztest(x1 = log_bmi_men_30_40, x2 = log_bmi_men_50_60, alternative='two-sided')\n",
    "\n",
    "print(f'T-statistic: {round(t_stat,2)}')\n",
    "print()\n",
    "print(f'P_value: {p_value}')"
   ]
  },
  {
   "cell_type": "markdown",
   "metadata": {},
   "source": [
    "__Q3a.__ How would you characterize the evidence that mean BMI differs between these age bands, and how would you characterize the evidence that mean log BMI differs between these age bands?"
   ]
  },
  {
   "cell_type": "markdown",
   "metadata": {},
   "source": [
    "**Answer:** In both cases, p-value > alpha, so in both cases we 'Fail to reject Ho'. There is not difference in avg BMI in these two groups (men between 30-40 years and men between 50-60 years)."
   ]
  },
  {
   "cell_type": "markdown",
   "metadata": {},
   "source": [
    "## Question 4\n",
    "\n",
    "Suppose we wish to compare the mean BMI between college graduates and people who have not graduated from college, focusing on women between the ages of 30 and 40.  First, consider the variance of BMI within each of these subpopulations using graphical techniques, and through the estimated subpopulation variances.  Then, calculate pooled and unpooled estimates of the standard error for the difference between the mean BMI in the two populations being compared.  Finally, test the null hypothesis that the two population means are equal, using each of the two different standard errors."
   ]
  },
  {
   "cell_type": "code",
   "execution_count": 25,
   "metadata": {},
   "outputs": [],
   "source": [
    "# Ho: avg BMI women graduated == avg BMI women not graduated\n",
    "# Ha: avg BMI women graduated != avg BMI women not graduated"
   ]
  },
  {
   "cell_type": "code",
   "execution_count": 26,
   "metadata": {},
   "outputs": [],
   "source": [
    "# Population Women 30-40\n",
    "\n",
    "bmi_30_40 = da[(da['RIDAGEYR'] >= 30) & (da['RIDAGEYR'] <= 40)]   # People between 30-40 DataFrame\n",
    "bmi_30_40.reset_index(inplace=True, drop=True)\n",
    "\n",
    "bmi_women_30_40 = bmi_30_40[bmi_30_40['RIAGENDR']==2]             # Women between 30-40 DataFrame\n",
    "bmi_women_30_40 = bmi_women_30_40[~bmi_women_30_40.isna()]\n",
    "bmi_women_30_40.reset_index(inplace=True, drop=True)\n",
    "\n",
    "bmi_women_graduated = bmi_women_30_40[bmi_women_30_40['DMDEDUC2']==5]['BMXBMI'] # Women between 30-40 Graduated BMI\n",
    "bmi_women_graduated = bmi_women_graduated[~bmi_women_graduated.isna()]\n",
    "bmi_women_graduated.reset_index(inplace=True, drop=True)\n",
    "\n",
    "bmi_women_not_graduated = bmi_women_30_40[bmi_women_30_40['DMDEDUC2'].isin([1, 2, 3, 4])]['BMXBMI']  # Women between 30-40 \n",
    "bmi_women_not_graduated = bmi_women_not_graduated[~bmi_women_not_graduated.isna()]                   # Not Graduated BMI\n",
    "bmi_women_not_graduated.reset_index(inplace=True, drop=True)"
   ]
  },
  {
   "cell_type": "code",
   "execution_count": 27,
   "metadata": {},
   "outputs": [
    {
     "data": {
      "image/png": "[encoded data removed]",
      "text/plain": [
       "<Figure size 288x432 with 1 Axes>"
      ]
     },
     "metadata": {
      "needs_background": "light"
     },
     "output_type": "display_data"
    }
   ],
   "source": [
    "# Create a DataFrame with these two Series\n",
    "\n",
    "df = pd.DataFrame({'Graduated': bmi_women_graduated, 'Not_Graduated': bmi_women_not_graduated})\n",
    "\n",
    "\n",
    "# Make the Boxplot\n",
    "\n",
    "plt.figure(figsize=(4,6)) \n",
    "\n",
    "plt.title('BMI from Women between 30-40')\n",
    "\n",
    "sns.boxplot(data = df.loc[:,['Graduated','Not_Graduated']])\n",
    "\n",
    "plt.show()"
   ]
  },
  {
   "cell_type": "code",
   "execution_count": 28,
   "metadata": {},
   "outputs": [
    {
     "data": {
      "text/plain": [
       "<AxesSubplot:title={'center':'BMI from Women between 30-40'}, xlabel='BMI', ylabel='Count'>"
      ]
     },
     "execution_count": 28,
     "metadata": {},
     "output_type": "execute_result"
    },
    {
     "data": {
      "image/png": "[encoded data removed]",
      "text/plain": [
       "<Figure size 576x288 with 1 Axes>"
      ]
     },
     "metadata": {
      "needs_background": "light"
     },
     "output_type": "display_data"
    }
   ],
   "source": [
    "# Plot the Histogram for these two groups\n",
    "\n",
    "plt.figure(figsize=(8,4))\n",
    "\n",
    "plt.title('BMI from Women between 30-40')\n",
    "plt.xlabel('BMI')\n",
    "\n",
    "sns.histplot(df['Not_Graduated'],color='b')\n",
    "sns.histplot(df['Graduated'],color='r')"
   ]
  },
  {
   "cell_type": "code",
   "execution_count": 29,
   "metadata": {},
   "outputs": [
    {
     "data": {
      "text/html": [
       "<div>\n",
       "<style scoped>\n",
       "    .dataframe tbody tr th:only-of-type {\n",
       "        vertical-align: middle;\n",
       "    }\n",
       "\n",
       "    .dataframe tbody tr th {\n",
       "        vertical-align: top;\n",
       "    }\n",
       "\n",
       "    .dataframe thead th {\n",
       "        text-align: right;\n",
       "    }\n",
       "</style>\n",
       "<table border=\"1\" class=\"dataframe\">\n",
       "  <thead>\n",
       "    <tr style=\"text-align: right;\">\n",
       "      <th></th>\n",
       "      <th>Graduated</th>\n",
       "      <th>Not_Graduated</th>\n",
       "    </tr>\n",
       "  </thead>\n",
       "  <tbody>\n",
       "    <tr>\n",
       "      <th>count</th>\n",
       "      <td>171.000000</td>\n",
       "      <td>354.000000</td>\n",
       "    </tr>\n",
       "    <tr>\n",
       "      <th>mean</th>\n",
       "      <td>27.808187</td>\n",
       "      <td>31.257345</td>\n",
       "    </tr>\n",
       "    <tr>\n",
       "      <th>std</th>\n",
       "      <td>7.358264</td>\n",
       "      <td>8.256083</td>\n",
       "    </tr>\n",
       "    <tr>\n",
       "      <th>min</th>\n",
       "      <td>17.100000</td>\n",
       "      <td>16.600000</td>\n",
       "    </tr>\n",
       "    <tr>\n",
       "      <th>25%</th>\n",
       "      <td>22.750000</td>\n",
       "      <td>25.300000</td>\n",
       "    </tr>\n",
       "    <tr>\n",
       "      <th>50%</th>\n",
       "      <td>26.300000</td>\n",
       "      <td>29.500000</td>\n",
       "    </tr>\n",
       "    <tr>\n",
       "      <th>75%</th>\n",
       "      <td>31.150000</td>\n",
       "      <td>35.875000</td>\n",
       "    </tr>\n",
       "    <tr>\n",
       "      <th>max</th>\n",
       "      <td>62.700000</td>\n",
       "      <td>60.900000</td>\n",
       "    </tr>\n",
       "  </tbody>\n",
       "</table>\n",
       "</div>"
      ],
      "text/plain": [
       "        Graduated  Not_Graduated\n",
       "count  171.000000     354.000000\n",
       "mean    27.808187      31.257345\n",
       "std      7.358264       8.256083\n",
       "min     17.100000      16.600000\n",
       "25%     22.750000      25.300000\n",
       "50%     26.300000      29.500000\n",
       "75%     31.150000      35.875000\n",
       "max     62.700000      60.900000"
      ]
     },
     "execution_count": 29,
     "metadata": {},
     "output_type": "execute_result"
    }
   ],
   "source": [
    "# Summary\n",
    "\n",
    "df.describe()"
   ]
  },
  {
   "cell_type": "code",
   "execution_count": 30,
   "metadata": {},
   "outputs": [
    {
     "name": "stdout",
     "output_type": "stream",
     "text": [
      "----- Sample Sizes -----\n",
      "n_bmi_women_graduated: 171\n",
      "n_bmi_women_not_graduated: 354\n",
      "\n",
      "----- Means -----\n",
      "mean_bmi_women_graduate: 27.81\n",
      "mean_bmi_women_not_graduated: 31.26\n",
      "\n",
      "----- Standard Deviations -----\n",
      "std_bmi_women_graduated: 7.36\n",
      "std_bmi_women_not_graduated0: 8.26\n",
      "\n",
      "----- Variations -----\n",
      "var_bmi_women_graduated: 54.14\n",
      "var_bmi_women_not_graduated0: 68.16\n"
     ]
    }
   ],
   "source": [
    "# Sample Sizes\n",
    "n_bmi_women_graduated = len(bmi_women_graduated)\n",
    "n_bmi_women_not_graduated = len(bmi_women_not_graduated)\n",
    "\n",
    "# Means\n",
    "mean_bmi_women_graduated = bmi_women_graduated.mean()\n",
    "mean_bmi_women_not_graduated = bmi_women_not_graduated.mean()\n",
    "\n",
    "# Standard Deviations\n",
    "std_bmi_women_graduated = bmi_women_graduated.std()\n",
    "std_bmi_women_not_graduated = bmi_women_not_graduated.std()\n",
    "\n",
    "# Variations\n",
    "var_bmi_women_graduated = bmi_women_graduated.var()\n",
    "var_bmi_women_not_graduated = bmi_women_not_graduated.var()\n",
    "\n",
    "\n",
    "print('----- Sample Sizes -----')\n",
    "print(f'n_bmi_women_graduated: {n_bmi_women_graduated}')\n",
    "print(f'n_bmi_women_not_graduated: {n_bmi_women_not_graduated}')\n",
    "print()\n",
    "print('----- Means -----')\n",
    "print(f'mean_bmi_women_graduate: {round(mean_bmi_women_graduated,2)}')\n",
    "print(f'mean_bmi_women_not_graduated: {round(mean_bmi_women_not_graduated,2)}')\n",
    "print()\n",
    "print('----- Standard Deviations -----')\n",
    "print(f'std_bmi_women_graduated: {round(std_bmi_women_graduated,2)}')\n",
    "print(f'std_bmi_women_not_graduated0: {round(std_bmi_women_not_graduated,2)}')\n",
    "print()\n",
    "print('----- Variations -----')\n",
    "print(f'var_bmi_women_graduated: {round(var_bmi_women_graduated,2)}')\n",
    "print(f'var_bmi_women_not_graduated0: {round(var_bmi_women_not_graduated,2)}')"
   ]
  },
  {
   "cell_type": "code",
   "execution_count": 31,
   "metadata": {},
   "outputs": [
    {
     "data": {
      "text/plain": [
       "0.20569248826291076"
      ]
     },
     "execution_count": 31,
     "metadata": {},
     "output_type": "execute_result"
    }
   ],
   "source": [
    "# Let's see how much is the difference between the variances \n",
    "(68.16-54.14)/68.16"
   ]
  },
  {
   "cell_type": "markdown",
   "metadata": {},
   "source": [
    "Because the populations variance is not equal (differ by 20%) we know that they are **not Pooled!**. But the exercise ask for the two analysis."
   ]
  },
  {
   "cell_type": "markdown",
   "metadata": {},
   "source": [
    "### Not Pooled - Assume that populations variances are not equal"
   ]
  },
  {
   "cell_type": "code",
   "execution_count": 32,
   "metadata": {},
   "outputs": [
    {
     "name": "stdout",
     "output_type": "stream",
     "text": [
      "Z-statistic: -4.83\n",
      "P-value: 1.3431058492052728e-06\n",
      "Alpha: 0.05\n",
      "\n",
      "(p-value < alpha): Reject Ho!\n"
     ]
    }
   ],
   "source": [
    "# NOT POOLED - Assume that populations not equal\n",
    "\n",
    "alpha = 0.05\n",
    "\n",
    "# Graduated\n",
    "n1 = 171\n",
    "xbar1 = 27.81\n",
    "s1 = 7.36\n",
    "\n",
    "# Not Graduated\n",
    "n2 = 354\n",
    "xbar2 = 31.26\n",
    "s2 = 8.26\n",
    "\n",
    "delta_mu = 0   # Ho\n",
    "\n",
    "z = ( (xbar1 - xbar2) - (delta_mu) )/ (np.sqrt( (s1**2/n1) + (s2**2/n2) ))\n",
    "\n",
    "p_value = 2 * (1 - norm.cdf(abs(z)))     # We want the right side in normal distribution\n",
    "                                         # (2*) because is a 2 tail test\n",
    "\n",
    "print(\"Z-statistic:\", round(z,2))   \n",
    "print(\"P-value:\", p_value)\n",
    "print(\"Alpha:\", round(alpha,4))\n",
    "print()\n",
    "\n",
    "\n",
    "if p_value < alpha:    ### For All Analysis ###\n",
    "    print('(p-value < alpha): Reject Ho!')\n",
    "else:\n",
    "    print('(p-value > alpha): Fail to reject Ho.')"
   ]
  },
  {
   "cell_type": "markdown",
   "metadata": {},
   "source": [
    "### Pooled - Assume that variances of the 2 populations assumed equal"
   ]
  },
  {
   "cell_type": "code",
   "execution_count": 33,
   "metadata": {},
   "outputs": [
    {
     "name": "stdout",
     "output_type": "stream",
     "text": [
      "Z-statistic: -4.64\n",
      "P-value: 3.431431787381811e-06\n",
      "Alpha: 0.05\n",
      "\n",
      "(p-value < alpha): Reject Ho!\n"
     ]
    }
   ],
   "source": [
    "# POOLED - Assume that variances of the 2 populations assumed equal\n",
    "\n",
    "alpha = 0.05\n",
    "\n",
    "# Graduated\n",
    "n1 = 171\n",
    "xbar1 = 27.81\n",
    "s1 = 7.36\n",
    "\n",
    "# Not Graduated\n",
    "n2 = 354\n",
    "xbar2 = 31.26\n",
    "s2 = 8.26\n",
    "\n",
    "delta_mu = 0   # Ho\n",
    "\n",
    "z = ( (xbar1 - xbar2) - (delta_mu) )/ (np.sqrt((((n1-1)*s1**2) + ((n2-1)*s2**2))/(n1+n2-2)) * np.sqrt((1/n1)+(1/n2)))\n",
    "\n",
    "p_value = 2 * (1 - norm.cdf(abs(z)))     # (2*) because is a 2 tail test\n",
    "                                        \n",
    "\n",
    "print(\"Z-statistic:\", round(z,2))   \n",
    "print(\"P-value:\", p_value)\n",
    "print(\"Alpha:\", round(alpha,4))\n",
    "print()\n",
    "\n",
    "\n",
    "if p_value < alpha:    ### For All Analysis ###\n",
    "    print('(p-value < alpha): Reject Ho!')\n",
    "else:\n",
    "    print('(p-value > alpha): Fail to reject Ho.')"
   ]
  },
  {
   "cell_type": "code",
   "execution_count": 34,
   "metadata": {},
   "outputs": [
    {
     "name": "stdout",
     "output_type": "stream",
     "text": [
      "--- Not-Pooled ---\n",
      "T-statistic: -4.83\n",
      "P_value: 1.3404386169203498e-06\n",
      "\n",
      "--- Pooled ---\n",
      "T-statistic: -4.64\n",
      "P_value: 3.4187910067116123e-06\n"
     ]
    }
   ],
   "source": [
    "# Check\n",
    "\n",
    "Dbmi_women_graduated = sm.stats.DescrStatsW(bmi_women_graduated)\n",
    "Dbmi_women_not_graduated = sm.stats.DescrStatsW(bmi_women_not_graduated)\n",
    "\n",
    "ntstat, npvalue = sm.stats.CompareMeans(Dbmi_women_graduated, Dbmi_women_not_graduated).ztest_ind(usevar='unequal')\n",
    "ptstat, ppvalue = sm.stats.CompareMeans(Dbmi_women_graduated, Dbmi_women_not_graduated).ztest_ind(usevar='pooled')\n",
    "\n",
    "print('--- Not-Pooled ---')\n",
    "print(f'T-statistic: {round(ntstat,2)}')\n",
    "print(f'P_value: {npvalue}')\n",
    "print()\n",
    "print('--- Pooled ---')\n",
    "print(f'T-statistic: {round(ptstat,2)}')\n",
    "print(f'P_value: {ppvalue}')"
   ]
  },
  {
   "cell_type": "markdown",
   "metadata": {},
   "source": [
    "__Q4a.__ Comment on the strength of evidence against the null hypothesis that these two populations have equal mean BMI."
   ]
  },
  {
   "cell_type": "markdown",
   "metadata": {},
   "source": [
    "**Answer:** In both cases, p-value < alpha (0.05), this means that we need to \"Reject Ho!\", so Ha is correct:\n",
    "\n",
    "    avg BMI women graduated != avg BMI women not graduated"
   ]
  },
  {
   "cell_type": "markdown",
   "metadata": {},
   "source": [
    "__Q4b.__ Comment on the degree to which the two populations have different variances, and on the extent to which the results using different approaches to estimating the standard error of the mean difference give divergent results."
   ]
  },
  {
   "cell_type": "markdown",
   "metadata": {},
   "source": [
    "**Answer:** As mentioned earlier, because the variance in these populations are not equal (20%), the error considered must be the **Not Pooled** error. There means that p-value area are the smaller one, further reinforcing our conclusion."
   ]
  },
  {
   "cell_type": "markdown",
   "metadata": {},
   "source": [
    "## Question 5\n",
    "\n",
    "Conduct a test of the null hypothesis that the first and second diastolic blood pressure measurements within a subject have the same mean values."
   ]
  },
  {
   "cell_type": "code",
   "execution_count": 35,
   "metadata": {},
   "outputs": [],
   "source": [
    "# Ho: mu firstDBP == mu secondDBP\n",
    "# Ha: mu firstDBP != mu secondDBP\n",
    "\n",
    "dx = da[['BPXDI1', 'BPXDI2']].dropna()\n",
    "\n",
    "firDBP = dx['BPXDI1']\n",
    "secDBP = dx['BPXDI2']"
   ]
  },
  {
   "cell_type": "code",
   "execution_count": 36,
   "metadata": {},
   "outputs": [
    {
     "name": "stdout",
     "output_type": "stream",
     "text": [
      "----- Sample Sizes -----\n",
      "n_firDBP: 5369\n",
      "n_secDBP: 5369\n",
      "\n",
      "----- Means -----\n",
      "mean_firDBP: 69.51\n",
      "mean_secDBP: 69.17\n",
      "\n",
      "----- Standard Deviations -----\n",
      "std_firDBP: 12.85\n",
      "std_secDBP: 12.88\n"
     ]
    }
   ],
   "source": [
    "# Sample Sizes\n",
    "n_firDBP = len(firDBP)\n",
    "n_secDBP = len(secDBP)\n",
    "\n",
    "# Means\n",
    "mean_firDBP = firDBP.mean()\n",
    "mean_secDBP = secDBP.mean()\n",
    "\n",
    "# Standard Deviations\n",
    "std_firDBP = firDBP.std()\n",
    "std_secDBP = secDBP.std()\n",
    "\n",
    "\n",
    "print('----- Sample Sizes -----')\n",
    "print(f'n_firDBP: {n_firDBP}')\n",
    "print(f'n_secDBP: {n_secDBP}')\n",
    "print()\n",
    "print('----- Means -----')\n",
    "print(f'mean_firDBP: {round(mean_firDBP,2)}')\n",
    "print(f'mean_secDBP: {round(mean_secDBP,2)}')\n",
    "print()\n",
    "print('----- Standard Deviations -----')\n",
    "print(f'std_firDBP: {round(std_firDBP,2)}')\n",
    "print(f'std_secDBP: {round(std_secDBP,2)}')"
   ]
  },
  {
   "cell_type": "code",
   "execution_count": 37,
   "metadata": {},
   "outputs": [
    {
     "name": "stdout",
     "output_type": "stream",
     "text": [
      "Z-statistic: 1.37\n",
      "P-value: 0.17090361932452391\n",
      "Alpha: 0.05\n",
      "\n",
      "(p-value > alpha): Fail to reject Ho.\n"
     ]
    }
   ],
   "source": [
    "# POOLED - Assume that variances of the 2 populations assumed equal\n",
    "\n",
    "alpha = 0.05\n",
    "\n",
    "# Graduated\n",
    "n1 = 5369\n",
    "xbar1 = 69.51\n",
    "s1 = 12.85\n",
    "\n",
    "# Not Graduated\n",
    "n2 = 5369\n",
    "xbar2 = 69.17\n",
    "s2 = 12.88\n",
    "\n",
    "delta_mu = 0   # Ho\n",
    "\n",
    "z = ( (xbar1 - xbar2) - (delta_mu) )/ (np.sqrt((((n1-1)*s1**2) + ((n2-1)*s2**2))/(n1+n2-2)) * np.sqrt((1/n1)+(1/n2)))\n",
    "\n",
    "p_value = 2 * (1 - norm.cdf(abs(z)))     # (2*) because is a 2 tail test\n",
    "                                         \n",
    "\n",
    "print(\"Z-statistic:\", round(z,2))   \n",
    "print(\"P-value:\", p_value)\n",
    "print(\"Alpha:\", round(alpha,4))\n",
    "print()\n",
    "\n",
    "\n",
    "if p_value < alpha:    ### For All Analysis ###\n",
    "    print('(p-value < alpha): Reject Ho!')\n",
    "else:\n",
    "    print('(p-value > alpha): Fail to reject Ho.')"
   ]
  },
  {
   "cell_type": "code",
   "execution_count": 38,
   "metadata": {},
   "outputs": [
    {
     "name": "stdout",
     "output_type": "stream",
     "text": [
      "T-statistic: 1.4058\n",
      "\n",
      "P_value: 0.15978769381769953\n"
     ]
    }
   ],
   "source": [
    "# Check with module 'statsmodels.api' - Pooled\n",
    "\n",
    "t_stat , p_value = sm.stats.ztest(x1 = firDBP, x2 = secDBP, alternative='two-sided') # Always Pooled\n",
    "\n",
    "print(f'T-statistic: {round(t_stat,4)}')\n",
    "print()\n",
    "print(f'P_value: {p_value}')"
   ]
  },
  {
   "cell_type": "markdown",
   "metadata": {},
   "source": [
    "__Q5a.__ Briefly describe your findings for an audience that is not familiar with statistical hypothesis testing."
   ]
  },
  {
   "cell_type": "markdown",
   "metadata": {},
   "source": [
    "**Answer:** By distribution, we can statistically assess that both groups have the same means values."
   ]
  },
  {
   "cell_type": "markdown",
   "metadata": {},
   "source": [
    "__Q5b.__ Pretend that the first and second diastolic blood pressure measurements were taken on different people.  Modfify the analysis above as appropriate for this setting."
   ]
  },
  {
   "cell_type": "code",
   "execution_count": 39,
   "metadata": {},
   "outputs": [
    {
     "name": "stdout",
     "output_type": "stream",
     "text": [
      "Z-statistic: 1.37\n",
      "P-value: 0.17090361932452391\n",
      "Alpha: 0.05\n",
      "\n",
      "(p-value > alpha): Fail to reject Ho.\n"
     ]
    }
   ],
   "source": [
    "# Not-Pooled - populations variance not equal\n",
    "\n",
    "alpha = 0.05\n",
    "\n",
    "# Graduated\n",
    "n1 = 5369\n",
    "xbar1 = 69.51\n",
    "s1 = 12.85\n",
    "\n",
    "# Not Graduated\n",
    "n2 = 5369\n",
    "xbar2 = 69.17\n",
    "s2 = 12.88\n",
    "\n",
    "delta_mu = 0   # Ho\n",
    "\n",
    "z = ( (xbar1 - xbar2) - (delta_mu) )/ (np.sqrt( (s1**2/n1) + (s2**2/n2) ))\n",
    "\n",
    "p_value = 2 * (1 - norm.cdf(abs(z)))     # (2*) because is a 2 tail test\n",
    "                                         \n",
    "\n",
    "print(\"Z-statistic:\", round(z,2))   \n",
    "print(\"P-value:\", p_value)\n",
    "print(\"Alpha:\", round(alpha,4))\n",
    "print()\n",
    "\n",
    "\n",
    "if p_value < alpha:    ### For All Analysis ###\n",
    "    print('(p-value < alpha): Reject Ho!')\n",
    "else:\n",
    "    print('(p-value > alpha): Fail to reject Ho.')"
   ]
  },
  {
   "cell_type": "code",
   "execution_count": 40,
   "metadata": {},
   "outputs": [
    {
     "name": "stdout",
     "output_type": "stream",
     "text": [
      "--- Not-Pooled ---\n",
      "T-statistic: 1.41\n",
      "P_value: 0.15978769381769975\n"
     ]
    }
   ],
   "source": [
    "# Check - Not Pooled (unequal)\n",
    "\n",
    "DfirDBP = sm.stats.DescrStatsW(firDBP)\n",
    "DsecDBP = sm.stats.DescrStatsW(secDBP)\n",
    "\n",
    "ntstat, npvalue = sm.stats.CompareMeans(DfirDBP, DsecDBP).ztest_ind(usevar='unequal')\n",
    "\n",
    "print('--- Not-Pooled ---')\n",
    "print(f'T-statistic: {round(ntstat,2)}')\n",
    "print(f'P_value: {npvalue}')"
   ]
  },
  {
   "cell_type": "markdown",
   "metadata": {},
   "source": [
    "__Q5c.__ Briefly describe how the approaches used and the results obtained in the preceeding two parts of the question differ."
   ]
  },
  {
   "cell_type": "markdown",
   "metadata": {},
   "source": [
    "**Answer:** The big difference is that for the same population, we have the same variance, and therefore *pooled*. With different people, we have can assume that they have different variances, *not pooled*)."
   ]
  }
 ],
 "metadata": {
  "kernelspec": {
   "display_name": "Python 3",
   "language": "python",
   "name": "python3"
  },
  "language_info": {
   "codemirror_mode": {
    "name": "ipython",
    "version": 3
   },
   "file_extension": ".py",
   "mimetype": "text/x-python",
   "name": "python",
   "nbconvert_exporter": "python",
   "pygments_lexer": "ipython3",
   "version": "3.8.5"
  }
 },
 "nbformat": 4,
 "nbformat_minor": 4
}
