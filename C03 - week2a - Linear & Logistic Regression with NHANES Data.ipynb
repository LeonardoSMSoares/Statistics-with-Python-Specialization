{
 "cells": [
  {
   "cell_type": "markdown",
   "metadata": {},
   "source": [
    "<img src=\"images/relacaoR2.jpg\"/>"
   ]
  },
  {
   "cell_type": "markdown",
   "metadata": {},
   "source": [
    "# Linear and Logistic Regression Modeling, a Case Study with the NHANES Data"
   ]
  },
  {
   "cell_type": "markdown",
   "metadata": {},
   "source": [
    "This notebook introduces two statistical modeling techniques: linear\n",
    "regression and logistic regression.  The focus here will be on fitting\n",
    "these two types of models to data, using Python statistical modeling\n",
    "libraries in the Jupyter notebook environment.  As with several previous\n",
    "case studies in this course, here we will be analyzing the\n",
    "[NHANES](https://www.cdc.gov/nchs/nhanes/index.htm) data, allowing us\n",
    "to illustrate the use of these two regression methods for addressing\n",
    "meaningful questions with actual data.\n",
    "\n",
    "Note that the NHANES data were collected as a designed survey, and in\n",
    "general should be analyzed as such.  This means that survey design\n",
    "information such as weights, strata, and clusters should be accounted\n",
    "for in any analysis using NHANES.  But to introduce how linear and\n",
    "logistic regression are used with independent data samples, or with convenience\n",
    "samples, we will not incorporate the survey structure of the NHANES sample\n",
    "into the analyses conducted here.\n",
    "\n",
    "As with our previous work, we will be using the\n",
    "[Pandas](http://pandas.pydata.org) library for data management, the\n",
    "[Numpy](http://www.numpy.org) library for numerical calculations, and\n",
    "the [Statsmodels](http://www.statsmodels.org) library for statistical\n",
    "modeling.\n",
    "\n",
    "We begin by importing the libraries that we will be using."
   ]
  },
  {
   "cell_type": "code",
   "execution_count": null,
   "metadata": {},
   "outputs": [],
   "source": [
    "%matplotlib inline\n",
    "import matplotlib.pyplot as plt\n",
    "import seaborn as sns\n",
    "import pandas as pd\n",
    "import statsmodels.api as sm\n",
    "import numpy as np\n",
    "\n",
    "import warnings\n",
    "warnings.filterwarnings('ignore')"
   ]
  },
  {
   "cell_type": "markdown",
   "metadata": {},
   "source": [
    "Next we will load the data.  The NHANES study encompasses multiple\n",
    "waves of data collection.  Here we will only use the\n",
    "2015-2016 data.  As with most data sets, there are some missing values\n",
    "in the NHANES files.  While many of the methods demonstrated below would handle\n",
    "missing values automatically (at least in a crude way), here we drop\n",
    "up-front all rows with missing values in any of the key variables that\n",
    "we will use in this notebook."
   ]
  },
  {
   "cell_type": "code",
   "execution_count": null,
   "metadata": {},
   "outputs": [],
   "source": [
    "# Read the 2015-2016 wave of NHANES data\n",
    "da = pd.read_csv(\"data/nhanes_2015_2016.csv\")"
   ]
  },
  {
   "cell_type": "code",
   "execution_count": null,
   "metadata": {},
   "outputs": [],
   "source": [
    "# Drop unused columns, and drop rows with any missing values.\n",
    "vars = [\"BPXSY1\", \"RIDAGEYR\", \"RIAGENDR\", \"RIDRETH1\", \"DMDEDUC2\", \"BMXBMI\",\n",
    "        \"SMQ020\"]\n",
    "\n",
    "da = da[vars].dropna()"
   ]
  },
  {
   "cell_type": "markdown",
   "metadata": {},
   "source": [
    "## Linear Regression\n",
    "\n",
    "We will focus initially on regression models in which systolic [blood\n",
    "pressure](https://en.wikipedia.org/wiki/Blood_pressure) (SBP)\n",
    "is the outcome (dependent) variable.  That is, we will\n",
    "predict SBP from other variables.  SBP is an important indicator of\n",
    "cardiovascular health.  It tends to increase with age, is greater for\n",
    "overweight people (i.e. people with greater body mass index or BMI),\n",
    "and also differs among demographic groups, for example among gender\n",
    "and ethnic groups.\n",
    "\n",
    "Since SBP is a quantitative variable, we will model it using linear\n",
    "regression.  Linear regression is the most widely-utilized form of\n",
    "statistical regression.  While linear regression is commonly used with\n",
    "quantitative outcome variables, it is not the only type of regression\n",
    "model that can be used with quantitative outcomes, nor is it the case\n",
    "that linear regression can only be used with quantitative outcomes.\n",
    "However, linear regression is a good default starting point for any\n",
    "regression analysis using a quantitative outcome variable.\n",
    "\n",
    "### Interpreting regression parameters in a basic model\n",
    "\n",
    "We start with a simple linear regression model with only one\n",
    "covariate, age, predicting SBP.  In the NHANES data, the variable\n",
    "[BPXSY1](https://wwwn.cdc.gov/Nchs/Nhanes/2015-2016/BPX_I.htm#BPXSY1)\n",
    "contains the first recorded measurement of SBP for a subject, and\n",
    "[RIDAGEYR](https://wwwn.cdc.gov/Nchs/Nhanes/2015-2016/DEMO_I.htm#RIDAGEYR)\n",
    "is the subject's age in years.  The model that is fit in the next cell\n",
    "expresses the expected SBP as a linear function of age:"
   ]
  },
  {
   "cell_type": "code",
   "execution_count": null,
   "metadata": {},
   "outputs": [],
   "source": [
    "model = sm.OLS.from_formula(\"BPXSY1 ~ RIDAGEYR\", data=da)\n",
    "result = model.fit()\n",
    "result.summary()"
   ]
  },
  {
   "cell_type": "markdown",
   "metadata": {},
   "source": [
    "Much of the output above is not relevant for us, so focus on\n",
    "the center section of the output where the header begins with\n",
    "__coef__.  This section contains the estimated\n",
    "values of the parameters of the regression model, their standard\n",
    "errors, and other values that are used to quantify the uncertainty\n",
    "in the regression parameter estimates.  Note that the parameters\n",
    "of a regression model, which appear in the column labeled\n",
    "__coef__ in the table above,\n",
    "may also be referred to as *slopes* or *effects*.\n",
    "\n",
    "This fitted model implies that when\n",
    "comparing two people whose ages differ by one year, the older person\n",
    "will on average have 0.48 units higher SBP than the younger person.\n",
    "This difference is statistically significant, based on the p-value\n",
    "shown under the column labeled __`P>|t|`__.  This means that there\n",
    "is strong evidence that there is a real association between between systolic blood\n",
    "pressure and age in this population.\n",
    "\n",
    "SBP is measured in units of *millimeters of mercury*, expressed\n",
    "*mm/Hg*.  In order to better understand the meaning of the estimated\n",
    "regression parameter 0.48, we can look at the standard deviation of SBP:"
   ]
  },
  {
   "cell_type": "code",
   "execution_count": null,
   "metadata": {},
   "outputs": [],
   "source": [
    "da.BPXSY1.std()"
   ]
  },
  {
   "cell_type": "markdown",
   "metadata": {},
   "source": [
    "The standard deviation of around 18.5 is large compared to the\n",
    "regression slope of 0.48.  However the regression slope corresponds to\n",
    "the average change in SBP for a single year of age, and this effect\n",
    "accumulates with age.  Comparing a 40 year-old person to a 60 year-old\n",
    "person, there is a 20 year difference in age, which translates into a\n",
    "`20 * 0.48 = 9.6` unit difference in average SBP between these two\n",
    "people.  This difference is around half of one standard deviation, and\n",
    "would generally be considered to be an important and meaningful shift.\n",
    "\n",
    "### R-squared and correlation\n",
    "\n",
    "In the case of regression with a\n",
    "single independent variable, as we have here, there is a very close\n",
    "correspondence between the regression analysis and a Pearson\n",
    "correlation analysis, which we have discussed earlier in course 2.\n",
    "The primary summary statistic for assessing the strength of a\n",
    "predictive relationship in a regression model is the *R-squared*, which is\n",
    "shown to be 0.207 in the regression output above.  This means that 21%\n",
    "of the variation in SBP is explained by age.  Note that this value is\n",
    "exactly the same as the squared Pearson correlation coefficient\n",
    "between SBP and age, as shown below."
   ]
  },
  {
   "cell_type": "code",
   "execution_count": null,
   "metadata": {},
   "outputs": [],
   "source": [
    "cc = da[[\"BPXSY1\", \"RIDAGEYR\"]].corr()\n",
    "\n",
    "print(cc.BPXSY1.RIDAGEYR**2)"
   ]
  },
  {
   "cell_type": "code",
   "execution_count": null,
   "metadata": {},
   "outputs": [],
   "source": [
    "cc"
   ]
  },
  {
   "cell_type": "code",
   "execution_count": null,
   "metadata": {},
   "outputs": [],
   "source": [
    "0.455142**2"
   ]
  },
  {
   "cell_type": "markdown",
   "metadata": {},
   "source": [
    "There is a second way to interpret the R-squared, which makes use\n",
    "of the *fitted values* of the regression.  The fitted values are\n",
    "predictions of the blood pressure for each person in the data\n",
    "set, based on their covariate values.  In this case, the only\n",
    "covariate is age, so we are predicting each NHANES subject's\n",
    "blood pressure as a function of their age.  If we calculate\n",
    "the Pearson correlation coefficient between the fitted values\n",
    "from the regression, and the actual SBP values, and then square\n",
    "this correlation coefficient, we see\n",
    "that we also get the R-squared from the regression:"
   ]
  },
  {
   "cell_type": "code",
   "execution_count": null,
   "metadata": {},
   "outputs": [],
   "source": [
    "cc2 = np.corrcoef(da.BPXSY1, result.fittedvalues)\n",
    "\n",
    "print(cc2[0, 1]**2)"
   ]
  },
  {
   "cell_type": "code",
   "execution_count": null,
   "metadata": {},
   "outputs": [],
   "source": [
    "cc2"
   ]
  },
  {
   "cell_type": "markdown",
   "metadata": {},
   "source": [
    "Thus, we see that in a linear model fit with only one covariate,\n",
    "the regression R-squared is equal to the squared Pearson\n",
    "correlation between the covariate and the outcome, and is also\n",
    "equal to the squared Pearson correlation between the fitted\n",
    "values and the outcome.\n",
    "\n",
    "### Adding a second variable\n",
    "\n",
    "Above we considered a simple linear regression analysis with only one\n",
    "covariate (age) predicting systolic blood pressure (SBP).  The real\n",
    "power of regression analysis arises when we have more than one\n",
    "covariate predicting an outcome.  As noted above, SBP is expected to\n",
    "be related to gender as well as to age, so we next add gender to the\n",
    "model.  The NHANES variable for gender is named\n",
    "[RIAGENDR](https://wwwn.cdc.gov/Nchs/Nhanes/2015-2016/DEMO_I.htm#RIAGENDR)\n",
    "\n",
    "We begin by creating a relabeled version of the gender variable:"
   ]
  },
  {
   "cell_type": "code",
   "execution_count": null,
   "metadata": {},
   "outputs": [],
   "source": [
    "# Create a labeled version of the gender variable\n",
    "da[\"RIAGENDRx\"] = da.RIAGENDR.replace({1: \"Male\", 2: \"Female\"})"
   ]
  },
  {
   "cell_type": "markdown",
   "metadata": {},
   "source": [
    "Now we are ready to fit the linear model:"
   ]
  },
  {
   "cell_type": "code",
   "execution_count": null,
   "metadata": {},
   "outputs": [],
   "source": [
    "model2 = sm.OLS.from_formula(\"BPXSY1 ~ RIDAGEYR + RIAGENDRx\", data=da)\n",
    "result2 = model2.fit()\n",
    "result2.summary()"
   ]
  },
  {
   "cell_type": "markdown",
   "metadata": {},
   "source": [
    "The syntax `RIDAGEYR + RIAGENDRx` in the cell above does not mean\n",
    "that these two variables are literally added together.  Instead,\n",
    "it means that these variables are both included in the model as\n",
    "predictors of blood pressure (`BPXSY1`).\n",
    "\n",
    "The model that was fit above uses both age and gender to explain the\n",
    "variation in SBP.  It finds that two people with the same gender whose\n",
    "ages differ by one year tend to have blood pressure values differing\n",
    "by 0.47 units, which is essentially the same age parameter that we found above in\n",
    "the model based on age alone.  This model also shows us that comparing\n",
    "a man and a woman of the same age, the man will on average have 3.23 units\n",
    "greater SBP.\n",
    "\n",
    "It is very important to emphasize that the age coefficient of 0.47 is\n",
    "only meaningful when comparing two people of the same gender, and the\n",
    "gender coefficient of 3.23 is only meaningful when comparing two\n",
    "people of the same age.\n",
    "Moreover, these effects are additive, meaning that if we compare, say, a 50 year\n",
    "old man to a 40 year old woman, the man's blood pressure will on\n",
    "average be around 3.23 + 10*0.47 = 7.93 units higher, with the first\n",
    "term in this sum being attributable to gender, and the second term\n",
    "being attributable to age.\n",
    "\n",
    "We noted above that the regression coefficient for age did not change\n",
    "by much when we added gender to the model.  It is important to note\n",
    "however that in general, the estimated coefficient of a variable in a\n",
    "regression model will change when other variables are added or\n",
    "removed.  The only circumstance in which a regresion parameters is unchanged\n",
    "when other variables are added or removed from the model is when those\n",
    "variables are uncorrelated with the variables that remain in the model.\n",
    "\n",
    "Below we confirm that gender and age are nearly uncorrelated in this\n",
    "data set (the correlation of around -0.02 is negligible).  Thus, it is\n",
    "expected that when we add gender to the model, the age coefficient\n",
    "is unaffected."
   ]
  },
  {
   "cell_type": "code",
   "execution_count": null,
   "metadata": {},
   "outputs": [],
   "source": [
    "# We need to use the original, numerical version of the gender\n",
    "# variable to calculate the correlation coefficient.\n",
    "da[[\"RIDAGEYR\", \"RIAGENDR\"]].corr()"
   ]
  },
  {
   "cell_type": "markdown",
   "metadata": {},
   "source": [
    "Observe that in the regression output shown above, an R-squared value of 0.215 is\n",
    "listed.  Earlier we saw that for a model with only one covariate,\n",
    "the R-squared from the regression could be defined in two different\n",
    "ways, either as the squared correlation coefficient between the covariate and the outcome,\n",
    "or as the squared correlation coefficient between the fitted values and the outcome.\n",
    "When more than one covariate is in the model, only the second of these\n",
    "two definitions continues to hold:"
   ]
  },
  {
   "cell_type": "code",
   "execution_count": null,
   "metadata": {},
   "outputs": [],
   "source": [
    "cc3 = np.corrcoef(da.BPXSY1, result.fittedvalues)\n",
    "\n",
    "print(cc3[0, 1]**2)"
   ]
  },
  {
   "cell_type": "code",
   "execution_count": null,
   "metadata": {},
   "outputs": [],
   "source": [
    "cc3"
   ]
  },
  {
   "cell_type": "markdown",
   "metadata": {},
   "source": [
    "### Categorical variables and reference levels\n",
    "\n",
    "In the model fit above, gender is a categorical variable, and only a\n",
    "coefficient for males is included in the regression output (i.e. there\n",
    "is no coefficient for females in the tables above).  Whenever a categorical variable is\n",
    "used as a covariate in a regression model, one level of the variable\n",
    "is omitted and is automatically given a coefficient of zero.  This\n",
    "level is called the *reference level* of the covariate.  Here, the\n",
    "female level of the gender variable is the reference level.  This does\n",
    "not mean that being a woman has no impact on blood pressure.  It\n",
    "simply means that we have written the model so that female blood\n",
    "pressure is the default, and the coefficient for males (3.23) shifts\n",
    "the blood pressure by that amount for males only.\n",
    "\n",
    "We could alternatively have set 'male' to be the reference level, in\n",
    "which case males would be the default, and the female coefficient\n",
    "would have been around -3.23 (meaning that female blood pressure is\n",
    "3.23 units lower than the male blood pressure).\n",
    "\n",
    "When using a categorical variable as a predictor in a regression\n",
    "model, it is recoded into \"dummy variables\" (also known as \"indicator\n",
    "variables\").  A dummy variable for a single level, say `a`, of a\n",
    "variable `x`, is a variable that is equal to `1` when `x=a` and is\n",
    "equal to `0` when `x` is not equal to `a`.  These dummy variables are\n",
    "all included in the regression model, to represent the variable that they\n",
    "are derived from.\n",
    "\n",
    "Statsmodels, like most software, will automatically recode a\n",
    "categorical variable into dummy variables, and will select a reference\n",
    "level (it is possible to override this choice, but we do not cover that\n",
    "here).  When interpreting the regression output, the level that is\n",
    "omitted should be seen as having a coefficient of 0, with a standard\n",
    "error of 0.  It is important to note that the selection of a reference\n",
    "level is arbitrary and does not imply an assumption or constraint\n",
    "about the model, or about the population that it is intended to capture.\n",
    "\n",
    "### A model with three variables\n",
    "\n",
    "Next we add a third variable, body mass index (BMI), to the model predicting SBP.\n",
    "[BMI](https://en.wikipedia.org/wiki/Body_mass_index) is a measure that is used\n",
    "to assess if a person has healthy weight given their height.\n",
    "[BMXBMI](https://wwwn.cdc.gov/Nchs/Nhanes/2015-2016/BMX_I.htm#BMXBMI)\n",
    "is the NHANES variable containing the BMI value for each subject."
   ]
  },
  {
   "cell_type": "code",
   "execution_count": null,
   "metadata": {},
   "outputs": [],
   "source": [
    "model3 = sm.OLS.from_formula(\"BPXSY1 ~ RIDAGEYR + BMXBMI + RIAGENDRx\", data=da)\n",
    "result3 = model3.fit()\n",
    "result3.summary()"
   ]
  },
  {
   "cell_type": "markdown",
   "metadata": {},
   "source": [
    "Not surprisingly, BMI is positively associated with SBP.  Given two\n",
    "subjects with the same gender and age, and whose BMI differs by 1\n",
    "unit, the person with greater BMI will have, on average, 0.31 units\n",
    "greater systolic blood pressure (SBP).  Also note that after adding\n",
    "BMI to the model, the coefficient for gender became somewhat greater.\n",
    "This is due to the fact that the three covariates in the model, age,\n",
    "gender, and BMI, are mutually correlated, as shown next:"
   ]
  },
  {
   "cell_type": "code",
   "execution_count": null,
   "metadata": {},
   "outputs": [],
   "source": [
    "da[[\"RIDAGEYR\", \"RIAGENDR\", \"BMXBMI\"]].corr()"
   ]
  },
  {
   "cell_type": "markdown",
   "metadata": {},
   "source": [
    "Although the correlations among these three variables are not strong,\n",
    "they are sufficient to induce fairly substantial differences in the\n",
    "regression coefficients (e.g. the gender coefficient changes from 3.23\n",
    "to 3.58).  In this example, the gender effect becomes larger after we\n",
    "control for BMI - we can take this to mean that BMI was masking part\n",
    "of the association between gender and blood pressure.  In other settings, including\n",
    "additional covariates can reduce the association between a covariate\n",
    "and an outcome.\n",
    "\n",
    "### Visualization of the fitted models\n",
    "\n",
    "In this section we demonstrate some graphing techniques that can be\n",
    "used to gain a better understanding of a regression model that has\n",
    "been fit to data.\n",
    "\n",
    "We start with plots that allow us to visualize the fitted regression\n",
    "function, that is, the mean systolic blood pressure expressed as a\n",
    "function of the covariates.  These plots help to show the estimated\n",
    "role of one variable when the other variables are held fixed.  We will\n",
    "also plot 95% *simultaneous confidence bands* around these fitted\n",
    "lines.  Although the estimated mean curve is never exact based on a\n",
    "finite sample of data, we can be 95% confident that the true mean\n",
    "curve falls somewhere within the shaded regions of the plots below.\n",
    "\n",
    "This type of plot requires us to fix the values of all variables\n",
    "other than the independent variable (SBP here), and one independent\n",
    "variable that we call the *focus variable* (which is age here).\n",
    "Below we fix the gender as \"female\" and the BMI as 25.  Thus,\n",
    "the graphs below show the relationship between expected SBP\n",
    "and age for women with BMI equal to 25."
   ]
  },
  {
   "cell_type": "code",
   "execution_count": null,
   "metadata": {},
   "outputs": [],
   "source": [
    "from statsmodels.sandbox.predict_functional import predict_functional\n",
    "\n",
    "# Fix certain variables at reference values.  Not all of these\n",
    "# variables are used here, but we provide them with a value anyway\n",
    "# to prevent a warning message from appearing.\n",
    "values = {\"RIAGENDRx\": \"Female\", \"RIAGENDR\": 1, \"BMXBMI\": 25,\n",
    "          \"DMDEDUC2\": 1, \"RIDRETH1\": 1, \"SMQ020\": 1}\n",
    "\n",
    "# The returned values are the predicted values (pr), the confidence bands (cb),\n",
    "# and the function values (fv).\n",
    "pr, cb, fv = predict_functional(result, \"RIDAGEYR\",\n",
    "                                values=values, \n",
    "                                ci_method=\"simultaneous\")\n",
    "\n",
    "\n",
    "ax = sns.lineplot(fv, pr, lw=4)\n",
    "ax.fill_between(fv, cb[:, 0], cb[:, 1], color='grey', alpha=0.4)\n",
    "ax.set_xlabel(\"Age\")\n",
    "_ = ax.set_ylabel(\"SBP\")"
   ]
  },
  {
   "cell_type": "markdown",
   "metadata": {},
   "source": [
    "The analogous plot for BMI is shown next.  Here we fix the\n",
    "gender as \"female\" and the age at 50, so we are looking\n",
    "at the relationship between expected SBP and age for women\n",
    "of age 50."
   ]
  },
  {
   "cell_type": "code",
   "execution_count": null,
   "metadata": {},
   "outputs": [],
   "source": [
    "del values[\"BMXBMI\"] # Delete this as it is now the focus variable\n",
    "values[\"RIDAGEYR\"] = 50\n",
    "\n",
    "pr, cb, fv = predict_functional(result, \"BMXBMI\",\n",
    "                                values=values, \n",
    "                                ci_method=\"simultaneous\")\n",
    "\n",
    "# pr = The predicted mean values.\n",
    "# cb = two columns, containing respectively the lower and upper limits of C.I.\n",
    "# fv = The values of the focus variable at which the prediction is made.\n",
    "\n",
    "ax = sns.lineplot(fv, pr, lw=4)\n",
    "ax.fill_between(fv, cb[:, 0], cb[:, 1], color='grey', alpha=0.4)\n",
    "ax.set_xlabel(\"BMI\")\n",
    "_ = ax.set_ylabel(\"SBP\")"
   ]
  },
  {
   "cell_type": "code",
   "execution_count": null,
   "metadata": {},
   "outputs": [],
   "source": [
    "values"
   ]
  },
  {
   "cell_type": "markdown",
   "metadata": {},
   "source": [
    "The error band for BMI is notably wider than the error band for age,\n",
    "indicating that there is less certainty about the relationship between\n",
    "BMI and SBP compared to the relationship between age and SBP.\n",
    "\n",
    "The discussion so far has primarily focused on the mean structure of\n",
    "the population, that is, the model for the average SBP of a person\n",
    "with a given age, gender, and BMI.  A regression model can also be\n",
    "used to assess the *variance structure* of the population, that is,\n",
    "how much and in what manner the observations deviate from their mean.\n",
    "We will focus on informal, graphical methods for assessing this.\n",
    "\n",
    "To begin with, we plot the residuals against the fitted values.\n",
    "Recall that the fitted values are the estimated means for each\n",
    "observation, and the residuals are the difference between an\n",
    "observation and its fitted mean.  For example, the model may estimate\n",
    "that a 50 year old female will have on average an SBP of 125.  But a\n",
    "specific 50 year old female may have a blood pressure of 110 or 150,\n",
    "for example.  The fitted values for both of these women are 125, and\n",
    "their residuals are -15, and 25, respectively.\n",
    "\n",
    "The simplest variance pattern that we can see in a linear regression\n",
    "occurs when the points are scattered around the mean, with the same\n",
    "degree of scatter throughout the range of the covariates.  When there\n",
    "are multiple covariates, it is hard to assess whether the variance is\n",
    "uniform throughout this range, but we can easily check for a\n",
    "\"mean/variance relationship\", in which there is a systematic relationship\n",
    "between the variance and the mean, i.e. the variance either increases\n",
    "or decreases systematically with the mean.  The plot of residuals on fitted values is\n",
    "used to assess whether such a mean/variance relationship is present.\n",
    "\n",
    "Below we show the plot of residuals on fitted values for the NHANES\n",
    "data.  It appears that we have a modestly increasing mean/variance\n",
    "relationship.  That is, the scatter around the mean blood pressure is\n",
    "greater when the mean blood pressure itself is greater."
   ]
  },
  {
   "cell_type": "code",
   "execution_count": null,
   "metadata": {},
   "outputs": [],
   "source": [
    "pp = sns.scatterplot(result.fittedvalues, result.resid)\n",
    "pp.set_xlabel(\"Fitted values\")\n",
    "_ = pp.set_ylabel(\"Residuals\")"
   ]
  },
  {
   "cell_type": "markdown",
   "metadata": {},
   "source": [
    "A \"component plus residual plot\" or \"partial residual plot\" is\n",
    "intended to show how the data would look if all but one covariate\n",
    "could be fixed at reference values.  By controlling the values of\n",
    "these covariates, all remaining variation is due either to the \"focus\n",
    "variable\" (the one variable that is left unfixed, and is plotted on\n",
    "the horizontal axis), or to sources of variation that are unexplained\n",
    "by any of the covariates.\n",
    "\n",
    "For example, the partial residual plot below shows how age (horizontal\n",
    "axis) and SBP (vertical axis) would be related if gender and BMI were\n",
    "fixed.  Note that the origin of the vertical axis in these plots is\n",
    "not meaningful (we are not implying that anyone's blood pressure would\n",
    "be negative), but the differences along the vertical axis are\n",
    "meaningful.  This plot implies that when BMI and gender are held\n",
    "fixed, the average blood pressures of an 80 and 18 year old differ by\n",
    "around 30 mm/Hg.  This plot also shows, as discussed above,\n",
    "that the deviations from the\n",
    "mean are somewhat smaller at the low end of the range compared to the\n",
    "high end of the range.  We also see that at the high end of the range, the\n",
    "deviations from the mean are somewhat right-skewed, with\n",
    "exceptionally high SBP values being more common than exceptionally low SBP values."
   ]
  },
  {
   "cell_type": "code",
   "execution_count": null,
   "metadata": {},
   "outputs": [],
   "source": [
    "# This is not part of the main Statsmodels API, so needs to be  \n",
    "# imported separately\n",
    "from statsmodels.graphics.regressionplots import plot_ccpr\n",
    "\n",
    "ax = plt.axes()\n",
    "plot_ccpr(result, \"RIDAGEYR\", ax)\n",
    "ax.lines[0].set_alpha(0.2) # Reduce overplotting with transparency\n",
    "_ = ax.lines[1].set_color('orange')"
   ]
  },
  {
   "cell_type": "markdown",
   "metadata": {},
   "source": [
    "Another important plot used for understanding a regression model is an \"added variable plot\".  This is a plot\n",
    "that may reveal nonlinearity in the relationship between one covariate and the outcome.  Below, we create\n",
    "an added variable plot for age as a predictor of SBP.  Note that the two variables being plotted (age and blood pressure) have been centered.  The scale of the variables is unchanged, but the origin has been translated to zero.  The red line is an estimte of the relationship between age and blood pressure.  Unlike the relationship in the model, it is not forced to be linear, and there is in fact a hint that the shape is slightly flatter for the first 15 years or so of age.  This would imply that blood pressure increases slightly more slowly for people in theie 20s and early 30s, then begins increasing faster after that point."
   ]
  },
  {
   "cell_type": "code",
   "execution_count": null,
   "metadata": {},
   "outputs": [],
   "source": [
    "# This is not part of the main Statsmodels API, so needs to be imported separately\n",
    "from statsmodels.graphics.regressionplots import add_lowess\n",
    "\n",
    "# This is an equivalent way to fit a linear regression model, it needs to be\n",
    "# done this way to be able to make the added variable plot\n",
    "model = sm.GLM.from_formula(\"BPXSY1 ~ RIDAGEYR + BMXBMI + RIAGENDRx\", data=da)\n",
    "result = model.fit()\n",
    "result.summary()\n",
    "\n",
    "fig = result.plot_added_variable(\"RIDAGEYR\")\n",
    "ax = fig.get_axes()[0]\n",
    "ax.lines[0].set_alpha(0.2)\n",
    "_ = add_lowess(ax)"
   ]
  },
  {
   "cell_type": "markdown",
   "metadata": {},
   "source": [
    "## Logistic Regression\n",
    "\n",
    "We now turn to regression models for *binary* outcome variables,\n",
    "meaning an outcome that can take on only two distinct values.  For\n",
    "illustration, we will work with the NHANES variable\n",
    "[SMQ020](https://wwwn.cdc.gov/Nchs/Nhanes/2015-2016/SMQ_I.htm#SMQ020),\n",
    "which asks whether a person has smoked at least 100 cigarettes in\n",
    "their lifetime (if this is the case, we say that the person has a\n",
    "\"smoking history\").  Below we create a version of this variable in\n",
    "which smoking and non-smoking are coded as 1 and 0, respectively, and\n",
    "rare responses like *don't know* and *refused to answer* are coded as\n",
    "missing values."
   ]
  },
  {
   "cell_type": "code",
   "execution_count": null,
   "metadata": {},
   "outputs": [],
   "source": []
  },
  {
   "cell_type": "code",
   "execution_count": null,
   "metadata": {},
   "outputs": [],
   "source": []
  }
 ],
 "metadata": {
  "kernelspec": {
   "display_name": "Python 3",
   "language": "python",
   "name": "python3"
  },
  "language_info": {
   "codemirror_mode": {
    "name": "ipython",
    "version": 3
   },
   "file_extension": ".py",
   "mimetype": "text/x-python",
   "name": "python",
   "nbconvert_exporter": "python",
   "pygments_lexer": "ipython3",
   "version": "3.8.5"
  }
 },
 "nbformat": 4,
 "nbformat_minor": 4
}
