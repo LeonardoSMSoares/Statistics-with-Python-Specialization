{
 "cells": [
  {
   "cell_type": "markdown",
   "metadata": {},
   "source": [
    "# F - Distribution"
   ]
  },
  {
   "cell_type": "markdown",
   "metadata": {},
   "source": [
    "<img src=\"images/f-table.jpg\"/>"
   ]
  },
  {
   "cell_type": "code",
   "execution_count": 61,
   "metadata": {},
   "outputs": [],
   "source": [
    "import numpy as np\n",
    "import pandas as pd\n",
    "import seaborn as sns\n",
    "import scipy.stats\n",
    "import matplotlib.pyplot as plt\n",
    "%matplotlib inline"
   ]
  },
  {
   "cell_type": "markdown",
   "metadata": {},
   "source": [
    "**Two plants produce pencils. A manager believes that plant A is malfunctioning ant that variance in pencil lenght at plant A is greater than the variance of plant B. He has 20 pencils for each plant. Plant A has a samle variance of 1.45. Plant B has a sample variance of 0.47. Test the claim with a 99% level of confidence.**"
   ]
  },
  {
   "cell_type": "code",
   "execution_count": null,
   "metadata": {},
   "outputs": [],
   "source": [
    "#         Ho: sigma1**2 <= sigma2**2\n",
    "# (claim) Ha: sigma1**2 > sigma2**2  -> right tail test "
   ]
  },
  {
   "cell_type": "code",
   "execution_count": 19,
   "metadata": {},
   "outputs": [
    {
     "name": "stdout",
     "output_type": "stream",
     "text": [
      "F_stat: 3.09\n",
      "F_alpha: 3.03\n",
      "\n",
      "(F_stat > F_alpha): Reject Ho!\n"
     ]
    }
   ],
   "source": [
    "# import scipy.stats\n",
    "\n",
    "loc = 0.99\n",
    "alpha = 1 - loc\n",
    "\n",
    "# Plant A\n",
    "n1 = 20\n",
    "s1_2 = 1.45\n",
    "dfn = n1 - 1\n",
    "\n",
    "# Plant B\n",
    "n2 = 20\n",
    "s2_2 = 0.47\n",
    "dfd = n2 - 1\n",
    "\n",
    "\n",
    "# Test-Statistic\n",
    "F_stat = s1_2/s2_2\n",
    "\n",
    "# T-Critical\n",
    "F_alpha = scipy.stats.f.ppf(q=loc, dfn=dfn, dfd=dfd)   # Right tail test, use q=loc\n",
    "\n",
    "\n",
    "print(f'F_stat: {round(F_stat,4)}')\n",
    "print(f'F_alpha: {round(F_alpha,4)}')\n",
    "print()\n",
    "\n",
    "if F_stat > F_alpha:   # Right tail test\n",
    "    print('(F_stat > F_alpha): Reject Ho!')\n",
    "else:\n",
    "    print('(F_stat < F_alpha): Fail to reject Ho.')"
   ]
  },
  {
   "cell_type": "markdown",
   "metadata": {},
   "source": [
    "**A researcher thinks that men have a higher variance in cholesterol levels than women. He samples 8 men and finds the variance is 227. He samples 7 women and finds the variance is 89. Test his claim at 0.10 level of signifiicance.**"
   ]
  },
  {
   "cell_type": "code",
   "execution_count": null,
   "metadata": {},
   "outputs": [],
   "source": [
    "#         Ho: sigma1**2 <= sigma2**2\n",
    "# (claim) Ha: sigma1**2 > sigma2**2  -> right tail test "
   ]
  },
  {
   "cell_type": "code",
   "execution_count": 21,
   "metadata": {},
   "outputs": [
    {
     "name": "stdout",
     "output_type": "stream",
     "text": [
      "F_stat: 3.1124\n",
      "F_alpha: 3.0145\n",
      "\n",
      "(F_stat > F_alpha): Reject Ho!\n"
     ]
    }
   ],
   "source": [
    "loc = 0.90\n",
    "alpha = 1 - loc\n",
    "\n",
    "# Group1 = Men\n",
    "n1 = 8\n",
    "s1_2 = 277\n",
    "dfn = n1 - 1\n",
    "\n",
    "# Group2 = Women\n",
    "n2 = 7\n",
    "s2_2 = 89\n",
    "dfd = n2 - 1\n",
    "\n",
    "\n",
    "# Test-Statistic\n",
    "F_stat = s1_2/s2_2\n",
    "\n",
    "# T-Critical\n",
    "F_alpha = scipy.stats.f.ppf(q=loc, dfn=dfn, dfd=dfd)  # Right tail test, use q=loc\n",
    "\n",
    "\n",
    "print(f'F_stat: {round(F_stat,4)}')\n",
    "print(f'F_alpha: {round(F_alpha,4)}')\n",
    "print()\n",
    "\n",
    "if F_stat > F_alpha:   # Right tail test\n",
    "    print('(F_stat > F_alpha): Reject Ho!')\n",
    "else:\n",
    "    print('(F_stat < F_alpha): Fail to reject Ho.')"
   ]
  },
  {
   "cell_type": "markdown",
   "metadata": {},
   "source": [
    "**A researcher claims that the variance in car prices is lower in Texas than in Florida. He samples 15 people in Texas and the price sample variance is 34,057. He samples 14 people in Florida and the sample variance in price is 45,923. Test the claim at 0.10 level of significance.**"
   ]
  },
  {
   "cell_type": "code",
   "execution_count": null,
   "metadata": {},
   "outputs": [],
   "source": [
    "#         Ho: sigma1**2 >= sigma2**2\n",
    "# (claim) Ha: sigma1**2 < sigma2**2  -> left tail test "
   ]
  },
  {
   "cell_type": "code",
   "execution_count": 25,
   "metadata": {},
   "outputs": [
    {
     "name": "stdout",
     "output_type": "stream",
     "text": [
      "F_stat: 0.7416\n",
      "F1_alpha: 0.4909\n",
      "\n",
      "(F_stat > F1_alpha): Fail to reject Ho.\n"
     ]
    }
   ],
   "source": [
    "loc = 0.90\n",
    "alpha = 1 - loc\n",
    "\n",
    "# Pop1 = Texas\n",
    "n1 = 15\n",
    "s1_2 = 34057\n",
    "dfn = n1 - 1\n",
    "\n",
    "# Pop2 = Florida\n",
    "n2 = 14\n",
    "s2_2 = 45923\n",
    "dfd = n2 - 1\n",
    "\n",
    "\n",
    "# Test-Statistic\n",
    "F_stat = s1_2/s2_2\n",
    "\n",
    "# T-Critical\n",
    "F1_alpha = scipy.stats.f.ppf(q=alpha, dfn=dfn, dfd=dfd)  # Left tail test, use q=alpha\n",
    "\n",
    "\n",
    "print(f'F_stat: {round(F_stat,4)}')\n",
    "print(f'F1_alpha: {round(F1_alpha,4)}')\n",
    "print()\n",
    "\n",
    "if F_stat > F1_alpha:   # Left tail test\n",
    "    print('(F_stat > F1_alpha): Fail to reject Ho.')\n",
    "else:\n",
    "    print('(F_stat < F1_alpha): Reject Ho!')"
   ]
  },
  {
   "cell_type": "markdown",
   "metadata": {},
   "source": [
    "**A golfer feels the variance in distance traveled of golf ball brand A is smaller when hit that brand B. He hits 10 balls from brand A, finding a sample variance of 201.65. He hits 10 balls from brand B, finding a sample variance of 364.57. Using a level of significance of 0.05, does the evidence  support his claim?**"
   ]
  },
  {
   "cell_type": "code",
   "execution_count": null,
   "metadata": {},
   "outputs": [],
   "source": [
    "#         Ho: sigma1**2 >= sigma2**2\n",
    "# (claim) Ha: sigma1**2 < sigma2**2  -> left tail test "
   ]
  },
  {
   "cell_type": "code",
   "execution_count": 29,
   "metadata": {},
   "outputs": [
    {
     "name": "stdout",
     "output_type": "stream",
     "text": [
      "F_stat: 0.5531\n",
      "F1_alpha: 0.3281\n",
      "\n",
      "(F_stat > F1_alpha): Fail to reject Ho.\n"
     ]
    }
   ],
   "source": [
    "loc = 0.95\n",
    "alpha = 1 - loc\n",
    "\n",
    "\n",
    "# Brand A (1)\n",
    "n1 = 10\n",
    "s1_2 = 201.65\n",
    "dfn = n1 - 1\n",
    "\n",
    "# Brand B (2)\n",
    "n2 = 14\n",
    "s2_2 = 364.57\n",
    "dfd = n2 - 1\n",
    "\n",
    "\n",
    "# Test-Statistic\n",
    "F_stat = s1_2/s2_2\n",
    "\n",
    "# T-Critical\n",
    "F1_alpha = scipy.stats.f.ppf(q=alpha, dfn=dfn, dfd=dfd)  # Left tail test, use q=alpha\n",
    "\n",
    "\n",
    "print(f'F_stat: {round(F_stat,4)}')\n",
    "print(f'F1_alpha: {round(F1_alpha,4)}')\n",
    "print()\n",
    "\n",
    "if F_stat > F1_alpha:   # Left tail test\n",
    "    print('(F_stat > F1_alpha): Fail to reject Ho.')\n",
    "else:\n",
    "    print('(F_stat < F1_alpha): Reject Ho!')"
   ]
  },
  {
   "cell_type": "markdown",
   "metadata": {},
   "source": [
    "**A study claims the variance in heart rate of smokers is different than the variance in heart rate of non smokers. The sample variance in 5 smokers is 545. The sample variance of 5 non-smokers is 103. Test the claim at 0.01 level of significance.**"
   ]
  },
  {
   "cell_type": "code",
   "execution_count": null,
   "metadata": {},
   "outputs": [],
   "source": [
    "#         Ho: sigma1**2 == sigma2**2\n",
    "# (claim) Ha: sigma1**2 != sigma2**2  -> 2 tail test "
   ]
  },
  {
   "cell_type": "code",
   "execution_count": 43,
   "metadata": {},
   "outputs": [
    {
     "name": "stdout",
     "output_type": "stream",
     "text": [
      "F 1-alpha/2: 0.0432\n",
      "F stat: 5.2913\n",
      "F alpha/2: 23.1545\n",
      "\n",
      "(F 1-alpha/2 < F_stat < F alpha/2): Fail to reject Ho.\n"
     ]
    }
   ],
   "source": [
    "alpha = 0.01\n",
    "alpha_2 = alpha/2\n",
    "\n",
    "# Smokers (1)\n",
    "n1 = 5\n",
    "s1_2 = 545\n",
    "dfn = n1 - 1\n",
    "\n",
    "# Non-Smokers (2)\n",
    "n2 = 5\n",
    "s2_2 = 103\n",
    "dfd = n2 - 1\n",
    "\n",
    "\n",
    "# Test-Statistic\n",
    "F_stat = s1_2/s2_2\n",
    "\n",
    "# T-Critical\n",
    "\n",
    "F1_alpha2 = scipy.stats.f.ppf(q=alpha_2, dfn=dfn, dfd=dfd)  # Left tail test, use q=alpha\n",
    "F_alpha2 = 1/F1_alpha2\n",
    "\n",
    "\n",
    "print(f'F 1-alpha/2: {round(F1_alpha2,4)}')\n",
    "print(f'F stat: {round(F_stat,4)}')\n",
    "print(f'F alpha/2: {round(F_alpha2,4)}')\n",
    "print()\n",
    "\n",
    "\n",
    "if (F_stat > F1_alpha2) and (F_stat < F_alpha2):    # 2 tail test\n",
    "    print('(F 1-alpha/2 < F_stat < F alpha/2): Fail to reject Ho.')\n",
    "else:\n",
    "    print('(F_stat < F 1-alpha/2) or (F alpha/2 < F_stat)): Reject Ho!')"
   ]
  },
  {
   "cell_type": "code",
   "execution_count": null,
   "metadata": {},
   "outputs": [],
   "source": [
    "# Another Way\n",
    "#\n",
    "# F = Var(X) / Var(Y)\n",
    "#\n",
    "# alpha = 0.05\n",
    "#\n",
    "# p_value = scipy.stats.f.cdf(F, df1, df2)\n",
    "#\n",
    "# if p_value > alpha:\n",
    "#    # Reject the null hypothesis that Var(X) == Var(Y)"
   ]
  },
  {
   "cell_type": "code",
   "execution_count": 44,
   "metadata": {},
   "outputs": [
    {
     "data": {
      "text/plain": [
       "[<matplotlib.lines.Line2D at 0x1faec8a9e80>]"
      ]
     },
     "execution_count": 44,
     "metadata": {},
     "output_type": "execute_result"
    },
    {
     "data": {
      "image/png": "[encoded data removed]",
      "text/plain": [
       "<Figure size 432x288 with 1 Axes>"
      ]
     },
     "metadata": {
      "needs_background": "light"
     },
     "output_type": "display_data"
    }
   ],
   "source": [
    "import numpy as np\n",
    "from scipy.stats import f, norm\n",
    "import matplotlib.pyplot as plt\n",
    "%matplotlib inline\n",
    "\n",
    "# first f\n",
    "rv1 = f(dfn=3, dfd=15, loc=0, scale=1)\n",
    "x = np.linspace(rv1.ppf(0.0001), rv1.ppf(0.9999), 100)\n",
    "y = rv1.pdf(x) \n",
    "\n",
    "plt.xlim(0,5)\n",
    "plt.plot(x,y, 'b-')\n",
    "\n",
    "# second f \n",
    "rv2 = f(dfn=10, dfd=50, loc=0, scale=1)\n",
    "x = np.linspace(rv2.ppf(0.0001), rv2.ppf(0.9999), 100)\n",
    "y = rv2.pdf(x) \n",
    "\n",
    "plt.plot(x,y, 'r--')"
   ]
  },
  {
   "cell_type": "markdown",
   "metadata": {},
   "source": [
    "# ANOVA (Analysis of Variance)"
   ]
  },
  {
   "cell_type": "markdown",
   "metadata": {},
   "source": [
    "**Below are the ages that females get married in NY, Texaas, and Oregon. At a 0.10 level of significance, perform an ANOVA test to see if the average age of marriage in these three states are the equal.**\n",
    "\n",
    "    New York: [18,19,20,21,22,23,18,19,20,21]\n",
    "\n",
    "    Texas: [18,20,16,20,21,20,18,19,17,13]\n",
    "\n",
    "    Oregon: [21,22,17,18,22,19,21,20,18,23]"
   ]
  },
  {
   "cell_type": "code",
   "execution_count": 33,
   "metadata": {},
   "outputs": [],
   "source": [
    "NY = np.array([18,19,20,21,22,23,18,19,20,21])\n",
    "\n",
    "TX = np.array([18,20,16,20,21,20,18,19,17,13])\n",
    "\n",
    "OR = np.array([21,22,17,18,22,19,21,20,18,23])"
   ]
  },
  {
   "cell_type": "code",
   "execution_count": 34,
   "metadata": {},
   "outputs": [
    {
     "data": {
      "image/png": "[encoded data removed]",
      "text/plain": [
       "<Figure size 432x432 with 1 Axes>"
      ]
     },
     "metadata": {
      "needs_background": "light"
     },
     "output_type": "display_data"
    }
   ],
   "source": [
    "# Create a DataFrame with these three Series\n",
    "\n",
    "df = pd.DataFrame({'New York': NY, 'Texas': TX, 'Oregon': OR})\n",
    "\n",
    "\n",
    "# Make the Boxplot\n",
    "\n",
    "plt.figure(figsize=(6,6)) \n",
    "\n",
    "plt.title('Ages that females get married')\n",
    "\n",
    "sns.boxplot(data = df.loc[:,['New York','Texas','Oregon']])\n",
    "\n",
    "plt.show()"
   ]
  },
  {
   "cell_type": "code",
   "execution_count": 35,
   "metadata": {},
   "outputs": [
    {
     "data": {
      "text/html": [
       "<div>\n",
       "<style scoped>\n",
       "    .dataframe tbody tr th:only-of-type {\n",
       "        vertical-align: middle;\n",
       "    }\n",
       "\n",
       "    .dataframe tbody tr th {\n",
       "        vertical-align: top;\n",
       "    }\n",
       "\n",
       "    .dataframe thead th {\n",
       "        text-align: right;\n",
       "    }\n",
       "</style>\n",
       "<table border=\"1\" class=\"dataframe\">\n",
       "  <thead>\n",
       "    <tr style=\"text-align: right;\">\n",
       "      <th></th>\n",
       "      <th>New York</th>\n",
       "      <th>Texas</th>\n",
       "      <th>Oregon</th>\n",
       "    </tr>\n",
       "  </thead>\n",
       "  <tbody>\n",
       "    <tr>\n",
       "      <th>count</th>\n",
       "      <td>10.00000</td>\n",
       "      <td>10.000000</td>\n",
       "      <td>10.000000</td>\n",
       "    </tr>\n",
       "    <tr>\n",
       "      <th>mean</th>\n",
       "      <td>20.10000</td>\n",
       "      <td>18.200000</td>\n",
       "      <td>20.100000</td>\n",
       "    </tr>\n",
       "    <tr>\n",
       "      <th>std</th>\n",
       "      <td>1.66333</td>\n",
       "      <td>2.394438</td>\n",
       "      <td>2.024846</td>\n",
       "    </tr>\n",
       "    <tr>\n",
       "      <th>min</th>\n",
       "      <td>18.00000</td>\n",
       "      <td>13.000000</td>\n",
       "      <td>17.000000</td>\n",
       "    </tr>\n",
       "    <tr>\n",
       "      <th>25%</th>\n",
       "      <td>19.00000</td>\n",
       "      <td>17.250000</td>\n",
       "      <td>18.250000</td>\n",
       "    </tr>\n",
       "    <tr>\n",
       "      <th>50%</th>\n",
       "      <td>20.00000</td>\n",
       "      <td>18.500000</td>\n",
       "      <td>20.500000</td>\n",
       "    </tr>\n",
       "    <tr>\n",
       "      <th>75%</th>\n",
       "      <td>21.00000</td>\n",
       "      <td>20.000000</td>\n",
       "      <td>21.750000</td>\n",
       "    </tr>\n",
       "    <tr>\n",
       "      <th>max</th>\n",
       "      <td>23.00000</td>\n",
       "      <td>21.000000</td>\n",
       "      <td>23.000000</td>\n",
       "    </tr>\n",
       "  </tbody>\n",
       "</table>\n",
       "</div>"
      ],
      "text/plain": [
       "       New York      Texas     Oregon\n",
       "count  10.00000  10.000000  10.000000\n",
       "mean   20.10000  18.200000  20.100000\n",
       "std     1.66333   2.394438   2.024846\n",
       "min    18.00000  13.000000  17.000000\n",
       "25%    19.00000  17.250000  18.250000\n",
       "50%    20.00000  18.500000  20.500000\n",
       "75%    21.00000  20.000000  21.750000\n",
       "max    23.00000  21.000000  23.000000"
      ]
     },
     "execution_count": 35,
     "metadata": {},
     "output_type": "execute_result"
    }
   ],
   "source": [
    "df.describe()"
   ]
  },
  {
   "cell_type": "code",
   "execution_count": 24,
   "metadata": {},
   "outputs": [
    {
     "data": {
      "text/plain": [
       "(10.0, 25.0)"
      ]
     },
     "execution_count": 24,
     "metadata": {},
     "output_type": "execute_result"
    },
    {
     "data": {
      "image/png": "[encoded data removed]",
      "text/plain": [
       "<Figure size 864x288 with 3 Axes>"
      ]
     },
     "metadata": {
      "needs_background": "light"
     },
     "output_type": "display_data"
    }
   ],
   "source": [
    "# Plot the Histogram for these hree groups\n",
    "\n",
    "plt.figure(figsize=(12,4))\n",
    "\n",
    "plt.subplot(1,3,1)     # plt.subplot(nrows, ncols, plot_number)\n",
    "plt.title('New York')\n",
    "sns.histplot(df['New York'],color='b')\n",
    "plt.xlabel('Ages')\n",
    "plt.ylim(0, 5)\n",
    "plt.xlim(10, 25)\n",
    "\n",
    "plt.subplot(1,3,2)\n",
    "plt.title('Texas')\n",
    "sns.histplot(df['Texas'],color='r')\n",
    "plt.xlabel('Ages')\n",
    "plt.ylim(0, 5)\n",
    "plt.xlim(10, 25)\n",
    "\n",
    "plt.subplot(1,3,3)\n",
    "plt.title('Oregon')\n",
    "sns.histplot(df['Oregon'],color='y')\n",
    "plt.xlabel('Ages')\n",
    "plt.ylim(0, 5)\n",
    "plt.xlim(10, 25)"
   ]
  },
  {
   "cell_type": "code",
   "execution_count": 52,
   "metadata": {},
   "outputs": [],
   "source": [
    "# ANOVA\n",
    "\n",
    "n1 = len(NY)\n",
    "n2 = len(TX)\n",
    "n3 = len(OR)\n",
    "ntotal = n1 + n2 + n3\n",
    "\n",
    "NYbar = NY.mean()\n",
    "TXbar = TX.mean()\n",
    "ORbar = OR.mean()\n",
    "\n",
    "k = 3   # Number of populions\n",
    "\n",
    "# Grand Mean\n",
    "GM = (NY.sum() + TX.sum() + OR.sum()) / (ntotal)   \n",
    "\n",
    "# Sum of Squares among Treatments\n",
    "SST = (n1*(NYbar-GM)**2) + (n2*(TXbar-GM)**2) + (n3*(ORbar-GM)**2)\n",
    "\n",
    "# Mean Square among Treatments \n",
    "MST = SST/(k-1)"
   ]
  },
  {
   "cell_type": "code",
   "execution_count": 48,
   "metadata": {},
   "outputs": [
    {
     "data": {
      "text/plain": [
       "113.4"
      ]
     },
     "execution_count": 48,
     "metadata": {},
     "output_type": "execute_result"
    }
   ],
   "source": [
    "# Sum of Square of Errors\n",
    "\n",
    "def indError(arg):\n",
    "    xbar = arg.mean()\n",
    "    som = 0\n",
    "    for i in arg:\n",
    "        som = som + (i - xbar)**2 \n",
    "    return som\n",
    "\n",
    "SSE_NY = indError(NY)\n",
    "SSE_TX = indError(TX)\n",
    "SSE_OR = indError(OR)\n",
    "\n",
    "SSE = SSE_NY + SSE_TX + SSE_OR"
   ]
  },
  {
   "cell_type": "code",
   "execution_count": 54,
   "metadata": {},
   "outputs": [
    {
     "data": {
      "text/plain": [
       "137.46666666666673"
      ]
     },
     "execution_count": 54,
     "metadata": {},
     "output_type": "execute_result"
    }
   ],
   "source": [
    "# Mean Square of Errors\n",
    "MSE = (SSE) / (ntotal - k)\n",
    "\n",
    "# Total variation\n",
    "TotVar = SSE + SST"
   ]
  },
  {
   "cell_type": "code",
   "execution_count": 55,
   "metadata": {},
   "outputs": [
    {
     "name": "stdout",
     "output_type": "stream",
     "text": [
      "MST: 12.0333\n",
      "MSE: 4.2\n"
     ]
    }
   ],
   "source": [
    "print(f'MST: {round(MST,4)}')\n",
    "print(f'MSE: {round(MSE,4)}')"
   ]
  },
  {
   "cell_type": "markdown",
   "metadata": {},
   "source": [
    "**Test Statistic and Making Decisions**"
   ]
  },
  {
   "cell_type": "code",
   "execution_count": 59,
   "metadata": {},
   "outputs": [
    {
     "name": "stdout",
     "output_type": "stream",
     "text": [
      "F_stat: 2.8651\n",
      "F_alpha: 2.5106\n",
      "\n",
      "(F_stat > F_alpha): Reject Ho!\n"
     ]
    }
   ],
   "source": [
    "# Anova is allways a right tail test\n",
    "\n",
    "alpha = 0.10\n",
    "loc = 1 - alpha\n",
    "dfn = k - 1\n",
    "dfd = ntotal - k\n",
    "\n",
    "# Test-Statistic\n",
    "F_stat = MST/MSE\n",
    "\n",
    "# T-Critical\n",
    "F_alpha = scipy.stats.f.ppf(q=loc, dfn=dfn, dfd=dfd)   # Right tail test, use q=loc\n",
    "\n",
    "\n",
    "print(f'F_stat: {round(F_stat,4)}')\n",
    "print(f'F_alpha: {round(F_alpha,4)}')\n",
    "print()\n",
    "\n",
    "if F_stat > F_alpha:   # Right tail test\n",
    "    print('(F_stat > F_alpha): Reject Ho!')\n",
    "else:\n",
    "    print('(F_stat < F_alpha): Fail to reject Ho.')"
   ]
  },
  {
   "cell_type": "markdown",
   "metadata": {},
   "source": [
    "**Conclusion:** At the mean age of female married is different at least in one of these populations."
   ]
  },
  {
   "cell_type": "code",
   "execution_count": 67,
   "metadata": {},
   "outputs": [
    {
     "name": "stdout",
     "output_type": "stream",
     "text": [
      "F_stat by hand: 2.8651\n",
      "p_value by cdf: 0.9256\n",
      "\n",
      "F_stat by oneway: 2.8651\n",
      "p_value by oneway: 0.0744\n"
     ]
    }
   ],
   "source": [
    "# Check\n",
    "from scipy import stats\n",
    "\n",
    "p_value = scipy.stats.f.cdf(F_stat, dfn, dfd) # Let's find our previus p-value\n",
    "\n",
    "F, p = stats.f_oneway(NY,TX,OR)\n",
    "\n",
    "print(f'F_stat by hand: {round(F_stat,4)}')\n",
    "print(f'p_value by cdf: {round(p_value,4)}')\n",
    "print()\n",
    "print(f'F_stat by oneway: {round(F,4)}')\n",
    "print(f'p_value by oneway: {round(p,4)}')"
   ]
  },
  {
   "cell_type": "markdown",
   "metadata": {},
   "source": [
    "**Four different mobile service companies, Air Mobile, Binge Tech, ComMobile, Data Roam. Customers are asked to rank their mobile service from a scale of one to 10. One being very poor, 10 being excellent. Here is the individual data for four different customers for each company.**\n",
    "\n",
    "| Air Mobile | Binge Tech | ComMobile | Data Roam |\n",
    "| --- | --- | --- | --- |\n",
    "| 5 | 8 | 5 | 4 |\n",
    "| 3 | 3 | 6 | 6 |\n",
    "| 5 | 4 | 5 | 8 |\n",
    "| 3 | 5 | 8 | 2 |\n",
    "\n",
    "**It looks like Air Mobile is providing the worst service. I'm simply basing this off of their mean values. The question is, is it possible that these data values happen by chance and that perhaps the services are equal?**"
   ]
  },
  {
   "cell_type": "code",
   "execution_count": 91,
   "metadata": {},
   "outputs": [
    {
     "name": "stdout",
     "output_type": "stream",
     "text": [
      "F_stat: 0.7273\n",
      "F_alpha: 3.4903\n",
      "\n",
      "(F_stat < F_alpha): Fail to reject Ho.\n"
     ]
    }
   ],
   "source": [
    "AM = np.array([5,3,5,3])\n",
    "BT = np.array([8,3,4,5])\n",
    "CM = np.array([5,6,5,8])\n",
    "DR = np.array([4,6,8,2])\n",
    "\n",
    "n1 = len(AM)\n",
    "n2 = len(BT)\n",
    "n3 = len(CM)\n",
    "n4 = len(DR)\n",
    "ntotal = n1 + n2 + n3 + n4\n",
    "\n",
    "AMbar = AM.mean()\n",
    "BTbar = BT.mean()\n",
    "CMbar = CM.mean()\n",
    "DRbar = DR.mean()\n",
    "\n",
    "k = 4   # Number of populions\n",
    "\n",
    "# Grand Mean\n",
    "GM = (AM.sum() + BT.sum() + CM.sum() + DR.sum()) / (ntotal)   \n",
    "\n",
    "# Sum of Squares among Treatments (or SSB)\n",
    "SST = (n1*(AMbar-GM)**2) + (n2*(BTbar-GM)**2) + \\\n",
    "                                    (n3*(CMbar-GM)**2) + (n3*(DRbar-GM)**2)\n",
    "\n",
    "# Mean Square among Treatments \n",
    "MST = SST/(k-1)\n",
    "\n",
    "# Sum of Square of Errors\n",
    "def indError(arg):\n",
    "    xbar = arg.mean()\n",
    "    som = 0\n",
    "    for i in arg:\n",
    "        som = som + (i - xbar)**2 \n",
    "    return som\n",
    "\n",
    "SSE_AM = indError(AM)\n",
    "SSE_BT = indError(BT)\n",
    "SSE_CM = indError(CM)\n",
    "SSE_DR = indError(DR)\n",
    "\n",
    "SSE = SSE_AM + SSE_BT + SSE_CM + SSE_DR  # or SSW\n",
    "\n",
    "# Mean Square of Errors\n",
    "MSE = (SSE) / (ntotal - k)\n",
    "\n",
    "alpha = 0.05                    # Ho: mus are equal\n",
    "loc = 1 - alpha                 # Ha: mus are not equal\n",
    "dfn = k - 1\n",
    "dfd = ntotal - k\n",
    "\n",
    "# Test-Statistic\n",
    "F_stat = MST/MSE   # SSB/(k-1) / SSW/(ntotal-k)\n",
    "\n",
    "# T-Critical\n",
    "F_alpha = scipy.stats.f.ppf(q=loc, dfn=dfn, dfd=dfd)   # Right tail test, use q=loc\n",
    "\n",
    "\n",
    "print(f'F_stat: {round(F_stat,4)}')\n",
    "print(f'F_alpha: {round(F_alpha,4)}')\n",
    "print()\n",
    "\n",
    "if F_stat > F_alpha:   # Right tail test\n",
    "    print('(F_stat > F_alpha): Reject Ho!')         # mus are not equal\n",
    "else:\n",
    "    print('(F_stat < F_alpha): Fail to reject Ho.') # mus are equal"
   ]
  },
  {
   "cell_type": "markdown",
   "metadata": {},
   "source": [
    "**Conclusion:** This means that there is not enough evidence to support that there is a significant level of difference between these four mobile service providers. It's likely that the reported difference in their mean scores occurred by chance."
   ]
  },
  {
   "cell_type": "markdown",
   "metadata": {},
   "source": [
    "Future Sources: \n",
    "* https://www.pythonfordatascience.org/anova-python/\n",
    "* https://www.analyticsvidhya.com/blog/2020/06/introduction-anova-statistics-data-science-covid-python/\n",
    "* https://www.marsja.se/four-ways-to-conduct-one-way-anovas-using-python/"
   ]
  }
 ],
 "metadata": {
  "kernelspec": {
   "display_name": "Python 3",
   "language": "python",
   "name": "python3"
  },
  "language_info": {
   "codemirror_mode": {
    "name": "ipython",
    "version": 3
   },
   "file_extension": ".py",
   "mimetype": "text/x-python",
   "name": "python",
   "nbconvert_exporter": "python",
   "pygments_lexer": "ipython3",
   "version": "3.8.5"
  }
 },
 "nbformat": 4,
 "nbformat_minor": 4
}
