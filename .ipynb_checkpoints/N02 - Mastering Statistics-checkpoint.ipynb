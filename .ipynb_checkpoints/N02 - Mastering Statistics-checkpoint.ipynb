{
 "cells": [
  {
   "cell_type": "markdown",
   "metadata": {},
   "source": [
    "# Notes from Mastering Statistics"
   ]
  },
  {
   "cell_type": "code",
   "execution_count": 1,
   "metadata": {},
   "outputs": [],
   "source": [
    "# Libraries\n",
    "\n",
    "import numpy as np\n",
    "import pandas as pd\n",
    "import math\n",
    "import statistics\n",
    "import scipy\n",
    "from statistics import NormalDist\n",
    "from scipy.stats import norm\n",
    "from scipy.stats import chi2"
   ]
  },
  {
   "cell_type": "markdown",
   "metadata": {},
   "source": [
    "## Probability in Proportions"
   ]
  },
  {
   "cell_type": "markdown",
   "metadata": {},
   "source": [
    "**79% of voters in a city are Democrats. If we sample 100 people, what is the probability that more than 68 will vote Democrat?**"
   ]
  },
  {
   "cell_type": "code",
   "execution_count": 2,
   "metadata": {},
   "outputs": [
    {
     "name": "stdout",
     "output_type": "stream",
     "text": [
      "-2.7006573887712992\n"
     ]
    }
   ],
   "source": [
    "p = 0.79       # n * p = 79 >= 5\n",
    "n = 100        # n * (1-p) = 21 >= 5\n",
    "\n",
    "phat = 0.68\n",
    "\n",
    "z = (phat - p) / np.sqrt( (p*(1-p)) / (n) )\n",
    "\n",
    "print(z)"
   ]
  },
  {
   "cell_type": "code",
   "execution_count": 3,
   "metadata": {},
   "outputs": [
    {
     "data": {
      "text/plain": [
       "0.9965398707258555"
      ]
     },
     "execution_count": 3,
     "metadata": {},
     "output_type": "execute_result"
    }
   ],
   "source": [
    "# We want area on the right, so we need to invert.\n",
    "# P(z>-2.7) = P(z<2.7)\n",
    "\n",
    "P = norm.cdf(-z, 0, 1)\n",
    "P"
   ]
  },
  {
   "cell_type": "markdown",
   "metadata": {},
   "source": [
    "**47% of people in a city want to buy a bike. If we surveey 61 people randomly, what is the probability that less than 40% want to buy a bike?**"
   ]
  },
  {
   "cell_type": "code",
   "execution_count": 4,
   "metadata": {},
   "outputs": [
    {
     "name": "stdout",
     "output_type": "stream",
     "text": [
      "-1.0954084676318019\n"
     ]
    }
   ],
   "source": [
    "p = 0.47      # n * p = 28.67 >= 5\n",
    "n = 61        # n * (1-p) = 32.33 >= 5\n",
    "\n",
    "phat = 0.40\n",
    "\n",
    "z = (phat - p) / np.sqrt( (p*(1-p)) / (n) )\n",
    "\n",
    "print(z)"
   ]
  },
  {
   "cell_type": "code",
   "execution_count": 5,
   "metadata": {},
   "outputs": [
    {
     "data": {
      "text/plain": [
       "0.13666886303692077"
      ]
     },
     "execution_count": 5,
     "metadata": {},
     "output_type": "execute_result"
    }
   ],
   "source": [
    "# We want area on the left\n",
    "# P(z<-1.09)\n",
    "\n",
    "P = norm.cdf(z, 0, 1)\n",
    "P"
   ]
  },
  {
   "cell_type": "markdown",
   "metadata": {},
   "source": [
    "**72% of shoppers at a store are women. 40 shoppers are chosen randomly. What is the probability that the proportion of women sampled differs from the mean by more than 3%.**"
   ]
  },
  {
   "cell_type": "code",
   "execution_count": 6,
   "metadata": {},
   "outputs": [
    {
     "name": "stdout",
     "output_type": "stream",
     "text": [
      "-0.4225771273642586\n"
     ]
    }
   ],
   "source": [
    "p = 0.72      # n * p = 16.8 >= 5\n",
    "n = 40        # n * (1-p) = 11.2 >= 5\n",
    "\n",
    "phat = 0.69   # and 0.72, but the two areas are the same.\n",
    "\n",
    "z = (phat - p) / np.sqrt( (p*(1-p)) / (n) )\n",
    "\n",
    "print(z)"
   ]
  },
  {
   "cell_type": "code",
   "execution_count": 7,
   "metadata": {},
   "outputs": [
    {
     "data": {
      "text/plain": [
       "0.6726038174415163"
      ]
     },
     "execution_count": 7,
     "metadata": {},
     "output_type": "execute_result"
    }
   ],
   "source": [
    "# We want the area on the left and its symmetrical\n",
    "# P(z<-0.42) * 2\n",
    "\n",
    "P = 2 * norm.cdf(z, 0, 1)\n",
    "P"
   ]
  },
  {
   "cell_type": "markdown",
   "metadata": {},
   "source": [
    "**Body temperature of adults are normally distributed with a mean of 98.6 deg F and standard deviation of 0.73 deg F. Find the probability that sample of 36 adults have an average body temperature less than 98.3 deg F.**"
   ]
  },
  {
   "cell_type": "code",
   "execution_count": 8,
   "metadata": {},
   "outputs": [
    {
     "name": "stdout",
     "output_type": "stream",
     "text": [
      "Z: -2.47\n",
      "\n",
      "(P < 98.3): 0.68 %\n"
     ]
    }
   ],
   "source": [
    "mu = 98.6\n",
    "sigma = 0.73\n",
    "\n",
    "n = 36    # > 30, Normal Distribution\n",
    "\n",
    "s = sigma / np.sqrt(n)\n",
    "xbar = 98.3\n",
    "\n",
    "z = (xbar - mu) / s\n",
    "\n",
    "P = norm.cdf(z, 0, 1)\n",
    "\n",
    "print(\"Z:\", round(z,2))\n",
    "print()\n",
    "print(\"(P < 98.3):\", round(P*100,2),\"%\")"
   ]
  },
  {
   "cell_type": "markdown",
   "metadata": {},
   "source": [
    "**IQ scores for the USA have a mean of 100 and standard deviation of 15. If a sample of 50 people are given an IQ test, what is the probability that their mean IQ will be less than 95?**"
   ]
  },
  {
   "cell_type": "code",
   "execution_count": 9,
   "metadata": {},
   "outputs": [
    {
     "name": "stdout",
     "output_type": "stream",
     "text": [
      "Z: -2.36\n",
      "\n",
      "(P < 95): 0.92 %\n"
     ]
    }
   ],
   "source": [
    "mu = 100\n",
    "sigma = 15\n",
    "\n",
    "n = 50 # > 30, Normal Distribution\n",
    "\n",
    "s = sigma / np.sqrt(n)\n",
    "xbar = 95\n",
    "\n",
    "z = (xbar - mu) / s\n",
    "\n",
    "P = norm.cdf(z, 0, 1)\n",
    "\n",
    "print(\"Z:\", round(z,2))\n",
    "print()\n",
    "print(\"(P < 95):\", round(P*100,2),\"%\")"
   ]
  },
  {
   "cell_type": "markdown",
   "metadata": {},
   "source": [
    "**The population IQ mean is 100 with standard deviation of 15. If we sample 50 people, what is the probability that the average of the sample is greater than 105?** "
   ]
  },
  {
   "cell_type": "code",
   "execution_count": 10,
   "metadata": {},
   "outputs": [
    {
     "name": "stdout",
     "output_type": "stream",
     "text": [
      "Z: 2.36\n",
      "\n",
      "(P > 105): 0.92 %\n"
     ]
    }
   ],
   "source": [
    "mu = 100\n",
    "sigma = 15\n",
    "\n",
    "n = 50 # > 30, Normal Distribution\n",
    "\n",
    "s = sigma / np.sqrt(n)\n",
    "xbar = 105\n",
    "\n",
    "z = (xbar - mu) / s\n",
    "\n",
    "P = norm.cdf(-z, 0, 1)     # We change the sign because the normal dist. give us the area on the left and we want on the right\n",
    "\n",
    "print(\"Z:\", round(z,2))   \n",
    "print()\n",
    "print(\"(P > 105):\", round(P*100,2),\"%\")"
   ]
  },
  {
   "cell_type": "markdown",
   "metadata": {},
   "source": [
    "**The population IQ mean is 100 with standardd deviation of 15. If we sample 50 people, what is the probability that their mean IQ will differ from the population mean by more than 5?**"
   ]
  },
  {
   "cell_type": "code",
   "execution_count": 11,
   "metadata": {},
   "outputs": [
    {
     "name": "stdout",
     "output_type": "stream",
     "text": [
      "Z1: 2.36\n",
      "Z2: -2.36\n",
      "\n",
      "(P < 95 ou  P > 105): 1.84 %\n"
     ]
    }
   ],
   "source": [
    "mu = 100\n",
    "sigma = 15\n",
    "\n",
    "n = 50 # > 30, Normal Distribution\n",
    "\n",
    "s = sigma / np.sqrt(n)\n",
    "\n",
    "xbar1 = mu + 5\n",
    "xbar2 = mu - 5\n",
    "\n",
    "z1 = (xbar1 - mu) / s\n",
    "z2 = (xbar2 - mu) / s\n",
    "\n",
    "P1 = norm.cdf(-z1, 0, 1)  # we want right side\n",
    "P2 = norm.cdf(z2, 0, 1)  # we want left side\n",
    "\n",
    "P = P1 + P2\n",
    "\n",
    "print(\"Z1:\", round(z1,2))\n",
    "print(\"Z2:\", round(z2,2))\n",
    "print()\n",
    "print(\"(P < 95 ou  P > 105):\", round(P*100,2),\"%\")"
   ]
  },
  {
   "cell_type": "markdown",
   "metadata": {},
   "source": [
    "**Averge heartrate is 140 bpm, with standard deviation of 12 bpm. What is the probability that randomly chosen fetal heartrate differs from the mean by mmore than 25 bpm?**"
   ]
  },
  {
   "cell_type": "code",
   "execution_count": 12,
   "metadata": {},
   "outputs": [
    {
     "name": "stdout",
     "output_type": "stream",
     "text": [
      "Z1: -2.08\n",
      "Z2: 2.08\n",
      "\n",
      "(P < 115 ou  P > 165): 3.72 %\n"
     ]
    }
   ],
   "source": [
    "mu = 140\n",
    "sigma = 12\n",
    "\n",
    "xbar1 = mu - 25\n",
    "xbar2 = mu + 25\n",
    "\n",
    "z1 = (xbar1 - mu) / sigma\n",
    "z2 = (xbar2 - mu) / sigma\n",
    "\n",
    "P1 = norm.cdf(z1, 0, 1)  # we want right side\n",
    "P2 = norm.cdf(-z2, 0, 1)  # we want left side\n",
    "\n",
    "P = P1 + P2\n",
    "\n",
    "print(\"Z1:\", round(z1,2))\n",
    "print(\"Z2:\", round(z2,2))\n",
    "print()\n",
    "print(\"(P < 115 ou  P > 165):\", round(P*100,2),\"%\")"
   ]
  },
  {
   "cell_type": "markdown",
   "metadata": {},
   "source": [
    "**The average person plays video games 7.5 hours per week with standard deviation of 3 hours. If I choose 110 peope randomly, what is the probability that their mean game play is more than 8 hrs per week?**"
   ]
  },
  {
   "cell_type": "code",
   "execution_count": 13,
   "metadata": {},
   "outputs": [
    {
     "name": "stdout",
     "output_type": "stream",
     "text": [
      "Z: 1.75\n",
      "\n",
      "(P > 8hrs): 4.02 %\n"
     ]
    }
   ],
   "source": [
    "mu = 7.5\n",
    "sigma = 3\n",
    "\n",
    "n = 110 # > 30, Normal Distribution\n",
    "\n",
    "s = sigma / np.sqrt(n)\n",
    "\n",
    "xbar = 8\n",
    "\n",
    "z = (xbar - mu) / s\n",
    "\n",
    "P = norm.cdf(-z, 0, 1)     # We want the right side\n",
    "\n",
    "print(\"Z:\", round(z,2))   \n",
    "print()\n",
    "print(\"(P > 8hrs):\", round(P*100,2),\"%\")"
   ]
  },
  {
   "cell_type": "markdown",
   "metadata": {},
   "source": [
    "**In a city with 100,000 people, 79% of voters in a city are Democrats. If sample 100 people, what is the probability that more than 68 mil vote Democrats?**"
   ]
  },
  {
   "cell_type": "code",
   "execution_count": 14,
   "metadata": {},
   "outputs": [
    {
     "name": "stdout",
     "output_type": "stream",
     "text": [
      "Z: -2.7\n",
      "\n",
      "(P > 68 mil): 99.65 %\n"
     ]
    }
   ],
   "source": [
    "p = 0.79\n",
    "n = 100 # > 30, Normal Distribution\n",
    "\n",
    "# n*p = 79  >= 5, check\n",
    "# n*(1-p) = 21 >= 5, check\n",
    "\n",
    "phat = 68/100\n",
    "\n",
    "z = (phat - p) / np.sqrt( (p*(1-p)) / (n) )\n",
    "\n",
    "P = norm.cdf(-z, 0, 1)     # We want the right side\n",
    "\n",
    "print(\"Z:\", round(z,2))   \n",
    "print()\n",
    "print(\"(P > 68 mil):\", round(P*100,2),\"%\")"
   ]
  },
  {
   "cell_type": "markdown",
   "metadata": {},
   "source": [
    "**47% of people in a city want to buy a bike. If we survey 61 people randomly, what is the probability that less than 40% want to buy a bike?**"
   ]
  },
  {
   "cell_type": "code",
   "execution_count": 15,
   "metadata": {},
   "outputs": [
    {
     "name": "stdout",
     "output_type": "stream",
     "text": [
      "Z: -1.1\n",
      "\n",
      "(P < 40% buy a bike): 13.67 %\n"
     ]
    }
   ],
   "source": [
    "p = 0.47\n",
    "n = 61 # > 30, Normal Distribution\n",
    "\n",
    "# n*p = 28.7     >= 5, check\n",
    "# n*(1-p) = 32.3 >= 5, check\n",
    "\n",
    "phat = 0.4\n",
    "\n",
    "z = (phat - p) / np.sqrt( (p*(1-p)) / (n) )\n",
    "\n",
    "P = norm.cdf(z, 0, 1)     # We want the left side\n",
    "\n",
    "print(\"Z:\", round(z,2))   \n",
    "print()\n",
    "print(\"(P < 40% buy a bike):\", round(P*100,2),\"%\")"
   ]
  },
  {
   "cell_type": "markdown",
   "metadata": {},
   "source": [
    "## Confidence Interval"
   ]
  },
  {
   "cell_type": "markdown",
   "metadata": {},
   "source": [
    "**A survey of 200 males shows that they read on average 15.7 hours per week. If the margin of error is 2.2 hours at 95% confidence, construct the confidence interval.**"
   ]
  },
  {
   "cell_type": "code",
   "execution_count": 16,
   "metadata": {},
   "outputs": [
    {
     "name": "stdout",
     "output_type": "stream",
     "text": [
      "95% C.I.: (113.5, 117.9)\n"
     ]
    }
   ],
   "source": [
    "xbar = 115.7\n",
    "E = 2.2\n",
    "\n",
    "lcb = xbar - E   # Lower class boundary\n",
    "ucb = xbar + E   # Upper class boundary\n",
    "\n",
    "print('95% C.I.:',(lcb,ucb))"
   ]
  },
  {
   "cell_type": "markdown",
   "metadata": {},
   "source": [
    "**A survey of 600 people finds they sleep an average of 10.5 hours per night. If the margin of error at 98% confidence level is 1.3 hours, construct C.I.**"
   ]
  },
  {
   "cell_type": "code",
   "execution_count": 17,
   "metadata": {},
   "outputs": [
    {
     "name": "stdout",
     "output_type": "stream",
     "text": [
      "98% C.I.: (9.2, 11.8)\n"
     ]
    }
   ],
   "source": [
    "xbar = 10.5\n",
    "E = 1.3\n",
    "\n",
    "lcb = xbar - E\n",
    "ucb = xbar + E\n",
    "\n",
    "print('98% C.I.:',(lcb,ucb))"
   ]
  },
  {
   "cell_type": "markdown",
   "metadata": {},
   "source": [
    "**We ask 100 people how much a Supreme Pizza costs. The average answer is \\\\$25.99 with standard deviation of $15.50. Construct a 99% C.I. that contains the average price of a Supreme Pizza nationwide.**"
   ]
  },
  {
   "cell_type": "code",
   "execution_count": 18,
   "metadata": {},
   "outputs": [
    {
     "data": {
      "text/plain": [
       "3.9928000000000003"
      ]
     },
     "execution_count": 18,
     "metadata": {},
     "output_type": "execute_result"
    }
   ],
   "source": [
    "xbar = 25.99\n",
    "n = 100\n",
    "s = 15.5\n",
    "z = 2.576   # z for 99% C.I.\n",
    "\n",
    "E = z * ( s / np.sqrt(n))\n",
    "E"
   ]
  },
  {
   "cell_type": "code",
   "execution_count": 19,
   "metadata": {},
   "outputs": [
    {
     "name": "stdout",
     "output_type": "stream",
     "text": [
      "99% C.I.: (21.9972, 29.982799999999997)\n"
     ]
    }
   ],
   "source": [
    "lcb = xbar - E\n",
    "ucb = xbar + E\n",
    "\n",
    "print('99% C.I.:',(lcb,ucb))"
   ]
  },
  {
   "cell_type": "markdown",
   "metadata": {},
   "source": [
    "**78 students surveyed said that study an average of 15 hours per week with standard deviation of 2.3 hours. What is the margin of error for 90% C.I. for the student population:**"
   ]
  },
  {
   "cell_type": "code",
   "execution_count": 20,
   "metadata": {},
   "outputs": [
    {
     "data": {
      "text/plain": [
       "0.42839701586860773"
      ]
     },
     "execution_count": 20,
     "metadata": {},
     "output_type": "execute_result"
    }
   ],
   "source": [
    "xbar = 15\n",
    "n = 78\n",
    "s = 2.3\n",
    "z = 1.645   # z for 90% C.I.\n",
    "\n",
    "E = z * ( s / np.sqrt(n))\n",
    "E"
   ]
  },
  {
   "cell_type": "code",
   "execution_count": 21,
   "metadata": {},
   "outputs": [
    {
     "name": "stdout",
     "output_type": "stream",
     "text": [
      "90% C.I.: (14.571602984131392, 15.428397015868608)\n"
     ]
    }
   ],
   "source": [
    "lcb = xbar - E\n",
    "ucb = xbar + E\n",
    "\n",
    "print('90% C.I.:',(lcb,ucb))"
   ]
  },
  {
   "cell_type": "markdown",
   "metadata": {},
   "source": [
    "**85 home owners answered that they spend \\\\$67 per month on repairs with standard deviation of \\\\$14. Find the 99% Confidence Interval for how much money spent on repairs per month by all home owners.**"
   ]
  },
  {
   "cell_type": "code",
   "execution_count": 22,
   "metadata": {},
   "outputs": [
    {
     "name": "stdout",
     "output_type": "stream",
     "text": [
      "99% C.I.: (63.0883, 70.9117)\n"
     ]
    }
   ],
   "source": [
    "n = 85\n",
    "xbar = 67\n",
    "s = 14\n",
    "z = 2.576   # z for 99% C.I.\n",
    "\n",
    "E = z * ( s / np.sqrt(n))\n",
    "\n",
    "lcb = round(xbar - E, 4)\n",
    "ucb = round(xbar + E, 4)\n",
    "\n",
    "\n",
    "print('99% C.I.:',(lcb,ucb))"
   ]
  },
  {
   "cell_type": "markdown",
   "metadata": {},
   "source": [
    "## T-Student Distribution"
   ]
  },
  {
   "cell_type": "markdown",
   "metadata": {},
   "source": [
    "**25 tigers were found to have average weight of 600 pounds with standard deviation of 90 pounds. What is the margin of error on a 98% confidence interval?**"
   ]
  },
  {
   "cell_type": "code",
   "execution_count": 23,
   "metadata": {},
   "outputs": [
    {
     "data": {
      "text/plain": [
       "2.4921594731575762"
      ]
     },
     "execution_count": 23,
     "metadata": {},
     "output_type": "execute_result"
    }
   ],
   "source": [
    "n = 25     # < 30, t-student distribution\n",
    "\n",
    "xbar = 600\n",
    "s = 90\n",
    "\n",
    "loc = 0.98\n",
    "alpha = (1-loc)/2\n",
    "\n",
    "dof = n - 1\n",
    "\n",
    "t = scipy.stats.t.ppf(alpha, dof)\n",
    "t = abs(t)\n",
    "t"
   ]
  },
  {
   "cell_type": "code",
   "execution_count": 24,
   "metadata": {},
   "outputs": [
    {
     "name": "stdout",
     "output_type": "stream",
     "text": [
      "44.86 pounds\n"
     ]
    }
   ],
   "source": [
    "E = t * ( s / np.sqrt(n))\n",
    "\n",
    "print(round(E,2),'pounds')"
   ]
  },
  {
   "cell_type": "markdown",
   "metadata": {},
   "source": [
    "**A sample of 4 bus crashes show on average 49 people died with standard deviation f 15. Find a 99% confidence interval for the number of fatalities in a bus crash nationwide.**"
   ]
  },
  {
   "cell_type": "code",
   "execution_count": 25,
   "metadata": {},
   "outputs": [
    {
     "data": {
      "text/plain": [
       "5.84090929975643"
      ]
     },
     "execution_count": 25,
     "metadata": {},
     "output_type": "execute_result"
    }
   ],
   "source": [
    "n = 4     # < 30, t-student distribution\n",
    "\n",
    "xbar = 49\n",
    "s = 15\n",
    "\n",
    "loc = 0.99\n",
    "alpha = (1-loc)/2\n",
    "\n",
    "dof = n - 1\n",
    "\n",
    "t = scipy.stats.t.ppf(alpha, dof)\n",
    "t = abs(t)\n",
    "t"
   ]
  },
  {
   "cell_type": "code",
   "execution_count": 26,
   "metadata": {},
   "outputs": [
    {
     "name": "stdout",
     "output_type": "stream",
     "text": [
      "90% C.I.: (5.1931802518267745, 92.80681974817323)\n"
     ]
    }
   ],
   "source": [
    "E = t * ( s / np.sqrt(n))\n",
    "\n",
    "lcb = xbar - E\n",
    "ucb = xbar + E\n",
    "\n",
    "print('90% C.I.:',(lcb,ucb))"
   ]
  },
  {
   "cell_type": "markdown",
   "metadata": {},
   "source": [
    "## Error in Proportions C.I."
   ]
  },
  {
   "cell_type": "markdown",
   "metadata": {},
   "source": [
    "**13 out of 147 teachers know sign language. Find the margin of error for a 90% confidence interval for the proportion of teachers who know sign language.**"
   ]
  },
  {
   "cell_type": "code",
   "execution_count": 27,
   "metadata": {},
   "outputs": [
    {
     "name": "stdout",
     "output_type": "stream",
     "text": [
      "3.85 %\n"
     ]
    }
   ],
   "source": [
    "n = 147\n",
    "\n",
    "phat = 13/147\n",
    "\n",
    "z = 1.645   # z for 90% C.I.\n",
    "\n",
    "E = z * np.sqrt( (phat*(1-phat)) / n )\n",
    "\n",
    "print(round(E*100,2),'%')"
   ]
  },
  {
   "cell_type": "markdown",
   "metadata": {},
   "source": [
    "**190 adults are surveyed and 71 say that they eat out regularly. Construct a 95% C.I. for the proportion of adults who eat out regulaarly.**"
   ]
  },
  {
   "cell_type": "code",
   "execution_count": 28,
   "metadata": {},
   "outputs": [
    {
     "name": "stdout",
     "output_type": "stream",
     "text": [
      "95% C.I.(in percentage): (30.49, 44.25)\n"
     ]
    }
   ],
   "source": [
    "n = 190\n",
    "\n",
    "phat = 71/190\n",
    "\n",
    "z = 1.960   # z for 95% C.I.\n",
    "\n",
    "E = z * np.sqrt( (phat * (1-phat)) / (n) )\n",
    "\n",
    "lcb = phat - E\n",
    "ucb = phat + E\n",
    "\n",
    "lcbp = round(lcb*100, 2)\n",
    "ucbp = round(ucb*100, 2)\n",
    "\n",
    "print('95% C.I.(in percentage):',(lcbp,ucbp))"
   ]
  },
  {
   "cell_type": "markdown",
   "metadata": {},
   "source": [
    "**You want to find a 98% C.I. for the proportion of college students who get a student loan. You read an estimate that states that around 78% of students to get a loan. You want your max error to be 5%. How many samples do you need?**"
   ]
  },
  {
   "cell_type": "code",
   "execution_count": 29,
   "metadata": {},
   "outputs": [
    {
     "name": "stdout",
     "output_type": "stream",
     "text": [
      "372\n"
     ]
    }
   ],
   "source": [
    "phat= 0.78\n",
    "E = 0.05\n",
    "z = 2.326   # z for 98% C.I.\n",
    "\n",
    "n = (phat * (1-phat) * z**2) / (E**2)\n",
    "\n",
    "print(math.ceil(n))   # Round up the number"
   ]
  },
  {
   "cell_type": "markdown",
   "metadata": {},
   "source": [
    "## Chi-Square Distribution"
   ]
  },
  {
   "cell_type": "markdown",
   "metadata": {},
   "source": [
    "**A pencil factory is testing the variance in the mass of pencil produced. Sampling 15 pencils randomly shows variance of 3.4 grams. What is a 95% confidence interval for variance of all pencils produced?**"
   ]
  },
  {
   "cell_type": "code",
   "execution_count": 30,
   "metadata": {},
   "outputs": [
    {
     "name": "stdout",
     "output_type": "stream",
     "text": [
      "95% C.I.: (1.82, 8.46)\n"
     ]
    }
   ],
   "source": [
    "# Chi-Square Distribution (for variances and standards deviation)\n",
    "\n",
    "from scipy.stats import chi2_contingency\n",
    "from scipy.stats import chi2\n",
    "\n",
    "var = 3.4\n",
    "n = 15\n",
    "dof = n - 1\n",
    "\n",
    "loc = 0.95\n",
    "alpha_2 = (1-loc)/2\n",
    "one_alpha_2 = 1 - alpha_2\n",
    "\n",
    "\n",
    "area_left = chi2.ppf(alpha_2, dof)        # Area to the left\n",
    "\n",
    "area_right = chi2.ppf(one_alpha_2, dof)   # Area to the right\n",
    "\n",
    "lcb = (dof * var) / area_right\n",
    "ucb = (dof * var) / area_left\n",
    "\n",
    "lcbr = round(lcb, 2)\n",
    "ucbr = round(ucb, 2)\n",
    "\n",
    "print('95% C.I.:',(lcbr,ucbr))"
   ]
  },
  {
   "cell_type": "markdown",
   "metadata": {},
   "source": [
    "**On a factory assembly line for soft drinks, 40 are sampled and the amount of liquid inside had a standard deviation of 7.7 ml. Find a 98% C.I. for the standard deviation of liquid in the drinks produced by this factory.**"
   ]
  },
  {
   "cell_type": "code",
   "execution_count": 31,
   "metadata": {},
   "outputs": [
    {
     "name": "stdout",
     "output_type": "stream",
     "text": [
      "98% C.I.(in ml): (6.09, 10.39)\n"
     ]
    }
   ],
   "source": [
    "# Chi-Square Distribution (for variances and standards deviation)\n",
    "\n",
    "#from scipy.stats import chi2_contingency\n",
    "#from scipy.stats import chi2\n",
    "\n",
    "s = 7.7\n",
    "var = s**2\n",
    "n = 40\n",
    "dof = n - 1\n",
    "\n",
    "loc = 0.98\n",
    "alpha_2 = (1-loc)/2\n",
    "one_alpha_2 = 1 - alpha_2\n",
    "\n",
    "\n",
    "area_left = chi2.ppf(alpha_2, dof)         # Area to the left\n",
    "\n",
    "area_right = chi2.ppf(one_alpha_2, dof)    # Area to the right\n",
    "\n",
    "lcb = np.sqrt( (dof * var) / area_right )  # \"squrt, because now we want the answeer in\n",
    "ucb = np.sqrt( (dof * var) / area_left )   #  standard deviation and not in variance\"\n",
    "\n",
    "lcbr = round(lcb, 2)\n",
    "ucbr = round(ucb, 2)\n",
    "\n",
    "print('98% C.I.(in ml):',(lcbr,ucbr))"
   ]
  },
  {
   "cell_type": "markdown",
   "metadata": {},
   "source": [
    "## Hypothesis Test"
   ]
  },
  {
   "cell_type": "markdown",
   "metadata": {},
   "source": [
    "**Doctors at a hospital believe they see on average at least 8 patients per day. Management claims that they don't see this many patients consistently. They sample 19 doctors who report a sample mean of 7.5 patients seen per day with standard deviation of 11 patients. Test management's claim at 0.025 level of significance.**"
   ]
  },
  {
   "cell_type": "code",
   "execution_count": 32,
   "metadata": {},
   "outputs": [],
   "source": [
    "# Ho = mu >= 8\n",
    "# Ha = mu < 8      -> left tail test"
   ]
  },
  {
   "cell_type": "markdown",
   "metadata": {},
   "source": [
    "<img src=\"images/lefttailtest.jpg\"/>"
   ]
  },
  {
   "cell_type": "code",
   "execution_count": 33,
   "metadata": {},
   "outputs": [
    {
     "data": {
      "text/plain": [
       "-2.10092204024096"
      ]
     },
     "execution_count": 33,
     "metadata": {},
     "output_type": "execute_result"
    }
   ],
   "source": [
    "alpha = 0.025\n",
    "\n",
    "n = 19        # < 30, t-student distribution\n",
    "dof = n - 1\n",
    "\n",
    "mu = 8\n",
    "xbar = 7.5\n",
    "s = 1.1\n",
    "\n",
    "# t-critical\n",
    "t_alpha = scipy.stats.t.ppf(alpha, dof)\n",
    "t_alpha"
   ]
  },
  {
   "cell_type": "code",
   "execution_count": 34,
   "metadata": {},
   "outputs": [
    {
     "data": {
      "text/plain": [
       "-1.981317701609397"
      ]
     },
     "execution_count": 34,
     "metadata": {},
     "output_type": "execute_result"
    }
   ],
   "source": [
    "# t-statistic\n",
    "t_stat = (xbar - mu) / (s / np.sqrt(n))\n",
    "t_stat"
   ]
  },
  {
   "cell_type": "code",
   "execution_count": 35,
   "metadata": {},
   "outputs": [
    {
     "name": "stdout",
     "output_type": "stream",
     "text": [
      "Fail to reject Ho.\n"
     ]
    }
   ],
   "source": [
    "# left tail test: \n",
    "#\n",
    "# If t-statistic > t-critical   i.e, if t-statistic is at left to t-critical  -> Reject Ho!\n",
    "\n",
    "if abs(t_stat) < abs(t_alpha):\n",
    "    print('Fail to reject Ho.')\n",
    "else:\n",
    "    print('Reject Ho.')"
   ]
  },
  {
   "cell_type": "markdown",
   "metadata": {},
   "source": [
    "**A gocery store assumes that average shopper spends no more thann \\\\$100 in the store. The new store manager believes that they spend more. He chooses 27 shoppers randmly and they spend an average \\\\$104.93 with a stanndard deviation of $9.07. Test the manager's claim at the 0.05 significance level.**"
   ]
  },
  {
   "cell_type": "code",
   "execution_count": 36,
   "metadata": {},
   "outputs": [],
   "source": [
    "# Ho: mu =< 100\n",
    "# Ha: mu > 100   -> right tail test"
   ]
  },
  {
   "cell_type": "markdown",
   "metadata": {},
   "source": [
    "<img src=\"images/righttailtest.jpg\"/>"
   ]
  },
  {
   "cell_type": "code",
   "execution_count": 37,
   "metadata": {},
   "outputs": [
    {
     "name": "stdout",
     "output_type": "stream",
     "text": [
      "t_alpha: 1.7056179197592731\n",
      "\n",
      "t-statistic: 2.824369508703829\n",
      "\n",
      "Reject Ho!\n"
     ]
    }
   ],
   "source": [
    "alpha = 0.05\n",
    "\n",
    "n = 27        # < 30, t-student distribution\n",
    "dof = n - 1\n",
    "\n",
    "mu = 100\n",
    "xbar = 104.93\n",
    "s = 9.07\n",
    "\n",
    "# t-critical\n",
    "t_alpha = scipy.stats.t.ppf(alpha, dof)\n",
    "\n",
    "# t-statistic\n",
    "t_stat = (xbar - mu) / (s / np.sqrt(n))\n",
    "\n",
    "print('t_alpha:',abs(t_alpha))\n",
    "print()\n",
    "print('t-statistic:', t_stat)\n",
    "print()\n",
    "\n",
    "if abs(t_stat) < abs(t_alpha):\n",
    "    print('Fail to reject Ho.')\n",
    "else:\n",
    "    print('Reject Ho!')"
   ]
  },
  {
   "cell_type": "markdown",
   "metadata": {},
   "source": [
    "**At water bottling factory, a machine is supposed to put 2 liters of water into the bottles. After an overhaul, management thinks the machine is no longer putting the correct amount of water in. They sample 20 bottles and find an average of 2.10L of water with standard deviation of 0.33L. Test the claim at 0.01 level of significance.**"
   ]
  },
  {
   "cell_type": "code",
   "execution_count": 38,
   "metadata": {},
   "outputs": [],
   "source": [
    "# Ho: mu == 2L\n",
    "# Ha: mu != 2L    -> 2 tail test"
   ]
  },
  {
   "cell_type": "markdown",
   "metadata": {},
   "source": [
    "<img src=\"images/2tailtest.jpg\"/>"
   ]
  },
  {
   "cell_type": "code",
   "execution_count": 39,
   "metadata": {},
   "outputs": [
    {
     "name": "stdout",
     "output_type": "stream",
     "text": [
      "t_alpha: 2.860934606449914\n",
      "\n",
      "t-statistic: 1.3551927136362374\n",
      "\n",
      "Fail to reject Ho.\n"
     ]
    }
   ],
   "source": [
    "alpha = 0.01\n",
    "alpha_2 = alpha / 2      # 2 tail test\n",
    "\n",
    "n = 20                   # < 30, t-student distribution\n",
    "dof = n - 1\n",
    "\n",
    "mu = 2\n",
    "xbar = 2.1\n",
    "s = 0.33\n",
    "\n",
    "# t-critical\n",
    "t_alpha_2 = scipy.stats.t.ppf(alpha_2, dof)\n",
    "\n",
    "# t-statistic\n",
    "t = (xbar - mu) / (s / np.sqrt(n))\n",
    "\n",
    "print('t_alpha:',abs(t_alpha_2))\n",
    "print()\n",
    "print('t-statistic:', t)\n",
    "print()\n",
    "\n",
    "if ( -abs(t_alpha_2) < t) and (t < abs(t_alpha_2)) :\n",
    "    print('Fail to reject Ho.')\n",
    "else:\n",
    "    print('Reject Ho!')"
   ]
  },
  {
   "cell_type": "markdown",
   "metadata": {},
   "source": [
    "**A magazine report that teenagers make on average at least 4 phone calls per night. The school principal thinks that the magazine is wrong. He samples 25 teens and gets an average of 3.4 calls per night with a standard deviation of 0.9 calls. Test the principals claim at a 99% level of confidence.**"
   ]
  },
  {
   "cell_type": "code",
   "execution_count": 40,
   "metadata": {},
   "outputs": [],
   "source": [
    "# Ho: mu >= 4 calls\n",
    "# Ha: mu < 4 calls  -> left tail test"
   ]
  },
  {
   "cell_type": "markdown",
   "metadata": {},
   "source": [
    "<img src=\"images/lefttailtest.jpg\"/>"
   ]
  },
  {
   "cell_type": "code",
   "execution_count": 41,
   "metadata": {},
   "outputs": [
    {
     "name": "stdout",
     "output_type": "stream",
     "text": [
      "t_alpha: -2.49\n",
      "\n",
      "t-statistic: -3.33\n",
      "\n",
      "Reject Ho!\n"
     ]
    }
   ],
   "source": [
    "alpha = 0.01\n",
    "\n",
    "n = 25        # < 30, t-student distribution\n",
    "dof = n - 1\n",
    "\n",
    "mu = 4\n",
    "xbar = 3.4\n",
    "s = 0.9\n",
    "\n",
    "# t-critical\n",
    "t_alpha = round( scipy.stats.t.ppf(alpha, dof), 2)  # area on the left\n",
    "\n",
    "# t-statistic\n",
    "t_stat = round( (xbar - mu) / (s / np.sqrt(n)), 2)\n",
    "\n",
    "print('t_alpha:', t_alpha)\n",
    "print()\n",
    "print('t-statistic:', t_stat)\n",
    "print()\n",
    "\n",
    "\n",
    "if t_stat < t_alpha:    ### Left Analysis ###\n",
    "    print('Reject Ho!')\n",
    "else:\n",
    "    print('Fail to reject Ho.')"
   ]
  },
  {
   "cell_type": "markdown",
   "metadata": {},
   "source": [
    "**A pizza chain advertises they will deliver your pizza in no more than 20 min from when you placee the order. You don't believe this and decide to test the claim at 95% level of confidence. You sample 7 friends who report an average of 22.7 min delivery time with standard deviation of 4.3 min. Test the claim.**"
   ]
  },
  {
   "cell_type": "code",
   "execution_count": 42,
   "metadata": {},
   "outputs": [],
   "source": [
    "# Ho: mu =< 20 min\n",
    "# Ha: mu > 20 min  -> right tail test"
   ]
  },
  {
   "cell_type": "markdown",
   "metadata": {},
   "source": [
    "<img src=\"images/righttailtest.jpg\"/>"
   ]
  },
  {
   "cell_type": "code",
   "execution_count": 43,
   "metadata": {},
   "outputs": [
    {
     "name": "stdout",
     "output_type": "stream",
     "text": [
      "t_alpha: 1.94\n",
      "\n",
      "t-statistic: 1.66\n",
      "\n",
      "Fail to reject Ho.\n"
     ]
    }
   ],
   "source": [
    "alpha = 0.05\n",
    "\n",
    "n = 7        # < 30, t-student distribution\n",
    "dof = n - 1\n",
    "\n",
    "mu = 20\n",
    "xbar = 22.7\n",
    "s = 4.3\n",
    "\n",
    "# t-critical\n",
    "t_alpha = (-1) * round( scipy.stats.t.ppf(alpha, dof), 2)  # (-1)*, area on the right in t-distribution\n",
    "\n",
    "# t-statistic\n",
    "t_stat = round( (xbar - mu) / (s / np.sqrt(n)), 2)\n",
    "\n",
    "print('t_alpha:', t_alpha)\n",
    "print()\n",
    "print('t-statistic:', t_stat)\n",
    "print()\n",
    "\n",
    "\n",
    "if t_stat > t_alpha:    ### Right Analysis ###\n",
    "    print('Reject Ho!')\n",
    "else:\n",
    "    print('Fail to reject Ho.')"
   ]
  },
  {
   "cell_type": "markdown",
   "metadata": {},
   "source": [
    "**A computer company thinks it takes customers on average 15 min to set up their computer. A newly redesigned model has been launched, and managers want to know if it takes users different from 15 min to set up. They sample 20 users who report average of 14.1 min with standard deviation of 1.9 min. Test the claim at 0.05 level of significance.** "
   ]
  },
  {
   "cell_type": "code",
   "execution_count": 44,
   "metadata": {},
   "outputs": [],
   "source": [
    "# Ho: mu == 15 min\n",
    "# Ha: mu != 15 min    -> 2 tail test"
   ]
  },
  {
   "cell_type": "markdown",
   "metadata": {},
   "source": [
    "<img src=\"images/2tailtest.jpg\"/>"
   ]
  },
  {
   "cell_type": "code",
   "execution_count": 45,
   "metadata": {},
   "outputs": [
    {
     "name": "stdout",
     "output_type": "stream",
     "text": [
      "t_alpha: 2.09\n",
      "\n",
      "t-statistic: -2.12\n",
      "\n",
      "Reject Ho!\n"
     ]
    }
   ],
   "source": [
    "alpha = 0.05\n",
    "alpha_2 = alpha / 2      # 2 tail test\n",
    "\n",
    "n = 20                   # < 30, t-student distribution\n",
    "dof = n - 1\n",
    "\n",
    "mu = 15\n",
    "xbar = 14.1\n",
    "s = 1.9\n",
    "\n",
    "# t-critical\n",
    "t_alpha_2 = round(scipy.stats.t.ppf(alpha_2, dof), 2)\n",
    "\n",
    "# t-statistic\n",
    "t_stat = round((xbar - mu) / (s / np.sqrt(n)), 2)\n",
    "\n",
    "print('t_alpha:',abs(t_alpha_2))\n",
    "print()\n",
    "print('t-statistic:', t_stat)\n",
    "print()\n",
    "\n",
    "\n",
    "if ( (-1)*abs(t_stat) < (-1)*abs(t_alpha_2)) or (abs(t_stat) > abs(t_alpha_2)) :  ### 2 tail Analysis ###    \n",
    "    print('Reject Ho!')\n",
    "else:\n",
    "    print('Fail to reject Ho.')"
   ]
  },
  {
   "cell_type": "markdown",
   "metadata": {},
   "source": [
    "**Records show that students on average score less than or equal to 850 on a test. A test prep company says that students who take their course with score on average higher than this. To test, they sample 1000 students wh score an average of 856 with a standardd deviation of 98 after taking the course. At 0.05 level of significance, test the company claim.**"
   ]
  },
  {
   "cell_type": "code",
   "execution_count": 46,
   "metadata": {},
   "outputs": [],
   "source": [
    "# Ho: mu =< 850 pts\n",
    "# Ha: mu > 850 pts  -> right tail test"
   ]
  },
  {
   "cell_type": "markdown",
   "metadata": {},
   "source": [
    "<img src=\"images/righttailtest.jpg\"/>"
   ]
  },
  {
   "cell_type": "code",
   "execution_count": 47,
   "metadata": {},
   "outputs": [
    {
     "name": "stdout",
     "output_type": "stream",
     "text": [
      "t_alpha: 1.64\n",
      "\n",
      "t-statistic: 1.94\n",
      "\n",
      "Reject Ho!\n"
     ]
    }
   ],
   "source": [
    "alpha = 0.05\n",
    "loc = 1 - alpha\n",
    "\n",
    "n = 1000       # > 30, normal distribution\n",
    "\n",
    "mu = 850\n",
    "xbar = 856\n",
    "s = 98\n",
    "\n",
    "# t-critical\n",
    "t_alpha = round( norm.ppf(loc), 2)\n",
    "\n",
    "# t-statistic\n",
    "t_stat = round( (xbar - mu) / (s / np.sqrt(n)), 2)\n",
    "\n",
    "print('t_alpha:', t_alpha)\n",
    "print()\n",
    "print('t-statistic:', t_stat)\n",
    "print()\n",
    "\n",
    "\n",
    "if t_stat > t_alpha:    ### Right Analysis ###\n",
    "    print('Reject Ho!')\n",
    "else:\n",
    "    print('Fail to reject Ho.')"
   ]
  },
  {
   "cell_type": "markdown",
   "metadata": {},
   "source": [
    "## Hypothesis Test with p-value"
   ]
  },
  {
   "cell_type": "markdown",
   "metadata": {},
   "source": [
    "**A newspaper reports that the average age a woman gets a married is 25 years old or younger. A researcher thinks the average is older. He samples 213 women and gets an average age of 25.4 years with standard deviation of 2.3 years. With 95% level confidence, test the researcher's claim.**"
   ]
  },
  {
   "cell_type": "code",
   "execution_count": 48,
   "metadata": {},
   "outputs": [],
   "source": [
    "# Ho: mu =< 25 years\n",
    "# Ha: mu > 25 years  -> right tail test"
   ]
  },
  {
   "cell_type": "markdown",
   "metadata": {},
   "source": [
    "<img src=\"images/righttailtest.jpg\"/>"
   ]
  },
  {
   "cell_type": "code",
   "execution_count": 49,
   "metadata": {},
   "outputs": [
    {
     "name": "stdout",
     "output_type": "stream",
     "text": [
      "Z-statistic: 2.54\n",
      "P-value: 0.0056\n",
      "Alpha: 0.05\n",
      "\n",
      "p-value < alpha: Reject Ho!\n"
     ]
    }
   ],
   "source": [
    "alpha = 0.05\n",
    "\n",
    "mu = 25\n",
    "\n",
    "n = 213 # > 30, Normal Distribution\n",
    "xbar = 25.4\n",
    "s = 2.3\n",
    "\n",
    "z = (xbar - mu) / (s / np.sqrt(n))\n",
    "\n",
    "p_value = norm.cdf(-z, 0, 1)     # We want the right side in normal distribution\n",
    "\n",
    "print(\"Z-statistic:\", round(z,2))   \n",
    "print(\"P-value:\", round(p_value,4))\n",
    "print(\"Alpha:\", round(alpha,4))\n",
    "print()\n",
    "\n",
    "\n",
    "if p_value < alpha:    ### For All Analysis ###\n",
    "    print('p-value < alpha: Reject Ho!')\n",
    "else:\n",
    "    print('p-value > alpha: Fail to reject Ho.')"
   ]
  },
  {
   "cell_type": "markdown",
   "metadata": {},
   "source": [
    "**A study showed that on average women in a city had 1.48 kids. A researcher believes this number is wrong. He surveys 128 women in this city nd finds that on average these wmen had 1.39 kid with standard deviation of 0.84 kid. At 90% loc, test the claim.**"
   ]
  },
  {
   "cell_type": "code",
   "execution_count": 50,
   "metadata": {},
   "outputs": [],
   "source": [
    "# Ho: mu == 1.48 kid\n",
    "# Ha: mu != 1.39 kid   -> 2 tail test"
   ]
  },
  {
   "cell_type": "markdown",
   "metadata": {},
   "source": [
    "<img src=\"images/2tailtest.jpg\"/>"
   ]
  },
  {
   "cell_type": "code",
   "execution_count": 51,
   "metadata": {},
   "outputs": [
    {
     "name": "stdout",
     "output_type": "stream",
     "text": [
      "Z-statistic: -1.21\n",
      "P-value: 0.2254\n",
      "Alpha: 0.1\n",
      "\n",
      "p-value > alpha: Fail to reject Ho.\n"
     ]
    }
   ],
   "source": [
    "alpha = 0.10\n",
    "\n",
    "mu = 1.48\n",
    "\n",
    "n = 128 # > 30, Normal Distribution\n",
    "xbar = 1.39\n",
    "s = 0.84\n",
    "\n",
    "z = (xbar - mu) / (s / np.sqrt(n))\n",
    "\n",
    "p_value = (2) * norm.cdf(z, 0, 1)   # 2 areas\n",
    "\n",
    "print(\"Z-statistic:\", round(z,2))   \n",
    "print(\"P-value:\", round(p_value,4))\n",
    "print(\"Alpha:\", round(alpha,4))\n",
    "print()\n",
    "\n",
    "\n",
    "if p_value < alpha:    ### For All Analysis ###\n",
    "    print('p-value < alpha: Reject Ho!')\n",
    "else:\n",
    "    print('p-value > alpha: Fail to reject Ho.')"
   ]
  },
  {
   "cell_type": "markdown",
   "metadata": {},
   "source": [
    "**The government says the average weight of males is 162.9 pounds or greater. A researcher think this is too high. He does  study of 39 males and gets an average weight of 160.1 pounds with standard deviation of 5.6 pounds. At 0.01 level of significcance, test the claim.**"
   ]
  },
  {
   "cell_type": "code",
   "execution_count": 52,
   "metadata": {},
   "outputs": [],
   "source": [
    "# Ho: mu >= 162.9 lbs\n",
    "# Ha: mu < 162.9 lbs  -> left tail test"
   ]
  },
  {
   "cell_type": "markdown",
   "metadata": {},
   "source": [
    "<img src=\"images/lefttailtest.jpg\"/>"
   ]
  },
  {
   "cell_type": "code",
   "execution_count": 53,
   "metadata": {},
   "outputs": [
    {
     "name": "stdout",
     "output_type": "stream",
     "text": [
      "Z-statistic: -3.12\n",
      "P-value: 0.0009\n",
      "Alpha: 0.01\n",
      "\n",
      "p-value < alpha: Reject Ho!\n"
     ]
    }
   ],
   "source": [
    "alpha = 0.01\n",
    "\n",
    "mu = 162.9\n",
    "\n",
    "n = 39        # > 30, Normal Distribution\n",
    "xbar = 160.1\n",
    "s = 5.6\n",
    "\n",
    "z = (xbar - mu) / (s / np.sqrt(n))\n",
    "\n",
    "p_value = norm.cdf(z, 0, 1)\n",
    "\n",
    "print(\"Z-statistic:\", round(z,2))   \n",
    "print(\"P-value:\", round(p_value,4))\n",
    "print(\"Alpha:\", round(alpha,4))\n",
    "print()\n",
    "\n",
    "\n",
    "if p_value < alpha:    ### For All Analysis ###\n",
    "    print('p-value < alpha: Reject Ho!')\n",
    "else:\n",
    "    print('p-value > alpha: Fail to reject Ho.')"
   ]
  },
  {
   "cell_type": "markdown",
   "metadata": {},
   "source": [
    "**A local fire dept has been advertising that 65% of staff like their assigned gear.  A new hire believes that less than 65% like their gear, so he asked 50 firefighters and 27 said they did liked the gear. Test the claim at 95% level of confidence.**"
   ]
  },
  {
   "cell_type": "code",
   "execution_count": 54,
   "metadata": {},
   "outputs": [],
   "source": [
    "# Ho: p >=  0.65\n",
    "# Ha: p < 0.65  -> left tail test"
   ]
  },
  {
   "cell_type": "markdown",
   "metadata": {},
   "source": [
    "<img src=\"images/lefttailtest.jpg\"/>"
   ]
  },
  {
   "cell_type": "code",
   "execution_count": 55,
   "metadata": {},
   "outputs": [
    {
     "name": "stdout",
     "output_type": "stream",
     "text": [
      "Z-statistic: -1.63\n",
      "P-value: 0.0515\n",
      "Alpha: 0.05\n",
      "\n",
      "p-value > alpha: Fail to reject Ho.\n"
     ]
    }
   ],
   "source": [
    "alpha = 0.05\n",
    "\n",
    "n = 50        # > 30, Normal Distribution\n",
    "p = 0.65\n",
    "\n",
    "# n*p = 32.5     >= 5, check\n",
    "# n*(1-p) = 17.5 >= 5, check\n",
    "\n",
    "phat = 0.54\n",
    "\n",
    "z = (phat - p) / np.sqrt( (p*(1-p))/(n) )\n",
    "\n",
    "p_value = norm.cdf(z, 0, 1)\n",
    "\n",
    "print(\"Z-statistic:\", round(z,2))   \n",
    "print(\"P-value:\", round(p_value,4))\n",
    "print(\"Alpha:\", round(alpha,4))\n",
    "print()\n",
    "\n",
    "\n",
    "if p_value < alpha:    ### For All Analysis ###\n",
    "    print('p-value < alpha: Reject Ho!')\n",
    "else:\n",
    "    print('p-value > alpha: Fail to reject Ho.')"
   ]
  },
  {
   "cell_type": "markdown",
   "metadata": {},
   "source": [
    "**A report states that at least 75% of women like red roses. Angie thinks this figure too high. She asks 125 women and finds that 92 do like red roses. At a 0.10 level of significance, test the claim.**"
   ]
  },
  {
   "cell_type": "code",
   "execution_count": 56,
   "metadata": {},
   "outputs": [],
   "source": [
    "# Ho: p >=  0.75\n",
    "# Ha: p < 0.75    -> left tail test"
   ]
  },
  {
   "cell_type": "markdown",
   "metadata": {},
   "source": [
    "<img src=\"images/lefttailtest.jpg\"/>"
   ]
  },
  {
   "cell_type": "code",
   "execution_count": 57,
   "metadata": {},
   "outputs": [
    {
     "name": "stdout",
     "output_type": "stream",
     "text": [
      "Z-statistic: -0.36\n",
      "P-value: 0.3589\n",
      "Alpha: 0.1\n",
      "\n",
      "p-value > alpha: Fail to reject Ho.\n"
     ]
    }
   ],
   "source": [
    "alpha = 0.10\n",
    "\n",
    "n = 125        # > 30, Normal Distribution\n",
    "p = 0.75\n",
    "\n",
    "# n*p = 32.5     >= 5, check\n",
    "# n*(1-p) = 17.5 >= 5, check\n",
    "\n",
    "phat = 92/125\n",
    "\n",
    "z = (phat - p) / np.sqrt( (p*(1-p))/(n) )\n",
    "\n",
    "p_value = norm.cdf(z, 0, 1)\n",
    "\n",
    "print(\"Z-statistic:\", round(z,2))   \n",
    "print(\"P-value:\", round(p_value,4))\n",
    "print(\"Alpha:\", round(alpha,4))\n",
    "print()\n",
    "\n",
    "\n",
    "if p_value < alpha:    ### For All Analysis ###\n",
    "    print('p-value < alpha: Reject Ho!')\n",
    "else:\n",
    "    print('p-value > alpha: Fail to reject Ho.')"
   ]
  },
  {
   "cell_type": "markdown",
   "metadata": {},
   "source": [
    "**A report states that 1% of college degrees are in mathematics. A researcher doesn't believe this is correct. He samples 12,317 graduates and finds that 128 have math degrees. Test the claim at 0.10 level of significance.**"
   ]
  },
  {
   "cell_type": "code",
   "execution_count": 58,
   "metadata": {},
   "outputs": [],
   "source": [
    "# Ho: p == 0.01 \n",
    "# Ha: p != 001   -> 2 tail test"
   ]
  },
  {
   "cell_type": "markdown",
   "metadata": {},
   "source": [
    "<img src=\"images/2tailtest.jpg\"/>"
   ]
  },
  {
   "cell_type": "code",
   "execution_count": 59,
   "metadata": {},
   "outputs": [
    {
     "name": "stdout",
     "output_type": "stream",
     "text": [
      "Z-statistic: 2.25\n",
      "P-value: 0.0245\n",
      "Alpha: 0.1\n",
      "\n",
      "p-value < alpha: Reject Ho!\n"
     ]
    }
   ],
   "source": [
    "alpha = 0.10\n",
    "\n",
    "n = 12317        # > 30, Normal Distribution\n",
    "p = 0.01\n",
    "\n",
    "# n*p     >= 5, check\n",
    "# n*(1-p) >= 5, check\n",
    "\n",
    "phat = 148/12317\n",
    "\n",
    "z = (phat - p) / np.sqrt( (p*(1-p))/(n) )  \n",
    "\n",
    "p_value =  2 * norm.cdf(-z, 0, 1)         # If z is positive, change de sign to cath the area on the left\n",
    "                                          # 2 * because 2 tail test\n",
    "print(\"Z-statistic:\", round(z,2))   \n",
    "print(\"P-value:\", round(p_value,4))\n",
    "print(\"Alpha:\", round(alpha,4))\n",
    "print()\n",
    "\n",
    "\n",
    "if p_value < alpha:    ### For All Analysis ###\n",
    "    print('p-value < alpha: Reject Ho!')\n",
    "else:\n",
    "    print('p-value > alpha: Fail to reject Ho.')"
   ]
  },
  {
   "cell_type": "markdown",
   "metadata": {},
   "source": [
    "## Hypothesis Test with Chi-Square"
   ]
  },
  {
   "cell_type": "markdown",
   "metadata": {},
   "source": [
    "**A pencil manufacturer requires that mass of their pencils have standar deviation that won't exceed 0.08 grams. An inspector thinks that the standar deviation is larger. He samples 30 pencils and finds they have a mean mass of 1.62 g and sandardd deviation of 0.0804 g. Test the clam at 0.05 level of significance.**"
   ]
  },
  {
   "cell_type": "code",
   "execution_count": 60,
   "metadata": {},
   "outputs": [],
   "source": [
    "# Ho: sigma =< 0.08 g\n",
    "# Ha: sigma > 0.08 g  -> right tail test"
   ]
  },
  {
   "cell_type": "markdown",
   "metadata": {},
   "source": [
    "<img src=\"images/chirightt.jpg\"/>"
   ]
  },
  {
   "cell_type": "code",
   "execution_count": 61,
   "metadata": {},
   "outputs": [
    {
     "name": "stdout",
     "output_type": "stream",
     "text": [
      "t_alpha: 42.56\n",
      "\n",
      "t-statistic: 29.29\n",
      "\n",
      "(t_statistic < t_alpha): Fail to reject Ho.\n"
     ]
    }
   ],
   "source": [
    "# Chi-Square Distribution (for variances and standards deviation)\n",
    "\n",
    "#from scipy.stats import chi2_contingency\n",
    "#from scipy.stats import chi2\n",
    "\n",
    "alpha = 0.05\n",
    "loc = 1 - alpha\n",
    "\n",
    "sigma = 0.08\n",
    "s = 0.0804\n",
    "n = 30\n",
    "dof = n-1\n",
    "\n",
    "\n",
    "# t-critical\n",
    "t_alpha = chi2.ppf(loc, dof)    # Area on the right\n",
    "\n",
    "# t-statistic\n",
    "t_stat = (dof * s**2) / (sigma**2)\n",
    "\n",
    "\n",
    "print('t_alpha:', round(t_alpha,2))\n",
    "print()\n",
    "print('t-statistic:', round(t_stat,2))\n",
    "print()\n",
    "\n",
    "\n",
    "if t_stat > t_alpha:    ### Right Analysis ###\n",
    "    print('(t_statistic > t_alpha): Reject Ho!')\n",
    "else:\n",
    "    print('(t_statistic < t_alpha): Fail to reject Ho.')"
   ]
  },
  {
   "cell_type": "markdown",
   "metadata": {},
   "source": [
    "**Drug A is know to have variance of 0.0009 in its active ingredient. Drug B claims to be better because  it has a smaller variance. Company B tests this by sampling 100 of drug B pills. The active ingredient has a mean of 2.47 mg and standard deviation of 0.026 mg. At 0.01 level of significance, test company B's claim.**"
   ]
  },
  {
   "cell_type": "code",
   "execution_count": 62,
   "metadata": {},
   "outputs": [],
   "source": [
    "# Ho: variance >=  0.0009\n",
    "# Ha: variance < 0.0009    -> left tail test"
   ]
  },
  {
   "cell_type": "markdown",
   "metadata": {},
   "source": [
    "<img src=\"images/chileftt.jpg\"/>"
   ]
  },
  {
   "cell_type": "code",
   "execution_count": 63,
   "metadata": {},
   "outputs": [
    {
     "name": "stdout",
     "output_type": "stream",
     "text": [
      "t_alpha: 69.23\n",
      "\n",
      "t-statistic: 74.36\n",
      "\n",
      "(t_statistic > t_alpha): Fail to reject Ho.\n"
     ]
    }
   ],
   "source": [
    "# Chi-Square Distribution (for variances and standards deviation)\n",
    "#from scipy.stats import chi2\n",
    "\n",
    "alpha = 0.01\n",
    "loc = 1 - alpha\n",
    "\n",
    "sigma_2 = 0.0009  # variance\n",
    "std = 0.026       # std from sample\n",
    "n = 100\n",
    "dof = n-1\n",
    "\n",
    "\n",
    "# t-critical\n",
    "t_alpha = chi2.ppf(alpha, dof)    # Area to the left\n",
    "\n",
    "\n",
    "# t-statistic\n",
    "t_stat = (dof * std**2) / (sigma_2)\n",
    "\n",
    "\n",
    "print('t_alpha:', round(t_alpha,2))\n",
    "print()\n",
    "print('t-statistic:', round(t_stat,2))\n",
    "print()\n",
    "\n",
    "\n",
    "if t_stat < t_alpha:    ### Left Analysis ###\n",
    "    print('(t_statistic < t_alpha): Reject Ho!')\n",
    "else:\n",
    "    print('(t_statistic > t_alpha): Fail to reject Ho.')"
   ]
  },
  {
   "cell_type": "markdown",
   "metadata": {},
   "source": [
    "**A pizza manufacturer says his pizzas have a variance in the diameter of 16 cm. He installs new equipment and now no longer thinks this is the case. He select 40 pizzas off the line and finds they have a standard deviation 3.2 cm. Test the claim at 90% level of confidence.**"
   ]
  },
  {
   "cell_type": "code",
   "execution_count": 64,
   "metadata": {},
   "outputs": [],
   "source": [
    "# Ho: variance == 16 cm \n",
    "# Ha: variance != 16 cm   -> 2 tail test"
   ]
  },
  {
   "cell_type": "markdown",
   "metadata": {},
   "source": [
    "<img src=\"images/chi2tailt.jpg\"/>"
   ]
  },
  {
   "cell_type": "code",
   "execution_count": 65,
   "metadata": {},
   "outputs": [
    {
     "name": "stdout",
     "output_type": "stream",
     "text": [
      "t (1-alpha/2): 25.7\n",
      "\n",
      "t (alpha/2): 54.57\n",
      "\n",
      "t-statistic: 24.96\n",
      "\n",
      "(t statistic < t 1-alpha/2) or (t statistic > t alpha/2): Reject Ho!\n"
     ]
    }
   ],
   "source": [
    "# Chi-Square Distribution (for variances and standards deviation)\n",
    "#from scipy.stats import chi2\n",
    "\n",
    "alpha = 0.10\n",
    "\n",
    "alpha_2 = alpha/2\n",
    "one_alpha_2 = 1 - alpha_2\n",
    "\n",
    "sigma_2 = 16    # variance\n",
    "s_2 = 3.2       # variance from sample\n",
    "n = 40\n",
    "dof = n-1\n",
    "\n",
    "\n",
    "# t-critical\n",
    "t_alpha_2 = chi2.ppf(alpha_2, dof)            # Area to the left\n",
    "t_one_alpha_2 = chi2.ppf(one_alpha_2, dof)    # Area on the right\n",
    "\n",
    "# t-statistic\n",
    "t_stat = (dof * s_2**2) / (sigma_2)\n",
    "\n",
    "print('t (1-alpha/2):', round(t_alpha_2,2))\n",
    "print()\n",
    "print('t (alpha/2):', round(t_one_alpha_2,2))\n",
    "print()\n",
    "print('t-statistic:', round(t_stat,2))\n",
    "print()\n",
    "\n",
    "\n",
    "if (t_stat < t_alpha_2) or (t_stat > t_one_alpha_2):    ### 2 tail Analysis ###\n",
    "    print('(t statistic < t 1-alpha/2) or (t statistic > t alpha/2): Reject Ho!')\n",
    "else:\n",
    "    print('(t 1-aplpha/2 < t statistic < t alpha/2): Fail to reject Ho.')"
   ]
  },
  {
   "cell_type": "markdown",
   "metadata": {},
   "source": [
    "## Hypothesis Test with 2 Means"
   ]
  },
  {
   "cell_type": "markdown",
   "metadata": {},
   "source": [
    "**A researcher thinks that grocery shoppers spend more when they haven't eaten. To test, he samples 41 shoppers who didn't eat breakfast. These people sent on average \\\\$71.27 with standard deviation of \\\\$8.05. 52 shoppers who did eat breakfast spent on average \\\\$69.43 with standard deviation $9.22. Test with 95% LOC.**"
   ]
  },
  {
   "cell_type": "code",
   "execution_count": 66,
   "metadata": {},
   "outputs": [],
   "source": [
    "# Ho: mu1 - mu2 =< 0\n",
    "# Ha: mu1 - mu2 > 0  -> right tail test"
   ]
  },
  {
   "cell_type": "markdown",
   "metadata": {},
   "source": [
    "<img src=\"images/righttailtest.jpg\"/>"
   ]
  },
  {
   "cell_type": "code",
   "execution_count": 67,
   "metadata": {},
   "outputs": [
    {
     "name": "stdout",
     "output_type": "stream",
     "text": [
      "Z-statistic: 1.58\n",
      "P-value: 0.0566\n",
      "Alpha: 0.05\n",
      "\n",
      "(p-value > alpha): Fail to reject Ho.\n"
     ]
    }
   ],
   "source": [
    "loc = 0.95\n",
    "alpha = 1 - loc\n",
    "\n",
    "\n",
    "# Empty (mu1)\n",
    "n1 = 41\n",
    "xbar1 = 72.27\n",
    "s1 = 8.05\n",
    "\n",
    "# Full (mu2)\n",
    "n2 = 52\n",
    "xbar2 = 69.43\n",
    "s2 = 9.22\n",
    "\n",
    "delta_mu = 0\n",
    "\n",
    "z = ( (xbar1 - xbar2) - (delta_mu) )/ (np.sqrt( (s1**2/n1) + (s2**2/n2) ))\n",
    "\n",
    "p_value = norm.cdf(-z, 0, 1)     # We want the right side in normal distribution\n",
    "\n",
    "\n",
    "print(\"Z-statistic:\", round(z,2))   \n",
    "print(\"P-value:\", round(p_value,4))\n",
    "print(\"Alpha:\", round(alpha,4))\n",
    "print()\n",
    "\n",
    "\n",
    "if p_value < alpha:    ### For All Analysis ###\n",
    "    print('(p-value < alpha): Reject Ho!')\n",
    "else:\n",
    "    print('(p-value > alpha): Fail to reject Ho.')"
   ]
  },
  {
   "cell_type": "markdown",
   "metadata": {},
   "source": [
    "**A new cholesterol drug claims to lower cholesterol by over 20 pts. Group A of 55 people eercise and take the drug and lower cholesterol by average of 44.7 pts with standdard deviation of 6.8 pts. Group B is 55 different people who exeercise but don't take the drug and lower cholesterol by average 23.1 pts with standard deviation 5.3 pts. Tet at 0.01 LOC.**"
   ]
  },
  {
   "cell_type": "code",
   "execution_count": 68,
   "metadata": {},
   "outputs": [],
   "source": [
    "# Ho: mu1 - mu2 =< 20\n",
    "# Ha: mu1 - mu2 > 20  -> right tail test"
   ]
  },
  {
   "cell_type": "markdown",
   "metadata": {},
   "source": [
    "<img src=\"images/righttailtest.jpg\"/>"
   ]
  },
  {
   "cell_type": "code",
   "execution_count": 69,
   "metadata": {},
   "outputs": [
    {
     "name": "stdout",
     "output_type": "stream",
     "text": [
      "Z-statistic: 1.38\n",
      "P-value: 0.0844\n",
      "Alpha: 0.01\n",
      "\n",
      "(p-value > alpha): Fail to reject Ho.\n"
     ]
    }
   ],
   "source": [
    "loc = 0.99\n",
    "alpha = 1 - loc\n",
    "\n",
    "\n",
    "# Group A (take the drug)\n",
    "n1 = 55\n",
    "xbar1 = 44.7\n",
    "s1 = 6.8\n",
    "\n",
    "# Group B (not take the drug)\n",
    "n2 = 55\n",
    "xbar2 = 23.1\n",
    "s2 = 5.3\n",
    "\n",
    "delta_mu = 20\n",
    "\n",
    "z = ( (xbar1 - xbar2) - (delta_mu) )/ (np.sqrt( (s1**2/n1) + (s2**2/n2) ))\n",
    "\n",
    "p_value = norm.cdf(-z, 0, 1)     # We want the right side in normal distribution\n",
    "\n",
    "\n",
    "print(\"Z-statistic:\", round(z,2))   \n",
    "print(\"P-value:\", round(p_value,4))\n",
    "print(\"Alpha:\", round(alpha,4))\n",
    "print()\n",
    "\n",
    "\n",
    "if p_value < alpha:    ### For All Analysis ###\n",
    "    print('(p-value < alpha): Reject Ho!')\n",
    "else:\n",
    "    print('(p-value > alpha): Fail to reject Ho.')"
   ]
  },
  {
   "cell_type": "markdown",
   "metadata": {},
   "source": [
    "**It was always accepted that people from two nearby cities exercises the same amount. A researcher proposes that the two cities don't exercise the same. City A asks 36 people who answer that they exercise on average 2.9 hours/week with standard deviation 1.1 h/w. City B asks 38 people who answer they exercise 2.7 hours/week with standard deviation 1.0 h/w. test claim at 0.05 level off significancce.**"
   ]
  },
  {
   "cell_type": "code",
   "execution_count": 70,
   "metadata": {},
   "outputs": [],
   "source": [
    "# Ho: mu1 - mu2 == 0 \n",
    "# Ha: mu1 - mu2 != 0   -> 2 tail test"
   ]
  },
  {
   "cell_type": "markdown",
   "metadata": {},
   "source": [
    "<img src=\"images/2tailtest.jpg\"/>"
   ]
  },
  {
   "cell_type": "code",
   "execution_count": 71,
   "metadata": {},
   "outputs": [
    {
     "name": "stdout",
     "output_type": "stream",
     "text": [
      "Z-statistic: 0.82\n",
      "P-value: 0.4139\n",
      "Alpha: 0.05\n",
      "\n",
      "(p-value > alpha): Fail to reject Ho.\n"
     ]
    }
   ],
   "source": [
    "alpha = 0.05\n",
    "\n",
    "# City A\n",
    "n1 = 36\n",
    "xbar1 = 2.9\n",
    "s1 = 1.1\n",
    "\n",
    "# City B\n",
    "n2 = 38\n",
    "xbar2 = 2.7\n",
    "s2 = 1.0\n",
    "\n",
    "delta_mu = 0\n",
    "\n",
    "z = ( (xbar1 - xbar2) - (delta_mu) )/ (np.sqrt( (s1**2/n1) + (s2**2/n2) ))\n",
    "\n",
    "p_value = 2 * norm.cdf(-z, 0, 1)     # We want the right side in normal distribution\n",
    "                                     # (2*) because is a 2 tail test\n",
    "\n",
    "print(\"Z-statistic:\", round(z,2))   \n",
    "print(\"P-value:\", round(p_value,4))\n",
    "print(\"Alpha:\", round(alpha,4))\n",
    "print()\n",
    "\n",
    "\n",
    "if p_value < alpha:    ### For All Analysis ###\n",
    "    print('(p-value < alpha): Reject Ho!')\n",
    "else:\n",
    "    print('(p-value > alpha): Fail to reject Ho.')"
   ]
  },
  {
   "cell_type": "markdown",
   "metadata": {},
   "source": [
    "**It's claimed that people who go to home improvement classes finish projects in ess time. Group A is 10 people who attend a class. on average, they finish projects in 14.1 hours with standard deviation of 2.3 hs. Group B is 10 people who don't attend a cass and finish projects on average 15.0 hs with standard deviation 2.4 hs. Test the claim at 0.01 levl of significance.**"
   ]
  },
  {
   "cell_type": "code",
   "execution_count": 72,
   "metadata": {},
   "outputs": [],
   "source": [
    "# Ho: mu1 - mu2 >=  0\n",
    "# Ha: mu1 - mu2 < 0    -> left tail test"
   ]
  },
  {
   "cell_type": "markdown",
   "metadata": {},
   "source": [
    "<img src=\"images/lefttailtest.jpg\"/>"
   ]
  },
  {
   "cell_type": "code",
   "execution_count": 73,
   "metadata": {},
   "outputs": [
    {
     "name": "stdout",
     "output_type": "stream",
     "text": [
      "t_alpha: -2.55\n",
      "\n",
      "t-statistic: -0.87\n",
      "\n",
      "(t_statistic > t_alpha): Fail to reject Ho.\n"
     ]
    }
   ],
   "source": [
    "### Pooled! ###\n",
    "\n",
    "alpha = 0.01\n",
    "loc = 1 - alpha\n",
    "\n",
    "# Data A (took class)\n",
    "n1 = 10\n",
    "xbar1 = 14.1\n",
    "s1 = 2.3\n",
    "\n",
    "# Data B (No class)\n",
    "n2 = 10\n",
    "xbar2 = 15.0\n",
    "s2 = 2.4\n",
    "\n",
    "dof = n1 + n2 - 2\n",
    "\n",
    "delta_mu = 0\n",
    "\n",
    "\n",
    "# t-critical\n",
    "t_alpha = round( scipy.stats.t.ppf(alpha, dof), 2)  # area on the left\n",
    "\n",
    "# t-statistic    # Pooled!\n",
    "t_stat = ( (xbar1 - xbar2) - (delta_mu) )  /  ( np.sqrt(  (  ( (n1-1)*s1**2 ) +  (  (n1-1)*s1**2  )  ) / (n1+n2-2) ) * np.sqrt( (1/n1) + (1/n2) ) )\n",
    "\n",
    "\n",
    "\n",
    "print('t_alpha:', round(t_alpha,2))\n",
    "print()\n",
    "print('t-statistic:', round(t_stat,2))\n",
    "print()\n",
    "\n",
    "\n",
    "if t_stat < t_alpha:    ### Left Analysis ###\n",
    "    print('(t_statistic < t_alpha): Reject Ho!')\n",
    "else:\n",
    "    print('(t_statistic > t_alpha): Fail to reject Ho.')"
   ]
  },
  {
   "cell_type": "markdown",
   "metadata": {},
   "source": [
    "**A test prep company claims that their class increases test scores. In city A, 15 students took the class and got an average score of 942 points with standard deviation 103 points. In city B, 18 students did not take the class and got average of 898 score with standard deviation 95 points. Test the claim at 0.95 LOS. Because students are in different cities, assume variances are not equal**"
   ]
  },
  {
   "cell_type": "code",
   "execution_count": 74,
   "metadata": {},
   "outputs": [],
   "source": [
    "# Ho: mu1 - mu2 <=  0\n",
    "# Ha: mu1 - mu2 > 0    -> right tail test"
   ]
  },
  {
   "cell_type": "markdown",
   "metadata": {},
   "source": [
    "<img src=\"images/righttailtest.jpg\"/>"
   ]
  },
  {
   "cell_type": "code",
   "execution_count": 75,
   "metadata": {},
   "outputs": [
    {
     "name": "stdout",
     "output_type": "stream",
     "text": [
      "t_alpha: 1.76\n",
      "\n",
      "t-statistic: 1.29\n",
      "\n",
      "(t_statistic < t_alpha): Fail to reject Ho.\n"
     ]
    }
   ],
   "source": [
    "### Not Pooled! ###\n",
    "\n",
    "alpha = 0.05\n",
    "loc = 1 - alpha\n",
    "\n",
    "# City A (took class)\n",
    "n1 = 15\n",
    "xbar1 = 942\n",
    "s1 = 103\n",
    "\n",
    "# City B (No class)\n",
    "n2 = 18\n",
    "xbar2 = 898\n",
    "s2 = 95\n",
    "\n",
    "\n",
    "# DOF for Not Pooled     alternative: (dof = n1 - 1) if n1 < n2 else (dof = n2 -1)\n",
    "if n1 < n2:\n",
    "    dof = n1 -1\n",
    "else:\n",
    "    dof = n2 -1\n",
    "    \n",
    "\n",
    "delta_mu = 0\n",
    "\n",
    "\n",
    "# t-critical\n",
    "t_alpha = (-1) * round( scipy.stats.t.ppf(alpha, dof), 2)  # area on the right\n",
    "\n",
    "# t-statistic    # Pooled!\n",
    "t_stat = ( (xbar1 - xbar2) - (delta_mu) )  /  ( np.sqrt(  (  ( (n1-1)*s1**2 ) +  (  (n1-1)*s1**2  )  ) / (n1+n2-2) ) * np.sqrt( (1/n1) + (1/n2) ) )\n",
    "\n",
    "\n",
    "\n",
    "print('t_alpha:', round(t_alpha,2))\n",
    "print()\n",
    "print('t-statistic:', round(t_stat,2))\n",
    "print()\n",
    "\n",
    "\n",
    "if t_stat < t_alpha:    ### Right Analysis ###\n",
    "    print('(t_statistic < t_alpha): Fail to reject Ho.')\n",
    "else:\n",
    "    print('(t_statistic > t_alpha): Reject Ho!')"
   ]
  },
  {
   "cell_type": "markdown",
   "metadata": {},
   "source": [
    "**A reporter thinks that the president's approval rating has improved following an article he published. Before the article, 480 of 1200 citizens approved of the president. After the article, 550 of 1180 citizens approved of his work. Test the claim at 5% level of significance.**"
   ]
  },
  {
   "cell_type": "code",
   "execution_count": 76,
   "metadata": {},
   "outputs": [],
   "source": [
    "# Claim: p1 < p2\n",
    "\n",
    "# Ho: p1 - p2 >=  0\n",
    "# Ha: p1 - p2 < 0    -> left tail test"
   ]
  },
  {
   "cell_type": "markdown",
   "metadata": {},
   "source": [
    "<img src=\"images/lefttailtest.jpg\"/>"
   ]
  },
  {
   "cell_type": "code",
   "execution_count": 77,
   "metadata": {},
   "outputs": [
    {
     "name": "stdout",
     "output_type": "stream",
     "text": [
      "Z-statistic: -3.25\n",
      "P-value: 0.0006\n",
      "Alpha: 0.05\n",
      "\n",
      "p-value < alpha: Reject Ho!\n"
     ]
    }
   ],
   "source": [
    "alpha = 0.05\n",
    "loc = 1 - alpha\n",
    "\n",
    "# Before\n",
    "x1 = 480\n",
    "n1 = 1200\n",
    "\n",
    "# After\n",
    "x2 = 550\n",
    "n2 = 1180\n",
    "\n",
    "p1_hat = x1/n1\n",
    "p2_hat = x2/n2\n",
    "\n",
    "pbar = (x1 + x2) / (n1 + n2)\n",
    "\n",
    "delta_p = 0\n",
    "\n",
    "z = ( (p1_hat - p2_hat) - delta_p ) / np.sqrt( pbar*(1-pbar)*((1/n1)+(1/n2)) )\n",
    "\n",
    "p_value = norm.cdf(z, 0, 1)\n",
    "\n",
    "print(\"Z-statistic:\", round(z,2))   \n",
    "print(\"P-value:\", round(p_value,4))\n",
    "print(\"Alpha:\", round(alpha,4))\n",
    "print()\n",
    "\n",
    "\n",
    "if p_value < alpha:    ### For All Analysis ###\n",
    "    print('p-value < alpha: Reject Ho!')\n",
    "else:\n",
    "    print('p-value > alpha: Fail to reject Ho.')"
   ]
  },
  {
   "cell_type": "markdown",
   "metadata": {},
   "source": [
    "**A dealer claims that more cars are purchase by single women then single men. When studying single women, 100 out 500 purchases were made. In the men's study, 72 of 500 single men bought cars. Test the claim at 0.01 level of significance.**"
   ]
  },
  {
   "cell_type": "code",
   "execution_count": 78,
   "metadata": {},
   "outputs": [],
   "source": [
    "# Claim: p1 > p2\n",
    "\n",
    "# Ho: p1 - p2 <=  0\n",
    "# Ha: p1 - p2 > 0    -> right tail test"
   ]
  },
  {
   "cell_type": "markdown",
   "metadata": {},
   "source": [
    "<img src=\"images/righttailtest.jpg\"/>"
   ]
  },
  {
   "cell_type": "code",
   "execution_count": 79,
   "metadata": {},
   "outputs": [
    {
     "name": "stdout",
     "output_type": "stream",
     "text": [
      "Z-statistic: 2.35\n",
      "P-value: 0.0095\n",
      "Alpha: 0.01\n",
      "\n",
      "p-value < alpha: Reject Ho!\n"
     ]
    }
   ],
   "source": [
    "alpha = 0.01\n",
    "loc = 1 - alpha\n",
    "\n",
    "# Women\n",
    "x1 = 100\n",
    "n1 = 500\n",
    "\n",
    "# Men\n",
    "x2 = 72\n",
    "n2 = 500\n",
    "\n",
    "p1_hat = x1/n1\n",
    "p2_hat = x2/n2\n",
    "\n",
    "pbar = (x1 + x2) / (n1 + n2)\n",
    "\n",
    "delta_p = 0\n",
    "\n",
    "z = ( (p1_hat - p2_hat) - delta_p ) / np.sqrt( pbar*(1-pbar)*((1/n1)+(1/n2)) )\n",
    "\n",
    "p_value = norm.cdf(-z, 0, 1)\n",
    "\n",
    "print(\"Z-statistic:\", round(z,2))   \n",
    "print(\"P-value:\", round(p_value,4))\n",
    "print(\"Alpha:\", round(alpha,4))\n",
    "print()\n",
    "\n",
    "\n",
    "if p_value < alpha:    ### For All Analysis ###\n",
    "    print('p-value < alpha: Reject Ho!')\n",
    "else:\n",
    "    print('p-value > alpha: Fail to reject Ho.')"
   ]
  },
  {
   "cell_type": "markdown",
   "metadata": {},
   "source": [
    "Ha is correct, single women buy more cars than single men."
   ]
  },
  {
   "cell_type": "markdown",
   "metadata": {},
   "source": [
    "## Hypothesis Test with 2 dependent samples (paired)"
   ]
  },
  {
   "cell_type": "markdown",
   "metadata": {},
   "source": [
    "**A memory class claims that after taking class you will loose keys less often. To test, 12 people are interviewed before and after the class. Test the claim at 0.05 level of significance.** \n",
    "\n",
    "**Before = [8,10,6,7,4,11,12,5,6,3,6,4] ; After =  [6,5,6,6,5,9,4,5,4,4,5,4]**"
   ]
  },
  {
   "cell_type": "code",
   "execution_count": 80,
   "metadata": {},
   "outputs": [],
   "source": [
    "#         Ho: mud >= 0\n",
    "# (Claim) Ha: mud < 0    -> left tail test"
   ]
  },
  {
   "cell_type": "markdown",
   "metadata": {},
   "source": [
    "<img src=\"images/lefttailtest.jpg\"/>"
   ]
  },
  {
   "cell_type": "code",
   "execution_count": 81,
   "metadata": {},
   "outputs": [
    {
     "name": "stdout",
     "output_type": "stream",
     "text": [
      "t_alpha: -1.8\n",
      "\n",
      "t-statistic: -2.2\n",
      "\n",
      "Reject Ho!\n"
     ]
    }
   ],
   "source": [
    "alpha = 0.05\n",
    "loc = 1 - alpha\n",
    "\n",
    "before = np.array([8,10,6,7,4,11,12,5,6,3,6,4])\n",
    "after = np.array([6,5,6,6,5,9,4,5,4,4,5,4])\n",
    "\n",
    "diff = after - before\n",
    "\n",
    "n = len(diff)\n",
    "\n",
    "dbar = np.sum(diff) /n\n",
    "\n",
    "s = np.std(diff)\n",
    "\n",
    "dof = n - 1\n",
    "\n",
    "mud = 0\n",
    "\n",
    "\n",
    "# t-critical\n",
    "t_alpha = round( scipy.stats.t.ppf(alpha, dof), 2)  # area on the left\n",
    "\n",
    "# t-statistic\n",
    "t_stat = round( (dbar - mud) / (s / np.sqrt(n) ), 2)\n",
    "\n",
    "\n",
    "print('t_alpha:', t_alpha)\n",
    "print()\n",
    "print('t-statistic:', t_stat)\n",
    "print()\n",
    "\n",
    "\n",
    "if t_stat < t_alpha:    ### Left Analysis ###\n",
    "    print('Reject Ho!')\n",
    "else:\n",
    "    print('Fail to reject Ho.')"
   ]
  }
 ],
 "metadata": {
  "kernelspec": {
   "display_name": "Python 3",
   "language": "python",
   "name": "python3"
  },
  "language_info": {
   "codemirror_mode": {
    "name": "ipython",
    "version": 3
   },
   "file_extension": ".py",
   "mimetype": "text/x-python",
   "name": "python",
   "nbconvert_exporter": "python",
   "pygments_lexer": "ipython3",
   "version": "3.8.5"
  }
 },
 "nbformat": 4,
 "nbformat_minor": 4
}
