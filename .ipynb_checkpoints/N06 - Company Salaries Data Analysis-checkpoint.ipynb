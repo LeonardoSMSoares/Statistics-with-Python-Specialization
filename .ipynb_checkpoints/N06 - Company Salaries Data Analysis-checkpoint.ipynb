{
 "cells": [
  {
   "cell_type": "markdown",
   "metadata": {},
   "source": [
    "# Gender Discrimination in a Fictitious Company - Hypothesis Testing"
   ]
  },
  {
   "cell_type": "markdown",
   "metadata": {},
   "source": [
    "<img src=\"images/gender.jpg\"/>"
   ]
  },
  {
   "cell_type": "markdown",
   "metadata": {},
   "source": [
    "**We will test whether a particular company is discriminating against some of its employees on a gender basis and ethnicity. Our fictitious company is called Sparke Fortress incorporated. It is a big company with more than five thousand employees.**"
   ]
  },
  {
   "cell_type": "markdown",
   "metadata": {},
   "source": [
    "### General Libraries"
   ]
  },
  {
   "cell_type": "code",
   "execution_count": 1,
   "metadata": {},
   "outputs": [],
   "source": [
    "import numpy as np\n",
    "import pandas as pd\n",
    "import seaborn as sns\n",
    "import matplotlib.pyplot as plt\n",
    "import scipy\n",
    "from scipy import stats\n",
    "import statsmodels.api as sm\n",
    "from scipy.stats import norm\n",
    "\n",
    "import warnings\n",
    "warnings.filterwarnings(\"ignore\")"
   ]
  },
  {
   "cell_type": "markdown",
   "metadata": {},
   "source": [
    "### Get the Data"
   ]
  },
  {
   "cell_type": "code",
   "execution_count": 2,
   "metadata": {},
   "outputs": [
    {
     "data": {
      "text/html": [
       "<div>\n",
       "<style scoped>\n",
       "    .dataframe tbody tr th:only-of-type {\n",
       "        vertical-align: middle;\n",
       "    }\n",
       "\n",
       "    .dataframe tbody tr th {\n",
       "        vertical-align: top;\n",
       "    }\n",
       "\n",
       "    .dataframe thead th {\n",
       "        text-align: right;\n",
       "    }\n",
       "</style>\n",
       "<table border=\"1\" class=\"dataframe\">\n",
       "  <thead>\n",
       "    <tr style=\"text-align: right;\">\n",
       "      <th></th>\n",
       "      <th>Surname</th>\n",
       "      <th>Name</th>\n",
       "      <th>Age</th>\n",
       "      <th>Gender</th>\n",
       "      <th>Country</th>\n",
       "      <th>Ethnicity</th>\n",
       "      <th>Start_date</th>\n",
       "      <th>Department</th>\n",
       "      <th>Position</th>\n",
       "      <th>Salary</th>\n",
       "    </tr>\n",
       "  </thead>\n",
       "  <tbody>\n",
       "    <tr>\n",
       "      <th>0</th>\n",
       "      <td>Bold</td>\n",
       "      <td>Caroline</td>\n",
       "      <td>63</td>\n",
       "      <td>Female</td>\n",
       "      <td>United States</td>\n",
       "      <td>White</td>\n",
       "      <td>2012-07-02</td>\n",
       "      <td>Executive Office</td>\n",
       "      <td>President &amp; CEO</td>\n",
       "      <td>166400.0</td>\n",
       "    </tr>\n",
       "    <tr>\n",
       "      <th>1</th>\n",
       "      <td>Zamora</td>\n",
       "      <td>Jennifer</td>\n",
       "      <td>38</td>\n",
       "      <td>Female</td>\n",
       "      <td>United States</td>\n",
       "      <td>White</td>\n",
       "      <td>2010-04-10</td>\n",
       "      <td>IT/IS</td>\n",
       "      <td>CIO</td>\n",
       "      <td>135200.0</td>\n",
       "    </tr>\n",
       "    <tr>\n",
       "      <th>2</th>\n",
       "      <td>Houlihan</td>\n",
       "      <td>Debra</td>\n",
       "      <td>51</td>\n",
       "      <td>Female</td>\n",
       "      <td>United States</td>\n",
       "      <td>White</td>\n",
       "      <td>2014-05-05</td>\n",
       "      <td>Sales</td>\n",
       "      <td>Director of Sales</td>\n",
       "      <td>124800.0</td>\n",
       "    </tr>\n",
       "    <tr>\n",
       "      <th>3</th>\n",
       "      <td>Bramante</td>\n",
       "      <td>Elisa</td>\n",
       "      <td>34</td>\n",
       "      <td>Female</td>\n",
       "      <td>United States</td>\n",
       "      <td>Black or African American</td>\n",
       "      <td>2009-01-05</td>\n",
       "      <td>Production</td>\n",
       "      <td>Director of Operations</td>\n",
       "      <td>124800.0</td>\n",
       "    </tr>\n",
       "    <tr>\n",
       "      <th>4</th>\n",
       "      <td>Del Bosque</td>\n",
       "      <td>Keyla</td>\n",
       "      <td>38</td>\n",
       "      <td>Female</td>\n",
       "      <td>United States</td>\n",
       "      <td>Black or African American</td>\n",
       "      <td>2012-01-09</td>\n",
       "      <td>Software Engineering</td>\n",
       "      <td>Software Engineer</td>\n",
       "      <td>118809.6</td>\n",
       "    </tr>\n",
       "  </tbody>\n",
       "</table>\n",
       "</div>"
      ],
      "text/plain": [
       "      Surname      Name  Age  Gender        Country  \\\n",
       "0        Bold  Caroline   63  Female  United States   \n",
       "1      Zamora  Jennifer   38  Female  United States   \n",
       "2    Houlihan     Debra   51  Female  United States   \n",
       "3    Bramante     Elisa   34  Female  United States   \n",
       "4  Del Bosque     Keyla   38  Female  United States   \n",
       "\n",
       "                   Ethnicity Start_date            Department  \\\n",
       "0                      White 2012-07-02      Executive Office   \n",
       "1                      White 2010-04-10                 IT/IS   \n",
       "2                      White 2014-05-05                 Sales   \n",
       "3  Black or African American 2009-01-05     Production          \n",
       "4  Black or African American 2012-01-09  Software Engineering   \n",
       "\n",
       "                 Position    Salary  \n",
       "0         President & CEO  166400.0  \n",
       "1                     CIO  135200.0  \n",
       "2       Director of Sales  124800.0  \n",
       "3  Director of Operations  124800.0  \n",
       "4       Software Engineer  118809.6  "
      ]
     },
     "execution_count": 2,
     "metadata": {},
     "output_type": "execute_result"
    }
   ],
   "source": [
    "# Load the Sparke dataset\n",
    "df = pd.read_excel('data/Sparke.xls')\n",
    "\n",
    "# DataFrame\n",
    "df.head()"
   ]
  },
  {
   "cell_type": "code",
   "execution_count": 3,
   "metadata": {},
   "outputs": [
    {
     "name": "stdout",
     "output_type": "stream",
     "text": [
      "<class 'pandas.core.frame.DataFrame'>\n",
      "RangeIndex: 174 entries, 0 to 173\n",
      "Data columns (total 10 columns):\n",
      " #   Column      Non-Null Count  Dtype         \n",
      "---  ------      --------------  -----         \n",
      " 0   Surname     174 non-null    object        \n",
      " 1   Name        174 non-null    object        \n",
      " 2   Age         174 non-null    int64         \n",
      " 3   Gender      174 non-null    object        \n",
      " 4   Country     174 non-null    object        \n",
      " 5   Ethnicity   174 non-null    object        \n",
      " 6   Start_date  174 non-null    datetime64[ns]\n",
      " 7   Department  174 non-null    object        \n",
      " 8   Position    174 non-null    object        \n",
      " 9   Salary      174 non-null    float64       \n",
      "dtypes: datetime64[ns](1), float64(1), int64(1), object(7)\n",
      "memory usage: 13.7+ KB\n"
     ]
    }
   ],
   "source": [
    "df.info()"
   ]
  },
  {
   "cell_type": "code",
   "execution_count": 4,
   "metadata": {},
   "outputs": [
    {
     "data": {
      "text/html": [
       "<div>\n",
       "<style scoped>\n",
       "    .dataframe tbody tr th:only-of-type {\n",
       "        vertical-align: middle;\n",
       "    }\n",
       "\n",
       "    .dataframe tbody tr th {\n",
       "        vertical-align: top;\n",
       "    }\n",
       "\n",
       "    .dataframe thead th {\n",
       "        text-align: right;\n",
       "    }\n",
       "</style>\n",
       "<table border=\"1\" class=\"dataframe\">\n",
       "  <thead>\n",
       "    <tr style=\"text-align: right;\">\n",
       "      <th></th>\n",
       "      <th>Age</th>\n",
       "      <th>Salary</th>\n",
       "    </tr>\n",
       "  </thead>\n",
       "  <tbody>\n",
       "    <tr>\n",
       "      <th>count</th>\n",
       "      <td>174.000000</td>\n",
       "      <td>174.000000</td>\n",
       "    </tr>\n",
       "    <tr>\n",
       "      <th>mean</th>\n",
       "      <td>37.793103</td>\n",
       "      <td>68603.779310</td>\n",
       "    </tr>\n",
       "    <tr>\n",
       "      <th>std</th>\n",
       "      <td>8.384734</td>\n",
       "      <td>34121.543021</td>\n",
       "    </tr>\n",
       "    <tr>\n",
       "      <th>min</th>\n",
       "      <td>25.000000</td>\n",
       "      <td>29120.000000</td>\n",
       "    </tr>\n",
       "    <tr>\n",
       "      <th>25%</th>\n",
       "      <td>31.000000</td>\n",
       "      <td>41600.000000</td>\n",
       "    </tr>\n",
       "    <tr>\n",
       "      <th>50%</th>\n",
       "      <td>36.000000</td>\n",
       "      <td>52000.000000</td>\n",
       "    </tr>\n",
       "    <tr>\n",
       "      <th>75%</th>\n",
       "      <td>43.000000</td>\n",
       "      <td>110240.000000</td>\n",
       "    </tr>\n",
       "    <tr>\n",
       "      <th>max</th>\n",
       "      <td>67.000000</td>\n",
       "      <td>166400.000000</td>\n",
       "    </tr>\n",
       "  </tbody>\n",
       "</table>\n",
       "</div>"
      ],
      "text/plain": [
       "              Age         Salary\n",
       "count  174.000000     174.000000\n",
       "mean    37.793103   68603.779310\n",
       "std      8.384734   34121.543021\n",
       "min     25.000000   29120.000000\n",
       "25%     31.000000   41600.000000\n",
       "50%     36.000000   52000.000000\n",
       "75%     43.000000  110240.000000\n",
       "max     67.000000  166400.000000"
      ]
     },
     "execution_count": 4,
     "metadata": {},
     "output_type": "execute_result"
    }
   ],
   "source": [
    "df.describe()"
   ]
  },
  {
   "cell_type": "code",
   "execution_count": 5,
   "metadata": {},
   "outputs": [
    {
     "data": {
      "text/plain": [
       "<AxesSubplot:>"
      ]
     },
     "execution_count": 5,
     "metadata": {},
     "output_type": "execute_result"
    },
    {
     "data": {
      "image/png": "[encoded data removed]",
      "text/plain": [
       "<Figure size 432x288 with 1 Axes>"
      ]
     },
     "metadata": {
      "needs_background": "light"
     },
     "output_type": "display_data"
    }
   ],
   "source": [
    "# Heatmap for visualize the missing data\n",
    "sns.heatmap(df.isnull(), yticklabels=False, cbar=False, cmap='viridis')"
   ]
  },
  {
   "cell_type": "markdown",
   "metadata": {},
   "source": [
    "There is no missing data in our dataset."
   ]
  },
  {
   "cell_type": "markdown",
   "metadata": {},
   "source": [
    "### Analysis for Marketing Strategy"
   ]
  },
  {
   "cell_type": "code",
   "execution_count": 6,
   "metadata": {},
   "outputs": [
    {
     "data": {
      "text/html": [
       "<div>\n",
       "<style scoped>\n",
       "    .dataframe tbody tr th:only-of-type {\n",
       "        vertical-align: middle;\n",
       "    }\n",
       "\n",
       "    .dataframe tbody tr th {\n",
       "        vertical-align: top;\n",
       "    }\n",
       "\n",
       "    .dataframe thead th {\n",
       "        text-align: right;\n",
       "    }\n",
       "</style>\n",
       "<table border=\"1\" class=\"dataframe\">\n",
       "  <thead>\n",
       "    <tr style=\"text-align: right;\">\n",
       "      <th></th>\n",
       "      <th>Gender</th>\n",
       "      <th>Salary</th>\n",
       "    </tr>\n",
       "  </thead>\n",
       "  <tbody>\n",
       "    <tr>\n",
       "      <th>0</th>\n",
       "      <td>Female</td>\n",
       "      <td>65736.914286</td>\n",
       "    </tr>\n",
       "    <tr>\n",
       "      <th>1</th>\n",
       "      <td>Male</td>\n",
       "      <td>72300.526316</td>\n",
       "    </tr>\n",
       "  </tbody>\n",
       "</table>\n",
       "</div>"
      ],
      "text/plain": [
       "   Gender        Salary\n",
       "0  Female  65736.914286\n",
       "1    Male  72300.526316"
      ]
     },
     "execution_count": 6,
     "metadata": {},
     "output_type": "execute_result"
    }
   ],
   "source": [
    "# Groupy the mean salary by gender\n",
    "\n",
    "region = df.groupby(['Gender'])['Salary'].mean().reset_index()\n",
    "region.head()"
   ]
  },
  {
   "cell_type": "code",
   "execution_count": 7,
   "metadata": {},
   "outputs": [
    {
     "data": {
      "text/plain": [
       "<BarContainer object of 2 artists>"
      ]
     },
     "execution_count": 7,
     "metadata": {},
     "output_type": "execute_result"
    },
    {
     "data": {
      "image/png": "[encoded data removed]",
      "text/plain": [
       "<Figure size 288x288 with 1 Axes>"
      ]
     },
     "metadata": {
      "needs_background": "light"
     },
     "output_type": "display_data"
    }
   ],
   "source": [
    "# Plot mean salary by gender\n",
    "\n",
    "plt.figure(figsize=(4,4))\n",
    "\n",
    "plt.title('Total Salary by Gender')\n",
    "plt.bar(region['Gender'],region['Salary']) # plt.bar(x,height)"
   ]
  },
  {
   "cell_type": "markdown",
   "metadata": {},
   "source": [
    "## Salary Analysis by Gender"
   ]
  },
  {
   "cell_type": "code",
   "execution_count": 8,
   "metadata": {},
   "outputs": [],
   "source": [
    "# Create 2 subsets by gender\n",
    "\n",
    "female = df[df['Gender']=='Female']\n",
    "\n",
    "male = df[df['Gender']=='Male']\n",
    "\n",
    "\n",
    "female_sal = female['Salary']\n",
    "\n",
    "male_sal = male['Salary']"
   ]
  },
  {
   "cell_type": "markdown",
   "metadata": {},
   "source": [
    "### First Approach - All Data"
   ]
  },
  {
   "cell_type": "code",
   "execution_count": 9,
   "metadata": {},
   "outputs": [
    {
     "name": "stdout",
     "output_type": "stream",
     "text": [
      "Pooled Variance: 1160327458.01\n",
      "Standard Error for Diff Means: 5247.36\n",
      "\n",
      "t-statistic: 1.25\n",
      "p-value: 0.10634579185552512\n",
      "alpha: 0.05\n",
      "(p-value > alpha): Fail to reject Ho. So... (muM - muF <= 0)\n"
     ]
    }
   ],
   "source": [
    "# Ho: muM - muF <= 0\n",
    "# Ha: muM - muF > 0  (right tail test)\n",
    "\n",
    "# Indepedent Samples\n",
    "# Pooled - variances of the 2 populations assumed equal\n",
    "\n",
    "# Sample Sizes\n",
    "nF = len(female_sal)\n",
    "nM = len(male_sal)\n",
    "\n",
    "# Means\n",
    "xbarF = female_sal.mean()\n",
    "xbarM = male_sal.mean()\n",
    "\n",
    "# Sample Variance\n",
    "sF2 = female_sal.var()\n",
    "sM2 = male_sal.var()\n",
    "\n",
    "\n",
    "# Pooled Variance\n",
    "polled_S2 = (((nF-1)*sF2)+((nM-1)*sM2))/(nF+nM-2)\n",
    "\n",
    "# Standard Error for Diff\n",
    "SE_diff = np.sqrt(sF2/nF +sM2/nM)   \n",
    "\n",
    "print(f'Pooled Variance: {round(polled_S2,2)}')\n",
    "print(f'Standard Error for Diff Means: {round(SE_diff,2)}')\n",
    "print()\n",
    "\n",
    "# t-statistic\n",
    "delta_mu = 0\n",
    "t_stat = ( (xbarM - xbarF) - (delta_mu) )/ (SE_diff)\n",
    "print(f't-statistic: {round(t_stat,2)}')\n",
    "\n",
    "dof = nF + nM -2\n",
    "alpha = 0.05\n",
    "\n",
    "# p-value\n",
    "p_value = stats.t.sf(abs(t_stat), df=dof)  # for 2 tail test (X2)\n",
    "# Exact same result with: p_value = (1 - norm.cdf(abs(z))) \n",
    "\n",
    "print(f'p-value: {p_value}')\n",
    "print(f'alpha: {round(alpha,4)}')\n",
    "\n",
    "if abs(alpha) < abs(p_value):\n",
    "    print('(p-value > alpha): Fail to reject Ho. So... (muM - muF <= 0)')\n",
    "else:\n",
    "    print('(p-value < alpha): Reject Ho! So... (muM - muF > 0)')"
   ]
  },
  {
   "cell_type": "code",
   "execution_count": 10,
   "metadata": {},
   "outputs": [
    {
     "name": "stdout",
     "output_type": "stream",
     "text": [
      "T-test: (1.2606595770038977, 0.10456948430588289, 172.0)\n"
     ]
    }
   ],
   "source": [
    "# Check\n",
    "\n",
    "t_test = sm.stats.ttest_ind(x1 = male_sal, \n",
    "                            x2 = female_sal, \n",
    "                            alternative='larger', # right tail test\n",
    "                            usevar='pooled')\n",
    "\n",
    "print('T-test:', t_test) # prints test statistic, p-value, degrees of freedom"
   ]
  },
  {
   "cell_type": "code",
   "execution_count": 11,
   "metadata": {},
   "outputs": [
    {
     "name": "stdout",
     "output_type": "stream",
     "text": [
      "T-statistic: 1.2607\n",
      "P_value: 0.10371576188026826\n"
     ]
    }
   ],
   "source": [
    "# Check with module 'statsmodels.api'\n",
    "\n",
    "t_stat , p_value = sm.stats.ztest(x1 = male_sal, \n",
    "                                  x2 = female_sal, \n",
    "                                  alternative='larger', # right tail test\n",
    "                                  usevar='pooled') \n",
    "\n",
    "print(f'T-statistic: {round(t_stat,4)}')\n",
    "print(f'P_value: {p_value}')"
   ]
  },
  {
   "cell_type": "markdown",
   "metadata": {},
   "source": [
    "### Second Approach - Analysis by Subgroup"
   ]
  },
  {
   "cell_type": "markdown",
   "metadata": {},
   "source": [
    "Let's explore visually the data:"
   ]
  },
  {
   "cell_type": "code",
   "execution_count": 12,
   "metadata": {},
   "outputs": [
    {
     "data": {
      "text/html": [
       "<div>\n",
       "<style scoped>\n",
       "    .dataframe tbody tr th:only-of-type {\n",
       "        vertical-align: middle;\n",
       "    }\n",
       "\n",
       "    .dataframe tbody tr th {\n",
       "        vertical-align: top;\n",
       "    }\n",
       "\n",
       "    .dataframe thead th {\n",
       "        text-align: right;\n",
       "    }\n",
       "</style>\n",
       "<table border=\"1\" class=\"dataframe\">\n",
       "  <thead>\n",
       "    <tr style=\"text-align: right;\">\n",
       "      <th></th>\n",
       "      <th>Age</th>\n",
       "      <th>Salary</th>\n",
       "    </tr>\n",
       "  </thead>\n",
       "  <tbody>\n",
       "    <tr>\n",
       "      <th>count</th>\n",
       "      <td>76.000000</td>\n",
       "      <td>76.000000</td>\n",
       "    </tr>\n",
       "    <tr>\n",
       "      <th>mean</th>\n",
       "      <td>38.289474</td>\n",
       "      <td>72300.526316</td>\n",
       "    </tr>\n",
       "    <tr>\n",
       "      <th>std</th>\n",
       "      <td>7.885541</td>\n",
       "      <td>35233.955988</td>\n",
       "    </tr>\n",
       "    <tr>\n",
       "      <th>min</th>\n",
       "      <td>25.000000</td>\n",
       "      <td>29120.000000</td>\n",
       "    </tr>\n",
       "    <tr>\n",
       "      <th>25%</th>\n",
       "      <td>32.750000</td>\n",
       "      <td>41600.000000</td>\n",
       "    </tr>\n",
       "    <tr>\n",
       "      <th>50%</th>\n",
       "      <td>36.000000</td>\n",
       "      <td>56160.000000</td>\n",
       "    </tr>\n",
       "    <tr>\n",
       "      <th>75%</th>\n",
       "      <td>43.000000</td>\n",
       "      <td>114400.000000</td>\n",
       "    </tr>\n",
       "    <tr>\n",
       "      <th>max</th>\n",
       "      <td>63.000000</td>\n",
       "      <td>135200.000000</td>\n",
       "    </tr>\n",
       "  </tbody>\n",
       "</table>\n",
       "</div>"
      ],
      "text/plain": [
       "             Age         Salary\n",
       "count  76.000000      76.000000\n",
       "mean   38.289474   72300.526316\n",
       "std     7.885541   35233.955988\n",
       "min    25.000000   29120.000000\n",
       "25%    32.750000   41600.000000\n",
       "50%    36.000000   56160.000000\n",
       "75%    43.000000  114400.000000\n",
       "max    63.000000  135200.000000"
      ]
     },
     "execution_count": 12,
     "metadata": {},
     "output_type": "execute_result"
    }
   ],
   "source": [
    "male.describe()"
   ]
  },
  {
   "cell_type": "code",
   "execution_count": 13,
   "metadata": {},
   "outputs": [
    {
     "data": {
      "text/html": [
       "<div>\n",
       "<style scoped>\n",
       "    .dataframe tbody tr th:only-of-type {\n",
       "        vertical-align: middle;\n",
       "    }\n",
       "\n",
       "    .dataframe tbody tr th {\n",
       "        vertical-align: top;\n",
       "    }\n",
       "\n",
       "    .dataframe thead th {\n",
       "        text-align: right;\n",
       "    }\n",
       "</style>\n",
       "<table border=\"1\" class=\"dataframe\">\n",
       "  <thead>\n",
       "    <tr style=\"text-align: right;\">\n",
       "      <th></th>\n",
       "      <th>Age</th>\n",
       "      <th>Salary</th>\n",
       "    </tr>\n",
       "  </thead>\n",
       "  <tbody>\n",
       "    <tr>\n",
       "      <th>count</th>\n",
       "      <td>98.000000</td>\n",
       "      <td>98.000000</td>\n",
       "    </tr>\n",
       "    <tr>\n",
       "      <th>mean</th>\n",
       "      <td>37.408163</td>\n",
       "      <td>65736.914286</td>\n",
       "    </tr>\n",
       "    <tr>\n",
       "      <th>std</th>\n",
       "      <td>8.773010</td>\n",
       "      <td>33130.318859</td>\n",
       "    </tr>\n",
       "    <tr>\n",
       "      <th>min</th>\n",
       "      <td>25.000000</td>\n",
       "      <td>29120.000000</td>\n",
       "    </tr>\n",
       "    <tr>\n",
       "      <th>25%</th>\n",
       "      <td>30.000000</td>\n",
       "      <td>41600.000000</td>\n",
       "    </tr>\n",
       "    <tr>\n",
       "      <th>50%</th>\n",
       "      <td>36.000000</td>\n",
       "      <td>50440.000000</td>\n",
       "    </tr>\n",
       "    <tr>\n",
       "      <th>75%</th>\n",
       "      <td>42.750000</td>\n",
       "      <td>98696.000000</td>\n",
       "    </tr>\n",
       "    <tr>\n",
       "      <th>max</th>\n",
       "      <td>67.000000</td>\n",
       "      <td>166400.000000</td>\n",
       "    </tr>\n",
       "  </tbody>\n",
       "</table>\n",
       "</div>"
      ],
      "text/plain": [
       "             Age         Salary\n",
       "count  98.000000      98.000000\n",
       "mean   37.408163   65736.914286\n",
       "std     8.773010   33130.318859\n",
       "min    25.000000   29120.000000\n",
       "25%    30.000000   41600.000000\n",
       "50%    36.000000   50440.000000\n",
       "75%    42.750000   98696.000000\n",
       "max    67.000000  166400.000000"
      ]
     },
     "execution_count": 13,
     "metadata": {},
     "output_type": "execute_result"
    }
   ],
   "source": [
    "female.describe()"
   ]
  },
  {
   "cell_type": "code",
   "execution_count": 14,
   "metadata": {},
   "outputs": [
    {
     "data": {
      "image/png": "[encoded data removed]",
      "text/plain": [
       "<Figure size 216x288 with 1 Axes>"
      ]
     },
     "metadata": {
      "needs_background": "light"
     },
     "output_type": "display_data"
    }
   ],
   "source": [
    "# BloxPlot from Distribution\n",
    "\n",
    "data = {'Male':male['Salary']/1000, \n",
    "        'Female':female['Salary']/1000}\n",
    "\n",
    "daf = pd.DataFrame(data)\n",
    "        \n",
    "plt.figure(figsize=(3, 4))\n",
    "\n",
    "bp = sns.boxplot(data = daf.loc[:, ['Male', 'Female']])\n",
    "\n",
    "_ = bp.set_ylabel(\"Salary (K$/year)\")"
   ]
  },
  {
   "cell_type": "code",
   "execution_count": 15,
   "metadata": {},
   "outputs": [
    {
     "data": {
      "text/plain": [
       "(29.0, 170.0)"
      ]
     },
     "execution_count": 15,
     "metadata": {},
     "output_type": "execute_result"
    },
    {
     "data": {
      "image/png": "[encoded data removed]",
      "text/plain": [
       "<Figure size 864x288 with 2 Axes>"
      ]
     },
     "metadata": {
      "needs_background": "light"
     },
     "output_type": "display_data"
    }
   ],
   "source": [
    "# Plot the Histogram Salary for these two groups\n",
    "\n",
    "plt.figure(figsize=(12,4))\n",
    "\n",
    "plt.subplot(1,2,1)     # plt.subplot(nrows, ncols, plot_number)\n",
    "plt.title('Men')\n",
    "sns.histplot(male['Salary']/1000,color='b', bins=30)\n",
    "plt.xlabel('Salary (K$/year)')\n",
    "plt.ylim(0, 17)\n",
    "plt.xlim(29, 170)\n",
    "\n",
    "plt.subplot(1,2,2)\n",
    "plt.title('Women')\n",
    "sns.histplot(female['Salary']/1000,color='r', bins=30)\n",
    "plt.xlabel('Salary (K$/year)')\n",
    "plt.ylim(0, 17)\n",
    "plt.xlim(29, 170)"
   ]
  },
  {
   "cell_type": "markdown",
   "metadata": {},
   "source": [
    "We can see that the highest paid employee is actually the president and CEO of the company, Caroline Vold who is female. This may explain the Galaxian culture of the company but it may also mean that her high salary biased are data what if on average it seems that women are rewarded the same as men but in fact very few of them are in such cases."
   ]
  },
  {
   "cell_type": "code",
   "execution_count": 16,
   "metadata": {},
   "outputs": [
    {
     "data": {
      "text/plain": [
       "(20.0, 70.0)"
      ]
     },
     "execution_count": 16,
     "metadata": {},
     "output_type": "execute_result"
    },
    {
     "data": {
      "image/png": "[encoded data removed]",
      "text/plain": [
       "<Figure size 864x360 with 2 Axes>"
      ]
     },
     "metadata": {
      "needs_background": "light"
     },
     "output_type": "display_data"
    }
   ],
   "source": [
    "# Scatter Plot \"Salary x Age\"\n",
    "\n",
    "plt.figure(figsize=(12,5))\n",
    "\n",
    "plt.subplot(1,2,1)     # plt.subplot(nrows, ncols, plot_number)\n",
    "plt.title('Men')\n",
    "plt.scatter(male['Age'],male['Salary']/1000,c='g',marker='.')# plt.scatter(x,y)\n",
    "plt.xlabel('Age')\n",
    "plt.ylabel('Salary (K / year)')\n",
    "plt.ylim(20, 170)\n",
    "plt.xlim(20, 70)\n",
    "\n",
    "plt.subplot(1,2,2)\n",
    "plt.title('Women')\n",
    "plt.scatter(female['Age'],female['Salary']/1000,c='g',marker='.')\n",
    "plt.xlabel('Age')\n",
    "plt.ylabel('Salary (K / year)')\n",
    "plt.ylim(20, 170)\n",
    "plt.xlim(20, 70)"
   ]
  },
  {
   "cell_type": "code",
   "execution_count": 17,
   "metadata": {},
   "outputs": [
    {
     "data": {
      "text/plain": [
       "(20.0, 70.0)"
      ]
     },
     "execution_count": 17,
     "metadata": {},
     "output_type": "execute_result"
    },
    {
     "data": {
      "image/png": "[encoded data removed]",
      "text/plain": [
       "<Figure size 864x288 with 2 Axes>"
      ]
     },
     "metadata": {
      "needs_background": "light"
     },
     "output_type": "display_data"
    }
   ],
   "source": [
    "# Plot the Histogram Age for these two groups\n",
    "\n",
    "plt.figure(figsize=(12,4))\n",
    "\n",
    "plt.subplot(1,2,1)     # plt.subplot(nrows, ncols, plot_number)\n",
    "plt.title('Men')\n",
    "sns.histplot(male['Age'],color='b', bins=30)\n",
    "plt.xlabel('Age')\n",
    "plt.ylim(0, 14)\n",
    "plt.xlim(20, 70)\n",
    "\n",
    "plt.subplot(1,2,2)\n",
    "plt.title('Women')\n",
    "sns.histplot(female['Age'],color='r', bins=30)\n",
    "plt.xlabel('Age')\n",
    "plt.ylim(0, 14)\n",
    "plt.xlim(20, 70)"
   ]
  },
  {
   "cell_type": "markdown",
   "metadata": {},
   "source": [
    "Let's divide the employees into two more groups below 35 and above 35. This will give us valuable information about the wage equality of younger and older staff. We will create two more data sets that are based on the original one, and run the same tests as before but this time we will do it in our segmented data. The hypotheses are the same."
   ]
  },
  {
   "cell_type": "code",
   "execution_count": 18,
   "metadata": {},
   "outputs": [],
   "source": [
    "# Split in Subgroups\n",
    "\n",
    "male_under = male[male['Age'] <= 35]['Salary']\n",
    "\n",
    "male_above = male[male['Age'] > 35]['Salary']\n",
    "\n",
    "female_under = female[female['Age'] <= 35]['Salary']\n",
    "\n",
    "female_above = female[female['Age'] > 35]['Salary']"
   ]
  },
  {
   "cell_type": "markdown",
   "metadata": {},
   "source": [
    "### Analysis of employees below 35 years old"
   ]
  },
  {
   "cell_type": "code",
   "execution_count": 19,
   "metadata": {},
   "outputs": [
    {
     "name": "stdout",
     "output_type": "stream",
     "text": [
      "Pooled Variance: 1036297775.82\n",
      "Standard Error for Diff Means: 7137.16\n",
      "\n",
      "t-statistic: 0.26\n",
      "p-value: 0.398209119596918\n",
      "alpha: 0.05\n",
      "(p-value > alpha): Fail to reject Ho. So... (muM - muF <= 0)\n"
     ]
    }
   ],
   "source": [
    "# Ho: muM - muF <= 0\n",
    "# Ha: muM - muF > 0  (right tail test)\n",
    "\n",
    "# Indepedent Samples\n",
    "# Pooled - variances of the 2 populations assumed equal\n",
    "\n",
    "# Sample Sizes\n",
    "nF = len(female_under)\n",
    "nM = len(male_under)\n",
    "\n",
    "# Means\n",
    "xbarF = female_under.mean()\n",
    "xbarM = male_under.mean()\n",
    "\n",
    "# Sample Variance\n",
    "sF2 = female_under.var()\n",
    "sM2 = male_under.var()\n",
    "\n",
    "\n",
    "# Pooled Variance\n",
    "polled_S2 = (((nF-1)*sF2)+((nM-1)*sM2))/(nF+nM-2)\n",
    "\n",
    "# Standard Error for Diff\n",
    "SE_diff = np.sqrt(sF2/nF +sM2/nM)   \n",
    "\n",
    "print(f'Pooled Variance: {round(polled_S2,2)}')\n",
    "print(f'Standard Error for Diff Means: {round(SE_diff,2)}')\n",
    "print()\n",
    "\n",
    "# t-statistic\n",
    "delta_mu = 0\n",
    "t_stat = ( (xbarM - xbarF) - (delta_mu) )/ (SE_diff)\n",
    "print(f't-statistic: {round(t_stat,2)}')\n",
    "\n",
    "dof = nF + nM -2\n",
    "alpha = 0.05\n",
    "\n",
    "# p-value\n",
    "p_value = stats.t.sf(abs(t_stat), df=dof)  # for 2 tail test (X2)\n",
    "# Exact same result with: p_value = (1 - norm.cdf(abs(t_stat))) \n",
    "\n",
    "print(f'p-value: {p_value}')\n",
    "print(f'alpha: {round(alpha,4)}')\n",
    "\n",
    "if abs(alpha) < abs(p_value):\n",
    "    print('(p-value > alpha): Fail to reject Ho. So... (muM - muF <= 0)')\n",
    "else:\n",
    "    print('(p-value < alpha): Reject Ho! So... (muM - muF > 0)')"
   ]
  },
  {
   "cell_type": "markdown",
   "metadata": {},
   "source": [
    "### Analysis of employees above 35 years old"
   ]
  },
  {
   "cell_type": "code",
   "execution_count": 20,
   "metadata": {},
   "outputs": [
    {
     "name": "stdout",
     "output_type": "stream",
     "text": [
      "Pooled Variance: 1285042377.17\n",
      "Standard Error for Diff Means: 7660.74\n",
      "\n",
      "t-statistic: 1.41\n",
      "p-value: 0.0811747244435797\n",
      "alpha: 0.05\n",
      "(p-value > alpha): Fail to reject Ho. So... (muM - muF <= 0)\n"
     ]
    }
   ],
   "source": [
    "# Ho: muM - muF <= 0\n",
    "# Ha: muM - muF > 0  (right tail test)\n",
    "\n",
    "# Indepedent Samples\n",
    "# Pooled - variances of the 2 populations assumed equal\n",
    "\n",
    "# Sample Sizes\n",
    "nF = len(female_above)\n",
    "nM = len(male_above)\n",
    "\n",
    "# Means\n",
    "xbarF = female_above.mean()\n",
    "xbarM = male_above.mean()\n",
    "\n",
    "# Sample Variance\n",
    "sF2 = female_above.var()\n",
    "sM2 = male_above.var()\n",
    "\n",
    "\n",
    "# Pooled Variance\n",
    "polled_S2 = (((nF-1)*sF2)+((nM-1)*sM2))/(nF+nM-2)\n",
    "\n",
    "# Standard Error for Diff\n",
    "SE_diff = np.sqrt(sF2/nF +sM2/nM)   \n",
    "\n",
    "print(f'Pooled Variance: {round(polled_S2,2)}')\n",
    "print(f'Standard Error for Diff Means: {round(SE_diff,2)}')\n",
    "print()\n",
    "\n",
    "# t-statistic\n",
    "delta_mu = 0\n",
    "t_stat = ( (xbarM - xbarF) - (delta_mu) )/ (SE_diff)\n",
    "print(f't-statistic: {round(t_stat,2)}')\n",
    "\n",
    "dof = nF + nM -2\n",
    "alpha = 0.05\n",
    "\n",
    "# p-value\n",
    "p_value = stats.t.sf(abs(t_stat), df=dof)  # for 2 tail test (X2)\n",
    "# Exact same result with: p_value = (1 - norm.cdf(abs(z))) \n",
    "\n",
    "print(f'p-value: {p_value}')\n",
    "print(f'alpha: {round(alpha,4)}')\n",
    "\n",
    "if abs(alpha) < abs(p_value):\n",
    "    print('(p-value > alpha): Fail to reject Ho. So... (muM - muF <= 0)')\n",
    "else:\n",
    "    print('(p-value < alpha): Reject Ho! So... (muM - muF > 0)')"
   ]
  },
  {
   "cell_type": "markdown",
   "metadata": {},
   "source": [
    "## Employeed Salary Analysis by Ethnicity"
   ]
  },
  {
   "cell_type": "code",
   "execution_count": 21,
   "metadata": {},
   "outputs": [
    {
     "data": {
      "text/plain": [
       "<AxesSubplot:title={'center':'Ethnicity Distribution'}, xlabel='Ethnicity', ylabel='count'>"
      ]
     },
     "execution_count": 21,
     "metadata": {},
     "output_type": "execute_result"
    },
    {
     "data": {
      "image/png": "[encoded data removed]",
      "text/plain": [
       "<Figure size 864x360 with 1 Axes>"
      ]
     },
     "metadata": {
      "needs_background": "light"
     },
     "output_type": "display_data"
    }
   ],
   "source": [
    "# Plot the Ethnicity Distribution\n",
    "\n",
    "plt.figure(figsize=(12,5))       \n",
    "\n",
    "plt.title('Ethnicity Distribution')\n",
    "plt.xticks(fontsize=12)\n",
    "\n",
    "sns.countplot(x='Ethnicity',data=df)"
   ]
  },
  {
   "cell_type": "code",
   "execution_count": 22,
   "metadata": {},
   "outputs": [],
   "source": [
    "# Let' split in two subgroups\n",
    "\n",
    "white = df[df['Ethnicity']=='White']['Salary']\n",
    "\n",
    "not_white = df[df['Ethnicity']!='White']['Salary']"
   ]
  },
  {
   "cell_type": "code",
   "execution_count": 23,
   "metadata": {},
   "outputs": [
    {
     "name": "stdout",
     "output_type": "stream",
     "text": [
      "Pooled Variance: 1168051481.95\n",
      "Standard Error for Diff Means: 5468.84\n",
      "\n",
      "t-statistic: -0.66\n",
      "p-value: 0.25596293135784065\n",
      "alpha: 0.05\n",
      "(p-value > alpha): Fail to reject Ho. So... (muW - muN >= 0)\n"
     ]
    }
   ],
   "source": [
    "# Ho: muW - muN >= 0\n",
    "# Ha: muW - muN < 0  (left tail test)\n",
    "\n",
    "# Indepedent Samples\n",
    "# Pooled - variances of the 2 populations assumed equal\n",
    "\n",
    "# Sample Sizes\n",
    "nW = len(white)\n",
    "nN = len(not_white)\n",
    "\n",
    "# Means\n",
    "xbarW = white.mean()\n",
    "xbarN = not_white.mean()\n",
    "\n",
    "# Sample Variance\n",
    "sW2 = white.var()\n",
    "sN2 = not_white.var()\n",
    "\n",
    "\n",
    "# Pooled Variance\n",
    "polled_S2 = (((nW-1)*sW2)+((nN-1)*sN2))/(nW+nN-2)\n",
    "\n",
    "# Standard Error for Diff\n",
    "SE_diff = np.sqrt(sW2/nW +sN2/nN)   \n",
    "\n",
    "print(f'Pooled Variance: {round(polled_S2,2)}')\n",
    "print(f'Standard Error for Diff Means: {round(SE_diff,2)}')\n",
    "print()\n",
    "\n",
    "# t-statistic\n",
    "delta_mu = 0\n",
    "t_stat = ( (xbarW - xbarN) - (delta_mu) )/ (SE_diff)\n",
    "print(f't-statistic: {round(t_stat,2)}')\n",
    "\n",
    "dof = nW + nN -2\n",
    "alpha = 0.05\n",
    "\n",
    "# p-value\n",
    "p_value = stats.t.sf(abs(t_stat), df=dof)  # for 2 tail test (X2)\n",
    "# Exact same result with: p_value = (1 - norm.cdf(abs(z))) \n",
    "\n",
    "print(f'p-value: {p_value}')\n",
    "print(f'alpha: {round(alpha,4)}')\n",
    "\n",
    "if abs(alpha) < abs(p_value):\n",
    "    print('(p-value > alpha): Fail to reject Ho. So... (muW - muN >= 0)')\n",
    "else:\n",
    "    print('(p-value < alpha): Reject Ho! So... (muW - muN > 0)')"
   ]
  }
 ],
 "metadata": {
  "kernelspec": {
   "display_name": "Python 3",
   "language": "python",
   "name": "python3"
  },
  "language_info": {
   "codemirror_mode": {
    "name": "ipython",
    "version": 3
   },
   "file_extension": ".py",
   "mimetype": "text/x-python",
   "name": "python",
   "nbconvert_exporter": "python",
   "pygments_lexer": "ipython3",
   "version": "3.8.5"
  }
 },
 "nbformat": 4,
 "nbformat_minor": 4
}
