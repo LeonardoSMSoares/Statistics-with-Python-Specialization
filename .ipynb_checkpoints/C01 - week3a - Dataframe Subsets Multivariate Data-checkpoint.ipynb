{
 "cells": [
  {
   "cell_type": "markdown",
   "metadata": {},
   "source": [
    "# How to Select Dataframe Subsets from Multivariate Data"
   ]
  },
  {
   "cell_type": "markdown",
   "metadata": {},
   "source": [
    "<img src=\"images/subset.jpg\"/>"
   ]
  },
  {
   "cell_type": "markdown",
   "metadata": {},
   "source": [
    "### Setup"
   ]
  },
  {
   "cell_type": "code",
   "execution_count": 1,
   "metadata": {},
   "outputs": [],
   "source": [
    "import numpy as np\n",
    "import pandas as pd\n",
    "\n",
    "pd.set_option('display.max_columns', 100) # Show all columns when looking at dataframe"
   ]
  },
  {
   "cell_type": "markdown",
   "metadata": {},
   "source": [
    "### Importing Data"
   ]
  },
  {
   "cell_type": "code",
   "execution_count": 2,
   "metadata": {},
   "outputs": [
    {
     "data": {
      "text/html": [
       "<div>\n",
       "<style scoped>\n",
       "    .dataframe tbody tr th:only-of-type {\n",
       "        vertical-align: middle;\n",
       "    }\n",
       "\n",
       "    .dataframe tbody tr th {\n",
       "        vertical-align: top;\n",
       "    }\n",
       "\n",
       "    .dataframe thead th {\n",
       "        text-align: right;\n",
       "    }\n",
       "</style>\n",
       "<table border=\"1\" class=\"dataframe\">\n",
       "  <thead>\n",
       "    <tr style=\"text-align: right;\">\n",
       "      <th></th>\n",
       "      <th>SEQN</th>\n",
       "      <th>ALQ101</th>\n",
       "      <th>ALQ110</th>\n",
       "      <th>ALQ130</th>\n",
       "      <th>SMQ020</th>\n",
       "      <th>RIAGENDR</th>\n",
       "      <th>RIDAGEYR</th>\n",
       "      <th>RIDRETH1</th>\n",
       "      <th>DMDCITZN</th>\n",
       "      <th>DMDEDUC2</th>\n",
       "      <th>DMDMARTL</th>\n",
       "      <th>DMDHHSIZ</th>\n",
       "      <th>WTINT2YR</th>\n",
       "      <th>SDMVPSU</th>\n",
       "      <th>SDMVSTRA</th>\n",
       "      <th>INDFMPIR</th>\n",
       "      <th>BPXSY1</th>\n",
       "      <th>BPXDI1</th>\n",
       "      <th>BPXSY2</th>\n",
       "      <th>BPXDI2</th>\n",
       "      <th>BMXWT</th>\n",
       "      <th>BMXHT</th>\n",
       "      <th>BMXBMI</th>\n",
       "      <th>BMXLEG</th>\n",
       "      <th>BMXARML</th>\n",
       "      <th>BMXARMC</th>\n",
       "      <th>BMXWAIST</th>\n",
       "      <th>HIQ210</th>\n",
       "    </tr>\n",
       "  </thead>\n",
       "  <tbody>\n",
       "    <tr>\n",
       "      <th>0</th>\n",
       "      <td>83732</td>\n",
       "      <td>1.0</td>\n",
       "      <td>NaN</td>\n",
       "      <td>1.0</td>\n",
       "      <td>1</td>\n",
       "      <td>1</td>\n",
       "      <td>62</td>\n",
       "      <td>3</td>\n",
       "      <td>1.0</td>\n",
       "      <td>5.0</td>\n",
       "      <td>1.0</td>\n",
       "      <td>2</td>\n",
       "      <td>134671.37</td>\n",
       "      <td>1</td>\n",
       "      <td>125</td>\n",
       "      <td>4.39</td>\n",
       "      <td>128.0</td>\n",
       "      <td>70.0</td>\n",
       "      <td>124.0</td>\n",
       "      <td>64.0</td>\n",
       "      <td>94.8</td>\n",
       "      <td>184.5</td>\n",
       "      <td>27.8</td>\n",
       "      <td>43.3</td>\n",
       "      <td>43.6</td>\n",
       "      <td>35.9</td>\n",
       "      <td>101.1</td>\n",
       "      <td>2.0</td>\n",
       "    </tr>\n",
       "    <tr>\n",
       "      <th>1</th>\n",
       "      <td>83733</td>\n",
       "      <td>1.0</td>\n",
       "      <td>NaN</td>\n",
       "      <td>6.0</td>\n",
       "      <td>1</td>\n",
       "      <td>1</td>\n",
       "      <td>53</td>\n",
       "      <td>3</td>\n",
       "      <td>2.0</td>\n",
       "      <td>3.0</td>\n",
       "      <td>3.0</td>\n",
       "      <td>1</td>\n",
       "      <td>24328.56</td>\n",
       "      <td>1</td>\n",
       "      <td>125</td>\n",
       "      <td>1.32</td>\n",
       "      <td>146.0</td>\n",
       "      <td>88.0</td>\n",
       "      <td>140.0</td>\n",
       "      <td>88.0</td>\n",
       "      <td>90.4</td>\n",
       "      <td>171.4</td>\n",
       "      <td>30.8</td>\n",
       "      <td>38.0</td>\n",
       "      <td>40.0</td>\n",
       "      <td>33.2</td>\n",
       "      <td>107.9</td>\n",
       "      <td>NaN</td>\n",
       "    </tr>\n",
       "    <tr>\n",
       "      <th>2</th>\n",
       "      <td>83734</td>\n",
       "      <td>1.0</td>\n",
       "      <td>NaN</td>\n",
       "      <td>NaN</td>\n",
       "      <td>1</td>\n",
       "      <td>1</td>\n",
       "      <td>78</td>\n",
       "      <td>3</td>\n",
       "      <td>1.0</td>\n",
       "      <td>3.0</td>\n",
       "      <td>1.0</td>\n",
       "      <td>2</td>\n",
       "      <td>12400.01</td>\n",
       "      <td>1</td>\n",
       "      <td>131</td>\n",
       "      <td>1.51</td>\n",
       "      <td>138.0</td>\n",
       "      <td>46.0</td>\n",
       "      <td>132.0</td>\n",
       "      <td>44.0</td>\n",
       "      <td>83.4</td>\n",
       "      <td>170.1</td>\n",
       "      <td>28.8</td>\n",
       "      <td>35.6</td>\n",
       "      <td>37.0</td>\n",
       "      <td>31.0</td>\n",
       "      <td>116.5</td>\n",
       "      <td>2.0</td>\n",
       "    </tr>\n",
       "    <tr>\n",
       "      <th>3</th>\n",
       "      <td>83735</td>\n",
       "      <td>2.0</td>\n",
       "      <td>1.0</td>\n",
       "      <td>1.0</td>\n",
       "      <td>2</td>\n",
       "      <td>2</td>\n",
       "      <td>56</td>\n",
       "      <td>3</td>\n",
       "      <td>1.0</td>\n",
       "      <td>5.0</td>\n",
       "      <td>6.0</td>\n",
       "      <td>1</td>\n",
       "      <td>102718.00</td>\n",
       "      <td>1</td>\n",
       "      <td>131</td>\n",
       "      <td>5.00</td>\n",
       "      <td>132.0</td>\n",
       "      <td>72.0</td>\n",
       "      <td>134.0</td>\n",
       "      <td>68.0</td>\n",
       "      <td>109.8</td>\n",
       "      <td>160.9</td>\n",
       "      <td>42.4</td>\n",
       "      <td>38.5</td>\n",
       "      <td>37.7</td>\n",
       "      <td>38.3</td>\n",
       "      <td>110.1</td>\n",
       "      <td>2.0</td>\n",
       "    </tr>\n",
       "    <tr>\n",
       "      <th>4</th>\n",
       "      <td>83736</td>\n",
       "      <td>2.0</td>\n",
       "      <td>1.0</td>\n",
       "      <td>1.0</td>\n",
       "      <td>2</td>\n",
       "      <td>2</td>\n",
       "      <td>42</td>\n",
       "      <td>4</td>\n",
       "      <td>1.0</td>\n",
       "      <td>4.0</td>\n",
       "      <td>3.0</td>\n",
       "      <td>5</td>\n",
       "      <td>17627.67</td>\n",
       "      <td>2</td>\n",
       "      <td>126</td>\n",
       "      <td>1.23</td>\n",
       "      <td>100.0</td>\n",
       "      <td>70.0</td>\n",
       "      <td>114.0</td>\n",
       "      <td>54.0</td>\n",
       "      <td>55.2</td>\n",
       "      <td>164.9</td>\n",
       "      <td>20.3</td>\n",
       "      <td>37.4</td>\n",
       "      <td>36.0</td>\n",
       "      <td>27.2</td>\n",
       "      <td>80.4</td>\n",
       "      <td>2.0</td>\n",
       "    </tr>\n",
       "  </tbody>\n",
       "</table>\n",
       "</div>"
      ],
      "text/plain": [
       "    SEQN  ALQ101  ALQ110  ALQ130  SMQ020  RIAGENDR  RIDAGEYR  RIDRETH1  \\\n",
       "0  83732     1.0     NaN     1.0       1         1        62         3   \n",
       "1  83733     1.0     NaN     6.0       1         1        53         3   \n",
       "2  83734     1.0     NaN     NaN       1         1        78         3   \n",
       "3  83735     2.0     1.0     1.0       2         2        56         3   \n",
       "4  83736     2.0     1.0     1.0       2         2        42         4   \n",
       "\n",
       "   DMDCITZN  DMDEDUC2  DMDMARTL  DMDHHSIZ   WTINT2YR  SDMVPSU  SDMVSTRA  \\\n",
       "0       1.0       5.0       1.0         2  134671.37        1       125   \n",
       "1       2.0       3.0       3.0         1   24328.56        1       125   \n",
       "2       1.0       3.0       1.0         2   12400.01        1       131   \n",
       "3       1.0       5.0       6.0         1  102718.00        1       131   \n",
       "4       1.0       4.0       3.0         5   17627.67        2       126   \n",
       "\n",
       "   INDFMPIR  BPXSY1  BPXDI1  BPXSY2  BPXDI2  BMXWT  BMXHT  BMXBMI  BMXLEG  \\\n",
       "0      4.39   128.0    70.0   124.0    64.0   94.8  184.5    27.8    43.3   \n",
       "1      1.32   146.0    88.0   140.0    88.0   90.4  171.4    30.8    38.0   \n",
       "2      1.51   138.0    46.0   132.0    44.0   83.4  170.1    28.8    35.6   \n",
       "3      5.00   132.0    72.0   134.0    68.0  109.8  160.9    42.4    38.5   \n",
       "4      1.23   100.0    70.0   114.0    54.0   55.2  164.9    20.3    37.4   \n",
       "\n",
       "   BMXARML  BMXARMC  BMXWAIST  HIQ210  \n",
       "0     43.6     35.9     101.1     2.0  \n",
       "1     40.0     33.2     107.9     NaN  \n",
       "2     37.0     31.0     116.5     2.0  \n",
       "3     37.7     38.3     110.1     2.0  \n",
       "4     36.0     27.2      80.4     2.0  "
      ]
     },
     "execution_count": 2,
     "metadata": {},
     "output_type": "execute_result"
    }
   ],
   "source": [
    "# Download NHANES 2015-2016 data\n",
    "df = pd.read_csv(\"data/nhanes_2015_2016.csv\")\n",
    "df.head()"
   ]
  },
  {
   "cell_type": "markdown",
   "metadata": {},
   "source": [
    "### Viewing Data"
   ]
  },
  {
   "cell_type": "markdown",
   "metadata": {},
   "source": [
    "Keep only body measures columns, so only columns with \"BMX\" in the name."
   ]
  },
  {
   "cell_type": "code",
   "execution_count": 3,
   "metadata": {},
   "outputs": [
    {
     "data": {
      "text/plain": [
       "Index(['SEQN', 'ALQ101', 'ALQ110', 'ALQ130', 'SMQ020', 'RIAGENDR', 'RIDAGEYR',\n",
       "       'RIDRETH1', 'DMDCITZN', 'DMDEDUC2', 'DMDMARTL', 'DMDHHSIZ', 'WTINT2YR',\n",
       "       'SDMVPSU', 'SDMVSTRA', 'INDFMPIR', 'BPXSY1', 'BPXDI1', 'BPXSY2',\n",
       "       'BPXDI2', 'BMXWT', 'BMXHT', 'BMXBMI', 'BMXLEG', 'BMXARML', 'BMXARMC',\n",
       "       'BMXWAIST', 'HIQ210'],\n",
       "      dtype='object')"
      ]
     },
     "execution_count": 3,
     "metadata": {},
     "output_type": "execute_result"
    }
   ],
   "source": [
    "# get columns names\n",
    "col_names = df.columns\n",
    "col_names"
   ]
  },
  {
   "cell_type": "code",
   "execution_count": 4,
   "metadata": {},
   "outputs": [],
   "source": [
    "# One way to get the column names we want to keep is simply by copying from the above output and storing in a list\n",
    "keep = ['BMXWT', 'BMXHT', 'BMXBMI', 'BMXLEG', 'BMXARML', 'BMXARMC',\n",
    "       'BMXWAIST']"
   ]
  },
  {
   "cell_type": "code",
   "execution_count": 5,
   "metadata": {},
   "outputs": [
    {
     "data": {
      "text/plain": [
       "['BMXWT', 'BMXHT', 'BMXBMI', 'BMXLEG', 'BMXARML', 'BMXARMC', 'BMXWAIST']"
      ]
     },
     "execution_count": 5,
     "metadata": {},
     "output_type": "execute_result"
    }
   ],
   "source": [
    "# Another way to get only column names that include 'BMX' is with list comprehension [keep x for x in list if condition met]\n",
    "[column for column in col_names if 'BMX' in column]"
   ]
  },
  {
   "cell_type": "code",
   "execution_count": 6,
   "metadata": {},
   "outputs": [],
   "source": [
    "keep = [column for column in col_names if 'BMX' in column]"
   ]
  },
  {
   "cell_type": "code",
   "execution_count": 7,
   "metadata": {},
   "outputs": [
    {
     "data": {
      "text/html": [
       "<div>\n",
       "<style scoped>\n",
       "    .dataframe tbody tr th:only-of-type {\n",
       "        vertical-align: middle;\n",
       "    }\n",
       "\n",
       "    .dataframe tbody tr th {\n",
       "        vertical-align: top;\n",
       "    }\n",
       "\n",
       "    .dataframe thead th {\n",
       "        text-align: right;\n",
       "    }\n",
       "</style>\n",
       "<table border=\"1\" class=\"dataframe\">\n",
       "  <thead>\n",
       "    <tr style=\"text-align: right;\">\n",
       "      <th></th>\n",
       "      <th>BMXWT</th>\n",
       "      <th>BMXHT</th>\n",
       "      <th>BMXBMI</th>\n",
       "      <th>BMXLEG</th>\n",
       "      <th>BMXARML</th>\n",
       "      <th>BMXARMC</th>\n",
       "      <th>BMXWAIST</th>\n",
       "    </tr>\n",
       "  </thead>\n",
       "  <tbody>\n",
       "    <tr>\n",
       "      <th>0</th>\n",
       "      <td>94.8</td>\n",
       "      <td>184.5</td>\n",
       "      <td>27.8</td>\n",
       "      <td>43.3</td>\n",
       "      <td>43.6</td>\n",
       "      <td>35.9</td>\n",
       "      <td>101.1</td>\n",
       "    </tr>\n",
       "    <tr>\n",
       "      <th>1</th>\n",
       "      <td>90.4</td>\n",
       "      <td>171.4</td>\n",
       "      <td>30.8</td>\n",
       "      <td>38.0</td>\n",
       "      <td>40.0</td>\n",
       "      <td>33.2</td>\n",
       "      <td>107.9</td>\n",
       "    </tr>\n",
       "    <tr>\n",
       "      <th>2</th>\n",
       "      <td>83.4</td>\n",
       "      <td>170.1</td>\n",
       "      <td>28.8</td>\n",
       "      <td>35.6</td>\n",
       "      <td>37.0</td>\n",
       "      <td>31.0</td>\n",
       "      <td>116.5</td>\n",
       "    </tr>\n",
       "    <tr>\n",
       "      <th>3</th>\n",
       "      <td>109.8</td>\n",
       "      <td>160.9</td>\n",
       "      <td>42.4</td>\n",
       "      <td>38.5</td>\n",
       "      <td>37.7</td>\n",
       "      <td>38.3</td>\n",
       "      <td>110.1</td>\n",
       "    </tr>\n",
       "    <tr>\n",
       "      <th>4</th>\n",
       "      <td>55.2</td>\n",
       "      <td>164.9</td>\n",
       "      <td>20.3</td>\n",
       "      <td>37.4</td>\n",
       "      <td>36.0</td>\n",
       "      <td>27.2</td>\n",
       "      <td>80.4</td>\n",
       "    </tr>\n",
       "  </tbody>\n",
       "</table>\n",
       "</div>"
      ],
      "text/plain": [
       "   BMXWT  BMXHT  BMXBMI  BMXLEG  BMXARML  BMXARMC  BMXWAIST\n",
       "0   94.8  184.5    27.8    43.3     43.6     35.9     101.1\n",
       "1   90.4  171.4    30.8    38.0     40.0     33.2     107.9\n",
       "2   83.4  170.1    28.8    35.6     37.0     31.0     116.5\n",
       "3  109.8  160.9    42.4    38.5     37.7     38.3     110.1\n",
       "4   55.2  164.9    20.3    37.4     36.0     27.2      80.4"
      ]
     },
     "execution_count": 7,
     "metadata": {},
     "output_type": "execute_result"
    }
   ],
   "source": [
    "# use [] notation to keep columns\n",
    "df_BMX = df[keep]\n",
    "\n",
    "df_BMX.head()"
   ]
  },
  {
   "cell_type": "markdown",
   "metadata": {},
   "source": [
    "### Methods for selecting by row and column:  \n",
    "* \"[ ]\" column indexing\n",
    "* .loc is primarily label based, but may also be used with a boolean array.   \n",
    "* .iloc is primarily integer position based (from 0 to length-1 of the axis), but may also be used with a boolean array."
   ]
  },
  {
   "cell_type": "code",
   "execution_count": 8,
   "metadata": {},
   "outputs": [
    {
     "data": {
      "text/html": [
       "<div>\n",
       "<style scoped>\n",
       "    .dataframe tbody tr th:only-of-type {\n",
       "        vertical-align: middle;\n",
       "    }\n",
       "\n",
       "    .dataframe tbody tr th {\n",
       "        vertical-align: top;\n",
       "    }\n",
       "\n",
       "    .dataframe thead th {\n",
       "        text-align: right;\n",
       "    }\n",
       "</style>\n",
       "<table border=\"1\" class=\"dataframe\">\n",
       "  <thead>\n",
       "    <tr style=\"text-align: right;\">\n",
       "      <th></th>\n",
       "      <th>BMXWT</th>\n",
       "      <th>BMXHT</th>\n",
       "      <th>BMXBMI</th>\n",
       "      <th>BMXLEG</th>\n",
       "      <th>BMXARML</th>\n",
       "      <th>BMXARMC</th>\n",
       "      <th>BMXWAIST</th>\n",
       "    </tr>\n",
       "  </thead>\n",
       "  <tbody>\n",
       "    <tr>\n",
       "      <th>0</th>\n",
       "      <td>94.8</td>\n",
       "      <td>184.5</td>\n",
       "      <td>27.8</td>\n",
       "      <td>43.3</td>\n",
       "      <td>43.6</td>\n",
       "      <td>35.9</td>\n",
       "      <td>101.1</td>\n",
       "    </tr>\n",
       "    <tr>\n",
       "      <th>1</th>\n",
       "      <td>90.4</td>\n",
       "      <td>171.4</td>\n",
       "      <td>30.8</td>\n",
       "      <td>38.0</td>\n",
       "      <td>40.0</td>\n",
       "      <td>33.2</td>\n",
       "      <td>107.9</td>\n",
       "    </tr>\n",
       "    <tr>\n",
       "      <th>2</th>\n",
       "      <td>83.4</td>\n",
       "      <td>170.1</td>\n",
       "      <td>28.8</td>\n",
       "      <td>35.6</td>\n",
       "      <td>37.0</td>\n",
       "      <td>31.0</td>\n",
       "      <td>116.5</td>\n",
       "    </tr>\n",
       "    <tr>\n",
       "      <th>3</th>\n",
       "      <td>109.8</td>\n",
       "      <td>160.9</td>\n",
       "      <td>42.4</td>\n",
       "      <td>38.5</td>\n",
       "      <td>37.7</td>\n",
       "      <td>38.3</td>\n",
       "      <td>110.1</td>\n",
       "    </tr>\n",
       "    <tr>\n",
       "      <th>4</th>\n",
       "      <td>55.2</td>\n",
       "      <td>164.9</td>\n",
       "      <td>20.3</td>\n",
       "      <td>37.4</td>\n",
       "      <td>36.0</td>\n",
       "      <td>27.2</td>\n",
       "      <td>80.4</td>\n",
       "    </tr>\n",
       "  </tbody>\n",
       "</table>\n",
       "</div>"
      ],
      "text/plain": [
       "   BMXWT  BMXHT  BMXBMI  BMXLEG  BMXARML  BMXARMC  BMXWAIST\n",
       "0   94.8  184.5    27.8    43.3     43.6     35.9     101.1\n",
       "1   90.4  171.4    30.8    38.0     40.0     33.2     107.9\n",
       "2   83.4  170.1    28.8    35.6     37.0     31.0     116.5\n",
       "3  109.8  160.9    42.4    38.5     37.7     38.3     110.1\n",
       "4   55.2  164.9    20.3    37.4     36.0     27.2      80.4"
      ]
     },
     "execution_count": 8,
     "metadata": {},
     "output_type": "execute_result"
    }
   ],
   "source": [
    "df.loc[:, keep].head()"
   ]
  },
  {
   "cell_type": "code",
   "execution_count": 9,
   "metadata": {},
   "outputs": [
    {
     "data": {
      "text/plain": [
       "array([False, False, False, False, False, False, False, False, False,\n",
       "       False, False, False, False, False, False, False, False, False,\n",
       "       False, False,  True,  True,  True,  True,  True,  True,  True,\n",
       "       False])"
      ]
     },
     "execution_count": 9,
     "metadata": {},
     "output_type": "execute_result"
    }
   ],
   "source": [
    "index_bool = np.isin(df.columns, keep)\n",
    "index_bool"
   ]
  },
  {
   "cell_type": "code",
   "execution_count": 10,
   "metadata": {},
   "outputs": [
    {
     "data": {
      "text/html": [
       "<div>\n",
       "<style scoped>\n",
       "    .dataframe tbody tr th:only-of-type {\n",
       "        vertical-align: middle;\n",
       "    }\n",
       "\n",
       "    .dataframe tbody tr th {\n",
       "        vertical-align: top;\n",
       "    }\n",
       "\n",
       "    .dataframe thead th {\n",
       "        text-align: right;\n",
       "    }\n",
       "</style>\n",
       "<table border=\"1\" class=\"dataframe\">\n",
       "  <thead>\n",
       "    <tr style=\"text-align: right;\">\n",
       "      <th></th>\n",
       "      <th>BMXWT</th>\n",
       "      <th>BMXHT</th>\n",
       "      <th>BMXBMI</th>\n",
       "      <th>BMXLEG</th>\n",
       "      <th>BMXARML</th>\n",
       "      <th>BMXARMC</th>\n",
       "      <th>BMXWAIST</th>\n",
       "    </tr>\n",
       "  </thead>\n",
       "  <tbody>\n",
       "    <tr>\n",
       "      <th>0</th>\n",
       "      <td>94.8</td>\n",
       "      <td>184.5</td>\n",
       "      <td>27.8</td>\n",
       "      <td>43.3</td>\n",
       "      <td>43.6</td>\n",
       "      <td>35.9</td>\n",
       "      <td>101.1</td>\n",
       "    </tr>\n",
       "    <tr>\n",
       "      <th>1</th>\n",
       "      <td>90.4</td>\n",
       "      <td>171.4</td>\n",
       "      <td>30.8</td>\n",
       "      <td>38.0</td>\n",
       "      <td>40.0</td>\n",
       "      <td>33.2</td>\n",
       "      <td>107.9</td>\n",
       "    </tr>\n",
       "    <tr>\n",
       "      <th>2</th>\n",
       "      <td>83.4</td>\n",
       "      <td>170.1</td>\n",
       "      <td>28.8</td>\n",
       "      <td>35.6</td>\n",
       "      <td>37.0</td>\n",
       "      <td>31.0</td>\n",
       "      <td>116.5</td>\n",
       "    </tr>\n",
       "    <tr>\n",
       "      <th>3</th>\n",
       "      <td>109.8</td>\n",
       "      <td>160.9</td>\n",
       "      <td>42.4</td>\n",
       "      <td>38.5</td>\n",
       "      <td>37.7</td>\n",
       "      <td>38.3</td>\n",
       "      <td>110.1</td>\n",
       "    </tr>\n",
       "    <tr>\n",
       "      <th>4</th>\n",
       "      <td>55.2</td>\n",
       "      <td>164.9</td>\n",
       "      <td>20.3</td>\n",
       "      <td>37.4</td>\n",
       "      <td>36.0</td>\n",
       "      <td>27.2</td>\n",
       "      <td>80.4</td>\n",
       "    </tr>\n",
       "  </tbody>\n",
       "</table>\n",
       "</div>"
      ],
      "text/plain": [
       "   BMXWT  BMXHT  BMXBMI  BMXLEG  BMXARML  BMXARMC  BMXWAIST\n",
       "0   94.8  184.5    27.8    43.3     43.6     35.9     101.1\n",
       "1   90.4  171.4    30.8    38.0     40.0     33.2     107.9\n",
       "2   83.4  170.1    28.8    35.6     37.0     31.0     116.5\n",
       "3  109.8  160.9    42.4    38.5     37.7     38.3     110.1\n",
       "4   55.2  164.9    20.3    37.4     36.0     27.2      80.4"
      ]
     },
     "execution_count": 10,
     "metadata": {},
     "output_type": "execute_result"
    }
   ],
   "source": [
    "df.iloc[:,index_bool].head() # Indexing with boolean list"
   ]
  },
  {
   "cell_type": "markdown",
   "metadata": {},
   "source": [
    "## Selection by conditions"
   ]
  },
  {
   "cell_type": "markdown",
   "metadata": {},
   "source": [
    "Lets only look at rows who 'BMXWAIST' is larger than the median."
   ]
  },
  {
   "cell_type": "code",
   "execution_count": 11,
   "metadata": {},
   "outputs": [
    {
     "data": {
      "text/plain": [
       "98.3"
      ]
     },
     "execution_count": 11,
     "metadata": {},
     "output_type": "execute_result"
    }
   ],
   "source": [
    "# Get the median of 'BMXWAIST'\n",
    "\n",
    "waist_median = pd.Series.median(df_BMX['BMXWAIST'])\n",
    "waist_median"
   ]
  },
  {
   "cell_type": "code",
   "execution_count": 12,
   "metadata": {},
   "outputs": [
    {
     "data": {
      "text/html": [
       "<div>\n",
       "<style scoped>\n",
       "    .dataframe tbody tr th:only-of-type {\n",
       "        vertical-align: middle;\n",
       "    }\n",
       "\n",
       "    .dataframe tbody tr th {\n",
       "        vertical-align: top;\n",
       "    }\n",
       "\n",
       "    .dataframe thead th {\n",
       "        text-align: right;\n",
       "    }\n",
       "</style>\n",
       "<table border=\"1\" class=\"dataframe\">\n",
       "  <thead>\n",
       "    <tr style=\"text-align: right;\">\n",
       "      <th></th>\n",
       "      <th>BMXWT</th>\n",
       "      <th>BMXHT</th>\n",
       "      <th>BMXBMI</th>\n",
       "      <th>BMXLEG</th>\n",
       "      <th>BMXARML</th>\n",
       "      <th>BMXARMC</th>\n",
       "      <th>BMXWAIST</th>\n",
       "    </tr>\n",
       "  </thead>\n",
       "  <tbody>\n",
       "    <tr>\n",
       "      <th>0</th>\n",
       "      <td>94.8</td>\n",
       "      <td>184.5</td>\n",
       "      <td>27.8</td>\n",
       "      <td>43.3</td>\n",
       "      <td>43.6</td>\n",
       "      <td>35.9</td>\n",
       "      <td>101.1</td>\n",
       "    </tr>\n",
       "    <tr>\n",
       "      <th>1</th>\n",
       "      <td>90.4</td>\n",
       "      <td>171.4</td>\n",
       "      <td>30.8</td>\n",
       "      <td>38.0</td>\n",
       "      <td>40.0</td>\n",
       "      <td>33.2</td>\n",
       "      <td>107.9</td>\n",
       "    </tr>\n",
       "    <tr>\n",
       "      <th>2</th>\n",
       "      <td>83.4</td>\n",
       "      <td>170.1</td>\n",
       "      <td>28.8</td>\n",
       "      <td>35.6</td>\n",
       "      <td>37.0</td>\n",
       "      <td>31.0</td>\n",
       "      <td>116.5</td>\n",
       "    </tr>\n",
       "    <tr>\n",
       "      <th>3</th>\n",
       "      <td>109.8</td>\n",
       "      <td>160.9</td>\n",
       "      <td>42.4</td>\n",
       "      <td>38.5</td>\n",
       "      <td>37.7</td>\n",
       "      <td>38.3</td>\n",
       "      <td>110.1</td>\n",
       "    </tr>\n",
       "    <tr>\n",
       "      <th>9</th>\n",
       "      <td>108.3</td>\n",
       "      <td>179.4</td>\n",
       "      <td>33.6</td>\n",
       "      <td>46.0</td>\n",
       "      <td>44.1</td>\n",
       "      <td>38.5</td>\n",
       "      <td>116.0</td>\n",
       "    </tr>\n",
       "  </tbody>\n",
       "</table>\n",
       "</div>"
      ],
      "text/plain": [
       "   BMXWT  BMXHT  BMXBMI  BMXLEG  BMXARML  BMXARMC  BMXWAIST\n",
       "0   94.8  184.5    27.8    43.3     43.6     35.9     101.1\n",
       "1   90.4  171.4    30.8    38.0     40.0     33.2     107.9\n",
       "2   83.4  170.1    28.8    35.6     37.0     31.0     116.5\n",
       "3  109.8  160.9    42.4    38.5     37.7     38.3     110.1\n",
       "9  108.3  179.4    33.6    46.0     44.1     38.5     116.0"
      ]
     },
     "execution_count": 12,
     "metadata": {},
     "output_type": "execute_result"
    }
   ],
   "source": [
    "# Select rows in 'BMXWAIST' larger than median\n",
    "\n",
    "df_BMX[df_BMX['BMXWAIST'] > waist_median].head()"
   ]
  },
  {
   "cell_type": "code",
   "execution_count": 13,
   "metadata": {},
   "outputs": [
    {
     "data": {
      "text/html": [
       "<div>\n",
       "<style scoped>\n",
       "    .dataframe tbody tr th:only-of-type {\n",
       "        vertical-align: middle;\n",
       "    }\n",
       "\n",
       "    .dataframe tbody tr th {\n",
       "        vertical-align: top;\n",
       "    }\n",
       "\n",
       "    .dataframe thead th {\n",
       "        text-align: right;\n",
       "    }\n",
       "</style>\n",
       "<table border=\"1\" class=\"dataframe\">\n",
       "  <thead>\n",
       "    <tr style=\"text-align: right;\">\n",
       "      <th></th>\n",
       "      <th>BMXWT</th>\n",
       "      <th>BMXHT</th>\n",
       "      <th>BMXBMI</th>\n",
       "      <th>BMXLEG</th>\n",
       "      <th>BMXARML</th>\n",
       "      <th>BMXARMC</th>\n",
       "      <th>BMXWAIST</th>\n",
       "    </tr>\n",
       "  </thead>\n",
       "  <tbody>\n",
       "    <tr>\n",
       "      <th>15</th>\n",
       "      <td>80.5</td>\n",
       "      <td>150.8</td>\n",
       "      <td>35.4</td>\n",
       "      <td>31.6</td>\n",
       "      <td>32.7</td>\n",
       "      <td>33.7</td>\n",
       "      <td>113.5</td>\n",
       "    </tr>\n",
       "    <tr>\n",
       "      <th>27</th>\n",
       "      <td>75.6</td>\n",
       "      <td>145.2</td>\n",
       "      <td>35.9</td>\n",
       "      <td>31.0</td>\n",
       "      <td>33.1</td>\n",
       "      <td>36.0</td>\n",
       "      <td>108.0</td>\n",
       "    </tr>\n",
       "    <tr>\n",
       "      <th>39</th>\n",
       "      <td>63.7</td>\n",
       "      <td>147.9</td>\n",
       "      <td>29.1</td>\n",
       "      <td>26.0</td>\n",
       "      <td>34.0</td>\n",
       "      <td>31.5</td>\n",
       "      <td>110.0</td>\n",
       "    </tr>\n",
       "    <tr>\n",
       "      <th>52</th>\n",
       "      <td>105.9</td>\n",
       "      <td>157.7</td>\n",
       "      <td>42.6</td>\n",
       "      <td>29.2</td>\n",
       "      <td>35.0</td>\n",
       "      <td>40.7</td>\n",
       "      <td>129.1</td>\n",
       "    </tr>\n",
       "    <tr>\n",
       "      <th>55</th>\n",
       "      <td>77.5</td>\n",
       "      <td>148.3</td>\n",
       "      <td>35.2</td>\n",
       "      <td>30.5</td>\n",
       "      <td>34.0</td>\n",
       "      <td>34.4</td>\n",
       "      <td>107.6</td>\n",
       "    </tr>\n",
       "  </tbody>\n",
       "</table>\n",
       "</div>"
      ],
      "text/plain": [
       "    BMXWT  BMXHT  BMXBMI  BMXLEG  BMXARML  BMXARMC  BMXWAIST\n",
       "15   80.5  150.8    35.4    31.6     32.7     33.7     113.5\n",
       "27   75.6  145.2    35.9    31.0     33.1     36.0     108.0\n",
       "39   63.7  147.9    29.1    26.0     34.0     31.5     110.0\n",
       "52  105.9  157.7    42.6    29.2     35.0     40.7     129.1\n",
       "55   77.5  148.3    35.2    30.5     34.0     34.4     107.6"
      ]
     },
     "execution_count": 13,
     "metadata": {},
     "output_type": "execute_result"
    }
   ],
   "source": [
    "# Lets add another condition, that 'BMXLEG' must be less than 32\n",
    "\n",
    "condition1 = df_BMX['BMXWAIST'] > waist_median\n",
    "condition2 = df_BMX['BMXLEG'] < 32\n",
    "\n",
    "df_BMX[condition1 & condition2].head()"
   ]
  },
  {
   "cell_type": "code",
   "execution_count": 14,
   "metadata": {},
   "outputs": [
    {
     "data": {
      "text/html": [
       "<div>\n",
       "<style scoped>\n",
       "    .dataframe tbody tr th:only-of-type {\n",
       "        vertical-align: middle;\n",
       "    }\n",
       "\n",
       "    .dataframe tbody tr th {\n",
       "        vertical-align: top;\n",
       "    }\n",
       "\n",
       "    .dataframe thead th {\n",
       "        text-align: right;\n",
       "    }\n",
       "</style>\n",
       "<table border=\"1\" class=\"dataframe\">\n",
       "  <thead>\n",
       "    <tr style=\"text-align: right;\">\n",
       "      <th></th>\n",
       "      <th>BMXWT</th>\n",
       "      <th>BMXHT</th>\n",
       "      <th>BMXBMI</th>\n",
       "      <th>BMXLEG</th>\n",
       "      <th>BMXARML</th>\n",
       "      <th>BMXARMC</th>\n",
       "      <th>BMXWAIST</th>\n",
       "    </tr>\n",
       "  </thead>\n",
       "  <tbody>\n",
       "    <tr>\n",
       "      <th>15</th>\n",
       "      <td>80.5</td>\n",
       "      <td>150.8</td>\n",
       "      <td>35.4</td>\n",
       "      <td>31.6</td>\n",
       "      <td>32.7</td>\n",
       "      <td>33.7</td>\n",
       "      <td>113.5</td>\n",
       "    </tr>\n",
       "    <tr>\n",
       "      <th>27</th>\n",
       "      <td>75.6</td>\n",
       "      <td>145.2</td>\n",
       "      <td>35.9</td>\n",
       "      <td>31.0</td>\n",
       "      <td>33.1</td>\n",
       "      <td>36.0</td>\n",
       "      <td>108.0</td>\n",
       "    </tr>\n",
       "    <tr>\n",
       "      <th>39</th>\n",
       "      <td>63.7</td>\n",
       "      <td>147.9</td>\n",
       "      <td>29.1</td>\n",
       "      <td>26.0</td>\n",
       "      <td>34.0</td>\n",
       "      <td>31.5</td>\n",
       "      <td>110.0</td>\n",
       "    </tr>\n",
       "    <tr>\n",
       "      <th>52</th>\n",
       "      <td>105.9</td>\n",
       "      <td>157.7</td>\n",
       "      <td>42.6</td>\n",
       "      <td>29.2</td>\n",
       "      <td>35.0</td>\n",
       "      <td>40.7</td>\n",
       "      <td>129.1</td>\n",
       "    </tr>\n",
       "    <tr>\n",
       "      <th>55</th>\n",
       "      <td>77.5</td>\n",
       "      <td>148.3</td>\n",
       "      <td>35.2</td>\n",
       "      <td>30.5</td>\n",
       "      <td>34.0</td>\n",
       "      <td>34.4</td>\n",
       "      <td>107.6</td>\n",
       "    </tr>\n",
       "  </tbody>\n",
       "</table>\n",
       "</div>"
      ],
      "text/plain": [
       "    BMXWT  BMXHT  BMXBMI  BMXLEG  BMXARML  BMXARMC  BMXWAIST\n",
       "15   80.5  150.8    35.4    31.6     32.7     33.7     113.5\n",
       "27   75.6  145.2    35.9    31.0     33.1     36.0     108.0\n",
       "39   63.7  147.9    29.1    26.0     34.0     31.5     110.0\n",
       "52  105.9  157.7    42.6    29.2     35.0     40.7     129.1\n",
       "55   77.5  148.3    35.2    30.5     34.0     34.4     107.6"
      ]
     },
     "execution_count": 14,
     "metadata": {},
     "output_type": "execute_result"
    }
   ],
   "source": [
    "# Using another method\n",
    "\n",
    "df_BMX.loc[condition1 & condition2, :].head()"
   ]
  },
  {
   "cell_type": "markdown",
   "metadata": {},
   "source": [
    "Lets make a small dataframe and give it a new index so can more clearly see the differences between .loc and .iloc."
   ]
  },
  {
   "cell_type": "code",
   "execution_count": 15,
   "metadata": {},
   "outputs": [
    {
     "data": {
      "text/html": [
       "<div>\n",
       "<style scoped>\n",
       "    .dataframe tbody tr th:only-of-type {\n",
       "        vertical-align: middle;\n",
       "    }\n",
       "\n",
       "    .dataframe tbody tr th {\n",
       "        vertical-align: top;\n",
       "    }\n",
       "\n",
       "    .dataframe thead th {\n",
       "        text-align: right;\n",
       "    }\n",
       "</style>\n",
       "<table border=\"1\" class=\"dataframe\">\n",
       "  <thead>\n",
       "    <tr style=\"text-align: right;\">\n",
       "      <th></th>\n",
       "      <th>BMXWT</th>\n",
       "      <th>BMXHT</th>\n",
       "      <th>BMXBMI</th>\n",
       "      <th>BMXLEG</th>\n",
       "      <th>BMXARML</th>\n",
       "      <th>BMXARMC</th>\n",
       "      <th>BMXWAIST</th>\n",
       "    </tr>\n",
       "  </thead>\n",
       "  <tbody>\n",
       "    <tr>\n",
       "      <th>a</th>\n",
       "      <td>80.5</td>\n",
       "      <td>150.8</td>\n",
       "      <td>35.4</td>\n",
       "      <td>31.6</td>\n",
       "      <td>32.7</td>\n",
       "      <td>33.7</td>\n",
       "      <td>113.5</td>\n",
       "    </tr>\n",
       "    <tr>\n",
       "      <th>b</th>\n",
       "      <td>75.6</td>\n",
       "      <td>145.2</td>\n",
       "      <td>35.9</td>\n",
       "      <td>31.0</td>\n",
       "      <td>33.1</td>\n",
       "      <td>36.0</td>\n",
       "      <td>108.0</td>\n",
       "    </tr>\n",
       "    <tr>\n",
       "      <th>c</th>\n",
       "      <td>63.7</td>\n",
       "      <td>147.9</td>\n",
       "      <td>29.1</td>\n",
       "      <td>26.0</td>\n",
       "      <td>34.0</td>\n",
       "      <td>31.5</td>\n",
       "      <td>110.0</td>\n",
       "    </tr>\n",
       "    <tr>\n",
       "      <th>d</th>\n",
       "      <td>105.9</td>\n",
       "      <td>157.7</td>\n",
       "      <td>42.6</td>\n",
       "      <td>29.2</td>\n",
       "      <td>35.0</td>\n",
       "      <td>40.7</td>\n",
       "      <td>129.1</td>\n",
       "    </tr>\n",
       "    <tr>\n",
       "      <th>e</th>\n",
       "      <td>77.5</td>\n",
       "      <td>148.3</td>\n",
       "      <td>35.2</td>\n",
       "      <td>30.5</td>\n",
       "      <td>34.0</td>\n",
       "      <td>34.4</td>\n",
       "      <td>107.6</td>\n",
       "    </tr>\n",
       "  </tbody>\n",
       "</table>\n",
       "</div>"
      ],
      "text/plain": [
       "   BMXWT  BMXHT  BMXBMI  BMXLEG  BMXARML  BMXARMC  BMXWAIST\n",
       "a   80.5  150.8    35.4    31.6     32.7     33.7     113.5\n",
       "b   75.6  145.2    35.9    31.0     33.1     36.0     108.0\n",
       "c   63.7  147.9    29.1    26.0     34.0     31.5     110.0\n",
       "d  105.9  157.7    42.6    29.2     35.0     40.7     129.1\n",
       "e   77.5  148.3    35.2    30.5     34.0     34.4     107.6"
      ]
     },
     "execution_count": 15,
     "metadata": {},
     "output_type": "execute_result"
    }
   ],
   "source": [
    "tmp = df_BMX.loc[condition1 & condition2, :].head()\n",
    "\n",
    "tmp.index = ['a', 'b', 'c', 'd', 'e']\n",
    "tmp"
   ]
  },
  {
   "cell_type": "code",
   "execution_count": 16,
   "metadata": {},
   "outputs": [
    {
     "data": {
      "text/plain": [
       "a    31.6\n",
       "b    31.0\n",
       "Name: BMXLEG, dtype: float64"
      ]
     },
     "execution_count": 16,
     "metadata": {},
     "output_type": "execute_result"
    }
   ],
   "source": [
    "tmp.loc[['a', 'b'],'BMXLEG']"
   ]
  },
  {
   "cell_type": "code",
   "execution_count": 17,
   "metadata": {},
   "outputs": [
    {
     "data": {
      "text/plain": [
       "a    31.6\n",
       "b    31.0\n",
       "Name: BMXLEG, dtype: float64"
      ]
     },
     "execution_count": 17,
     "metadata": {},
     "output_type": "execute_result"
    }
   ],
   "source": [
    "tmp.iloc[[0, 1],3]"
   ]
  },
  {
   "cell_type": "markdown",
   "metadata": {},
   "source": [
    "## Common errors and how to read them"
   ]
  },
  {
   "cell_type": "markdown",
   "metadata": {},
   "source": [
    "### Problem\n",
    "\n",
    "``` Python\n",
    "tmp[:, 'BMXBMI'] \n",
    "---------------------------------------------------------------------------\n",
    "TypeError                                 Traceback (most recent call last)\n",
    "<ipython-input-23-83067c5cae7c> in <module>()\n",
    "----> 1 tmp[:, 'BMXBMI']\n",
    "\n",
    "/opt/conda/lib/python3.6/site-packages/pandas/core/frame.py in __getitem__(self, key)\n",
    "   2925             if self.columns.nlevels > 1:\n",
    "   2926                 return self._getitem_multilevel(key)\n",
    "-> 2927             indexer = self.columns.get_loc(key)\n",
    "   2928             if is_integer(indexer):\n",
    "   2929                 indexer = [indexer]\n",
    "\n",
    "/opt/conda/lib/python3.6/site-packages/pandas/core/indexes/base.py in get_loc(self, key, method, tolerance)\n",
    "   2654                                  'backfill or nearest lookups')\n",
    "   2655             try:\n",
    "-> 2656                 return self._engine.get_loc(key)\n",
    "   2657             except KeyError:\n",
    "   2658                 return self._engine.get_loc(self._maybe_cast_indexer(key))\n",
    "\n",
    "pandas/_libs/index.pyx in pandas._libs.index.IndexEngine.get_loc()\n",
    "\n",
    "pandas/_libs/index.pyx in pandas._libs.index.IndexEngine.get_loc()\n",
    "\n",
    "TypeError: '(slice(None, None, None), 'BMXBMI')' is an invalid key\n",
    "```"
   ]
  },
  {
   "cell_type": "markdown",
   "metadata": {},
   "source": [
    "### Answer\n",
    "The above gives: TypeError: unhashable type: 'slice' \n",
    "\n",
    "The [ ] method uses hashes to identify the columns to keep, and each column has an associated hash. A 'slice' (a subset of rows and columns) does not have an associated hash, thus causing this TypeError."
   ]
  },
  {
   "cell_type": "code",
   "execution_count": 18,
   "metadata": {},
   "outputs": [
    {
     "data": {
      "text/plain": [
       "a    35.4\n",
       "b    35.9\n",
       "c    29.1\n",
       "d    42.6\n",
       "e    35.2\n",
       "Name: BMXBMI, dtype: float64"
      ]
     },
     "execution_count": 18,
     "metadata": {},
     "output_type": "execute_result"
    }
   ],
   "source": [
    "tmp.loc[:, 'BMXBMI']"
   ]
  },
  {
   "cell_type": "code",
   "execution_count": 19,
   "metadata": {},
   "outputs": [
    {
     "data": {
      "text/plain": [
       "array([35.4, 35.9, 29.1, 42.6, 35.2])"
      ]
     },
     "execution_count": 19,
     "metadata": {},
     "output_type": "execute_result"
    }
   ],
   "source": [
    "tmp.loc[:, 'BMXBMI'].values"
   ]
  },
  {
   "cell_type": "markdown",
   "metadata": {},
   "source": [
    "### Problem\n",
    "\n",
    "``` Python\n",
    "tmp.iloc[:, 'BMXBMI']\n",
    "---------------------------------------------------------------------------\n",
    "ValueError                                Traceback (most recent call last)\n",
    "/opt/conda/lib/python3.6/site-packages/pandas/core/indexing.py in _has_valid_tuple(self, key)\n",
    "    222             try:\n",
    "--> 223                 self._validate_key(k, i)\n",
    "    224             except ValueError:\n",
    "\n",
    "/opt/conda/lib/python3.6/site-packages/pandas/core/indexing.py in _validate_key(self, key, axis)\n",
    "   2083             raise ValueError(\"Can only index by location with \"\n",
    "-> 2084                              \"a [{types}]\".format(types=self._valid_types))\n",
    "   2085 \n",
    "\n",
    "ValueError: Can only index by location with a [integer, integer slice (START point is INCLUDED, END point is EXCLUDED), listlike of integers, boolean array]\n",
    "\n",
    "During handling of the above exception, another exception occurred:\n",
    "\n",
    "ValueError                                Traceback (most recent call last)\n",
    "<ipython-input-24-9fa39d4097e1> in <module>()\n",
    "----> 1 tmp.iloc[:, 'BMXBMI']\n",
    "\n",
    "/opt/conda/lib/python3.6/site-packages/pandas/core/indexing.py in __getitem__(self, key)\n",
    "   1492             except (KeyError, IndexError, AttributeError):\n",
    "   1493                 pass\n",
    "-> 1494             return self._getitem_tuple(key)\n",
    "   1495         else:\n",
    "   1496             # we by definition only have the 0th axis\n",
    "\n",
    "/opt/conda/lib/python3.6/site-packages/pandas/core/indexing.py in _getitem_tuple(self, tup)\n",
    "   2141     def _getitem_tuple(self, tup):\n",
    "   2142 \n",
    "-> 2143         self._has_valid_tuple(tup)\n",
    "   2144         try:\n",
    "   2145             return self._getitem_lowerdim(tup)\n",
    "\n",
    "/opt/conda/lib/python3.6/site-packages/pandas/core/indexing.py in _has_valid_tuple(self, key)\n",
    "    225                 raise ValueError(\"Location based indexing can only have \"\n",
    "    226                                  \"[{types}] types\"\n",
    "--> 227                                  .format(types=self._valid_types))\n",
    "    228 \n",
    "    229     def _is_nested_tuple_indexer(self, tup):\n",
    "\n",
    "ValueError: Location based indexing can only have [integer, integer slice (START point is INCLUDED, END point is EXCLUDED), listlike of integers, boolean array] types\n",
    "```"
   ]
  },
  {
   "cell_type": "markdown",
   "metadata": {},
   "source": [
    "### Answer\n",
    "The above gives: ValueError: Location based indexing can only have [integer, integer slice (START point is INCLUDED, END point is EXCLUDED), listlike of integers, boolean array] types\n",
    "\n",
    "'BMXBMI' is not an integer that is less than or equal number of columns -1, or a list of boolean values, so it is the wrong value type. "
   ]
  },
  {
   "cell_type": "code",
   "execution_count": 20,
   "metadata": {},
   "outputs": [
    {
     "data": {
      "text/plain": [
       "a    35.4\n",
       "b    35.9\n",
       "c    29.1\n",
       "d    42.6\n",
       "e    35.2\n",
       "Name: BMXBMI, dtype: float64"
      ]
     },
     "execution_count": 20,
     "metadata": {},
     "output_type": "execute_result"
    }
   ],
   "source": [
    "tmp.iloc[:, 2]"
   ]
  },
  {
   "cell_type": "markdown",
   "metadata": {},
   "source": [
    "### Problem\n",
    "\n",
    "``` Python\n",
    "tmp.loc[:, 2]\n",
    "---------------------------------------------------------------------------\n",
    "TypeError                                 Traceback (most recent call last)\n",
    "<ipython-input-28-a70ce725ddad> in <module>\n",
    "----> 1 tmp.loc[:, 2]\n",
    "\n",
    "~\\anaconda3\\lib\\site-packages\\pandas\\core\\indexing.py in __getitem__(self, key)\n",
    "   1760                 except (KeyError, IndexError, AttributeError):\n",
    "   1761                     pass\n",
    "-> 1762             return self._getitem_tuple(key)\n",
    "   1763         else:\n",
    "   1764             # we by definition only have the 0th axis\n",
    "\n",
    "~\\anaconda3\\lib\\site-packages\\pandas\\core\\indexing.py in _getitem_tuple(self, tup)\n",
    "   1270     def _getitem_tuple(self, tup: Tuple):\n",
    "   1271         try:\n",
    "-> 1272             return self._getitem_lowerdim(tup)\n",
    "   1273         except IndexingError:\n",
    "   1274             pass\n",
    "\n",
    "~\\anaconda3\\lib\\site-packages\\pandas\\core\\indexing.py in _getitem_lowerdim(self, tup)\n",
    "   1387         for i, key in enumerate(tup):\n",
    "   1388             if is_label_like(key) or isinstance(key, tuple):\n",
    "-> 1389                 section = self._getitem_axis(key, axis=i)\n",
    "   1390 \n",
    "   1391                 # we have yielded a scalar ?\n",
    "\n",
    "~\\anaconda3\\lib\\site-packages\\pandas\\core\\indexing.py in _getitem_axis(self, key, axis)\n",
    "   1962 \n",
    "   1963         # fall thru to straight lookup\n",
    "-> 1964         self._validate_key(key, axis)\n",
    "   1965         return self._get_label(key, axis=axis)\n",
    "   1966 \n",
    "\n",
    "~\\anaconda3\\lib\\site-packages\\pandas\\core\\indexing.py in _validate_key(self, key, axis)\n",
    "   1829 \n",
    "   1830         if not is_list_like_indexer(key):\n",
    "-> 1831             self._convert_scalar_indexer(key, axis)\n",
    "   1832 \n",
    "   1833     def _is_scalar_access(self, key: Tuple) -> bool:\n",
    "\n",
    "~\\anaconda3\\lib\\site-packages\\pandas\\core\\indexing.py in _convert_scalar_indexer(self, key, axis)\n",
    "    739         ax = self.obj._get_axis(min(axis, self.ndim - 1))\n",
    "    740         # a scalar\n",
    "--> 741         return ax._convert_scalar_indexer(key, kind=self.name)\n",
    "    742 \n",
    "    743     def _convert_slice_indexer(self, key: slice, axis: int):\n",
    "\n",
    "~\\anaconda3\\lib\\site-packages\\pandas\\core\\indexes\\base.py in _convert_scalar_indexer(self, key, kind)\n",
    "   2886             elif kind in [\"loc\"] and is_integer(key):\n",
    "   2887                 if not self.holds_integer():\n",
    "-> 2888                     self._invalid_indexer(\"label\", key)\n",
    "   2889 \n",
    "   2890         return key\n",
    "\n",
    "~\\anaconda3\\lib\\site-packages\\pandas\\core\\indexes\\base.py in _invalid_indexer(self, form, key)\n",
    "   3075         \"\"\n",
    "   3076         raise TypeError(\n",
    "-> 3077             f\"cannot do {form} indexing on {type(self)} with these \"\n",
    "   3078             f\"indexers [{key}] of {type(key)}\"\n",
    "   3079         )\n",
    "\n",
    "TypeError: cannot do label indexing on <class 'pandas.core.indexes.base.Index'> with these indexers [2] of <class 'int'>\n",
    "```"
   ]
  },
  {
   "cell_type": "markdown",
   "metadata": {},
   "source": [
    "### Answer\n",
    "The above code gives: ```TypeError: cannot do label indexing on <class 'pandas.core.indexes.base.Index'> with these indexers [2] of <class 'int'>```\n",
    "\n",
    "2 is not one of the labels (i.e. column names) in the dataframe"
   ]
  },
  {
   "cell_type": "code",
   "execution_count": 21,
   "metadata": {},
   "outputs": [
    {
     "data": {
      "text/html": [
       "<div>\n",
       "<style scoped>\n",
       "    .dataframe tbody tr th:only-of-type {\n",
       "        vertical-align: middle;\n",
       "    }\n",
       "\n",
       "    .dataframe tbody tr th {\n",
       "        vertical-align: top;\n",
       "    }\n",
       "\n",
       "    .dataframe thead th {\n",
       "        text-align: right;\n",
       "    }\n",
       "</style>\n",
       "<table border=\"1\" class=\"dataframe\">\n",
       "  <thead>\n",
       "    <tr style=\"text-align: right;\">\n",
       "      <th></th>\n",
       "      <th>BMXBMI</th>\n",
       "    </tr>\n",
       "  </thead>\n",
       "  <tbody>\n",
       "    <tr>\n",
       "      <th>a</th>\n",
       "      <td>35.4</td>\n",
       "    </tr>\n",
       "    <tr>\n",
       "      <th>b</th>\n",
       "      <td>35.9</td>\n",
       "    </tr>\n",
       "    <tr>\n",
       "      <th>c</th>\n",
       "      <td>29.1</td>\n",
       "    </tr>\n",
       "    <tr>\n",
       "      <th>d</th>\n",
       "      <td>42.6</td>\n",
       "    </tr>\n",
       "    <tr>\n",
       "      <th>e</th>\n",
       "      <td>35.2</td>\n",
       "    </tr>\n",
       "  </tbody>\n",
       "</table>\n",
       "</div>"
      ],
      "text/plain": [
       "   BMXBMI\n",
       "a    35.4\n",
       "b    35.9\n",
       "c    29.1\n",
       "d    42.6\n",
       "e    35.2"
      ]
     },
     "execution_count": 21,
     "metadata": {},
     "output_type": "execute_result"
    }
   ],
   "source": [
    "# Here is another example of using a boolean list for indexing columns\n",
    "tmp.loc[:, [False, False, True] +[False]*4]"
   ]
  },
  {
   "cell_type": "code",
   "execution_count": 22,
   "metadata": {},
   "outputs": [
    {
     "data": {
      "text/plain": [
       "a    35.4\n",
       "b    35.9\n",
       "c    29.1\n",
       "d    42.6\n",
       "e    35.2\n",
       "Name: BMXBMI, dtype: float64"
      ]
     },
     "execution_count": 22,
     "metadata": {},
     "output_type": "execute_result"
    }
   ],
   "source": [
    "tmp.iloc[:, 2]"
   ]
  },
  {
   "cell_type": "code",
   "execution_count": 23,
   "metadata": {},
   "outputs": [
    {
     "data": {
      "text/plain": [
       "a     0.0\n",
       "b     0.0\n",
       "c     0.0\n",
       "d    42.6\n",
       "e    35.2\n",
       "Name: BMXBMI, dtype: float64"
      ]
     },
     "execution_count": 23,
     "metadata": {},
     "output_type": "execute_result"
    }
   ],
   "source": [
    "# We can use the .loc and .iloc methods to change values within the dataframe\n",
    "tmp.iloc[0:3,2] = [0]*3\n",
    "tmp.iloc[:,2]"
   ]
  },
  {
   "cell_type": "code",
   "execution_count": 24,
   "metadata": {},
   "outputs": [
    {
     "data": {
      "text/plain": [
       "a     1.0\n",
       "b     1.0\n",
       "c     1.0\n",
       "d    42.6\n",
       "e    35.2\n",
       "Name: BMXBMI, dtype: float64"
      ]
     },
     "execution_count": 24,
     "metadata": {},
     "output_type": "execute_result"
    }
   ],
   "source": [
    "tmp.loc['a':'c','BMXBMI'] = [1]*3\n",
    "tmp.loc[:,'BMXBMI']"
   ]
  },
  {
   "cell_type": "code",
   "execution_count": 25,
   "metadata": {},
   "outputs": [
    {
     "data": {
      "text/html": [
       "<div>\n",
       "<style scoped>\n",
       "    .dataframe tbody tr th:only-of-type {\n",
       "        vertical-align: middle;\n",
       "    }\n",
       "\n",
       "    .dataframe tbody tr th {\n",
       "        vertical-align: top;\n",
       "    }\n",
       "\n",
       "    .dataframe thead th {\n",
       "        text-align: right;\n",
       "    }\n",
       "</style>\n",
       "<table border=\"1\" class=\"dataframe\">\n",
       "  <thead>\n",
       "    <tr style=\"text-align: right;\">\n",
       "      <th></th>\n",
       "      <th>BMXWT</th>\n",
       "      <th>BMXHT</th>\n",
       "      <th>BMXBMI</th>\n",
       "      <th>BMXLEG</th>\n",
       "      <th>BMXARML</th>\n",
       "      <th>BMXARMC</th>\n",
       "      <th>BMXWAIST</th>\n",
       "    </tr>\n",
       "  </thead>\n",
       "  <tbody>\n",
       "    <tr>\n",
       "      <th>a</th>\n",
       "      <td>80.5</td>\n",
       "      <td>150.8</td>\n",
       "      <td>0</td>\n",
       "      <td>31.6</td>\n",
       "      <td>32.7</td>\n",
       "      <td>33.7</td>\n",
       "      <td>113.5</td>\n",
       "    </tr>\n",
       "    <tr>\n",
       "      <th>b</th>\n",
       "      <td>75.6</td>\n",
       "      <td>145.2</td>\n",
       "      <td>1</td>\n",
       "      <td>31.0</td>\n",
       "      <td>33.1</td>\n",
       "      <td>36.0</td>\n",
       "      <td>108.0</td>\n",
       "    </tr>\n",
       "    <tr>\n",
       "      <th>c</th>\n",
       "      <td>63.7</td>\n",
       "      <td>147.9</td>\n",
       "      <td>2</td>\n",
       "      <td>26.0</td>\n",
       "      <td>34.0</td>\n",
       "      <td>31.5</td>\n",
       "      <td>110.0</td>\n",
       "    </tr>\n",
       "    <tr>\n",
       "      <th>d</th>\n",
       "      <td>105.9</td>\n",
       "      <td>157.7</td>\n",
       "      <td>3</td>\n",
       "      <td>29.2</td>\n",
       "      <td>35.0</td>\n",
       "      <td>40.7</td>\n",
       "      <td>129.1</td>\n",
       "    </tr>\n",
       "    <tr>\n",
       "      <th>e</th>\n",
       "      <td>77.5</td>\n",
       "      <td>148.3</td>\n",
       "      <td>4</td>\n",
       "      <td>30.5</td>\n",
       "      <td>34.0</td>\n",
       "      <td>34.4</td>\n",
       "      <td>107.6</td>\n",
       "    </tr>\n",
       "  </tbody>\n",
       "</table>\n",
       "</div>"
      ],
      "text/plain": [
       "   BMXWT  BMXHT  BMXBMI  BMXLEG  BMXARML  BMXARMC  BMXWAIST\n",
       "a   80.5  150.8       0    31.6     32.7     33.7     113.5\n",
       "b   75.6  145.2       1    31.0     33.1     36.0     108.0\n",
       "c   63.7  147.9       2    26.0     34.0     31.5     110.0\n",
       "d  105.9  157.7       3    29.2     35.0     40.7     129.1\n",
       "e   77.5  148.3       4    30.5     34.0     34.4     107.6"
      ]
     },
     "execution_count": 25,
     "metadata": {},
     "output_type": "execute_result"
    }
   ],
   "source": [
    "# We can use the [] method when changing all the values of a column\n",
    "tmp['BMXBMI'] = range(0, 5)\n",
    "tmp"
   ]
  },
  {
   "cell_type": "markdown",
   "metadata": {},
   "source": [
    "### Problem"
   ]
  },
  {
   "cell_type": "code",
   "execution_count": 26,
   "metadata": {},
   "outputs": [
    {
     "name": "stderr",
     "output_type": "stream",
     "text": [
      "C:\\Users\\Jack\\anaconda3\\lib\\site-packages\\ipykernel_launcher.py:2: SettingWithCopyWarning: \n",
      "A value is trying to be set on a copy of a slice from a DataFrame.\n",
      "Try using .loc[row_indexer,col_indexer] = value instead\n",
      "\n",
      "See the caveats in the documentation: https://pandas.pydata.org/pandas-docs/stable/user_guide/indexing.html#returning-a-view-versus-a-copy\n",
      "  \n"
     ]
    },
    {
     "data": {
      "text/html": [
       "<div>\n",
       "<style scoped>\n",
       "    .dataframe tbody tr th:only-of-type {\n",
       "        vertical-align: middle;\n",
       "    }\n",
       "\n",
       "    .dataframe tbody tr th {\n",
       "        vertical-align: top;\n",
       "    }\n",
       "\n",
       "    .dataframe thead th {\n",
       "        text-align: right;\n",
       "    }\n",
       "</style>\n",
       "<table border=\"1\" class=\"dataframe\">\n",
       "  <thead>\n",
       "    <tr style=\"text-align: right;\">\n",
       "      <th></th>\n",
       "      <th>BMXWT</th>\n",
       "      <th>BMXHT</th>\n",
       "      <th>BMXBMI</th>\n",
       "      <th>BMXLEG</th>\n",
       "      <th>BMXARML</th>\n",
       "      <th>BMXARMC</th>\n",
       "      <th>BMXWAIST</th>\n",
       "    </tr>\n",
       "  </thead>\n",
       "  <tbody>\n",
       "    <tr>\n",
       "      <th>a</th>\n",
       "      <td>80.5</td>\n",
       "      <td>150.8</td>\n",
       "      <td>0</td>\n",
       "      <td>31.6</td>\n",
       "      <td>32.7</td>\n",
       "      <td>33.7</td>\n",
       "      <td>113.5</td>\n",
       "    </tr>\n",
       "    <tr>\n",
       "      <th>b</th>\n",
       "      <td>75.6</td>\n",
       "      <td>145.2</td>\n",
       "      <td>1</td>\n",
       "      <td>31.0</td>\n",
       "      <td>33.1</td>\n",
       "      <td>36.0</td>\n",
       "      <td>108.0</td>\n",
       "    </tr>\n",
       "    <tr>\n",
       "      <th>c</th>\n",
       "      <td>63.7</td>\n",
       "      <td>147.9</td>\n",
       "      <td>2</td>\n",
       "      <td>26.0</td>\n",
       "      <td>34.0</td>\n",
       "      <td>31.5</td>\n",
       "      <td>110.0</td>\n",
       "    </tr>\n",
       "    <tr>\n",
       "      <th>d</th>\n",
       "      <td>105.9</td>\n",
       "      <td>157.7</td>\n",
       "      <td>3</td>\n",
       "      <td>29.2</td>\n",
       "      <td>35.0</td>\n",
       "      <td>40.7</td>\n",
       "      <td>129.1</td>\n",
       "    </tr>\n",
       "    <tr>\n",
       "      <th>e</th>\n",
       "      <td>77.5</td>\n",
       "      <td>148.3</td>\n",
       "      <td>4</td>\n",
       "      <td>30.5</td>\n",
       "      <td>34.0</td>\n",
       "      <td>34.4</td>\n",
       "      <td>107.6</td>\n",
       "    </tr>\n",
       "  </tbody>\n",
       "</table>\n",
       "</div>"
      ],
      "text/plain": [
       "   BMXWT  BMXHT  BMXBMI  BMXLEG  BMXARML  BMXARMC  BMXWAIST\n",
       "a   80.5  150.8       0    31.6     32.7     33.7     113.5\n",
       "b   75.6  145.2       1    31.0     33.1     36.0     108.0\n",
       "c   63.7  147.9       2    26.0     34.0     31.5     110.0\n",
       "d  105.9  157.7       3    29.2     35.0     40.7     129.1\n",
       "e   77.5  148.3       4    30.5     34.0     34.4     107.6"
      ]
     },
     "execution_count": 26,
     "metadata": {},
     "output_type": "execute_result"
    }
   ],
   "source": [
    "# We will get a warning when using the [] method with conditions to set new values in our dataframe\n",
    "tmp[tmp.BMXBMI > 2]['BMXBMI'] = [10]*2 # Setting new values to a copy of tmp, but not tmp itself\n",
    "tmp\n",
    "# You can see that the above code did not change our dataframe 'tmp'. This"
   ]
  },
  {
   "cell_type": "markdown",
   "metadata": {},
   "source": [
    "### Answer"
   ]
  },
  {
   "cell_type": "code",
   "execution_count": 27,
   "metadata": {},
   "outputs": [
    {
     "data": {
      "text/html": [
       "<div>\n",
       "<style scoped>\n",
       "    .dataframe tbody tr th:only-of-type {\n",
       "        vertical-align: middle;\n",
       "    }\n",
       "\n",
       "    .dataframe tbody tr th {\n",
       "        vertical-align: top;\n",
       "    }\n",
       "\n",
       "    .dataframe thead th {\n",
       "        text-align: right;\n",
       "    }\n",
       "</style>\n",
       "<table border=\"1\" class=\"dataframe\">\n",
       "  <thead>\n",
       "    <tr style=\"text-align: right;\">\n",
       "      <th></th>\n",
       "      <th>BMXWT</th>\n",
       "      <th>BMXHT</th>\n",
       "      <th>BMXBMI</th>\n",
       "      <th>BMXLEG</th>\n",
       "      <th>BMXARML</th>\n",
       "      <th>BMXARMC</th>\n",
       "      <th>BMXWAIST</th>\n",
       "    </tr>\n",
       "  </thead>\n",
       "  <tbody>\n",
       "    <tr>\n",
       "      <th>a</th>\n",
       "      <td>80.5</td>\n",
       "      <td>150.8</td>\n",
       "      <td>0</td>\n",
       "      <td>31.6</td>\n",
       "      <td>32.7</td>\n",
       "      <td>33.7</td>\n",
       "      <td>113.5</td>\n",
       "    </tr>\n",
       "    <tr>\n",
       "      <th>b</th>\n",
       "      <td>75.6</td>\n",
       "      <td>145.2</td>\n",
       "      <td>1</td>\n",
       "      <td>31.0</td>\n",
       "      <td>33.1</td>\n",
       "      <td>36.0</td>\n",
       "      <td>108.0</td>\n",
       "    </tr>\n",
       "    <tr>\n",
       "      <th>c</th>\n",
       "      <td>63.7</td>\n",
       "      <td>147.9</td>\n",
       "      <td>2</td>\n",
       "      <td>26.0</td>\n",
       "      <td>34.0</td>\n",
       "      <td>31.5</td>\n",
       "      <td>110.0</td>\n",
       "    </tr>\n",
       "    <tr>\n",
       "      <th>d</th>\n",
       "      <td>105.9</td>\n",
       "      <td>157.7</td>\n",
       "      <td>10</td>\n",
       "      <td>29.2</td>\n",
       "      <td>35.0</td>\n",
       "      <td>40.7</td>\n",
       "      <td>129.1</td>\n",
       "    </tr>\n",
       "    <tr>\n",
       "      <th>e</th>\n",
       "      <td>77.5</td>\n",
       "      <td>148.3</td>\n",
       "      <td>10</td>\n",
       "      <td>30.5</td>\n",
       "      <td>34.0</td>\n",
       "      <td>34.4</td>\n",
       "      <td>107.6</td>\n",
       "    </tr>\n",
       "  </tbody>\n",
       "</table>\n",
       "</div>"
      ],
      "text/plain": [
       "   BMXWT  BMXHT  BMXBMI  BMXLEG  BMXARML  BMXARMC  BMXWAIST\n",
       "a   80.5  150.8       0    31.6     32.7     33.7     113.5\n",
       "b   75.6  145.2       1    31.0     33.1     36.0     108.0\n",
       "c   63.7  147.9       2    26.0     34.0     31.5     110.0\n",
       "d  105.9  157.7      10    29.2     35.0     40.7     129.1\n",
       "e   77.5  148.3      10    30.5     34.0     34.4     107.6"
      ]
     },
     "execution_count": 27,
     "metadata": {},
     "output_type": "execute_result"
    }
   ],
   "source": [
    "# The correct way to do the above is with .loc or .iloc\n",
    "tmp.loc[tmp.BMXBMI > 2, 'BMXBMI']  = [10]*2\n",
    "tmp # Now contains the chances"
   ]
  }
 ],
 "metadata": {
  "kernelspec": {
   "display_name": "Python 3",
   "language": "python",
   "name": "python3"
  },
  "language_info": {
   "codemirror_mode": {
    "name": "ipython",
    "version": 3
   },
   "file_extension": ".py",
   "mimetype": "text/x-python",
   "name": "python",
   "nbconvert_exporter": "python",
   "pygments_lexer": "ipython3",
   "version": "3.7.1"
  }
 },
 "nbformat": 4,
 "nbformat_minor": 4
}
