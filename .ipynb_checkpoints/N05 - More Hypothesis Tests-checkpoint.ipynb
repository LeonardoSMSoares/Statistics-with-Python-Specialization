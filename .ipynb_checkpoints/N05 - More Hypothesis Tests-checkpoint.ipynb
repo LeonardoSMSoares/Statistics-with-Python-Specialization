{
 "cells": [
  {
   "cell_type": "markdown",
   "metadata": {},
   "source": [
    "# More Hypothesis Tests"
   ]
  },
  {
   "cell_type": "markdown",
   "metadata": {},
   "source": [
    "<img src=\"images/All.png\"/>"
   ]
  },
  {
   "cell_type": "markdown",
   "metadata": {},
   "source": [
    "### General Libraries"
   ]
  },
  {
   "cell_type": "code",
   "execution_count": 1,
   "metadata": {},
   "outputs": [],
   "source": [
    "import numpy as np\n",
    "import pandas as pd\n",
    "import seaborn as sns\n",
    "import matplotlib.pyplot as plt\n",
    "\n",
    "#import warnings\n",
    "#warnings.filterwarnings(\"ignore\")"
   ]
  },
  {
   "cell_type": "markdown",
   "metadata": {},
   "source": [
    "### Normal Distribution - Two Tail Test"
   ]
  },
  {
   "cell_type": "markdown",
   "metadata": {},
   "source": [
    "**According to *Glassdoor*, the popular salary information website the mean data scientist salary is \\$113,000. The sample that is available on glass stores based on self-reported numbers and you would like to see if its value was correct.**\n",
    "\n",
    "**The population variance is known and its standard deviation is equal to fifteen thousand dollars.**\n",
    "\n",
    "    data = [117313,104002,113038,101936,84560,113136,80740,100536,\n",
    "            105052,87201,91986,94868,90745,102848,85927,112276,108637,\n",
    "            96818,92307,114564,109714,108833,115295,89279,81720,89344,\n",
    "            114426,90410,95118,113382]"
   ]
  },
  {
   "cell_type": "code",
   "execution_count": 2,
   "metadata": {},
   "outputs": [],
   "source": [
    "# Ho: mu == $ 113,000\n",
    "# Ha: mu != $ 113,000"
   ]
  },
  {
   "cell_type": "code",
   "execution_count": 3,
   "metadata": {},
   "outputs": [
    {
     "name": "stdout",
     "output_type": "stream",
     "text": [
      "z-statistic: -4.67\n",
      "-z(alpha/2): -1.96\n",
      "z(alpha/2): 1.96\n",
      "\n",
      "(z_stat < -z(alpha/2)) or (z_stat > z(alpha/2)): Reject Ho!\n"
     ]
    }
   ],
   "source": [
    "from scipy.stats import norm\n",
    "\n",
    "salary = np.array([117313,104002,113038,101936,84560,113136,80740,100536,\n",
    "                   105052,87201,91986,94868,90745,102848,85927,112276,108637,\n",
    "                   96818,92307,114564,109714,108833,115295,89279,81720,89344,\n",
    "                   114426,90410,95118,113382])\n",
    "n = 30\n",
    "\n",
    "mu = 113000    # mu from Ho\n",
    "sigma = 15000  # population standard deviation\n",
    "\n",
    "alpha = 0.05       # 95% C.I.\n",
    "alpha_2 = alpha/2  # Two tail test\n",
    "\n",
    "xbar = np.mean(salary)\n",
    "\n",
    "# z-statistic\n",
    "z_stat = (xbar - mu) / (sigma/np.sqrt(n))\n",
    "\n",
    "# z-alpha/2\n",
    "z_alpha_2 = norm.ppf(1-alpha_2)\n",
    "\n",
    "# -(z-alpha/2)\n",
    "neg_z_alpha_2 = norm.ppf(alpha_2)\n",
    "\n",
    "\n",
    "print('z-statistic:', round(z_stat,2))\n",
    "print('-z(alpha/2):', round(neg_z_alpha_2,2))\n",
    "print('z(alpha/2):', round(z_alpha_2,2))\n",
    "print()\n",
    "\n",
    "# OBS: p_value = 2 * norm.cdf(-z, 0, 1) , because is a two tail test\n",
    "\n",
    "if (z_stat < z_alpha_2) or (z_stat > neg_z_alpha_2):   ### 2 tail Analysis ###\n",
    "    print('(z_stat < -z(alpha/2)) or (z_stat > z(alpha/2)): Reject Ho!')\n",
    "else:\n",
    "    print('(-z(alpha/2) < z_stat < z(alpha/2)): Fail to reject Ho.')"
   ]
  },
  {
   "cell_type": "markdown",
   "metadata": {},
   "source": [
    "### T-Distribution - Left Tail Test"
   ]
  },
  {
   "cell_type": "markdown",
   "metadata": {},
   "source": [
    "**Imagine you are the marketing analyst of a company and you've been asked to estimate of the email open rate of one of the firm's competitors is above your company's your company has an open rate of 40 percent. An email open rate is a measure of how many people on the email list actually open the emails they have.**\n",
    "\n",
    "**You struggle to figure out how to get such specific information about a competitor company but then you see that an employee of that competitor company posted a selfie on Facebook saying \"Hey Lowell the e-mail management software we are using Drives me nuts\". In the background, you can see her screen and it shows clearly the summaries of the last 10 e-mail campaigns that were sent and their corresponding open rates.**"
   ]
  },
  {
   "cell_type": "markdown",
   "metadata": {},
   "source": [
    "    open rate = [26%, 23%, 42%, 49%, 23%, 59%, 29%, 29%, 57%, 40%]"
   ]
  },
  {
   "cell_type": "code",
   "execution_count": 4,
   "metadata": {},
   "outputs": [],
   "source": [
    "# Ho: mu >= 40%  \n",
    "# Ha: mu < 40%  , sample mean is here (left tail test)"
   ]
  },
  {
   "cell_type": "code",
   "execution_count": 5,
   "metadata": {},
   "outputs": [
    {
     "name": "stdout",
     "output_type": "stream",
     "text": [
      "Sample Mean: 37.7%\n",
      "Sample Standard Deviation: 13.74%\n",
      "Standard Error: 4.34%\n",
      "\n",
      "t-stat: -0.53\n",
      "t-alpha: -1.83\n",
      "Fail to reject Ho.\n",
      "\n",
      "p-value: 0.3046341429137719\n",
      "alpha: 0.05\n",
      "(p-value > alpha): Fail to reject Ho.\n"
     ]
    }
   ],
   "source": [
    "from scipy import stats\n",
    "import scipy\n",
    "\n",
    "open_rate = np.array([0.26,0.23,0.42,0.49,0.23,0.59,0.29,0.29,0.57,0.40])\n",
    "\n",
    "xbar = np.mean(open_rate)     # sample mean\n",
    "sigma = stats.tstd(open_rate) # standard deviation\n",
    "SE = stats.sem(open_rate)     # standard error\n",
    "\n",
    "\n",
    "print(f'Sample Mean: {round(xbar*100,2)}%')\n",
    "print(f'Sample Standard Deviation: {round(sigma*100,2)}%')\n",
    "print(f'Standard Error: {round(SE*100,2)}%')\n",
    "print()\n",
    "\n",
    "\n",
    "# t-statistic\n",
    "mu = 0.40\n",
    "t_stat = (xbar - mu) / SE\n",
    "\n",
    "# t-alpha\n",
    "n = 10\n",
    "dof = n - 1\n",
    "alpha = 0.05\n",
    "t_alpha = scipy.stats.t.ppf(alpha, dof)\n",
    "\n",
    "\n",
    "print(f't-stat: {round(t_stat,2)}')\n",
    "print(f't-alpha: {round(t_alpha,2)}')\n",
    "\n",
    "if abs(t_stat) < abs(t_alpha):\n",
    "    print('Fail to reject Ho.')\n",
    "else:\n",
    "    print('Reject Ho!')\n",
    "\n",
    "print()\n",
    "\n",
    "# p-value\n",
    "p_value = stats.t.sf(abs(t_stat), df=dof)\n",
    "\n",
    "print(f'p-value: {p_value}')\n",
    "print(f'alpha: {round(alpha,4)}')\n",
    "\n",
    "if abs(alpha) < abs(p_value):\n",
    "    print('(p-value > alpha): Fail to reject Ho.')\n",
    "else:\n",
    "    print('(p-value < alpha): Reject Ho!')"
   ]
  },
  {
   "cell_type": "markdown",
   "metadata": {},
   "source": [
    "### Two Dependent Sample - Right Tail Test"
   ]
  },
  {
   "cell_type": "markdown",
   "metadata": {},
   "source": [
    "**There was this drug company developing a new pill that supposedly increased levels of magnesium recipients. There were 10 people involved in the study that were taking the drug for some time and we calculated confidence intervals that helped us study the effects of that drug they indicated the range of plausible\n",
    "values for the population mean this time. We want to come to a single definite conclusion about the effectiveness of the drug.**\n",
    "\n",
    "    before = [ 2.0, 1.4, 1.3, 1.1, 1.8, 1.6, 1.5, 0.7, 0.9, 1.5]\n",
    "     after = [ 1.7, 1.7, 1.8, 1.3, 1.7, 1.5, 1.6, 1.7, 1.7, 2.4]"
   ]
  },
  {
   "cell_type": "code",
   "execution_count": 6,
   "metadata": {},
   "outputs": [],
   "source": [
    "# Ho: mud <= 0 , where mud = After - Before\n",
    "# Ha: mud > 0 , (dbar > 0) right tail test"
   ]
  },
  {
   "cell_type": "code",
   "execution_count": 7,
   "metadata": {},
   "outputs": [
    {
     "name": "stdout",
     "output_type": "stream",
     "text": [
      "Sample Mean: 37.7%\n",
      "Sample Standard Deviation: 45.47%\n",
      "Standard Error: 14.38%\n",
      "\n",
      "t-stat: 2.29\n",
      "t-alpha: 1.83\n",
      "Reject Ho! So... (mud > 0)\n",
      "\n",
      "p-value: 0.023696968198698924\n",
      "alpha: 0.05\n",
      "(p-value < alpha): Reject Ho! So... (mud > 0)\n"
     ]
    }
   ],
   "source": [
    "# Dependent Samples\n",
    "\n",
    "alpha = 0.05\n",
    "loc = 1 - alpha\n",
    "\n",
    "before = np.array([2.0,1.4,1.3,1.1,1.8,1.6,1.5,0.7,0.9,1.5])\n",
    "after = np.array([1.7,1.7,1.8,1.3,1.7,1.5,1.6,1.7,1.7,2.4])\n",
    "\n",
    "diff = after - before\n",
    "\n",
    "dbar = np.sum(diff) /n   # Mean\n",
    "sigma = stats.tstd(diff) # standard deviation\n",
    "SE = stats.sem(diff)     # standard error\n",
    "\n",
    "print(f'Sample Mean: {round(xbar*100,2)}%')\n",
    "print(f'Sample Standard Deviation: {round(sigma*100,2)}%')\n",
    "print(f'Standard Error: {round(SE*100,2)}%')\n",
    "print()\n",
    "\n",
    "# t-statistic\n",
    "mu = 0\n",
    "t_stat = (dbar - mu) / SE\n",
    "\n",
    "# t-alpha\n",
    "n = len(diff)\n",
    "dof = n - 1\n",
    "alpha = 0.05\n",
    "t_alpha = (-1)*scipy.stats.t.ppf(alpha, dof)  #\n",
    "\n",
    "print(f't-stat: {round(t_stat,2)}')\n",
    "print(f't-alpha: {round(t_alpha,2)}')\n",
    "\n",
    "if abs(t_stat) < abs(t_alpha):\n",
    "    print('Fail to reject Ho.')\n",
    "else:\n",
    "    print('Reject Ho! So... (mud > 0)')\n",
    "\n",
    "print()\n",
    "\n",
    "# p-value\n",
    "p_value = stats.t.sf(abs(t_stat), df=dof)\n",
    "\n",
    "print(f'p-value: {p_value}')\n",
    "print(f'alpha: {round(alpha,4)}')\n",
    "\n",
    "if abs(alpha) < abs(p_value):\n",
    "    print('(p-value > alpha): Fail to reject Ho.')\n",
    "else:\n",
    "    print('(p-value < alpha): Reject Ho! So... (mud > 0)')"
   ]
  },
  {
   "cell_type": "markdown",
   "metadata": {},
   "source": [
    "### Population Know - Two Independent Samples  - Two Tail Test"
   ]
  },
  {
   "cell_type": "markdown",
   "metadata": {},
   "source": [
    "**We are about to test the average grades of students from two different departments in a UK university. The two departments are engineering and management we were told by the dean that engineering is a tougher discipline than people tend to get lower grades he believes that on average management students outperform engineering students by 4 percentage points.**\n",
    "\n",
    "**Here's the table that summarizes the data the sample sizes are one hundred and seventy respectively.**\n",
    "\n",
    "|  | Engineering | Management |\n",
    "| --- | --- | --- |\n",
    "| Size | 100 | 70 |\n",
    "| Mean | 58% | 65% |\n",
    "| Population std | 10% | 6% |"
   ]
  },
  {
   "cell_type": "code",
   "execution_count": 8,
   "metadata": {},
   "outputs": [],
   "source": [
    "# Ho: muE - muM == -4%\n",
    "# Ha: muE - muM != -4% , (dbar = -7%) two tail test"
   ]
  },
  {
   "cell_type": "markdown",
   "metadata": {},
   "source": [
    "When the population is known for independent samples the 'standard error' of the difference:\n",
    "\n",
    "    SE_diff = np.sqrt(sigmaE**2/nE +sigmaM**2/nM)"
   ]
  },
  {
   "cell_type": "code",
   "execution_count": 9,
   "metadata": {},
   "outputs": [
    {
     "name": "stdout",
     "output_type": "stream",
     "text": [
      "Sample Mean: -7.0%\n",
      "Standard Error: 1.23%\n",
      "\n",
      "z-statistic: -2.44\n",
      "-z(alpha/2): -1.96\n",
      "z(alpha/2): 1.96\n",
      "(z_stat < -z(alpha/2)) or (z_stat > z(alpha/2)): Reject Ho!\n",
      "\n",
      "p-value: 0.01477252634819342\n",
      "alpha: 0.05\n",
      "(p-value < alpha): Reject Ho! So... (mud != -4%)\n"
     ]
    }
   ],
   "source": [
    "from scipy.stats import norm\n",
    "from scipy import stats\n",
    "\n",
    "nE = 100\n",
    "nM = 70\n",
    "\n",
    "muE = 0.58\n",
    "muM = 0.65\n",
    "\n",
    "dbar = muE - muM   # sample mean for Diff\n",
    "\n",
    "sE = 0.10\n",
    "sM = 0.06\n",
    "\n",
    "SE_diff = np.sqrt(sE**2/nE +sM**2/nM)   # Standard Error for Diff\n",
    "\n",
    "\n",
    "print(f'Sample Mean: {round(dbar*100,2)}%')\n",
    "print(f'Standard Error: {round(SE_diff*100,2)}%')\n",
    "print()\n",
    "\n",
    "# Z-statistic\n",
    "mu = - 0.04\n",
    "z_stat = (dbar - mu)/SE_diff\n",
    "# Another way to see:\n",
    "# z = ( (xbar1 - xbar2) - (delta_mu) )/ (np.sqrt( (s1**2/n1) + (s2**2/n2) ))\n",
    "\n",
    "alpha = 0.05       # 95% C.I.\n",
    "alpha_2 = alpha/2  # Two tail test\n",
    "\n",
    "# z-alpha/2\n",
    "z_alpha_2 = norm.ppf(1-alpha_2)\n",
    "\n",
    "# -(z-alpha/2)\n",
    "neg_z_alpha_2 = norm.ppf(alpha_2)\n",
    "\n",
    "print('z-statistic:', round(z_stat,2))\n",
    "print('-z(alpha/2):', round(neg_z_alpha_2,2))\n",
    "print('z(alpha/2):', round(z_alpha_2,2))\n",
    "\n",
    "# OBS: p_value = 2 * norm.cdf(-z, 0, 1) , because is a two tail test\n",
    "\n",
    "if (z_stat < z_alpha_2) or (z_stat > neg_z_alpha_2):   ### 2 tail Analysis ###\n",
    "    print('(z_stat < -z(alpha/2)) or (z_stat > z(alpha/2)): Reject Ho!')\n",
    "else:\n",
    "    print('(-z(alpha/2) < z_stat < z(alpha/2)): Fail to reject Ho.')\n",
    "    \n",
    "print()\n",
    "\n",
    "# p-value\n",
    "p_value = (2) * norm.cdf(z_stat, 0, 1)  # two tail test\n",
    "\n",
    "print(f'p-value: {p_value}')\n",
    "print(f'alpha: {round(alpha,4)}')\n",
    "\n",
    "if abs(alpha) < abs(p_value):\n",
    "    print('(p-value > alpha): Fail to reject Ho.')\n",
    "else:\n",
    "    print('(p-value < alpha): Reject Ho! So... (mud != -4%)')"
   ]
  },
  {
   "cell_type": "markdown",
   "metadata": {},
   "source": [
    "### Independent Samples - Unknow Variances - Two Tail Test"
   ]
  },
  {
   "cell_type": "markdown",
   "metadata": {},
   "source": [
    "**We are trying to see if apples in New York are as expensive as the ones in L.A. You went to 10 grocery shops in New York and your friend Paul lives in L.A. went to 8 grocery shops there. You got all the prices and put them in a table what the population variance of apple prices is but you assume it should be the same for New York and L.A.**\n",
    "\n",
    "    NY_apples = [3.80,3.76,3.87,3.99,4.02,4.25,4.13,3.98,3.99,3.62]\n",
    "    LA_apples = [3.02,3.22,3.24,3.02,3.06,3.15,3.81,3.44]"
   ]
  },
  {
   "cell_type": "code",
   "execution_count": 10,
   "metadata": {},
   "outputs": [],
   "source": [
    "# Ho: muNY - muLA == 0\n",
    "# Ha: muNY - muLA != 0 , two tail test"
   ]
  },
  {
   "cell_type": "code",
   "execution_count": 11,
   "metadata": {},
   "outputs": [
    {
     "name": "stdout",
     "output_type": "stream",
     "text": [
      "Sample Sizes: NY:10, LA:8\n",
      "Sample Means: NY:3.94, LA:3.24\n",
      "Standard Deviations: NY:0.18, LA:0.27\n",
      "Pooled Variance: 0.05\n",
      "Standard Error for Diff Means: 0.11\n",
      "\n",
      "p-value: 5.6735455629297295e-06\n",
      "alpha: 0.05\n",
      "(p-value < alpha): Reject Ho! So... (muNY-muLA != 0)\n"
     ]
    }
   ],
   "source": [
    "# independent variable, unknown variances (we assume equals)\n",
    "\n",
    "NY = np.array([3.80,3.76,3.87,3.99,4.02,4.25,4.13,3.98,3.99,3.62])\n",
    "LA = np.array([3.02,3.22,3.24,3.02,3.06,3.15,3.81,3.44])\n",
    "\n",
    "# Sample Sizes\n",
    "nNY = len(NY)\n",
    "nLA = len(LA)\n",
    "\n",
    "# Means\n",
    "xbarNY = np.mean(NY)\n",
    "xbarLA = np.mean(LA)\n",
    "\n",
    "# Standard Deviations\n",
    "sNY = stats.tstd(NY)\n",
    "sLA = stats.tstd(LA)\n",
    "\n",
    "# Pooled Variance\n",
    "polled_S2 = (((nNY-1)*sNY**2)+((nLA-1)*sLA**2))/(nNY+nLA-2)\n",
    "\n",
    "# Standard Error for Diff\n",
    "SE_diff = np.sqrt(sNY**2/nNY +sLA**2/nLA)   \n",
    "\n",
    "print(f'Sample Sizes: NY:{round(nNY)}, LA:{round(nLA,2)}')\n",
    "print(f'Sample Means: NY:{round(xbarNY,2)}, LA:{round(xbarLA,2)}')\n",
    "print(f'Standard Deviations: NY:{round(sNY,2)}, LA:{round(sLA,2)}')\n",
    "print(f'Pooled Variance: {round(polled_S2,2)}')\n",
    "print(f'Standard Error for Diff Means: {round(SE_diff,2)}')\n",
    "print()\n",
    "\n",
    "# t-statistic\n",
    "delta_mu = 0\n",
    "t_stat = ( (xbarNY - xbarLA) - (delta_mu) )/ (SE_diff)\n",
    "\n",
    "dof = nNY + nLA -2\n",
    "alpha = 0.05\n",
    "\n",
    "# p-value\n",
    "p_value = stats.t.sf(abs(t_stat), df=dof)\n",
    "\n",
    "print(f'p-value: {p_value}')\n",
    "print(f'alpha: {round(alpha,4)}')\n",
    "\n",
    "if abs(alpha) < abs(p_value):\n",
    "    print('(p-value > alpha): Fail to reject Ho.')\n",
    "else:\n",
    "    print('(p-value < alpha): Reject Ho! So... (muNY-muLA != 0)')"
   ]
  },
  {
   "cell_type": "markdown",
   "metadata": {},
   "source": [
    "### Independent Samples - Unknow Variances (but assumed to be equal)"
   ]
  },
  {
   "cell_type": "markdown",
   "metadata": {},
   "source": [
    "**You have data on the amount of times people click on a pop-up add on 24 Mondays and 21 Saturdays on an e-learning platform for several years. The samples are drawn independently. Statistically speaking, is there strong evidence that the number of clicks the add records on Mondays is higher than the number of clicks on Saturdays?**\n",
    "\n",
    "|  | Monday | Saturday |\n",
    "| --- | --- | --- |\n",
    "| Size | 24 | 21 |\n",
    "| Mean | 1078.00 | 908.20 |\n",
    "| Std. Deviation | 633.00 | 469.80 |"
   ]
  },
  {
   "cell_type": "code",
   "execution_count": 12,
   "metadata": {},
   "outputs": [],
   "source": [
    "# Ho: muMo - muSa <= 0\n",
    "# Ha: muMo - muSa > 0 (right tail test)"
   ]
  },
  {
   "cell_type": "code",
   "execution_count": 13,
   "metadata": {},
   "outputs": [
    {
     "name": "stdout",
     "output_type": "stream",
     "text": [
      "Var(mon):400689.0, Var(sat):220712.04\n",
      "Pooled Variance: 316978.79\n",
      "Standard Error for Diff Means: 164.94\n",
      "\n",
      "t-statistic: 1.03\n",
      "p-value: 0.15928773468517068\n",
      "alpha: 0.05\n",
      "(p-value > alpha): Fail to reject Ho. So... (muMo-muSa == 0)\n"
     ]
    }
   ],
   "source": [
    "# Testing of two means. Independent samples\n",
    "# population variances unknown, but assumed to be equal\n",
    "\n",
    "# Sample Sizes\n",
    "nMo = 24\n",
    "nSa = 21\n",
    "\n",
    "# Means\n",
    "xbarMo = 1078.00\n",
    "xbarSa = 908.20\n",
    "\n",
    "# Standard Deviations\n",
    "sMo = 633.00\n",
    "sSa = 469.80\n",
    "\n",
    "# Pooled Variance\n",
    "polled_S2 = (((nMo-1)*sMo**2)+((nSa-1)*sSa**2))/(nMo+nSa-2)\n",
    "\n",
    "# Standard Error for Diff\n",
    "SE_diff = np.sqrt(sMo**2/nMo +sSa**2/nSa)  \n",
    "\n",
    "\n",
    "print(f'Var(mon):{round(sMo**2,2)}, Var(sat):{round(sSa**2,2)}')\n",
    "print(f'Pooled Variance: {round(polled_S2,2)}')\n",
    "print(f'Standard Error for Diff Means: {round(SE_diff,2)}')\n",
    "print()\n",
    "\n",
    "# t-statistic\n",
    "delta_mu = 0\n",
    "t_stat = ( (xbarMo - xbarSa) - (delta_mu) )/ (SE_diff)\n",
    "print(f't-statistic: {round(t_stat,2)}')\n",
    "\n",
    "dof = nNY + nLA -2\n",
    "alpha = 0.05\n",
    "\n",
    "# p-value\n",
    "p_value = stats.t.sf(abs(t_stat), df=dof)\n",
    "\n",
    "print(f'p-value: {p_value}')\n",
    "print(f'alpha: {round(alpha,4)}')\n",
    "\n",
    "if abs(alpha) < abs(p_value):\n",
    "    print('(p-value > alpha): Fail to reject Ho. So... (muMo-muSa == 0)')\n",
    "else:\n",
    "    print('(p-value < alpha): Reject Ho! So... (muMo-muSa != 0)')"
   ]
  },
  {
   "cell_type": "markdown",
   "metadata": {},
   "source": [
    "### Pooled - variances of the 2 populations assumed equal"
   ]
  },
  {
   "cell_type": "markdown",
   "metadata": {},
   "source": [
    "**We will test whether a particular company is discriminating against some of its employees on a gender basis. Our fictitious company is called Sparke fortress incorporated. It is a big company with more than five thousand employees. And here we will work with a sample of 174 of them.**\n",
    "\n",
    "|  | Female | Male |\n",
    "| --- | --- | --- |\n",
    "| Size | 98 | 76 |\n",
    "| Mean | 65736.91 | 72300.53 |\n",
    "| Sample Variance | 40713712.34 | 382264352.09 |"
   ]
  },
  {
   "cell_type": "code",
   "execution_count": 14,
   "metadata": {},
   "outputs": [],
   "source": [
    "# Ho: muM - muF <= 0\n",
    "# Ha: muM - muF > 0  (right tail test)"
   ]
  },
  {
   "cell_type": "code",
   "execution_count": 15,
   "metadata": {},
   "outputs": [
    {
     "name": "stdout",
     "output_type": "stream",
     "text": [
      "Pooled Variance: 396288386.65\n",
      "Standard Error for Diff Means: 3030.54\n",
      "\n",
      "t-statistic: 2.17\n",
      "p-value: 0.015857630806420425\n",
      "alpha: 0.05\n",
      "(p-value < alpha): Reject Ho! So... (muM - muF > 0)\n"
     ]
    }
   ],
   "source": [
    "# Pooled - variances of the 2 populations assumed equal\n",
    "\n",
    "# Sample Sizes\n",
    "nF = 98\n",
    "nM = 76\n",
    "\n",
    "# Means\n",
    "xbarF = 65736.91\n",
    "xbarM = 72300.00\n",
    "\n",
    "# Sample Variance\n",
    "sF2 = 407131712.34\n",
    "sM2 = 382264352.09\n",
    "\n",
    "# Pooled Variance\n",
    "polled_S2 = (((nF-1)*sF2)+((nM-1)*sM2))/(nF+nM-2)\n",
    "\n",
    "# Standard Error for Diff\n",
    "SE_diff = np.sqrt(sF2/nF +sM2/nM)   \n",
    "\n",
    "print(f'Pooled Variance: {round(polled_S2,2)}')\n",
    "print(f'Standard Error for Diff Means: {round(SE_diff,2)}')\n",
    "print()\n",
    "\n",
    "# t-statistic\n",
    "delta_mu = 0\n",
    "t_stat = ( (xbarM - xbarF) - (delta_mu) )/ (SE_diff)\n",
    "print(f't-statistic: {round(t_stat,2)}')\n",
    "\n",
    "dof = nF + nM -2\n",
    "alpha = 0.05\n",
    "\n",
    "# p-value\n",
    "p_value = stats.t.sf(abs(t_stat), df=dof)  # for 2 tail test (X2)\n",
    "# Exact same result with: p_value = norm.cdf(-t_stat, 0, 1)\n",
    "\n",
    "print(f'p-value: {p_value}')\n",
    "print(f'alpha: {round(alpha,4)}')\n",
    "\n",
    "if abs(alpha) < abs(p_value):\n",
    "    print('(p-value > alpha): Fail to reject Ho. So... (muM - muF <= 0)')\n",
    "else:\n",
    "    print('(p-value < alpha): Reject Ho! So... (muM - muF > 0)')"
   ]
  },
  {
   "cell_type": "markdown",
   "metadata": {},
   "source": [
    "### Hypothesis Tests for Linear Regression"
   ]
  },
  {
   "cell_type": "markdown",
   "metadata": {},
   "source": [
    "**Test at 95% level of confidence if there is a significant linear relationship between the number of absences and GPA.**\n",
    "\n",
    "    absences = [0,0,0,0,1,1,1,2,2,2,3,3,5,7,8]\n",
    "    GPA = [3.6,3.9,2.4,3.1,3.5,4.0,3.6,2.8,3.0,2.2,3.9,3.1,2.1,2.8,1.7]"
   ]
  },
  {
   "cell_type": "code",
   "execution_count": 24,
   "metadata": {},
   "outputs": [
    {
     "name": "stdout",
     "output_type": "stream",
     "text": [
      "r: -0.5866\n",
      "\n",
      "t-statistic: -2.61\n",
      "-t(alpha/2): 2.16\n",
      "t(alpha/2): -2.16\n",
      "\n",
      "(t_stat < -t(alpha/2)) or (t_stat > t(alpha/2)): Reject Ho!\n",
      "\n",
      "p_value 0.02152434744255244\n",
      "alpha 0.05\n",
      "(p-value < alpha): Reject Ho! So... linear relationship\n"
     ]
    }
   ],
   "source": [
    "# Ho: ro == 0                 , means NO linear relationship\n",
    "# Ha: ro != 0 (two tail test) , means linear relationship\n",
    "\n",
    "loc = 0.95\n",
    "alpha = 1 - loc\n",
    "alpha_2 = alpha/2\n",
    "\n",
    "abse = np.array([0,0,0,0,1,1,1,2,2,2,3,3,5,7,8])\n",
    "gpa = np.array([3.6,3.9,2.4,3.1,3.5,4.0,3.6,2.8,3.0,2.2,3.9,3.1,2.1,2.8,1.7])\n",
    "\n",
    "#plt.scatter(gpa,abs,c='g',marker='.')\n",
    "\n",
    "data = pd.DataFrame({'Absence': abse, 'GPA': gpa})\n",
    "\n",
    "n = len(abse)\n",
    "dof = n - 2\n",
    "\n",
    "r = data['Absence'].corr(data['GPA'])\n",
    "# r = np.corrcoef(abse,gpa)[1,0]\n",
    "\n",
    "# t-statistic\n",
    "t_stat = (r) / np.sqrt((1-r**2)/(n-2))  \n",
    "\n",
    "# t-alpha/2\n",
    "t_alpha_2 = scipy.stats.t.ppf(alpha_2, dof)\n",
    "\n",
    "# -(t-alpha/2)\n",
    "neg_t_alpha_2 = scipy.stats.t.ppf(1-alpha_2, dof)\n",
    "\n",
    "print('r:', round(r,4))\n",
    "print()\n",
    "print('t-statistic:', round(t_stat,2))\n",
    "print('-t(alpha/2):', round(neg_t_alpha_2,2))\n",
    "print('t(alpha/2):', round(t_alpha_2,2))\n",
    "print()\n",
    "\n",
    "if (t_stat < t_alpha_2) or (t_stat > neg_t_alpha_2):   ### 2 tail Analysis ###\n",
    "    print('(t_stat < -t(alpha/2)) or (t_stat > t(alpha/2)): Reject Ho!')\n",
    "else:\n",
    "    print('(-t(alpha/2) < t_stat < t(alpha/2)): Fail to reject Ho.')\n",
    "    \n",
    "p_value = 2 * stats.t.sf(abs(t_stat), df=dof)\n",
    "\n",
    "print()\n",
    "print('p_value', p_value)\n",
    "print('alpha', round(alpha,2))\n",
    "\n",
    "if abs(alpha) < abs(p_value):\n",
    "    print('(p-value > alpha): Fail to reject Ho. So... no linear relationship')\n",
    "else:\n",
    "    print('(p-value < alpha): Reject Ho! So... linear relationship')"
   ]
  },
  {
   "cell_type": "code",
   "execution_count": 18,
   "metadata": {},
   "outputs": [
    {
     "name": "stdout",
     "output_type": "stream",
     "text": [
      "r: -0.5866193234859391\n",
      "p: 0.021524347442552532\n"
     ]
    }
   ],
   "source": [
    "# Check\n",
    "r, p = scipy.stats.pearsonr(abse, gpa)\n",
    "\n",
    "print('r:',r)\n",
    "print('p:',p)"
   ]
  },
  {
   "cell_type": "code",
   "execution_count": null,
   "metadata": {},
   "outputs": [],
   "source": []
  },
  {
   "cell_type": "code",
   "execution_count": null,
   "metadata": {},
   "outputs": [],
   "source": []
  },
  {
   "cell_type": "code",
   "execution_count": null,
   "metadata": {},
   "outputs": [],
   "source": []
  },
  {
   "cell_type": "code",
   "execution_count": null,
   "metadata": {},
   "outputs": [],
   "source": []
  },
  {
   "cell_type": "code",
   "execution_count": null,
   "metadata": {},
   "outputs": [],
   "source": []
  },
  {
   "cell_type": "code",
   "execution_count": null,
   "metadata": {},
   "outputs": [],
   "source": []
  }
 ],
 "metadata": {
  "kernelspec": {
   "display_name": "Python 3",
   "language": "python",
   "name": "python3"
  },
  "language_info": {
   "codemirror_mode": {
    "name": "ipython",
    "version": 3
   },
   "file_extension": ".py",
   "mimetype": "text/x-python",
   "name": "python",
   "nbconvert_exporter": "python",
   "pygments_lexer": "ipython3",
   "version": "3.8.5"
  }
 },
 "nbformat": 4,
 "nbformat_minor": 4
}
